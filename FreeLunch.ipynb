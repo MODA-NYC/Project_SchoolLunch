{
 "cells": [
  {
   "cell_type": "markdown",
   "metadata": {},
   "source": [
    "# Free Lunch (there is such a thing!)\n",
    "Working with NYC DOE to develope a method to optimize school lunch and breakfast reimbursements from the federal and state government.\n",
    "\n",
    "###Overview\n",
    "The Community Eligibility Provision (CEP) is program aimed at streamlining reimbursement claims. It requires that participating schools provide universal breakfast and lunch service, where all meals are served at no cost to the students.\n",
    "\n",
    "###Reimbursement Rules:\n",
    "Schools get reimbursed at either the \"free\" rate or the \"paid\" rate for each meal. (Other programs have an additional \"reduced\" rate, but that does not apply here). The fraction of meals that get reimbursed at the \"free\" rate is determined by the group the school is enrolled under. This fraction we will call the $threshold$. The rest of the meals get reimbursed at the \"paid\" rate. \n",
    "\n",
    "At a minimum, the USDA covers the paid rate,$r_{lunch/breakfast,paid}$, for all meals.This includes total number of breakfasts for all schools $\\sum_{s}B_s$, and total number of lunches for all schools $\\sum_{s}L_s$. \n",
    "\n",
    "This $base$ reimbursement is independant of the groupings: \n",
    "$base = r_{lunch,paid} \\sum_{s}L_s + r_{breakfast,paid} \\sum_{s}B_s $.\n",
    "\n",
    "The total Reimbursement, $R$, is\n",
    "\n",
    "$\\begin{align}\n",
    "R = \\sum_{s} Min(1,threshold_s) [\\Delta r_{lunch} L_s  + \\Delta r_{breakfast} B_s] + base\n",
    "\\end{align}$\n",
    "\n",
    "> where \n",
    "> $\\begin{align}\n",
    "\\Delta r_{breakfast} &= r_{breakfast,free} - r_{breakfast,paid} \\\\\n",
    "\\Delta r_{lunch} &= r_{lunch,free} - r_{lunch,paid}\n",
    "\\end{align}$\n",
    "\n",
    "> and the $threshold_s$ for each school, $s$, is determined it's group, $g$. It is the fraction of \"identified students\" $I_s$ for all schools in the group $g$ to the total number of \"enrolled students\" $N_s$ for all schools in the group, multiplied by a constant. This constant is set by the USDA at 1.6 but may change in subsequent years. $I_s$ and $N_s$ are based on enrollment in the previous school year. \"Identified students\" are those deemed categorically eligible for free meals, primarily due to receiving some sort of public assistance benefit.\n",
    "\n",
    "> $\\begin{align}\n",
    "threshold_s =\\frac{ \\sum_{s\\in g} I_s} {\\sum_{s\\in g} N_s } * 1.6   \n",
    "\\end{align}$\n",
    "\n",
    "Before the school year begins, the groups are set and reported to the state.\n",
    "\n",
    "Reimbursements happen on a monthly basis after the school year begins.\n",
    "\n",
    "\n",
    "###Grouping Rules\n",
    "* All groups have to meet the minimum threshold: $threshold_{min} = 40\\% * 1.6 = 64\\%$\n",
    "* There can be at most 9 (?) groups\n",
    "\n",
    "###Objective\n",
    "Find the optimum groupings to maximize reimbursement, $R$."
   ]
  },
  {
   "cell_type": "code",
   "execution_count": 1,
   "metadata": {
    "collapsed": false
   },
   "outputs": [
    {
     "name": "stderr",
     "output_type": "stream",
     "text": [
      "/usr/local/lib/python2.7/dist-packages/matplotlib/font_manager.py:273: UserWarning: Matplotlib is building the font cache using fc-list. This may take a moment.\n",
      "  warnings.warn('Matplotlib is building the font cache using fc-list. This may take a moment.')\n"
     ]
    }
   ],
   "source": [
    "import pandas as pd\n",
    "import numpy as np\n",
    "import time\n",
    "import matplotlib.pyplot as plt\n",
    "%matplotlib inline \n",
    "plt.style.use('seaborn-poster')\n",
    "plt.style.use('fivethirtyeight')"
   ]
  },
  {
   "cell_type": "code",
   "execution_count": 2,
   "metadata": {
    "collapsed": true
   },
   "outputs": [],
   "source": [
    "#constants\n",
    "\n",
    "multiplier = 1.6\n",
    "\n",
    "# combined Federal and NY State meal reimbursement rates\n",
    "freeLunch = 3.2999\n",
    "paidLunch = 0.4399\n",
    "freeBreakfast = 2.1413\n",
    "paidBreakfast = 0.2923\n",
    "\n",
    "deltaLunchRate = freeLunch - paidLunch\n",
    "deltaBreakfastRate = freeBreakfast - paidBreakfast \n",
    "\n",
    "t_min = 0.40 * multiplier"
   ]
  },
  {
   "cell_type": "markdown",
   "metadata": {},
   "source": [
    "## Test data from DOE"
   ]
  },
  {
   "cell_type": "code",
   "execution_count": 3,
   "metadata": {
    "collapsed": false
   },
   "outputs": [
    {
     "name": "stdout",
     "output_type": "stream",
     "text": [
      "(1487, 5)\n"
     ]
    },
    {
     "data": {
      "text/html": [
       "<div>\n",
       "<table border=\"1\" class=\"dataframe\">\n",
       "  <thead>\n",
       "    <tr style=\"text-align: right;\">\n",
       "      <th></th>\n",
       "      <th>School</th>\n",
       "      <th>Enrollment</th>\n",
       "      <th>Identified</th>\n",
       "      <th>Breakfast</th>\n",
       "      <th>Lunch</th>\n",
       "    </tr>\n",
       "  </thead>\n",
       "  <tbody>\n",
       "    <tr>\n",
       "      <th>0</th>\n",
       "      <td>1019</td>\n",
       "      <td>268.0</td>\n",
       "      <td>114.0</td>\n",
       "      <td>13744.040323</td>\n",
       "      <td>32119.415317</td>\n",
       "    </tr>\n",
       "    <tr>\n",
       "      <th>1</th>\n",
       "      <td>1025</td>\n",
       "      <td>188.0</td>\n",
       "      <td>121.0</td>\n",
       "      <td>2660.633468</td>\n",
       "      <td>8954.467200</td>\n",
       "    </tr>\n",
       "    <tr>\n",
       "      <th>2</th>\n",
       "      <td>1034</td>\n",
       "      <td>348.0</td>\n",
       "      <td>262.0</td>\n",
       "      <td>18359.910484</td>\n",
       "      <td>39773.741129</td>\n",
       "    </tr>\n",
       "    <tr>\n",
       "      <th>3</th>\n",
       "      <td>1060</td>\n",
       "      <td>679.0</td>\n",
       "      <td>293.0</td>\n",
       "      <td>7340.885081</td>\n",
       "      <td>19996.654634</td>\n",
       "    </tr>\n",
       "    <tr>\n",
       "      <th>4</th>\n",
       "      <td>1061</td>\n",
       "      <td>291.0</td>\n",
       "      <td>99.0</td>\n",
       "      <td>4320.555242</td>\n",
       "      <td>25602.863216</td>\n",
       "    </tr>\n",
       "  </tbody>\n",
       "</table>\n",
       "</div>"
      ],
      "text/plain": [
       "   School  Enrollment  Identified     Breakfast         Lunch\n",
       "0    1019       268.0       114.0  13744.040323  32119.415317\n",
       "1    1025       188.0       121.0   2660.633468   8954.467200\n",
       "2    1034       348.0       262.0  18359.910484  39773.741129\n",
       "3    1060       679.0       293.0   7340.885081  19996.654634\n",
       "4    1061       291.0        99.0   4320.555242  25602.863216"
      ]
     },
     "execution_count": 3,
     "metadata": {},
     "output_type": "execute_result"
    }
   ],
   "source": [
    "# reading in data\n",
    "doe = pd.read_excel('Test Data for CEP Grouping.xlsx',sheetname=\"School Data\",header=2)\n",
    "doe.rename(columns={'Identified Student Count':'Identified'},inplace=True)\n",
    "print doe.shape\n",
    "doe.head()"
   ]
  },
  {
   "cell_type": "markdown",
   "metadata": {},
   "source": [
    "###Data Dictionary\n",
    "* School -  the school unique id\n",
    "* Enrollment - the total number of students enrolled at the school\n",
    "* Identified - the number of 'identified' students enrolled at the school. (should be less than Enrollment)\n",
    "* Breakfast - the projected annual number of meals served at the school.\n",
    "* Lunch - the projected annual number of breakfasts served at the school\n",
    "\n",
    "\n",
    "The Breakfast and Lunch columns are both pojected values by DOE. The actual numbers are not available until after the school year begins, after the groupings are already set.\n",
    "\n",
    "\n",
    "###Question on meal projections\n",
    "There are 180 days in a school year. Yet there are 21 schools serving more than 200 lunches in a school year and 5 serving more than 200 breakfasts. Perhaps this includes summer? \n",
    "\n",
    "There are about 260 weekdays per year. 4 schools have more than 260 lunches per student.  "
   ]
  },
  {
   "cell_type": "code",
   "execution_count": 4,
   "metadata": {
    "collapsed": false
   },
   "outputs": [
    {
     "data": {
      "text/plain": [
       "(34, 5)"
      ]
     },
     "execution_count": 4,
     "metadata": {},
     "output_type": "execute_result"
    }
   ],
   "source": [
    "# 34 schools have 0 enrollment. Not sure what this means. For now I'll drop them.\n",
    "doe[doe.Enrollment==0].shape"
   ]
  },
  {
   "cell_type": "code",
   "execution_count": 5,
   "metadata": {
    "collapsed": false
   },
   "outputs": [
    {
     "name": "stdout",
     "output_type": "stream",
     "text": [
      "number of schools with more than 180 lunches per student: 34\n",
      "count    1453.000000\n",
      "mean       94.770633\n",
      "std        45.258483\n",
      "min         0.000000\n",
      "25%        59.845391\n",
      "50%        95.510703\n",
      "75%       127.086483\n",
      "max       348.600914\n",
      "dtype: float64\n",
      "number of schools with more than 180 breakfasts per student: 8\n",
      "count    1453.000000\n",
      "mean       46.492607\n",
      "std        39.671440\n",
      "min         0.000000\n",
      "25%        16.926299\n",
      "50%        36.138271\n",
      "75%        62.974926\n",
      "max       259.759480\n",
      "dtype: float64\n"
     ]
    }
   ],
   "source": [
    "days=180\n",
    "df = doe[doe.Enrollment>0]\n",
    "lunchPerStudent = (df.Lunch/df.Enrollment)\n",
    "print 'number of schools with more than '+str(days)+' lunches per student:',lunchPerStudent[lunchPerStudent>days].shape[0]\n",
    "print lunchPerStudent.describe()\n",
    "\n",
    "bfPerStudent = (df.Breakfast/df.Enrollment)\n",
    "print 'number of schools with more than '+str(days)+' breakfasts per student:', bfPerStudent[bfPerStudent>days].shape[0]\n",
    "print bfPerStudent.describe()"
   ]
  },
  {
   "cell_type": "code",
   "execution_count": 6,
   "metadata": {
    "collapsed": false
   },
   "outputs": [
    {
     "name": "stdout",
     "output_type": "stream",
     "text": [
      "91.2768119568 40.0380279164\n"
     ]
    }
   ],
   "source": [
    "# meals per student per year\n",
    "df = doe[doe.Enrollment>0]\n",
    "print df.Lunch.sum()/df.Enrollment.sum(),df.Breakfast.sum()/df.Enrollment.sum()"
   ]
  },
  {
   "cell_type": "markdown",
   "metadata": {},
   "source": [
    "### CEP dataframe"
   ]
  },
  {
   "cell_type": "code",
   "execution_count": 7,
   "metadata": {
    "collapsed": false
   },
   "outputs": [
    {
     "data": {
      "text/plain": [
       "(1453, 5)"
      ]
     },
     "execution_count": 7,
     "metadata": {},
     "output_type": "execute_result"
    }
   ],
   "source": [
    "# assume only schools with >0 enrollment can be part of cep program.\n",
    "cep = doe[doe.Enrollment>0].copy()\n",
    "cep.shape"
   ]
  },
  {
   "cell_type": "code",
   "execution_count": 8,
   "metadata": {
    "collapsed": false
   },
   "outputs": [
    {
     "data": {
      "text/plain": [
       "count    1453.000000\n",
       "mean        0.475177\n",
       "std         0.209910\n",
       "min         0.000000\n",
       "25%         0.320847\n",
       "50%         0.490946\n",
       "75%         0.643182\n",
       "max         0.910165\n",
       "dtype: float64"
      ]
     },
     "execution_count": 8,
     "metadata": {},
     "output_type": "execute_result"
    }
   ],
   "source": [
    "# the number of identified students should always be less then the number of enrolled students,\n",
    "# checking this out to make sure\n",
    "(cep.Identified/cep.Enrollment).describe()"
   ]
  },
  {
   "cell_type": "code",
   "execution_count": 9,
   "metadata": {
    "collapsed": false
   },
   "outputs": [
    {
     "data": {
      "text/html": [
       "<div>\n",
       "<table border=\"1\" class=\"dataframe\">\n",
       "  <thead>\n",
       "    <tr style=\"text-align: right;\">\n",
       "      <th></th>\n",
       "      <th>School</th>\n",
       "      <th>Enrollment</th>\n",
       "      <th>Identified</th>\n",
       "      <th>Breakfast</th>\n",
       "      <th>Lunch</th>\n",
       "      <th>meal</th>\n",
       "      <th>mealPerStudent</th>\n",
       "      <th>baseThreshold</th>\n",
       "      <th>group</th>\n",
       "    </tr>\n",
       "  </thead>\n",
       "  <tbody>\n",
       "    <tr>\n",
       "      <th>0</th>\n",
       "      <td>1019</td>\n",
       "      <td>268.0</td>\n",
       "      <td>114.0</td>\n",
       "      <td>13744.040323</td>\n",
       "      <td>32119.415317</td>\n",
       "      <td>117274.258362</td>\n",
       "      <td>437.590516</td>\n",
       "      <td>0.680597</td>\n",
       "      <td>0</td>\n",
       "    </tr>\n",
       "    <tr>\n",
       "      <th>1</th>\n",
       "      <td>1025</td>\n",
       "      <td>188.0</td>\n",
       "      <td>121.0</td>\n",
       "      <td>2660.633468</td>\n",
       "      <td>8954.467200</td>\n",
       "      <td>30529.287474</td>\n",
       "      <td>162.389827</td>\n",
       "      <td>1.029787</td>\n",
       "      <td>0</td>\n",
       "    </tr>\n",
       "    <tr>\n",
       "      <th>2</th>\n",
       "      <td>1034</td>\n",
       "      <td>348.0</td>\n",
       "      <td>262.0</td>\n",
       "      <td>18359.910484</td>\n",
       "      <td>39773.741129</td>\n",
       "      <td>147700.374114</td>\n",
       "      <td>424.426362</td>\n",
       "      <td>1.204598</td>\n",
       "      <td>0</td>\n",
       "    </tr>\n",
       "    <tr>\n",
       "      <th>3</th>\n",
       "      <td>1060</td>\n",
       "      <td>679.0</td>\n",
       "      <td>293.0</td>\n",
       "      <td>7340.885081</td>\n",
       "      <td>19996.654634</td>\n",
       "      <td>70763.728769</td>\n",
       "      <td>104.217568</td>\n",
       "      <td>0.690427</td>\n",
       "      <td>0</td>\n",
       "    </tr>\n",
       "    <tr>\n",
       "      <th>4</th>\n",
       "      <td>1061</td>\n",
       "      <td>291.0</td>\n",
       "      <td>99.0</td>\n",
       "      <td>4320.555242</td>\n",
       "      <td>25602.863216</td>\n",
       "      <td>81212.895439</td>\n",
       "      <td>279.082115</td>\n",
       "      <td>0.544330</td>\n",
       "      <td>0</td>\n",
       "    </tr>\n",
       "  </tbody>\n",
       "</table>\n",
       "</div>"
      ],
      "text/plain": [
       "   School  Enrollment  Identified     Breakfast         Lunch           meal  \\\n",
       "0    1019       268.0       114.0  13744.040323  32119.415317  117274.258362   \n",
       "1    1025       188.0       121.0   2660.633468   8954.467200   30529.287474   \n",
       "2    1034       348.0       262.0  18359.910484  39773.741129  147700.374114   \n",
       "3    1060       679.0       293.0   7340.885081  19996.654634   70763.728769   \n",
       "4    1061       291.0        99.0   4320.555242  25602.863216   81212.895439   \n",
       "\n",
       "   mealPerStudent  baseThreshold  group  \n",
       "0      437.590516       0.680597      0  \n",
       "1      162.389827       1.029787      0  \n",
       "2      424.426362       1.204598      0  \n",
       "3      104.217568       0.690427      0  \n",
       "4      279.082115       0.544330      0  "
      ]
     },
     "execution_count": 9,
     "metadata": {},
     "output_type": "execute_result"
    }
   ],
   "source": [
    "# define a few more columns that are useful.\n",
    "# 'meal' is the max reimbursement of meals per year for each school.\n",
    "# 'mealPerStudent' is the max per student.\n",
    "# 'baseThreshold' is the threshold of the school if it is not grouped.\n",
    "# 'group' will hold the integer name of the group the school belongs too. initally set a single group.\n",
    "\n",
    "cep['meal'] = deltaLunchRate*cep['Lunch'] + deltaBreakfastRate*cep['Breakfast']\n",
    "cep['mealPerStudent'] = cep['meal']/cep['Enrollment']\n",
    "cep['baseThreshold'] = cep['Identified']/cep['Enrollment']*multiplier\n",
    "cep['group'] = 0\n",
    "\n",
    "cep.head()"
   ]
  },
  {
   "cell_type": "markdown",
   "metadata": {},
   "source": [
    "## To group or Not to group?\n",
    "\n",
    "####Constraints\n",
    "The minimum threshold constraint of 64% has to be met. So any schools less than that, have to be grouped with schools with larger base thresholds. Any schools with base thresholds greater than 100% should be grouped with schools with smaller base thresholds in order to increase their effectiveness (since there is a cut off over 100%. Any group with a threshold over 100% can be viewed as an inefficiency.\n",
    "\n",
    "####Grouping with the threshold limits\n",
    "For schools within these limits (64%-100%), there still may be a benefit to grouping depending on their projected meal count. The overall idea is to get those schools with the largest meal counts to increase their thresholds. \n",
    "\n",
    "Let's look at the difference in reimbursements between grouping two schools together and keeping them separate:\n",
    "\n",
    "$\\begin{align}\n",
    "\\Delta R_{12} \\equiv R_{12} - (R_1 + R_2)\n",
    "\\end{align}$\n",
    "\n",
    "$R_{12}$ is the reimbursement when school 1 and 2 are grouped together. $R_1+R_2$ is the reimbursement when they are separate. Assume the thresholds for 1 and 2 are both between the limits (64%-100%). \n",
    "\n",
    "After some algebra:\n",
    "\n",
    "$\\begin{align}\n",
    "\\Delta R_{12} =  (threshold_2 - threshold_1)(m_1 - m_2)\\frac{N_1 N_2}{N_1 + N_2}\n",
    "\\end{align}$\n",
    "\n",
    "> where $m_i$ is the potential meal cost increase per student (mealPerStudent):\n",
    "\n",
    "> $\\begin{align}\n",
    "\\qquad m_i = \\frac{\\Delta r_{lunch} L_i + \\Delta r_{breakfast} B_i}{N_i} \\textrm{   for   } i=1,2\n",
    "\\end{align}$\n",
    "\n",
    "\n",
    "* If $\\Delta R_{12} = 0$ then the reimbursement is the same whether or not you group the schools. This happens when the thresholds for the two schools are equal or the mealsPerStudent are equal.\n",
    "\n",
    "\n",
    "* If $\\Delta R_{12} > 0$ then the schools should be combined. This happens in 2 cases: \n",
    "\n",
    "$\\begin{align}\n",
    "\\qquad (threshold_1 < threshold_2) &\\textrm{ AND } (m_1 > m_2) \\\\\n",
    "&\\textrm{ OR} \\\\\n",
    "\\qquad (threshold_1 > threshold_2) &\\textrm{ AND } (m_1 < m_2)\n",
    "\\end{align}$\n",
    "\n",
    "## Plotting out what this looks like with the DOE data"
   ]
  },
  {
   "cell_type": "code",
   "execution_count": 10,
   "metadata": {
    "collapsed": false
   },
   "outputs": [
    {
     "data": {
      "text/plain": [
       "[<matplotlib.lines.Line2D at 0x7fe711b1b650>]"
      ]
     },
     "execution_count": 10,
     "metadata": {},
     "output_type": "execute_result"
    },
    {
     "data": {
      "image/png": "[encoded data removed]",
      "text/plain": [
       "<matplotlib.figure.Figure at 0x7fe7144040d0>"
      ]
     },
     "metadata": {},
     "output_type": "display_data"
    }
   ],
   "source": [
    "ax=cep.plot.scatter(x='baseThreshold',y='mealPerStudent')\n",
    "\n",
    "ax.annotate('group', xy=(.83, 980), xytext=(.9, 1100),\n",
    "            arrowprops=dict(facecolor='black', shrink=0.02))\n",
    "ax.annotate('', xy=(.94, 780), xytext=(.9, 1100),\n",
    "            arrowprops=dict(facecolor='black', shrink=0.02))\n",
    "\n",
    "ax.annotate('dont group', xy=(.65, 550), xytext=(.6, 690),\n",
    "            arrowprops=dict(facecolor='black', shrink=0.02))\n",
    "ax.annotate('', xy=(.75, 600), xytext=(.68, 670),\n",
    "            arrowprops=dict(facecolor='black', shrink=0.02))\n",
    "plt.plot([t_min,t_min],[0,1000],'r-',lw=2)\n",
    "plt.plot([1,1],[0,1000],'r-',lw=2)"
   ]
  },
  {
   "cell_type": "code",
   "execution_count": 11,
   "metadata": {
    "collapsed": false
   },
   "outputs": [
    {
     "name": "stdout",
     "output_type": "stream",
     "text": [
      "(53, 9)\n"
     ]
    },
    {
     "data": {
      "text/plain": [
       "<matplotlib.axes._subplots.AxesSubplot at 0x7fe71444fe10>"
      ]
     },
     "execution_count": 11,
     "metadata": {},
     "output_type": "execute_result"
    },
    {
     "data": {
      "image/png": "[encoded data removed]",
      "text/plain": [
       "<matplotlib.figure.Figure at 0x7fe71444f210>"
      ]
     },
     "metadata": {},
     "output_type": "display_data"
    }
   ],
   "source": [
    "print cep[cep.Enrollment<50].shape\n",
    "cep[cep.Enrollment<50].plot.scatter(x='baseThreshold',y='mealPerStudent',\n",
    "                                    title='schools with less than 50 students')"
   ]
  },
  {
   "cell_type": "markdown",
   "metadata": {},
   "source": [
    "For schools with less students, the meal projections are probably not very accurate."
   ]
  },
  {
   "cell_type": "markdown",
   "metadata": {},
   "source": [
    "## Calculating Reimbursements based on school groupings"
   ]
  },
  {
   "cell_type": "code",
   "execution_count": 12,
   "metadata": {
    "collapsed": false
   },
   "outputs": [],
   "source": [
    "# all meals are reimbursed at a minimum at the paid rate\n",
    "# the base reimbursement is independant of groupings and is equal to \n",
    "# the lowest reimbursements rates (i.e. \"paid\" rates) times the total number of each meal\n",
    "baseReimburse = paidLunch*cep.Lunch.sum() + paidBreakfast*cep.Breakfast.sum()\n",
    "\n",
    "# reimbursements over the base, this is the part that's dependant on groupings\n",
    "def calcReimburse(df,result):\n",
    "    ''' \n",
    "    calculates the reimbursements per school. \n",
    "    Each row in df is a school.\n",
    "    Updates df 'threshold' and 'reimburse' columns.\n",
    "    Results stored in results list\n",
    "    ''' \n",
    "    # calc threshold.(can be >1)\n",
    "    for i in set(df.group):\n",
    "        df.loc[df.group == i,'threshold'] = groupThreshold(df[df.group==i])\n",
    "    \n",
    "    # based on threshold, calculate reimbursement for each row\n",
    "    df['reimburse'] = df['meal']*(df['threshold'].apply(lambda x: min(x,1)))\n",
    "\n",
    "    # store 'results' as a list of lists. \n",
    "    #     The inner lists 0th item saves info about the groupings,\n",
    "    #     the 1st item is the number of groups\n",
    "    #     the 2nd item is the reimbusement (above base reimbursement)\n",
    "    #     the 3rd item is whether or not the threshold has been met for the goups\n",
    "    if df['threshold'].min() >= .40*multiplier:\n",
    "        result.append([df[['group','threshold','meal']].copy(),len(set(df.group)),\n",
    "                        df.reimburse.sum(),'threshold met'])\n",
    "    else:\n",
    "        result.append([df[['group','threshold','meal']].copy(),len(set(df.group)),\n",
    "                       df.reimburse.sum(),'threshold not met'])\n",
    "    return result\n",
    "\n",
    "def groupReimburse(df):\n",
    "    '''given a dataframe df, assuming all rows are in the same 'group', this calculates the\n",
    "    reimbursements for the full group'''\n",
    "    td = groupThreshold(df)\n",
    "    ml = df['meal'].sum() \n",
    "    return (ml)*min(td,1)\n",
    "\n",
    "def groupThreshold(df):\n",
    "    '''given a dataframe df, assuming all rows are in the same 'group', this calculates the\n",
    "    'threshold' for the full group'''\n",
    "    return (df['Identified'].sum()) / float(df['Enrollment'].sum())*multiplier\n",
    "    \n",
    "\n",
    "def deltaReimburse(df,group1,group2):\n",
    "    '''difference in reimbursement with combining groups vs separate'''\n",
    "    df12 = df[(df['group'] == group1)|(df['group'] == group2)].copy()\n",
    "    r12 = groupReimburse(df12)\n",
    "\n",
    "    df1 = df[df['group'] == group1].copy()\n",
    "    r1 = groupReimburse(df1)\n",
    "     \n",
    "    df2 = df[df['group'] == group2].copy()\n",
    "    r2 = groupReimburse(df2)\n",
    "\n",
    "    return r12 - r1 - r2"
   ]
  },
  {
   "cell_type": "code",
   "execution_count": 13,
   "metadata": {
    "collapsed": false
   },
   "outputs": [
    {
     "data": {
      "text/plain": [
       "(100, 10)"
      ]
     },
     "execution_count": 13,
     "metadata": {},
     "output_type": "execute_result"
    }
   ],
   "source": [
    "# testing with a smaller set of schools\n",
    "cep = cep.sample(100)\n",
    "cep.reset_index(inplace=True)\n",
    "cep.shape"
   ]
  },
  {
   "cell_type": "code",
   "execution_count": 14,
   "metadata": {
    "collapsed": false
   },
   "outputs": [
    {
     "data": {
      "text/plain": [
       "<matplotlib.axes._subplots.AxesSubplot at 0x7fe70fae5250>"
      ]
     },
     "execution_count": 14,
     "metadata": {},
     "output_type": "execute_result"
    },
    {
     "data": {
      "image/png": "[encoded data removed]",
      "text/plain": [
       "<matplotlib.figure.Figure at 0x7fe70fa402d0>"
      ]
     },
     "metadata": {},
     "output_type": "display_data"
    }
   ],
   "source": [
    "cep.plot.scatter(x='baseThreshold',y='mealPerStudent',title='sample of 100 schools')"
   ]
  },
  {
   "cell_type": "code",
   "execution_count": 15,
   "metadata": {
    "collapsed": false,
    "scrolled": true
   },
   "outputs": [
    {
     "data": {
      "text/plain": [
       "[100, 10800977.486396303, 'threshold not met']"
      ]
     },
     "execution_count": 15,
     "metadata": {},
     "output_type": "execute_result"
    }
   ],
   "source": [
    "#initializing results as a list. This is where the groupings and reimbursements will be stored\n",
    "results = []\n",
    "tempResults = [] #throw away results\n",
    "\n",
    "# this implementation of threshold only for each school separately\n",
    "# each school is it's own group to start with\n",
    "cep['group']=cep.index\n",
    "results = calcReimburse(cep, results)\n",
    "#print out latest result: number of groups, reimbursement, and threshold met\n",
    "results[-1][1:]\n"
   ]
  },
  {
   "cell_type": "code",
   "execution_count": 16,
   "metadata": {
    "collapsed": false
   },
   "outputs": [
    {
     "data": {
      "text/html": [
       "<div>\n",
       "<table border=\"1\" class=\"dataframe\">\n",
       "  <thead>\n",
       "    <tr style=\"text-align: right;\">\n",
       "      <th></th>\n",
       "      <th>index</th>\n",
       "      <th>School</th>\n",
       "      <th>Enrollment</th>\n",
       "      <th>Identified</th>\n",
       "      <th>Breakfast</th>\n",
       "      <th>Lunch</th>\n",
       "      <th>meal</th>\n",
       "      <th>mealPerStudent</th>\n",
       "      <th>baseThreshold</th>\n",
       "      <th>group</th>\n",
       "      <th>threshold</th>\n",
       "      <th>reimburse</th>\n",
       "    </tr>\n",
       "  </thead>\n",
       "  <tbody>\n",
       "    <tr>\n",
       "      <th>0</th>\n",
       "      <td>800</td>\n",
       "      <td>16959</td>\n",
       "      <td>196.0</td>\n",
       "      <td>91.0</td>\n",
       "      <td>46.186694</td>\n",
       "      <td>2975.542742</td>\n",
       "      <td>8595.451438</td>\n",
       "      <td>43.854344</td>\n",
       "      <td>0.742857</td>\n",
       "      <td>0</td>\n",
       "      <td>0.742857</td>\n",
       "      <td>6385.192497</td>\n",
       "    </tr>\n",
       "    <tr>\n",
       "      <th>1</th>\n",
       "      <td>1066</td>\n",
       "      <td>23244</td>\n",
       "      <td>617.0</td>\n",
       "      <td>323.0</td>\n",
       "      <td>25133.958871</td>\n",
       "      <td>55120.253522</td>\n",
       "      <td>204116.615025</td>\n",
       "      <td>330.821094</td>\n",
       "      <td>0.837601</td>\n",
       "      <td>1</td>\n",
       "      <td>0.837601</td>\n",
       "      <td>170968.341402</td>\n",
       "    </tr>\n",
       "    <tr>\n",
       "      <th>2</th>\n",
       "      <td>1230</td>\n",
       "      <td>27273</td>\n",
       "      <td>361.0</td>\n",
       "      <td>171.0</td>\n",
       "      <td>20607.662903</td>\n",
       "      <td>47288.802240</td>\n",
       "      <td>173349.543115</td>\n",
       "      <td>480.192640</td>\n",
       "      <td>0.757895</td>\n",
       "      <td>2</td>\n",
       "      <td>0.757895</td>\n",
       "      <td>131380.706361</td>\n",
       "    </tr>\n",
       "    <tr>\n",
       "      <th>3</th>\n",
       "      <td>1009</td>\n",
       "      <td>21215</td>\n",
       "      <td>901.0</td>\n",
       "      <td>416.0</td>\n",
       "      <td>32977.299194</td>\n",
       "      <td>100231.460893</td>\n",
       "      <td>347637.004362</td>\n",
       "      <td>385.834633</td>\n",
       "      <td>0.738735</td>\n",
       "      <td>3</td>\n",
       "      <td>0.738735</td>\n",
       "      <td>256811.531746</td>\n",
       "    </tr>\n",
       "    <tr>\n",
       "      <th>4</th>\n",
       "      <td>920</td>\n",
       "      <td>19224</td>\n",
       "      <td>448.0</td>\n",
       "      <td>342.0</td>\n",
       "      <td>51855.060484</td>\n",
       "      <td>57470.242742</td>\n",
       "      <td>260244.901077</td>\n",
       "      <td>580.903797</td>\n",
       "      <td>1.221429</td>\n",
       "      <td>4</td>\n",
       "      <td>1.221429</td>\n",
       "      <td>260244.901077</td>\n",
       "    </tr>\n",
       "  </tbody>\n",
       "</table>\n",
       "</div>"
      ],
      "text/plain": [
       "   index  School  Enrollment  Identified     Breakfast          Lunch  \\\n",
       "0    800   16959       196.0        91.0     46.186694    2975.542742   \n",
       "1   1066   23244       617.0       323.0  25133.958871   55120.253522   \n",
       "2   1230   27273       361.0       171.0  20607.662903   47288.802240   \n",
       "3   1009   21215       901.0       416.0  32977.299194  100231.460893   \n",
       "4    920   19224       448.0       342.0  51855.060484   57470.242742   \n",
       "\n",
       "            meal  mealPerStudent  baseThreshold  group  threshold  \\\n",
       "0    8595.451438       43.854344       0.742857      0   0.742857   \n",
       "1  204116.615025      330.821094       0.837601      1   0.837601   \n",
       "2  173349.543115      480.192640       0.757895      2   0.757895   \n",
       "3  347637.004362      385.834633       0.738735      3   0.738735   \n",
       "4  260244.901077      580.903797       1.221429      4   1.221429   \n",
       "\n",
       "       reimburse  \n",
       "0    6385.192497  \n",
       "1  170968.341402  \n",
       "2  131380.706361  \n",
       "3  256811.531746  \n",
       "4  260244.901077  "
      ]
     },
     "execution_count": 16,
     "metadata": {},
     "output_type": "execute_result"
    }
   ],
   "source": [
    "cep.head()"
   ]
  },
  {
   "cell_type": "code",
   "execution_count": 17,
   "metadata": {
    "collapsed": false
   },
   "outputs": [
    {
     "name": "stdout",
     "output_type": "stream",
     "text": [
      "base reimbursements 3.77E+07\n",
      "above base 1.08E+07\n"
     ]
    }
   ],
   "source": [
    "print 'base reimbursements', \"{:.2E}\".format(baseReimburse)\n",
    "possReimb = [x[2] for x in results]\n",
    "print 'above base', \"{:.2E}\".format(max(possReimb))"
   ]
  },
  {
   "cell_type": "code",
   "execution_count": 18,
   "metadata": {
    "collapsed": false,
    "scrolled": true
   },
   "outputs": [
    {
     "data": {
      "text/plain": [
       "'1.06e+07'"
      ]
     },
     "execution_count": 18,
     "metadata": {},
     "output_type": "execute_result"
    }
   ],
   "source": [
    "# put all schools in one group and calculate reimbursements\n",
    "cep['group']=0\n",
    "calcReimburse(cep, results)\n",
    "\"{:.2e}\".format(results[-1][2])"
   ]
  },
  {
   "cell_type": "code",
   "execution_count": 19,
   "metadata": {
    "collapsed": false,
    "scrolled": true
   },
   "outputs": [
    {
     "data": {
      "text/plain": [
       "322.55537525135634"
      ]
     },
     "execution_count": 19,
     "metadata": {},
     "output_type": "execute_result"
    }
   ],
   "source": [
    "# if every meal were reimbursed at the free rate, this is the number of dollars per student\n",
    "# would be spent above the base (paid) rate. \n",
    "m0=cep.meal.sum()/cep.Enrollment.sum()\n",
    "m0"
   ]
  },
  {
   "cell_type": "code",
   "execution_count": 20,
   "metadata": {
    "collapsed": false
   },
   "outputs": [
    {
     "name": "stdout",
     "output_type": "stream",
     "text": [
      "saved 1.89E+05\n",
      "max 0\n",
      "min 1\n"
     ]
    }
   ],
   "source": [
    "possReimb = [x[2] for x in results]\n",
    "print 'saved', \"{:.2E}\".format(max(possReimb)-min(possReimb))\n",
    "print 'max', possReimb.index(max(possReimb))\n",
    "print 'min', possReimb.index(min(possReimb))"
   ]
  },
  {
   "cell_type": "code",
   "execution_count": 21,
   "metadata": {
    "collapsed": false
   },
   "outputs": [],
   "source": [
    "# random\n",
    "#numberOfGroups = 5\n",
    "#school['group'] = school[:numberOfGroups].sample(school.shape[0],replace=True).index\n",
    "#results = calcReimburse(school, results)"
   ]
  },
  {
   "cell_type": "markdown",
   "metadata": {},
   "source": [
    "## Method 1: Grouping by two"
   ]
  },
  {
   "cell_type": "code",
   "execution_count": 22,
   "metadata": {
    "collapsed": false,
    "scrolled": true
   },
   "outputs": [
    {
     "name": "stdout",
     "output_type": "stream",
     "text": [
      "28.3567650318\n"
     ]
    },
    {
     "data": {
      "text/html": [
       "<div>\n",
       "<table border=\"1\" class=\"dataframe\">\n",
       "  <thead>\n",
       "    <tr style=\"text-align: right;\">\n",
       "      <th></th>\n",
       "      <th>0</th>\n",
       "      <th>1</th>\n",
       "      <th>2</th>\n",
       "      <th>3</th>\n",
       "      <th>5</th>\n",
       "      <th>8</th>\n",
       "      <th>9</th>\n",
       "    </tr>\n",
       "  </thead>\n",
       "  <tbody>\n",
       "    <tr>\n",
       "      <th>0</th>\n",
       "      <td>0</td>\n",
       "      <td>-536239.872849</td>\n",
       "      <td>-492690.295328</td>\n",
       "      <td>-117909.890694</td>\n",
       "      <td>-16953.050333</td>\n",
       "      <td>-8712.511181</td>\n",
       "      <td>-3376.946598</td>\n",
       "    </tr>\n",
       "    <tr>\n",
       "      <th>1</th>\n",
       "      <td>0</td>\n",
       "      <td>0.000000</td>\n",
       "      <td>-8164.444571</td>\n",
       "      <td>-23166.003954</td>\n",
       "      <td>-251676.440925</td>\n",
       "      <td>-178825.375287</td>\n",
       "      <td>-159656.316116</td>\n",
       "    </tr>\n",
       "    <tr>\n",
       "      <th>2</th>\n",
       "      <td>0</td>\n",
       "      <td>0.000000</td>\n",
       "      <td>0.000000</td>\n",
       "      <td>-43580.504565</td>\n",
       "      <td>-283290.093414</td>\n",
       "      <td>-206570.373100</td>\n",
       "      <td>-189333.909578</td>\n",
       "    </tr>\n",
       "    <tr>\n",
       "      <th>3</th>\n",
       "      <td>0</td>\n",
       "      <td>0.000000</td>\n",
       "      <td>0.000000</td>\n",
       "      <td>0.000000</td>\n",
       "      <td>-96237.800599</td>\n",
       "      <td>-51139.043638</td>\n",
       "      <td>-24660.012109</td>\n",
       "    </tr>\n",
       "    <tr>\n",
       "      <th>5</th>\n",
       "      <td>0</td>\n",
       "      <td>0.000000</td>\n",
       "      <td>0.000000</td>\n",
       "      <td>0.000000</td>\n",
       "      <td>0.000000</td>\n",
       "      <td>-30826.839797</td>\n",
       "      <td>-22656.122937</td>\n",
       "    </tr>\n",
       "    <tr>\n",
       "      <th>8</th>\n",
       "      <td>0</td>\n",
       "      <td>0.000000</td>\n",
       "      <td>0.000000</td>\n",
       "      <td>0.000000</td>\n",
       "      <td>0.000000</td>\n",
       "      <td>0.000000</td>\n",
       "      <td>-284.100026</td>\n",
       "    </tr>\n",
       "    <tr>\n",
       "      <th>9</th>\n",
       "      <td>0</td>\n",
       "      <td>0.000000</td>\n",
       "      <td>0.000000</td>\n",
       "      <td>0.000000</td>\n",
       "      <td>0.000000</td>\n",
       "      <td>0.000000</td>\n",
       "      <td>0.000000</td>\n",
       "    </tr>\n",
       "  </tbody>\n",
       "</table>\n",
       "</div>"
      ],
      "text/plain": [
       "   0              1              2              3              5  \\\n",
       "0  0 -536239.872849 -492690.295328 -117909.890694  -16953.050333   \n",
       "1  0       0.000000   -8164.444571  -23166.003954 -251676.440925   \n",
       "2  0       0.000000       0.000000  -43580.504565 -283290.093414   \n",
       "3  0       0.000000       0.000000       0.000000  -96237.800599   \n",
       "5  0       0.000000       0.000000       0.000000       0.000000   \n",
       "8  0       0.000000       0.000000       0.000000       0.000000   \n",
       "9  0       0.000000       0.000000       0.000000       0.000000   \n",
       "\n",
       "               8              9  \n",
       "0   -8712.511181   -3376.946598  \n",
       "1 -178825.375287 -159656.316116  \n",
       "2 -206570.373100 -189333.909578  \n",
       "3  -51139.043638  -24660.012109  \n",
       "5  -30826.839797  -22656.122937  \n",
       "8       0.000000    -284.100026  \n",
       "9       0.000000       0.000000  "
      ]
     },
     "execution_count": 22,
     "metadata": {},
     "output_type": "execute_result"
    }
   ],
   "source": [
    "#initialize deltaR\n",
    "cep['group']=cep.index\n",
    "tempResults=[]\n",
    "tempResults = calcReimburse(cep,tempResults)\n",
    "index = list(set(cep.group))\n",
    "deltaR = pd.DataFrame(0,columns=index,index=index)\n",
    "\n",
    "startTime = time.time()\n",
    "for i in index:\n",
    "    for j in index:\n",
    "        if i < j: #can probably optimize this\n",
    "            deltaR.loc[i,j] = deltaReimburse(cep,i,j)\n",
    "\n",
    "midTime = time.time()\n",
    "\n",
    "while (deltaR.values.max() > 0):\n",
    "    # the max value of deltaR, if it's >0, determines the groups to be combined\n",
    "    # if max is <=0 then no further combination will increase reimbursements\n",
    "    \n",
    "    # the index and column location of the max value\n",
    "    indLoc = np.where(deltaR == deltaR.values.max())[0][0] \n",
    "    colLoc = np.where(deltaR == deltaR.values.max())[1][0]\n",
    "    \n",
    "    # the index location corresponds to the first group, the column location to the second group\n",
    "    # note the firstGroup number is smaller than the secondGroup.\n",
    "    firstGroup = index[indLoc]\n",
    "    secondGroup = index[colLoc]\n",
    "    \n",
    "    #drop the row/col of the second group in deltaR (it will be combined with the first group)\n",
    "    deltaR.drop(secondGroup,axis=0, inplace=True)\n",
    "    deltaR.drop(secondGroup,axis=1,inplace=True)\n",
    "    \n",
    "    #combining groups in the school df\n",
    "    cep.loc[cep.group==secondGroup,'group']=firstGroup\n",
    "    \n",
    "    #reset index\n",
    "    index = list(set(cep.group))\n",
    "    #loop through the row of deltaR corresponding to the new grouping\n",
    "    for i in index:\n",
    "        if i>firstGroup:\n",
    "            deltaR.loc[firstGroup,i] = deltaReimburse(cep,firstGroup,i)\n",
    "\n",
    "endTime = time.time()\n",
    "print endTime - startTime\n",
    "results = calcReimburse(cep, results)\n",
    "deltaR"
   ]
  },
  {
   "cell_type": "code",
   "execution_count": 23,
   "metadata": {
    "collapsed": false,
    "scrolled": true
   },
   "outputs": [
    {
     "data": {
      "text/plain": [
       "28.356765031814575"
      ]
     },
     "execution_count": 23,
     "metadata": {},
     "output_type": "execute_result"
    }
   ],
   "source": [
    "endTime - startTime"
   ]
  },
  {
   "cell_type": "code",
   "execution_count": 24,
   "metadata": {
    "collapsed": false
   },
   "outputs": [
    {
     "name": "stdout",
     "output_type": "stream",
     "text": [
      "saved 1.03E+06\n",
      "max 2\n",
      "min 1\n"
     ]
    }
   ],
   "source": [
    "possReimb = [x[2] for x in results]\n",
    "print 'saved', \"{:.2E}\".format(max(possReimb)-min(possReimb))\n",
    "print 'max', possReimb.index(max(possReimb))\n",
    "print 'min', possReimb.index(min(possReimb))"
   ]
  },
  {
   "cell_type": "code",
   "execution_count": 25,
   "metadata": {
    "collapsed": false
   },
   "outputs": [
    {
     "data": {
      "text/plain": [
       "[10800977.486396303, 10612454.825804099, 11644328.000522658]"
      ]
     },
     "execution_count": 25,
     "metadata": {},
     "output_type": "execute_result"
    }
   ],
   "source": [
    "[x[2] for x in results]"
   ]
  },
  {
   "cell_type": "code",
   "execution_count": 26,
   "metadata": {
    "collapsed": false
   },
   "outputs": [
    {
     "data": {
      "text/plain": [
       "[100, 1, 7]"
      ]
     },
     "execution_count": 26,
     "metadata": {},
     "output_type": "execute_result"
    }
   ],
   "source": [
    "[x[1] for x in results]"
   ]
  },
  {
   "cell_type": "markdown",
   "metadata": {},
   "source": [
    "## ungrouping by two"
   ]
  },
  {
   "cell_type": "code",
   "execution_count": 27,
   "metadata": {
    "collapsed": false
   },
   "outputs": [
    {
     "name": "stdout",
     "output_type": "stream",
     "text": [
      "t0 = 0.688477652078\n"
     ]
    }
   ],
   "source": [
    "ttarget = 1\n",
    "tlowerbound = t_min\n",
    "\n",
    "#start with everyschool in the same group\n",
    "t0 = groupThreshold(cep)\n",
    "\n",
    "#check to see if t0 is within bounds\n",
    "if (t0<tlowerbound):\n",
    "    print 'error - schools dont qualify'\n",
    "if (t0>=ttarget):\n",
    "    print 'done - cant do better than that!'\n",
    "print 't0 =',t0"
   ]
  },
  {
   "cell_type": "code",
   "execution_count": 28,
   "metadata": {
    "collapsed": false
   },
   "outputs": [
    {
     "name": "stdout",
     "output_type": "stream",
     "text": [
      "0.688547736482\n"
     ]
    },
    {
     "data": {
      "text/plain": [
       "[63]"
      ]
     },
     "execution_count": 28,
     "metadata": {},
     "output_type": "execute_result"
    }
   ],
   "source": [
    "cep.group = 0\n",
    "t0 = groupThreshold(cep)\n",
    "\n",
    "df = cep.copy()\n",
    "ungroup = []\n",
    "\n",
    "while(t0<ttarget):\n",
    "    index = df[(df.baseThreshold<t0)&(df.baseThreshold>tlowerbound)].index\n",
    "    deltaR = pd.Series(0,index=index)\n",
    "\n",
    "    for i in index:\n",
    "        df.group = 0\n",
    "        df.loc[i,'group'] = 1\n",
    "        deltaR.loc[i] = deltaReimburse(df,1,0)\n",
    "    \n",
    "    if (deltaR.min()<0):\n",
    "        ungroup.append(deltaR.idxmin())\n",
    "        df.drop(deltaR.idxmin(),inplace=True)\n",
    "        t0 = groupThreshold(df)\n",
    "    else:\n",
    "        break\n",
    "\n",
    "print t0\n",
    "ungroup"
   ]
  },
  {
   "cell_type": "code",
   "execution_count": 29,
   "metadata": {
    "collapsed": false,
    "scrolled": true
   },
   "outputs": [
    {
     "data": {
      "text/plain": [
       "[10800977.486396303,\n",
       " 10612454.825804099,\n",
       " 11644328.000522658,\n",
       " 10612760.082775289]"
      ]
     },
     "execution_count": 29,
     "metadata": {},
     "output_type": "execute_result"
    }
   ],
   "source": [
    "cep.group=cep.index\n",
    "cep.loc[~cep.index.isin(ungroup),'group']=10000\n",
    "results = calcReimburse(cep,results)\n",
    "[x[2] for x in results]"
   ]
  },
  {
   "cell_type": "code",
   "execution_count": 30,
   "metadata": {
    "collapsed": false,
    "scrolled": true
   },
   "outputs": [],
   "source": [
    "cep.group=0\n",
    "cep.loc[~cep.index.isin(ungroup),'group']=10000\n",
    "results = calcReimburse(cep,results)"
   ]
  },
  {
   "cell_type": "code",
   "execution_count": 31,
   "metadata": {
    "collapsed": false
   },
   "outputs": [
    {
     "data": {
      "text/plain": [
       "[[100, 10800977.486396303, 'threshold not met'],\n",
       " [1, 10612454.825804099, 'threshold met'],\n",
       " [7, 11644328.000522658, 'threshold not met'],\n",
       " [2, 10612760.082775289, 'threshold met'],\n",
       " [2, 10612760.082775289, 'threshold met']]"
      ]
     },
     "execution_count": 31,
     "metadata": {},
     "output_type": "execute_result"
    }
   ],
   "source": [
    "[x[1:] for x in results]"
   ]
  },
  {
   "cell_type": "code",
   "execution_count": 36,
   "metadata": {
    "collapsed": false,
    "scrolled": true
   },
   "outputs": [
    {
     "data": {
      "text/plain": [
       "[    group  threshold           meal\n",
       " 0   10000   0.688548    8595.451438\n",
       " 1   10000   0.688548  204116.615025\n",
       " 2   10000   0.688548  173349.543115\n",
       " 3   10000   0.688548  347637.004362\n",
       " 4   10000   0.688548  260244.901077\n",
       " 5   10000   0.688548   41533.745736\n",
       " 6   10000   0.688548  319541.802356\n",
       " 7   10000   0.688548   36772.035807\n",
       " 8   10000   0.688548  153992.724444\n",
       " 9   10000   0.688548   77221.490979\n",
       " 10  10000   0.688548  287095.433200\n",
       " 11  10000   0.688548  144372.869173\n",
       " 12  10000   0.688548  100224.092098\n",
       " 13  10000   0.688548    4440.959753\n",
       " 14  10000   0.688548   58107.118057\n",
       " 15  10000   0.688548  329288.171328\n",
       " 16  10000   0.688548  411598.804627\n",
       " 17  10000   0.688548  355950.193193\n",
       " 18  10000   0.688548   51031.574131\n",
       " 19  10000   0.688548    6601.608098\n",
       " 20  10000   0.688548  113179.620592\n",
       " 21  10000   0.688548  264916.503638\n",
       " 22  10000   0.688548   56519.519363\n",
       " 23  10000   0.688548  398874.061280\n",
       " 24  10000   0.688548  238434.494999\n",
       " 25  10000   0.688548  199730.578213\n",
       " 26  10000   0.688548   92986.350301\n",
       " 27  10000   0.688548  321454.178668\n",
       " 28  10000   0.688548   73368.299804\n",
       " 29  10000   0.688548   75661.571794\n",
       " ..    ...        ...            ...\n",
       " 70  10000   0.688548  120870.935513\n",
       " 71  10000   0.688548  315197.372612\n",
       " 72  10000   0.688548  467164.319737\n",
       " 73  10000   0.688548   53626.651886\n",
       " 74  10000   0.688548  252867.468204\n",
       " 75  10000   0.688548    3721.816597\n",
       " 76  10000   0.688548    9526.775323\n",
       " 77  10000   0.688548  233285.870604\n",
       " 78  10000   0.688548   34212.600391\n",
       " 79  10000   0.688548  100826.594116\n",
       " 80  10000   0.688548   70763.728769\n",
       " 81  10000   0.688548   28156.810483\n",
       " 82  10000   0.688548   24325.774485\n",
       " 83  10000   0.688548  149475.992436\n",
       " 84  10000   0.688548    7098.220193\n",
       " 85  10000   0.688548   84185.320045\n",
       " 86  10000   0.688548   85963.983440\n",
       " 87  10000   0.688548  151473.048801\n",
       " 88  10000   0.688548   11350.570666\n",
       " 89  10000   0.688548  208618.489231\n",
       " 90  10000   0.688548  100851.093258\n",
       " 91  10000   0.688548   62527.727673\n",
       " 92  10000   0.688548  252954.733299\n",
       " 93  10000   0.688548  248906.652085\n",
       " 94  10000   0.688548  551185.715217\n",
       " 95  10000   0.688548  211752.159104\n",
       " 96  10000   0.688548  415502.841536\n",
       " 97  10000   0.688548    6127.695002\n",
       " 98  10000   0.688548  241301.633940\n",
       " 99  10000   0.688548  217504.420669\n",
       " \n",
       " [100 rows x 3 columns], 2, 10612760.082775289, 'threshold met']"
      ]
     },
     "execution_count": 36,
     "metadata": {},
     "output_type": "execute_result"
    }
   ],
   "source": [
    "results[4]"
   ]
  },
  {
   "cell_type": "code",
   "execution_count": 35,
   "metadata": {
    "collapsed": false
   },
   "outputs": [
    {
     "data": {
      "image/png": "[encoded data removed]",
      "text/plain": [
       "<matplotlib.figure.Figure at 0x7fe70fabae50>"
      ]
     },
     "metadata": {},
     "output_type": "display_data"
    }
   ],
   "source": [
    "groups = cep.groupby('group')\n",
    "for name, group in groups:\n",
    "    plt.plot(group.baseThreshold, group.mealPerStudent,marker='o',linestyle='', label=name)"
   ]
  },
  {
   "cell_type": "code",
   "execution_count": null,
   "metadata": {
    "collapsed": true
   },
   "outputs": [],
   "source": []
  },
  {
   "cell_type": "code",
   "execution_count": 42,
   "metadata": {
    "collapsed": false,
    "scrolled": true
   },
   "outputs": [
    {
     "name": "stdout",
     "output_type": "stream",
     "text": [
      "0.851672852953\n"
     ]
    },
    {
     "data": {
      "text/plain": [
       "40"
      ]
     },
     "execution_count": 42,
     "metadata": {},
     "output_type": "execute_result"
    }
   ],
   "source": [
    "cep.group = 0\n",
    "t0 = groupThreshold(cep)\n",
    "\n",
    "df = cep.copy()\n",
    "ungroup = []\n",
    "\n",
    "while(t0<ttarget):\n",
    "    index = df[df.baseThreshold<t0].index\n",
    "    deltaR = pd.Series(0,index=index)\n",
    "\n",
    "    for i in index:\n",
    "        df.group = 0\n",
    "        df.loc[i,'group'] = 1\n",
    "        deltaR.loc[i] = deltaReimburse(df,1,0)\n",
    "    \n",
    "    if (deltaR.min()<0):\n",
    "        ungroup.append(deltaR.idxmin())\n",
    "        df.drop(deltaR.idxmin(),inplace=True)\n",
    "        t0 = groupThreshold(df)\n",
    "    else:\n",
    "        break\n",
    "\n",
    "print t0\n",
    "len(ungroup)"
   ]
  },
  {
   "cell_type": "code",
   "execution_count": 43,
   "metadata": {
    "collapsed": true
   },
   "outputs": [],
   "source": [
    "cep.group=0\n",
    "cep.loc[~cep.index.isin(ungroup),'group']=10000\n",
    "results = calcReimburse(cep,results)"
   ]
  },
  {
   "cell_type": "code",
   "execution_count": 44,
   "metadata": {
    "collapsed": false
   },
   "outputs": [
    {
     "data": {
      "image/png": "[encoded data removed]",
      "text/plain": [
       "<matplotlib.figure.Figure at 0x7fe70f88ae50>"
      ]
     },
     "metadata": {},
     "output_type": "display_data"
    }
   ],
   "source": [
    "groups = cep.groupby('group')\n",
    "for name, group in groups:\n",
    "    plt.plot(group.baseThreshold, group.mealPerStudent,marker='o',linestyle='', label=name)"
   ]
  },
  {
   "cell_type": "code",
   "execution_count": 45,
   "metadata": {
    "collapsed": false
   },
   "outputs": [
    {
     "data": {
      "text/html": [
       "<div>\n",
       "<table border=\"1\" class=\"dataframe\">\n",
       "  <thead>\n",
       "    <tr style=\"text-align: right;\">\n",
       "      <th></th>\n",
       "      <th>index</th>\n",
       "      <th>School</th>\n",
       "      <th>Enrollment</th>\n",
       "      <th>Identified</th>\n",
       "      <th>Breakfast</th>\n",
       "      <th>Lunch</th>\n",
       "      <th>meal</th>\n",
       "      <th>mealPerStudent</th>\n",
       "      <th>baseThreshold</th>\n",
       "      <th>group</th>\n",
       "      <th>threshold</th>\n",
       "      <th>reimburse</th>\n",
       "    </tr>\n",
       "  </thead>\n",
       "  <tbody>\n",
       "    <tr>\n",
       "      <th>0</th>\n",
       "      <td>800</td>\n",
       "      <td>16959</td>\n",
       "      <td>196.000000</td>\n",
       "      <td>91.0</td>\n",
       "      <td>46.186694</td>\n",
       "      <td>2975.542742</td>\n",
       "      <td>8595.451438</td>\n",
       "      <td>43.854344</td>\n",
       "      <td>0.742857</td>\n",
       "      <td>0</td>\n",
       "      <td>0.489197</td>\n",
       "      <td>4204.865625</td>\n",
       "    </tr>\n",
       "    <tr>\n",
       "      <th>1</th>\n",
       "      <td>1066</td>\n",
       "      <td>23244</td>\n",
       "      <td>617.000000</td>\n",
       "      <td>323.0</td>\n",
       "      <td>25133.958871</td>\n",
       "      <td>55120.253522</td>\n",
       "      <td>204116.615025</td>\n",
       "      <td>330.821094</td>\n",
       "      <td>0.837601</td>\n",
       "      <td>0</td>\n",
       "      <td>0.489197</td>\n",
       "      <td>99853.154210</td>\n",
       "    </tr>\n",
       "    <tr>\n",
       "      <th>2</th>\n",
       "      <td>1230</td>\n",
       "      <td>27273</td>\n",
       "      <td>361.000000</td>\n",
       "      <td>171.0</td>\n",
       "      <td>20607.662903</td>\n",
       "      <td>47288.802240</td>\n",
       "      <td>173349.543115</td>\n",
       "      <td>480.192640</td>\n",
       "      <td>0.757895</td>\n",
       "      <td>10000</td>\n",
       "      <td>0.851673</td>\n",
       "      <td>147637.099943</td>\n",
       "    </tr>\n",
       "    <tr>\n",
       "      <th>3</th>\n",
       "      <td>1009</td>\n",
       "      <td>21215</td>\n",
       "      <td>901.000000</td>\n",
       "      <td>416.0</td>\n",
       "      <td>32977.299194</td>\n",
       "      <td>100231.460893</td>\n",
       "      <td>347637.004362</td>\n",
       "      <td>385.834633</td>\n",
       "      <td>0.738735</td>\n",
       "      <td>0</td>\n",
       "      <td>0.489197</td>\n",
       "      <td>170062.840800</td>\n",
       "    </tr>\n",
       "    <tr>\n",
       "      <th>4</th>\n",
       "      <td>920</td>\n",
       "      <td>19224</td>\n",
       "      <td>448.000000</td>\n",
       "      <td>342.0</td>\n",
       "      <td>51855.060484</td>\n",
       "      <td>57470.242742</td>\n",
       "      <td>260244.901077</td>\n",
       "      <td>580.903797</td>\n",
       "      <td>1.221429</td>\n",
       "      <td>10000</td>\n",
       "      <td>0.851673</td>\n",
       "      <td>221643.517366</td>\n",
       "    </tr>\n",
       "    <tr>\n",
       "      <th>5</th>\n",
       "      <td>68</td>\n",
       "      <td>2412</td>\n",
       "      <td>529.000000</td>\n",
       "      <td>86.0</td>\n",
       "      <td>2414.304435</td>\n",
       "      <td>12961.432460</td>\n",
       "      <td>41533.745736</td>\n",
       "      <td>78.513697</td>\n",
       "      <td>0.260113</td>\n",
       "      <td>0</td>\n",
       "      <td>0.489197</td>\n",
       "      <td>20318.167227</td>\n",
       "    </tr>\n",
       "    <tr>\n",
       "      <th>6</th>\n",
       "      <td>1313</td>\n",
       "      <td>29034</td>\n",
       "      <td>571.000000</td>\n",
       "      <td>240.0</td>\n",
       "      <td>52062.200806</td>\n",
       "      <td>78069.508065</td>\n",
       "      <td>319541.802356</td>\n",
       "      <td>559.617868</td>\n",
       "      <td>0.672504</td>\n",
       "      <td>10000</td>\n",
       "      <td>0.851673</td>\n",
       "      <td>272145.078450</td>\n",
       "    </tr>\n",
       "    <tr>\n",
       "      <th>7</th>\n",
       "      <td>944</td>\n",
       "      <td>19645</td>\n",
       "      <td>239.000000</td>\n",
       "      <td>140.0</td>\n",
       "      <td>2519.274194</td>\n",
       "      <td>11228.635602</td>\n",
       "      <td>36772.035807</td>\n",
       "      <td>153.857890</td>\n",
       "      <td>0.937238</td>\n",
       "      <td>10000</td>\n",
       "      <td>0.851673</td>\n",
       "      <td>31317.744645</td>\n",
       "    </tr>\n",
       "    <tr>\n",
       "      <th>8</th>\n",
       "      <td>1340</td>\n",
       "      <td>29327</td>\n",
       "      <td>498.000000</td>\n",
       "      <td>166.0</td>\n",
       "      <td>17728.692339</td>\n",
       "      <td>42381.948360</td>\n",
       "      <td>153992.724444</td>\n",
       "      <td>309.222338</td>\n",
       "      <td>0.533333</td>\n",
       "      <td>0</td>\n",
       "      <td>0.489197</td>\n",
       "      <td>75332.717325</td>\n",
       "    </tr>\n",
       "    <tr>\n",
       "      <th>9</th>\n",
       "      <td>867</td>\n",
       "      <td>18035</td>\n",
       "      <td>416.333333</td>\n",
       "      <td>148.0</td>\n",
       "      <td>8608.919758</td>\n",
       "      <td>21434.824597</td>\n",
       "      <td>77221.490979</td>\n",
       "      <td>185.479962</td>\n",
       "      <td>0.568775</td>\n",
       "      <td>0</td>\n",
       "      <td>0.489197</td>\n",
       "      <td>37776.490886</td>\n",
       "    </tr>\n",
       "  </tbody>\n",
       "</table>\n",
       "</div>"
      ],
      "text/plain": [
       "   index  School  Enrollment  Identified     Breakfast          Lunch  \\\n",
       "0    800   16959  196.000000        91.0     46.186694    2975.542742   \n",
       "1   1066   23244  617.000000       323.0  25133.958871   55120.253522   \n",
       "2   1230   27273  361.000000       171.0  20607.662903   47288.802240   \n",
       "3   1009   21215  901.000000       416.0  32977.299194  100231.460893   \n",
       "4    920   19224  448.000000       342.0  51855.060484   57470.242742   \n",
       "5     68    2412  529.000000        86.0   2414.304435   12961.432460   \n",
       "6   1313   29034  571.000000       240.0  52062.200806   78069.508065   \n",
       "7    944   19645  239.000000       140.0   2519.274194   11228.635602   \n",
       "8   1340   29327  498.000000       166.0  17728.692339   42381.948360   \n",
       "9    867   18035  416.333333       148.0   8608.919758   21434.824597   \n",
       "\n",
       "            meal  mealPerStudent  baseThreshold  group  threshold  \\\n",
       "0    8595.451438       43.854344       0.742857      0   0.489197   \n",
       "1  204116.615025      330.821094       0.837601      0   0.489197   \n",
       "2  173349.543115      480.192640       0.757895  10000   0.851673   \n",
       "3  347637.004362      385.834633       0.738735      0   0.489197   \n",
       "4  260244.901077      580.903797       1.221429  10000   0.851673   \n",
       "5   41533.745736       78.513697       0.260113      0   0.489197   \n",
       "6  319541.802356      559.617868       0.672504  10000   0.851673   \n",
       "7   36772.035807      153.857890       0.937238  10000   0.851673   \n",
       "8  153992.724444      309.222338       0.533333      0   0.489197   \n",
       "9   77221.490979      185.479962       0.568775      0   0.489197   \n",
       "\n",
       "       reimburse  \n",
       "0    4204.865625  \n",
       "1   99853.154210  \n",
       "2  147637.099943  \n",
       "3  170062.840800  \n",
       "4  221643.517366  \n",
       "5   20318.167227  \n",
       "6  272145.078450  \n",
       "7   31317.744645  \n",
       "8   75332.717325  \n",
       "9   37776.490886  "
      ]
     },
     "execution_count": 45,
     "metadata": {},
     "output_type": "execute_result"
    }
   ],
   "source": [
    "cep.head(10)"
   ]
  },
  {
   "cell_type": "code",
   "execution_count": null,
   "metadata": {
    "collapsed": true
   },
   "outputs": [],
   "source": []
  },
  {
   "cell_type": "code",
   "execution_count": null,
   "metadata": {
    "collapsed": true
   },
   "outputs": [],
   "source": []
  },
  {
   "cell_type": "code",
   "execution_count": null,
   "metadata": {
    "collapsed": true
   },
   "outputs": [],
   "source": []
  },
  {
   "cell_type": "markdown",
   "metadata": {},
   "source": [
    "## Method 3: find max/min threshold for all schools\n",
    "set the max threshold at the school that has the greatest difference between min/max possible reimbursements.\n",
    "recalculate min/max thresholds with remaining schools and repeat\n",
    "\n",
    "DROP - this doesn't seem to work."
   ]
  },
  {
   "cell_type": "code",
   "execution_count": 207,
   "metadata": {
    "collapsed": false,
    "scrolled": true
   },
   "outputs": [],
   "source": [
    "def calcBounds(sminmax):\n",
    "    '''calculate upper and lower bounds to reimbursements'''\n",
    "    sminmax['group'] = sminmax.index\n",
    "    tempResults = []\n",
    "    calcReimburse(sminmax,tempResults)     \n",
    "    for i in sminmax.index.values:\n",
    "        sminmax.group = sminmax.index\n",
    "        #define tgroup to hold original threshold values, drop one by one highest to lowest\n",
    "        tgroup = sminmax.threshold.copy()\n",
    "        # initialize the new threshold\n",
    "        newt = sminmax.loc[i].threshold \n",
    "        while (newt < tgroup.max()) and (newt<1):\n",
    "            #combine the group with the maximum threshold with group i\n",
    "            #calculate the new threshold of that combined group\n",
    "            #new indicies to include in threshold calculation\n",
    "            newIndex = tgroup[tgroup==tgroup.max()].index\n",
    "            dftemp = sminmax[(sminmax.group==i)|\\\n",
    "                             (sminmax.index.isin(newIndex))].copy()\n",
    "            #calculate new threshold\n",
    "            newnewt = dftemp['Identified'].sum() / float(dftemp['Enrollment'].sum())*multiplier\n",
    "            if newnewt<1:\n",
    "                #only save this group if the new value of the threshold is<1\n",
    "                sminmax.loc[newIndex,'group']=i\n",
    "                # drop tmax from group and start over\n",
    "                tgroup.drop(newIndex,inplace=True)\n",
    "                newt=newnewt\n",
    "            else:\n",
    "                break\n",
    "        #store the max threshold tmax, and the groupings that made it gmax.\n",
    "        sminmax.loc[i,'tmax'] = newt\n",
    "        sminmax.loc[i,'gmax'] = ','.join(str(x) for x in (sminmax[sminmax.group==i].index.values))\n",
    "    \n",
    "    sminmax['rmax'] = sminmax['meal']*(sminmax['tmax'].apply(lambda x:min(x,1)))\n",
    "    sminmax['rover'] = sminmax['meal']*sminmax['tmax'] - sminmax['rmax']\n",
    "\n",
    "    #calculate lower bound to reimbursement\n",
    "    for i in sminmax.index.values:\n",
    "        # set to individual groups (thesholds already set above)\n",
    "        sminmax.group = sminmax.index\n",
    "    \n",
    "        #define tgroup to hold original threshold values, drop one by one highest to lowest\n",
    "        tgroup = sminmax.threshold.copy()\n",
    "        # initialize the new threshold\n",
    "        newt = sminmax.loc[i].threshold \n",
    "        while (newt > tgroup.min()):\n",
    "            #combine the group with the minimum threshold with group i\n",
    "            sminmax.loc[tgroup[tgroup==tgroup.min()].index,'group']=i\n",
    "            #calculate the new threshold of that combined group\n",
    "            dftemp = sminmax[sminmax.group==i].copy()\n",
    "            newt = dftemp['Identified'].sum() / float(dftemp['Enrollment'].sum())*multiplier\n",
    "            # drop tmin from group and start over\n",
    "            tgroup.drop(tgroup[tgroup==tgroup.min()].index,inplace=True)\n",
    "        #store the min threshold tmin, and the groupings that made it gmin.\n",
    "        sminmax.loc[i,'tmin'] = newt\n",
    "        sminmax.loc[i,'gmin'] = ','.join(str(x) for x in (sminmax[sminmax.group==i].index.values))\n",
    "\n",
    "    sminmax['rmin'] = sminmax['meal']*(sminmax['tmin'].apply(lambda x:min(x,1)))\n",
    "    \n",
    "    sminmax['rmax-rmin'] = sminmax['rmax'] - sminmax['rmin']\n",
    "    sminmax['rmax-rmin-rover'] = sminmax['rmax-rmin'] - sminmax['rover']\n",
    "    sminmax['rmax-r'] = sminmax['rmax'] - sminmax['reimburse']\n"
   ]
  },
  {
   "cell_type": "code",
   "execution_count": 227,
   "metadata": {
    "collapsed": false
   },
   "outputs": [
    {
     "name": "stdout",
     "output_type": "stream",
     "text": [
      "8.405688e+06\n"
     ]
    }
   ],
   "source": [
    "sbounds = school[['Name','Enrollment','Identified','Lunches',\n",
    "               'Breakfasts','group']].copy()\n",
    "calcBounds(sbounds)\n",
    "\n",
    "print \"{:2e}\".format(sbounds.rmax.sum())"
   ]
  },
  {
   "cell_type": "code",
   "execution_count": null,
   "metadata": {
    "collapsed": false,
    "scrolled": true
   },
   "outputs": [],
   "source": [
    "sbounds[['gmax','rmax','reimburse','rmax-rmin']].sort_values('rmax-rmin')"
   ]
  },
  {
   "cell_type": "code",
   "execution_count": null,
   "metadata": {
    "collapsed": false,
    "scrolled": true
   },
   "outputs": [],
   "source": [
    "# set the groups in order of the largest reimbursement difference (rmax-rmin)\n",
    "school.group = school.index\n",
    "sbound = school[['Name','Enrollment','Identified','Lunches',\n",
    "               'Breakfasts','meal','group','threshold']].copy()\n",
    "\n",
    "while(sbound.shape[0]>0):\n",
    "    calcBounds(sbound)\n",
    "    indexMax = sbound['rmax-rmin'].idxmax()\n",
    "    groupList = map(int,sbound.loc[indexMax].gmax.split(','))\n",
    "    school.loc[school.index.isin(groupList),'group'] = min(groupList)\n",
    "    #drop all schools already set\n",
    "    sbound.drop(groupList,inplace=True)    \n",
    "\n",
    "results = calcReimburse(school,results)"
   ]
  },
  {
   "cell_type": "code",
   "execution_count": 229,
   "metadata": {
    "collapsed": false
   },
   "outputs": [
    {
     "data": {
      "text/plain": [
       "10620785.85"
      ]
     },
     "execution_count": 229,
     "metadata": {},
     "output_type": "execute_result"
    }
   ],
   "source": [
    "school.meal.sum()"
   ]
  },
  {
   "cell_type": "code",
   "execution_count": null,
   "metadata": {
    "collapsed": false,
    "scrolled": true
   },
   "outputs": [],
   "source": [
    "# set the groups in order of the largest reimbursement difference (rmax-rmin)\n",
    "school.group = school.index\n",
    "sbound = school[['Name','Enrollment','Identified','Lunches',\n",
    "               'Breakfasts','meal','group','threshold']].copy()\n",
    "\n",
    "while(sbound.shape[0]>0):\n",
    "    calcBounds(sbound)\n",
    "    indexMax = sbound['rmax'].idxmax()\n",
    "    groupList = map(int,sbound.loc[indexMax].gmax.split(','))\n",
    "    school.loc[school.index.isin(groupList),'group'] = min(groupList)\n",
    "    #drop all schools already set\n",
    "    sbound.drop(groupList,inplace=True)    \n",
    "\n",
    "results = calcReimburse(school,results)"
   ]
  },
  {
   "cell_type": "code",
   "execution_count": null,
   "metadata": {
    "collapsed": true
   },
   "outputs": [],
   "source": []
  },
  {
   "cell_type": "code",
   "execution_count": null,
   "metadata": {
    "collapsed": true
   },
   "outputs": [],
   "source": []
  },
  {
   "cell_type": "code",
   "execution_count": null,
   "metadata": {
    "collapsed": true
   },
   "outputs": [],
   "source": []
  },
  {
   "cell_type": "code",
   "execution_count": null,
   "metadata": {
    "collapsed": true
   },
   "outputs": [],
   "source": []
  },
  {
   "cell_type": "code",
   "execution_count": null,
   "metadata": {
    "collapsed": true
   },
   "outputs": [],
   "source": []
  },
  {
   "cell_type": "code",
   "execution_count": null,
   "metadata": {
    "collapsed": true
   },
   "outputs": [],
   "source": []
  },
  {
   "cell_type": "code",
   "execution_count": null,
   "metadata": {
    "collapsed": true
   },
   "outputs": [],
   "source": []
  },
  {
   "cell_type": "code",
   "execution_count": 131,
   "metadata": {
    "collapsed": false,
    "scrolled": true
   },
   "outputs": [
    {
     "data": {
      "text/plain": [
       "<matplotlib.axes._subplots.AxesSubplot at 0x7f57d96b4310>"
      ]
     },
     "execution_count": 131,
     "metadata": {},
     "output_type": "execute_result"
    },
    {
     "data": {
      "image/png": "[encoded data removed]",
      "text/plain": [
       "<matplotlib.figure.Figure at 0x7f57d9eaefd0>"
      ]
     },
     "metadata": {},
     "output_type": "display_data"
    }
   ],
   "source": [
    "pd.Series([x[2] for x in results]).plot()"
   ]
  },
  {
   "cell_type": "code",
   "execution_count": 132,
   "metadata": {
    "collapsed": false
   },
   "outputs": [
    {
     "data": {
      "text/plain": [
       "[9859535.0562031344,\n",
       " 10545816.781614168,\n",
       " 10036904.071577815,\n",
       " 10027063.236628737,\n",
       " 10303768.207755748,\n",
       " 10313260.413609516,\n",
       " 10365591.788532862,\n",
       " 10545816.781614168,\n",
       " 9859535.0562031344,\n",
       " 10545816.781614168,\n",
       " 9859535.0562031344,\n",
       " 10150474.930772413,\n",
       " 10204059.767045012,\n",
       " 9859535.0562031344,\n",
       " 10332152.594735747,\n",
       " 10560964.023968218,\n",
       " 10560964.023968218,\n",
       " 10560964.023968218,\n",
       " 10560964.023968218,\n",
       " 10560964.023968218,\n",
       " 10560964.023968218,\n",
       " 10560964.023968218,\n",
       " 10560964.023968218,\n",
       " 10560964.023968218,\n",
       " 10560964.023968218,\n",
       " 10560964.023968218,\n",
       " 9859535.0562031344,\n",
       " 10332152.594735747,\n",
       " 10332152.594735747]"
      ]
     },
     "execution_count": 132,
     "metadata": {},
     "output_type": "execute_result"
    }
   ],
   "source": [
    "[x[2] for x in results]"
   ]
  },
  {
   "cell_type": "code",
   "execution_count": null,
   "metadata": {
    "collapsed": true
   },
   "outputs": [],
   "source": []
  },
  {
   "cell_type": "code",
   "execution_count": null,
   "metadata": {
    "collapsed": true
   },
   "outputs": [],
   "source": []
  },
  {
   "cell_type": "code",
   "execution_count": null,
   "metadata": {
    "collapsed": true
   },
   "outputs": [],
   "source": []
  },
  {
   "cell_type": "code",
   "execution_count": null,
   "metadata": {
    "collapsed": true
   },
   "outputs": [],
   "source": []
  },
  {
   "cell_type": "code",
   "execution_count": null,
   "metadata": {
    "collapsed": true
   },
   "outputs": [],
   "source": []
  },
  {
   "cell_type": "code",
   "execution_count": null,
   "metadata": {
    "collapsed": true
   },
   "outputs": [],
   "source": []
  },
  {
   "cell_type": "code",
   "execution_count": null,
   "metadata": {
    "collapsed": true
   },
   "outputs": [],
   "source": []
  },
  {
   "cell_type": "code",
   "execution_count": null,
   "metadata": {
    "collapsed": true
   },
   "outputs": [],
   "source": []
  },
  {
   "cell_type": "code",
   "execution_count": null,
   "metadata": {
    "collapsed": true
   },
   "outputs": [],
   "source": []
  },
  {
   "cell_type": "code",
   "execution_count": null,
   "metadata": {
    "collapsed": true
   },
   "outputs": [],
   "source": []
  }
 ],
 "metadata": {
  "kernelspec": {
   "display_name": "Python 2",
   "language": "python",
   "name": "python2"
  },
  "language_info": {
   "codemirror_mode": {
    "name": "ipython",
    "version": 2
   },
   "file_extension": ".py",
   "mimetype": "text/x-python",
   "name": "python",
   "nbconvert_exporter": "python",
   "pygments_lexer": "ipython2",
   "version": "2.7.6"
  }
 },
 "nbformat": 4,
 "nbformat_minor": 0
}
