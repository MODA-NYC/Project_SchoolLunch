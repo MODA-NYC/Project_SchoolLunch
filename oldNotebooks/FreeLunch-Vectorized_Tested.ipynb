{
 "cells": [
  {
   "cell_type": "markdown",
   "metadata": {},
   "source": [
    "# Free Lunch (there is such a thing!)\n",
    "Working with NYC DOE to develope a method to optimize school lunch and breakfast reimbursements from the federal and state government.\n",
    "\n",
    "###Overview\n",
    "The Community Eligibility Provision (CEP) is program aimed at streamlining reimbursement claims. It requires that participating schools provide universal breakfast and lunch service, where all meals are served at no cost to the students.\n",
    "\n",
    "###Reimbursement Rules:\n",
    "Schools get reimbursed at either the \"free\" rate or the \"paid\" rate for each meal. (Other programs have an additional \"reduced\" rate, but that does not apply here). The fraction of meals that get reimbursed at the \"free\" rate is determined by the group the school is enrolled under. This fraction we will call the $threshold$. The rest of the meals get reimbursed at the \"paid\" rate. \n",
    "\n",
    "At a minimum, the USDA covers the paid rate,$r_{lunch/breakfast,paid}$, for all meals.This includes total number of breakfasts for all schools $\\sum_{s}B_s$, and total number of lunches for all schools $\\sum_{s}L_s$. \n",
    "\n",
    "This $base$ reimbursement is independant of the groupings: \n",
    "$base = r_{lunch,paid} \\sum_{s}L_s + r_{breakfast,paid} \\sum_{s}B_s $.\n",
    "\n",
    "The total Reimbursement, $R$, is\n",
    "\n",
    "$\\begin{align}\n",
    "R = \\sum_{s} Min(1,threshold_s) [\\Delta r_{lunch} L_s  + \\Delta r_{breakfast} B_s] + base\n",
    "\\end{align}$\n",
    "\n",
    "> where \n",
    "> $\\begin{align}\n",
    "\\Delta r_{breakfast} &= r_{breakfast,free} - r_{breakfast,paid} \\\\\n",
    "\\Delta r_{lunch} &= r_{lunch,free} - r_{lunch,paid}\n",
    "\\end{align}$\n",
    "\n",
    "> and the $threshold_s$ for each school, $s$, is determined it's group, $g$. It is the fraction of \"identified students\" $I_s$ for all schools in the group $g$ to the total number of \"enrolled students\" $N_s$ for all schools in the group, multiplied by a constant. This constant is set by the USDA at 1.6 but may change in subsequent years. $I_s$ and $N_s$ are based on enrollment in the previous school year. \"Identified students\" are those deemed categorically eligible for free meals, primarily due to receiving some sort of public assistance benefit.\n",
    "\n",
    "> $\\begin{align}\n",
    "threshold_s =\\frac{ \\sum_{s\\in g} I_s} {\\sum_{s\\in g} N_s } * 1.6   \n",
    "\\end{align}$\n",
    "\n",
    "Before the school year begins, the groups are set and reported to the state.\n",
    "\n",
    "Reimbursements happen on a monthly basis after the school year begins.\n",
    "\n",
    "\n",
    "###Grouping Rules\n",
    "* All groups have to meet the minimum threshold: $threshold_{min} = 40\\% * 1.6 = 64\\%$\n",
    "* There can be at most 9 (?) groups\n",
    "\n",
    "###Objective\n",
    "Find the optimum groupings to maximize reimbursement, $R$."
   ]
  },
  {
   "cell_type": "code",
   "execution_count": 1,
   "metadata": {
    "collapsed": true
   },
   "outputs": [],
   "source": [
    "import pandas as pd\n",
    "import numpy as np\n",
    "import time\n",
    "import matplotlib.pyplot as plt\n",
    "%matplotlib inline \n",
    "plt.style.use('seaborn-poster')\n",
    "plt.style.use('fivethirtyeight')"
   ]
  },
  {
   "cell_type": "code",
   "execution_count": 2,
   "metadata": {
    "collapsed": true
   },
   "outputs": [],
   "source": [
    "#constants\n",
    "\n",
    "multiplier = 1.6\n",
    "\n",
    "# combined Federal and NY State meal reimbursement rates\n",
    "freeLunch = 3.2999\n",
    "paidLunch = 0.4399\n",
    "freeBreakfast = 2.1413\n",
    "paidBreakfast = 0.2923\n",
    "\n",
    "deltaLunchRate = freeLunch - paidLunch\n",
    "deltaBreakfastRate = freeBreakfast - paidBreakfast \n",
    "\n",
    "t_min = 0.40 * multiplier"
   ]
  },
  {
   "cell_type": "markdown",
   "metadata": {},
   "source": [
    "## Test data from DOE"
   ]
  },
  {
   "cell_type": "code",
   "execution_count": 3,
   "metadata": {},
   "outputs": [
    {
     "name": "stdout",
     "output_type": "stream",
     "text": [
      "(1487, 5)\n"
     ]
    },
    {
     "data": {
      "text/html": [
       "<div>\n",
       "<style>\n",
       "    .dataframe thead tr:only-child th {\n",
       "        text-align: right;\n",
       "    }\n",
       "\n",
       "    .dataframe thead th {\n",
       "        text-align: left;\n",
       "    }\n",
       "\n",
       "    .dataframe tbody tr th {\n",
       "        vertical-align: top;\n",
       "    }\n",
       "</style>\n",
       "<table border=\"1\" class=\"dataframe\">\n",
       "  <thead>\n",
       "    <tr style=\"text-align: right;\">\n",
       "      <th></th>\n",
       "      <th>School</th>\n",
       "      <th>Enrollment</th>\n",
       "      <th>Identified</th>\n",
       "      <th>Breakfast</th>\n",
       "      <th>Lunch</th>\n",
       "    </tr>\n",
       "  </thead>\n",
       "  <tbody>\n",
       "    <tr>\n",
       "      <th>0</th>\n",
       "      <td>1019</td>\n",
       "      <td>268.0</td>\n",
       "      <td>114.0</td>\n",
       "      <td>13744.040323</td>\n",
       "      <td>32119.415317</td>\n",
       "    </tr>\n",
       "    <tr>\n",
       "      <th>1</th>\n",
       "      <td>1025</td>\n",
       "      <td>188.0</td>\n",
       "      <td>121.0</td>\n",
       "      <td>2660.633468</td>\n",
       "      <td>8954.467200</td>\n",
       "    </tr>\n",
       "    <tr>\n",
       "      <th>2</th>\n",
       "      <td>1034</td>\n",
       "      <td>348.0</td>\n",
       "      <td>262.0</td>\n",
       "      <td>18359.910484</td>\n",
       "      <td>39773.741129</td>\n",
       "    </tr>\n",
       "    <tr>\n",
       "      <th>3</th>\n",
       "      <td>1060</td>\n",
       "      <td>679.0</td>\n",
       "      <td>293.0</td>\n",
       "      <td>7340.885081</td>\n",
       "      <td>19996.654634</td>\n",
       "    </tr>\n",
       "    <tr>\n",
       "      <th>4</th>\n",
       "      <td>1061</td>\n",
       "      <td>291.0</td>\n",
       "      <td>99.0</td>\n",
       "      <td>4320.555242</td>\n",
       "      <td>25602.863216</td>\n",
       "    </tr>\n",
       "  </tbody>\n",
       "</table>\n",
       "</div>"
      ],
      "text/plain": [
       "   School  Enrollment  Identified     Breakfast         Lunch\n",
       "0    1019       268.0       114.0  13744.040323  32119.415317\n",
       "1    1025       188.0       121.0   2660.633468   8954.467200\n",
       "2    1034       348.0       262.0  18359.910484  39773.741129\n",
       "3    1060       679.0       293.0   7340.885081  19996.654634\n",
       "4    1061       291.0        99.0   4320.555242  25602.863216"
      ]
     },
     "execution_count": 3,
     "metadata": {},
     "output_type": "execute_result"
    }
   ],
   "source": [
    "# reading in data\n",
    "doe = pd.read_excel('Test Data for CEP Grouping.xlsx',sheetname=\"School Data\",header=2)\n",
    "doe.rename(columns={'Identified Student Count':'Identified'},inplace=True)\n",
    "print doe.shape\n",
    "doe.head()"
   ]
  },
  {
   "cell_type": "markdown",
   "metadata": {},
   "source": [
    "###Data Dictionary\n",
    "* School -  the school unique id\n",
    "* Enrollment - the total number of students enrolled at the school\n",
    "* Identified - the number of 'identified' students enrolled at the school. (should be less than Enrollment)\n",
    "* Breakfast - the projected annual number of breakfasts served at the school.\n",
    "* Lunch - the projected annual number of lunches served at the school\n",
    "\n",
    "\n",
    "The Breakfast and Lunch columns are both pojected values by DOE. The actual numbers are not available until after the school year begins, after the groupings are already set.\n",
    "\n",
    "\n",
    "###Question on meal projections\n",
    "There are 180 days in a school year. Yet there are 21 schools serving more than 200 lunches in a school year and 5 serving more than 200 breakfasts. Perhaps this includes summer? \n",
    "\n",
    "There are about 260 weekdays per year. 4 schools have more than 260 lunches per student.  "
   ]
  },
  {
   "cell_type": "code",
   "execution_count": 4,
   "metadata": {},
   "outputs": [
    {
     "data": {
      "text/plain": [
       "(34, 5)"
      ]
     },
     "execution_count": 4,
     "metadata": {},
     "output_type": "execute_result"
    }
   ],
   "source": [
    "# 34 schools have 0 enrollment. Not sure what this means. For now I'll drop them.\n",
    "doe[doe.Enrollment==0].shape"
   ]
  },
  {
   "cell_type": "code",
   "execution_count": 5,
   "metadata": {},
   "outputs": [
    {
     "name": "stdout",
     "output_type": "stream",
     "text": [
      "number of schools with more than 180 lunches per student: 34\n",
      "count    1453.000000\n",
      "mean       94.770633\n",
      "std        45.258483\n",
      "min         0.000000\n",
      "25%        59.845391\n",
      "50%        95.510703\n",
      "75%       127.086483\n",
      "max       348.600914\n",
      "dtype: float64\n",
      "number of schools with more than 180 breakfasts per student: 8\n",
      "count    1453.000000\n",
      "mean       46.492607\n",
      "std        39.671440\n",
      "min         0.000000\n",
      "25%        16.926299\n",
      "50%        36.138271\n",
      "75%        62.974926\n",
      "max       259.759480\n",
      "dtype: float64\n"
     ]
    }
   ],
   "source": [
    "days=180\n",
    "df = doe[doe.Enrollment>0]\n",
    "lunchPerStudent = (df.Lunch/df.Enrollment)\n",
    "print 'number of schools with more than '+str(days)+' lunches per student:',lunchPerStudent[lunchPerStudent>days].shape[0]\n",
    "print lunchPerStudent.describe()\n",
    "\n",
    "bfPerStudent = (df.Breakfast/df.Enrollment)\n",
    "print 'number of schools with more than '+str(days)+' breakfasts per student:', bfPerStudent[bfPerStudent>days].shape[0]\n",
    "print bfPerStudent.describe()"
   ]
  },
  {
   "cell_type": "code",
   "execution_count": 6,
   "metadata": {},
   "outputs": [
    {
     "name": "stdout",
     "output_type": "stream",
     "text": [
      "91.2768119568 40.0380279164\n"
     ]
    }
   ],
   "source": [
    "# meals per student per year\n",
    "df = doe[doe.Enrollment>0]\n",
    "print df.Lunch.sum()/df.Enrollment.sum(),df.Breakfast.sum()/df.Enrollment.sum()"
   ]
  },
  {
   "cell_type": "code",
   "execution_count": 7,
   "metadata": {},
   "outputs": [
    {
     "name": "stdout",
     "output_type": "stream",
     "text": [
      "total number of students: 726513.966002\n"
     ]
    }
   ],
   "source": [
    "print 'total number of students:', doe.Enrollment.sum()"
   ]
  },
  {
   "cell_type": "markdown",
   "metadata": {},
   "source": [
    "### CEP dataframe"
   ]
  },
  {
   "cell_type": "code",
   "execution_count": 8,
   "metadata": {},
   "outputs": [
    {
     "data": {
      "text/plain": [
       "(1453, 5)"
      ]
     },
     "execution_count": 8,
     "metadata": {},
     "output_type": "execute_result"
    }
   ],
   "source": [
    "# assume only schools with >0 enrollment can be part of cep program.\n",
    "cep = doe[doe.Enrollment>0].copy()\n",
    "cep.shape"
   ]
  },
  {
   "cell_type": "code",
   "execution_count": 9,
   "metadata": {},
   "outputs": [
    {
     "data": {
      "text/plain": [
       "count    1453.000000\n",
       "mean        0.475177\n",
       "std         0.209910\n",
       "min         0.000000\n",
       "25%         0.320847\n",
       "50%         0.490946\n",
       "75%         0.643182\n",
       "max         0.910165\n",
       "dtype: float64"
      ]
     },
     "execution_count": 9,
     "metadata": {},
     "output_type": "execute_result"
    }
   ],
   "source": [
    "# the number of identified students should always be less then the number of enrolled students,\n",
    "# checking this out to make sure\n",
    "(cep.Identified/cep.Enrollment).describe()"
   ]
  },
  {
   "cell_type": "code",
   "execution_count": 10,
   "metadata": {},
   "outputs": [
    {
     "data": {
      "text/html": [
       "<div>\n",
       "<style>\n",
       "    .dataframe thead tr:only-child th {\n",
       "        text-align: right;\n",
       "    }\n",
       "\n",
       "    .dataframe thead th {\n",
       "        text-align: left;\n",
       "    }\n",
       "\n",
       "    .dataframe tbody tr th {\n",
       "        vertical-align: top;\n",
       "    }\n",
       "</style>\n",
       "<table border=\"1\" class=\"dataframe\">\n",
       "  <thead>\n",
       "    <tr style=\"text-align: right;\">\n",
       "      <th></th>\n",
       "      <th>School</th>\n",
       "      <th>Enrollment</th>\n",
       "      <th>Identified</th>\n",
       "      <th>Breakfast</th>\n",
       "      <th>Lunch</th>\n",
       "      <th>meal</th>\n",
       "      <th>paidMeal</th>\n",
       "      <th>mealPerStudent</th>\n",
       "      <th>baseThreshold</th>\n",
       "      <th>group</th>\n",
       "    </tr>\n",
       "  </thead>\n",
       "  <tbody>\n",
       "    <tr>\n",
       "      <th>0</th>\n",
       "      <td>1019</td>\n",
       "      <td>268.0</td>\n",
       "      <td>114.0</td>\n",
       "      <td>13744.040323</td>\n",
       "      <td>32119.415317</td>\n",
       "      <td>117274.258362</td>\n",
       "      <td>18146.713784</td>\n",
       "      <td>437.590516</td>\n",
       "      <td>0.680597</td>\n",
       "      <td>0</td>\n",
       "    </tr>\n",
       "    <tr>\n",
       "      <th>1</th>\n",
       "      <td>1025</td>\n",
       "      <td>188.0</td>\n",
       "      <td>121.0</td>\n",
       "      <td>2660.633468</td>\n",
       "      <td>8954.467200</td>\n",
       "      <td>30529.287474</td>\n",
       "      <td>4716.773284</td>\n",
       "      <td>162.389827</td>\n",
       "      <td>1.029787</td>\n",
       "      <td>0</td>\n",
       "    </tr>\n",
       "    <tr>\n",
       "      <th>2</th>\n",
       "      <td>1034</td>\n",
       "      <td>348.0</td>\n",
       "      <td>262.0</td>\n",
       "      <td>18359.910484</td>\n",
       "      <td>39773.741129</td>\n",
       "      <td>147700.374114</td>\n",
       "      <td>22863.070557</td>\n",
       "      <td>424.426362</td>\n",
       "      <td>1.204598</td>\n",
       "      <td>0</td>\n",
       "    </tr>\n",
       "    <tr>\n",
       "      <th>3</th>\n",
       "      <td>1060</td>\n",
       "      <td>679.0</td>\n",
       "      <td>293.0</td>\n",
       "      <td>7340.885081</td>\n",
       "      <td>19996.654634</td>\n",
       "      <td>70763.728769</td>\n",
       "      <td>10942.269083</td>\n",
       "      <td>104.217568</td>\n",
       "      <td>0.690427</td>\n",
       "      <td>0</td>\n",
       "    </tr>\n",
       "    <tr>\n",
       "      <th>4</th>\n",
       "      <td>1061</td>\n",
       "      <td>291.0</td>\n",
       "      <td>99.0</td>\n",
       "      <td>4320.555242</td>\n",
       "      <td>25602.863216</td>\n",
       "      <td>81212.895439</td>\n",
       "      <td>12525.597826</td>\n",
       "      <td>279.082115</td>\n",
       "      <td>0.544330</td>\n",
       "      <td>0</td>\n",
       "    </tr>\n",
       "  </tbody>\n",
       "</table>\n",
       "</div>"
      ],
      "text/plain": [
       "   School  Enrollment  Identified     Breakfast         Lunch           meal  \\\n",
       "0    1019       268.0       114.0  13744.040323  32119.415317  117274.258362   \n",
       "1    1025       188.0       121.0   2660.633468   8954.467200   30529.287474   \n",
       "2    1034       348.0       262.0  18359.910484  39773.741129  147700.374114   \n",
       "3    1060       679.0       293.0   7340.885081  19996.654634   70763.728769   \n",
       "4    1061       291.0        99.0   4320.555242  25602.863216   81212.895439   \n",
       "\n",
       "       paidMeal  mealPerStudent  baseThreshold  group  \n",
       "0  18146.713784      437.590516       0.680597      0  \n",
       "1   4716.773284      162.389827       1.029787      0  \n",
       "2  22863.070557      424.426362       1.204598      0  \n",
       "3  10942.269083      104.217568       0.690427      0  \n",
       "4  12525.597826      279.082115       0.544330      0  "
      ]
     },
     "execution_count": 10,
     "metadata": {},
     "output_type": "execute_result"
    }
   ],
   "source": [
    "# define a few more columns that are useful.\n",
    "# 'meal' is the max reimbursement of meals per year for each school.\n",
    "# 'mealPerStudent' is the max per student.\n",
    "# 'baseThreshold' is the threshold of the school if it is not grouped.\n",
    "# 'group' will hold the integer name of the group the school belongs too. initally set a single group.\n",
    "\n",
    "cep['meal'] = deltaLunchRate*cep['Lunch'] + deltaBreakfastRate*cep['Breakfast']\n",
    "cep['paidMeal'] = paidLunch*cep['Lunch'] + paidBreakfast*cep['Breakfast']\n",
    "cep['mealPerStudent'] = cep['meal']/cep['Enrollment']\n",
    "cep['baseThreshold'] = cep['Identified']/cep['Enrollment']*multiplier\n",
    "cep['group'] = 0\n",
    "\n",
    "cep.head()"
   ]
  },
  {
   "cell_type": "markdown",
   "metadata": {},
   "source": [
    "## To group or Not to group?\n",
    "\n",
    "####Constraints\n",
    "The minimum threshold constraint of 64% has to be met. So any schools less than that, have to be grouped with schools with larger base thresholds. Any schools with base thresholds greater than 100% should be grouped with schools with smaller base thresholds in order to increase their effectiveness (since there is a cut off over 100%. Any group with a threshold over 100% can be viewed as an inefficiency.\n",
    "\n",
    "####Grouping with the threshold limits\n",
    "For schools within these limits (64%-100%), there still may be a benefit to grouping depending on their projected meal count. The overall idea is to get those schools with the largest meal counts to increase their thresholds. \n",
    "\n",
    "Let's look at the difference in reimbursements between grouping two schools together and keeping them separate:\n",
    "\n",
    "$\\begin{align}\n",
    "\\Delta R_{12} \\equiv R_{12} - (R_1 + R_2)\n",
    "\\end{align}$\n",
    "\n",
    "$R_{12}$ is the reimbursement when school 1 and 2 are grouped together. $R_1+R_2$ is the reimbursement when they are separate. Assume the thresholds for 1 and 2 are both between the limits (64%-100%). \n",
    "\n",
    "After some algebra:\n",
    "\n",
    "$\\begin{align}\n",
    "\\Delta R_{12} =  (threshold_2 - threshold_1)(m_1 - m_2)\\frac{N_1 N_2}{N_1 + N_2}\n",
    "\\end{align}$\n",
    "\n",
    "> where $m_i$ is the potential meal cost increase per student (mealPerStudent):\n",
    "\n",
    "> $\\begin{align}\n",
    "\\qquad m_i = \\frac{\\Delta r_{lunch} L_i + \\Delta r_{breakfast} B_i}{N_i} \\textrm{   for   } i=1,2\n",
    "\\end{align}$\n",
    "\n",
    "\n",
    "* If $\\Delta R_{12} = 0$ then the reimbursement is the same whether or not you group the schools. This happens when the thresholds for the two schools are equal or the mealsPerStudent are equal.\n",
    "\n",
    "\n",
    "* If $\\Delta R_{12} > 0$ then the schools should be combined. This happens in 2 cases: \n",
    "\n",
    "$\\begin{align}\n",
    "\\qquad (threshold_1 < threshold_2) &\\textrm{ AND } (m_1 > m_2) \\\\\n",
    "&\\textrm{ OR} \\\\\n",
    "\\qquad (threshold_1 > threshold_2) &\\textrm{ AND } (m_1 < m_2)\n",
    "\\end{align}$\n",
    "\n",
    "## Plotting out what this looks like with the DOE data"
   ]
  },
  {
   "cell_type": "code",
   "execution_count": 11,
   "metadata": {},
   "outputs": [
    {
     "data": {
      "text/plain": [
       "[<matplotlib.lines.Line2D at 0x7f7fe5919fd0>]"
      ]
     },
     "execution_count": 11,
     "metadata": {},
     "output_type": "execute_result"
    },
    {
     "data": {
      "image/png": "[encoded data removed]",
      "text/plain": [
       "<matplotlib.figure.Figure at 0x7f7fe805f6d0>"
      ]
     },
     "metadata": {},
     "output_type": "display_data"
    }
   ],
   "source": [
    "ax=cep.plot.scatter(x='baseThreshold',y='mealPerStudent')\n",
    "\n",
    "ax.annotate('group', xy=(.83, 980), xytext=(.9, 1100),\n",
    "            arrowprops=dict(facecolor='black', shrink=0.02))\n",
    "ax.annotate('', xy=(.94, 780), xytext=(.9, 1100),\n",
    "            arrowprops=dict(facecolor='black', shrink=0.02))\n",
    "\n",
    "ax.annotate('dont group', xy=(.65, 550), xytext=(.6, 690),\n",
    "            arrowprops=dict(facecolor='black', shrink=0.02))\n",
    "ax.annotate('', xy=(.75, 600), xytext=(.68, 670),\n",
    "            arrowprops=dict(facecolor='black', shrink=0.02))\n",
    "plt.plot([t_min,t_min],[0,1000],'r-',lw=2)\n",
    "plt.plot([1,1],[0,1000],'r-',lw=2)"
   ]
  },
  {
   "cell_type": "code",
   "execution_count": 12,
   "metadata": {},
   "outputs": [
    {
     "name": "stdout",
     "output_type": "stream",
     "text": [
      "(53, 10)\n"
     ]
    },
    {
     "data": {
      "text/plain": [
       "<matplotlib.axes._subplots.AxesSubplot at 0x7f8014a47610>"
      ]
     },
     "execution_count": 12,
     "metadata": {},
     "output_type": "execute_result"
    },
    {
     "data": {
      "image/png": "[encoded data removed]",
      "text/plain": [
       "<matplotlib.figure.Figure at 0x7f7fe80d1690>"
      ]
     },
     "metadata": {},
     "output_type": "display_data"
    }
   ],
   "source": [
    "print cep[cep.Enrollment<50].shape\n",
    "cep[cep.Enrollment<50].plot.scatter(x='baseThreshold',y='mealPerStudent',\n",
    "                                    title='schools with less than 50 students')"
   ]
  },
  {
   "cell_type": "markdown",
   "metadata": {},
   "source": [
    "For schools with less students, the meal projections are probably not very accurate."
   ]
  },
  {
   "cell_type": "markdown",
   "metadata": {},
   "source": [
    "## Vectorized Code:\n",
    "\n",
    "So far I've only rewritten and tested the simulated annealing process\n",
    "\n",
    "All my functions are prefaced with *SR_*"
   ]
  },
  {
   "cell_type": "code",
   "execution_count": 13,
   "metadata": {
    "collapsed": true
   },
   "outputs": [],
   "source": [
    "def SR_calcReimburse(cep):\n",
    "    group_cep = cep.groupby('group')\n",
    "    df = pd.DataFrame(index= group_cep.indices)\n",
    "\n",
    "    df['threshold'] =  (group_cep['Identified'].sum()  / group_cep['Enrollment'].sum()) * multiplier\n",
    "    df['meal']      =  group_cep['meal'].sum()\n",
    "    df['paidMeal']  =  group_cep['paidMeal'].sum()\n",
    "\n",
    "\n",
    "\n",
    "    df['applied_threshold'] = df['threshold']\n",
    "    df.loc[df['applied_threshold']  > 1, 'applied_threshold'] = 1\n",
    "    df.loc[df['applied_threshold']  < t_min,'applied_threshold'] = 0\n",
    "\n",
    "    df['reimbursed'] = df['applied_threshold'] * df['meal']\n",
    "\n",
    "    df.loc[df['applied_threshold']  == 0,'reimbursed'] = -df['paidMeal']\n",
    "\n",
    "    return df.reimbursed.sum()\n",
    "\n",
    "def SR_detailsReimburse(cep):\n",
    "    group_cep = cep.groupby('group')\n",
    "    df = pd.DataFrame(index= group_cep.indices)\n",
    "\n",
    "    df['threshold'] =  (group_cep['Identified'].sum()  / group_cep['Enrollment'].sum()) * multiplier\n",
    "    df['meal']      =  group_cep['meal'].sum()\n",
    "    df['paidMeal']  =  group_cep['paidMeal'].sum()\n",
    "\n",
    "\n",
    "\n",
    "    df['applied_threshold'] = df['threshold']\n",
    "    df.loc[df['applied_threshold']  > 1, 'applied_threshold'] = 1\n",
    "    df.loc[df['applied_threshold']  < t_min,'applied_threshold'] = 0\n",
    "\n",
    "    df['reimbursed'] = df['applied_threshold'] * df['meal']\n",
    "\n",
    "    df.loc[df['applied_threshold']  == 0,'reimbursed'] = -df['paidMeal']\n",
    "\n",
    "    return df\n",
    "\n",
    "\n",
    "def SR_simulated_annealing(cep, seed, ngroups = 10):\n",
    "    startTime = time.time()\n",
    "\n",
    "    # start by grouping schools randomly\n",
    "    np.random.seed(seed)\n",
    "    cep['group'] = pd.Series(np.random.randint(0,ngroups,size=cep.shape[0]))\n",
    "\n",
    "    # store the results in sa\n",
    "    sa=[]\n",
    "    sa.append(SR_calcReimburse(cep))\n",
    "\n",
    "    # mc loop\n",
    "    for T in np.arange(1,0,-.01):\n",
    "        for i in range(100):\n",
    "            \n",
    "            group_idx = cep.group.copy()\n",
    "            \n",
    "            # choose a random school and move it to a new random group\n",
    "            cep.iloc[np.random.randint(0,group_idx.shape[0]), cep.columns.get_loc('group')] = np.random.randint(0,ngroups)\n",
    "                                                                                   \n",
    "            # calculate the reimbursement\n",
    "            temp = SR_calcReimburse(cep)\n",
    "                                                                                        \n",
    "            #keep move if reimbursement increases\n",
    "            if (temp > sa[-1]):\n",
    "                sa.append(temp)\n",
    "            #maybe keep move if reimbursement decreases, depending on how much\n",
    "            elif (np.random.uniform() < np.exp((temp-sa[-1])/T)):\n",
    "                sa.append(temp)\n",
    "            else:\n",
    "                cep.group = group_idx # don't keep the change\n",
    "                \n",
    "    print sa[-1]\n",
    "    print 'time in h', (time.time() - startTime)/60.0/60.0\n",
    "    return sa , cep\n",
    "            \n",
    "\n",
    "\n",
    "\n"
   ]
  },
  {
   "cell_type": "code",
   "execution_count": 16,
   "metadata": {},
   "outputs": [
    {
     "name": "stdout",
     "output_type": "stream",
     "text": [
      "186320151.885\n",
      "time in h 0.0177671644423\n"
     ]
    }
   ],
   "source": [
    "cepSR = cep.copy().reset_index(drop = True)\n",
    "\n",
    "sa, cep_optimal = SR_simulated_annealing(cepSR, seed = 26)"
   ]
  },
  {
   "cell_type": "code",
   "execution_count": 19,
   "metadata": {},
   "outputs": [
    {
     "name": "stdout",
     "output_type": "stream",
     "text": [
      "187527875.83\n",
      "time in h 0.375762682226\n",
      "187307572.287\n",
      "time in h 0.376081315544\n",
      "187398323.334\n",
      "time in h 0.377237733006\n",
      "189508796.525\n",
      "time in h 0.378720792267\n"
     ]
    }
   ],
   "source": [
    "import multiprocessing as mp\n",
    "\n",
    "pool = mp.Pool(processes=4)\n",
    "\n",
    "seed = [26, 45, 123, 9]\n",
    "ngroups = [1, 10, 100, 1000]\n",
    "results = [pool.apply_async(SR_simulated_annealing, args = (cepSR,s,20)) for s in seed]\n",
    "\n",
    "results = [p.get() for p in results]\n"
   ]
  },
  {
   "cell_type": "markdown",
   "metadata": {},
   "source": [
    "## Original Method: Calculating Reimbursements based on school groupings"
   ]
  },
  {
   "cell_type": "code",
   "execution_count": 20,
   "metadata": {
    "collapsed": true
   },
   "outputs": [],
   "source": [
    "# all meals in the CEP program are reimbursed at a minimum at the paid rate\n",
    "baseReimburse = paidLunch*cep.Lunch.sum() + paidBreakfast*cep.Breakfast.sum()\n",
    "\n",
    "# reimbursements over the base, this is the part that's dependant on groupings\n",
    "def calcReimburse(df,result):\n",
    "    ''' \n",
    "    calculates the reimbur\n",
    "    sements per school. \n",
    "    Each row in df is a school.\n",
    "    Updates df 'threshold' and 'reimburse' columns.\n",
    "    Results stored in results list\n",
    "    ''' \n",
    "    # calc threshold.(can be >1)\n",
    "    for i in set(df.group):\n",
    "        df.loc[df.group == i,'threshold'] = groupThreshold(df[df.group==i])\n",
    "    \n",
    "    # based on threshold, calculate reimbursement for each row\n",
    "    # if threshold is less than t_min, set reimburse to 0\n",
    "    df['reimburse'] = df[['threshold','meal','paidMeal']].apply(reimburse,axis=1)\n",
    "\n",
    "    # store 'results' as a list of lists. \n",
    "    #     The inner lists 0th item saves info about the groupings,\n",
    "    #     the 1st item is the number of groups\n",
    "    #     the 2nd item is the reimbusement (above base reimbursement)\n",
    "    #     the 3rd item is whether or not the threshold has been met for the goups\n",
    "    #if df['threshold'].min() >= t_min:\n",
    "    #    result.append([df[['group','threshold','meal']].copy(),len(set(df.group)),\n",
    "    #                    df.reimburse.sum(),'threshold met'])\n",
    "    #else:\n",
    "    #    result.append([df[['group','threshold','meal']].copy(),len(set(df.group)),\n",
    "    #                   df.reimburse.sum(),'threshold not met'])\n",
    "    result.append(df.reimburse.sum())\n",
    "    return result\n",
    "\n",
    "def reimburse(x):\n",
    "    threshold,meal,paidMeal = x[0],x[1],x[2]\n",
    "    if threshold<t_min:\n",
    "        return -paidMeal\n",
    "    elif threshold>=1:\n",
    "        return meal\n",
    "    else:\n",
    "        return meal*threshold\n",
    "    \n",
    "def groupThreshold(df):\n",
    "    '''given a dataframe df, assuming all rows are in the same 'group', this calculates the\n",
    "    'threshold' for the full group'''\n",
    "    return (df['Identified'].sum()) / float(df['Enrollment'].sum())*multiplier\n",
    "\n",
    "def groupReimburse(df):\n",
    "    '''given a dataframe df, assuming all rows are in the same 'group', this calculates the\n",
    "    reimbursements for the full group.\n",
    "    includes a hard limit to meet minimum threshold'''\n",
    "    td = groupThreshold(df)\n",
    "    ml = df['meal'].sum()\n",
    "    pml = df['paidMeal'].sum()\n",
    "    return reimburse([td,ml,pml])\n",
    "\n",
    "def deltaReimburse(df,group1,group2):\n",
    "    '''difference in reimbursement with combining groups vs separate'''\n",
    "    df12 = df[(df['group'] == group1)|(df['group'] == group2)].copy()\n",
    "    r12 = groupReimburse(df12)\n",
    "\n",
    "    df1 = df[df['group'] == group1].copy()\n",
    "    r1 = groupReimburse(df1)\n",
    "     \n",
    "    df2 = df[df['group'] == group2].copy()\n",
    "    r2 = groupReimburse(df2)\n",
    "\n",
    "    return r12 - r1 - r2\n"
   ]
  },
  {
   "cell_type": "markdown",
   "metadata": {},
   "source": [
    "simulated annealing"
   ]
  },
  {
   "cell_type": "code",
   "execution_count": 25,
   "metadata": {
    "collapsed": true
   },
   "outputs": [],
   "source": [
    "\n",
    "\n",
    "def simulated_annealing(cep, seed, ngroups = 10):\n",
    "    cep.reset_index(inplace = True)  \n",
    "    startTime = time.time()\n",
    "\n",
    "    # start by grouping schools randomly\n",
    "    np.random.seed(seed)\n",
    "    cep['group'] = pd.Series(np.random.randint(0,ngroups,size=cep.shape[0]))\n",
    "\n",
    "    # store the results in sa\n",
    "    sa=[]\n",
    "    sa = calcReimburse(cep,sa)\n",
    "\n",
    "    # mc loop\n",
    "    for T in np.arange(1,0,-.01):\n",
    "        for i in range(100):\n",
    "            temp=[]\n",
    "            df=cep.copy()\n",
    "            # choose a random school and move it to a new random group\n",
    "            df.loc[np.random.randint(0,cep.shape[0]),'group'] = np.random.randint(0,ngroups)\n",
    "            # calculate the reimbursement\n",
    "            temp=calcReimburse(df,temp)\n",
    "            #keep move if reimbursement increases\n",
    "            if (temp[-1] > sa[-1]):\n",
    "                cep.group = df.group\n",
    "                sa.append(temp[-1])\n",
    "            #maybe keep move if reimbursement decreases, depending on how much\n",
    "            elif (np.random.uniform() < np.exp((temp[-1]-sa[-1])/T)):\n",
    "                cep.group = df.group\n",
    "                sa.append(temp[-1])\n",
    "\n",
    "\n",
    "    temp = calcReimburse(cep,temp)\n",
    "    print sa[-1]\n",
    "    print 'time in h', (time.time() - startTime)/60.0/60.0\n",
    "    return sa, cep\n",
    "\n"
   ]
  },
  {
   "cell_type": "code",
   "execution_count": 1,
   "metadata": {},
   "outputs": [
    {
     "ename": "NameError",
     "evalue": "name 'cep' is not defined",
     "output_type": "error",
     "traceback": [
      "\u001b[0;31m---------------------------------------------------------------------------\u001b[0m",
      "\u001b[0;31mNameError\u001b[0m                                 Traceback (most recent call last)",
      "\u001b[0;32m<ipython-input-1-d69bd5a18482>\u001b[0m in \u001b[0;36m<module>\u001b[0;34m()\u001b[0m\n\u001b[1;32m      1\u001b[0m \u001b[0;31m### comparison\u001b[0m\u001b[0;34m\u001b[0m\u001b[0;34m\u001b[0m\u001b[0m\n\u001b[1;32m      2\u001b[0m \u001b[0;34m\u001b[0m\u001b[0m\n\u001b[0;32m----> 3\u001b[0;31m \u001b[0mcep_DP\u001b[0m \u001b[0;34m=\u001b[0m \u001b[0mcep\u001b[0m\u001b[0;34m.\u001b[0m\u001b[0mcopy\u001b[0m\u001b[0;34m.\u001b[0m\u001b[0mreset_index\u001b[0m\u001b[0;34m(\u001b[0m\u001b[0;34m)\u001b[0m\u001b[0;34m\u001b[0m\u001b[0m\n\u001b[0m\u001b[1;32m      4\u001b[0m \u001b[0;34m\u001b[0m\u001b[0m\n\u001b[1;32m      5\u001b[0m \u001b[0msa_DP\u001b[0m \u001b[0;34m,\u001b[0m \u001b[0mcep_optimal_DP\u001b[0m \u001b[0;34m=\u001b[0m \u001b[0msimulated_annealing\u001b[0m\u001b[0;34m(\u001b[0m\u001b[0mcep\u001b[0m\u001b[0;34m,\u001b[0m\u001b[0mseed\u001b[0m\u001b[0;34m=\u001b[0m\u001b[0;36m26\u001b[0m\u001b[0;34m)\u001b[0m\u001b[0;34m\u001b[0m\u001b[0m\n",
      "\u001b[0;31mNameError\u001b[0m: name 'cep' is not defined"
     ]
    }
   ],
   "source": [
    "### comparison\n",
    "\n",
    "cep_DP = cep.copy.reset_index()\n",
    "\n",
    "sa_DP , cep_optimal_DP = simulated_annealing(cep,seed=26)"
   ]
  }
 ],
 "metadata": {
  "kernelspec": {
   "display_name": "Python 2",
   "language": "python",
   "name": "python2"
  },
  "language_info": {
   "codemirror_mode": {
    "name": "ipython",
    "version": 2
   },
   "file_extension": ".py",
   "mimetype": "text/x-python",
   "name": "python",
   "nbconvert_exporter": "python",
   "pygments_lexer": "ipython2",
   "version": "2.7.13"
  }
 },
 "nbformat": 4,
 "nbformat_minor": 1
}
