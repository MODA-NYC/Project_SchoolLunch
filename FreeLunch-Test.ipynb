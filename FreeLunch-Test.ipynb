{
 "cells": [
  {
   "cell_type": "markdown",
   "metadata": {},
   "source": [
    "# Free Lunch (there is such a thing!)\n",
    "Working with NYC DOE to develope a method to optimize school lunch and breakfast reimbursements from the federal and state government.\n",
    "\n",
    "###Overview\n",
    "The Community Eligibility Provision (CEP) is program aimed at streamlining reimbursement claims. It requires that participating schools provide universal breakfast and lunch service, where all meals are served at no cost to the students.\n",
    "\n",
    "###Reimbursement Rules:\n",
    "Schools get reimbursed at either the \"free\" rate or the \"paid\" rate for each meal. (Other programs have an additional \"reduced\" rate, but that does not apply here). The fraction of meals that get reimbursed at the \"free\" rate is determined by the group the school is enrolled under. This fraction we will call the $threshold$. The rest of the meals get reimbursed at the \"paid\" rate. \n",
    "\n",
    "At a minimum, the USDA covers the paid rate,$r_{lunch/breakfast,paid}$, for all meals.This includes total number of breakfasts for all schools $\\sum_{s}B_s$, and total number of lunches for all schools $\\sum_{s}L_s$. \n",
    "\n",
    "This $base$ reimbursement is independant of the groupings: \n",
    "$base = r_{lunch,paid} \\sum_{s}L_s + r_{breakfast,paid} \\sum_{s}B_s $.\n",
    "\n",
    "The total Reimbursement, $R$, is\n",
    "\n",
    "$\\begin{align}\n",
    "R = \\sum_{s} Min(1,threshold_s) [\\Delta r_{lunch} L_s  + \\Delta r_{breakfast} B_s] + base\n",
    "\\end{align}$\n",
    "\n",
    "> where \n",
    "> $\\begin{align}\n",
    "\\Delta r_{breakfast} &= r_{breakfast,free} - r_{breakfast,paid} \\\\\n",
    "\\Delta r_{lunch} &= r_{lunch,free} - r_{lunch,paid}\n",
    "\\end{align}$\n",
    "\n",
    "> and the $threshold_s$ for each school, $s$, is determined it's group, $g$. It is the fraction of \"identified students\" $I_s$ for all schools in the group $g$ to the total number of \"enrolled students\" $N_s$ for all schools in the group, multiplied by a constant. This constant is set by the USDA at 1.6 but may change in subsequent years. $I_s$ and $N_s$ are based on enrollment in the previous school year. \"Identified students\" are those deemed categorically eligible for free meals, primarily due to receiving some sort of public assistance benefit.\n",
    "\n",
    "> $\\begin{align}\n",
    "threshold_s =\\frac{ \\sum_{s\\in g} I_s} {\\sum_{s\\in g} N_s } * 1.6   \n",
    "\\end{align}$\n",
    "\n",
    "Before the school year begins, the groups are set and reported to the state.\n",
    "\n",
    "Reimbursements happen on a monthly basis after the school year begins.\n",
    "\n",
    "\n",
    "###Grouping Rules\n",
    "* All groups have to meet the minimum threshold: $threshold_{min} = 40\\% * 1.6 = 64\\%$\n",
    "* There can be at most 9 (?) groups\n",
    "\n",
    "###Objective\n",
    "Find the optimum groupings to maximize reimbursement, $R$."
   ]
  },
  {
   "cell_type": "code",
   "execution_count": 1,
   "metadata": {
    "collapsed": false
   },
   "outputs": [
    {
     "name": "stderr",
     "output_type": "stream",
     "text": [
      "/usr/local/lib/python2.7/dist-packages/matplotlib/font_manager.py:273: UserWarning: Matplotlib is building the font cache using fc-list. This may take a moment.\n",
      "  warnings.warn('Matplotlib is building the font cache using fc-list. This may take a moment.')\n"
     ]
    }
   ],
   "source": [
    "import pandas as pd\n",
    "import numpy as np\n",
    "import time\n",
    "import matplotlib.pyplot as plt\n",
    "%matplotlib inline \n",
    "plt.style.use('seaborn-poster')\n",
    "plt.style.use('fivethirtyeight')"
   ]
  },
  {
   "cell_type": "code",
   "execution_count": 2,
   "metadata": {
    "collapsed": true
   },
   "outputs": [],
   "source": [
    "#constants\n",
    "\n",
    "multiplier = 1.6\n",
    "\n",
    "# combined Federal and NY State meal reimbursement rates\n",
    "freeLunch = 3.2999\n",
    "paidLunch = 0.4399\n",
    "freeBreakfast = 2.1413\n",
    "paidBreakfast = 0.2923\n",
    "\n",
    "deltaLunchRate = freeLunch - paidLunch\n",
    "deltaBreakfastRate = freeBreakfast - paidBreakfast \n",
    "\n",
    "t_min = 0.40 * multiplier"
   ]
  },
  {
   "cell_type": "markdown",
   "metadata": {},
   "source": [
    "## Test data from DOE"
   ]
  },
  {
   "cell_type": "code",
   "execution_count": 3,
   "metadata": {
    "collapsed": false
   },
   "outputs": [
    {
     "name": "stdout",
     "output_type": "stream",
     "text": [
      "(1487, 5)\n"
     ]
    },
    {
     "data": {
      "text/html": [
       "<div>\n",
       "<table border=\"1\" class=\"dataframe\">\n",
       "  <thead>\n",
       "    <tr style=\"text-align: right;\">\n",
       "      <th></th>\n",
       "      <th>School</th>\n",
       "      <th>Enrollment</th>\n",
       "      <th>Identified</th>\n",
       "      <th>Breakfast</th>\n",
       "      <th>Lunch</th>\n",
       "    </tr>\n",
       "  </thead>\n",
       "  <tbody>\n",
       "    <tr>\n",
       "      <th>0</th>\n",
       "      <td>1019</td>\n",
       "      <td>268.0</td>\n",
       "      <td>114.0</td>\n",
       "      <td>13744.040323</td>\n",
       "      <td>32119.415317</td>\n",
       "    </tr>\n",
       "    <tr>\n",
       "      <th>1</th>\n",
       "      <td>1025</td>\n",
       "      <td>188.0</td>\n",
       "      <td>121.0</td>\n",
       "      <td>2660.633468</td>\n",
       "      <td>8954.467200</td>\n",
       "    </tr>\n",
       "    <tr>\n",
       "      <th>2</th>\n",
       "      <td>1034</td>\n",
       "      <td>348.0</td>\n",
       "      <td>262.0</td>\n",
       "      <td>18359.910484</td>\n",
       "      <td>39773.741129</td>\n",
       "    </tr>\n",
       "    <tr>\n",
       "      <th>3</th>\n",
       "      <td>1060</td>\n",
       "      <td>679.0</td>\n",
       "      <td>293.0</td>\n",
       "      <td>7340.885081</td>\n",
       "      <td>19996.654634</td>\n",
       "    </tr>\n",
       "    <tr>\n",
       "      <th>4</th>\n",
       "      <td>1061</td>\n",
       "      <td>291.0</td>\n",
       "      <td>99.0</td>\n",
       "      <td>4320.555242</td>\n",
       "      <td>25602.863216</td>\n",
       "    </tr>\n",
       "  </tbody>\n",
       "</table>\n",
       "</div>"
      ],
      "text/plain": [
       "   School  Enrollment  Identified     Breakfast         Lunch\n",
       "0    1019       268.0       114.0  13744.040323  32119.415317\n",
       "1    1025       188.0       121.0   2660.633468   8954.467200\n",
       "2    1034       348.0       262.0  18359.910484  39773.741129\n",
       "3    1060       679.0       293.0   7340.885081  19996.654634\n",
       "4    1061       291.0        99.0   4320.555242  25602.863216"
      ]
     },
     "execution_count": 3,
     "metadata": {},
     "output_type": "execute_result"
    }
   ],
   "source": [
    "# reading in data\n",
    "doe = pd.read_excel('Test Data for CEP Grouping.xlsx',sheetname=\"School Data\",header=2)\n",
    "doe.rename(columns={'Identified Student Count':'Identified'},inplace=True)\n",
    "print doe.shape\n",
    "doe.head()"
   ]
  },
  {
   "cell_type": "markdown",
   "metadata": {},
   "source": [
    "###Data Dictionary\n",
    "* School -  the school unique id\n",
    "* Enrollment - the total number of students enrolled at the school\n",
    "* Identified - the number of 'identified' students enrolled at the school. (should be less than Enrollment)\n",
    "* Breakfast - the projected annual number of meals served at the school.\n",
    "* Lunch - the projected annual number of breakfasts served at the school\n",
    "\n",
    "\n",
    "The Breakfast and Lunch columns are both pojected values by DOE. The actual numbers are not available until after the school year begins, after the groupings are already set.\n",
    "\n",
    "\n",
    "###Question on meal projections\n",
    "There are 180 days in a school year. Yet there are 21 schools serving more than 200 lunches in a school year and 5 serving more than 200 breakfasts. Perhaps this includes summer? \n",
    "\n",
    "There are about 260 weekdays per year. 4 schools have more than 260 lunches per student.  "
   ]
  },
  {
   "cell_type": "code",
   "execution_count": 4,
   "metadata": {
    "collapsed": false
   },
   "outputs": [
    {
     "data": {
      "text/plain": [
       "(34, 5)"
      ]
     },
     "execution_count": 4,
     "metadata": {},
     "output_type": "execute_result"
    }
   ],
   "source": [
    "# 34 schools have 0 enrollment. Not sure what this means. For now I'll drop them.\n",
    "doe[doe.Enrollment==0].shape"
   ]
  },
  {
   "cell_type": "code",
   "execution_count": 5,
   "metadata": {
    "collapsed": false
   },
   "outputs": [
    {
     "name": "stdout",
     "output_type": "stream",
     "text": [
      "number of schools with more than 180 lunches per student: 34\n",
      "count    1453.000000\n",
      "mean       94.770633\n",
      "std        45.258483\n",
      "min         0.000000\n",
      "25%        59.845391\n",
      "50%        95.510703\n",
      "75%       127.086483\n",
      "max       348.600914\n",
      "dtype: float64\n",
      "number of schools with more than 180 breakfasts per student: 8\n",
      "count    1453.000000\n",
      "mean       46.492607\n",
      "std        39.671440\n",
      "min         0.000000\n",
      "25%        16.926299\n",
      "50%        36.138271\n",
      "75%        62.974926\n",
      "max       259.759480\n",
      "dtype: float64\n"
     ]
    }
   ],
   "source": [
    "days=180\n",
    "df = doe[doe.Enrollment>0]\n",
    "lunchPerStudent = (df.Lunch/df.Enrollment)\n",
    "print 'number of schools with more than '+str(days)+' lunches per student:',lunchPerStudent[lunchPerStudent>days].shape[0]\n",
    "print lunchPerStudent.describe()\n",
    "\n",
    "bfPerStudent = (df.Breakfast/df.Enrollment)\n",
    "print 'number of schools with more than '+str(days)+' breakfasts per student:', bfPerStudent[bfPerStudent>days].shape[0]\n",
    "print bfPerStudent.describe()"
   ]
  },
  {
   "cell_type": "code",
   "execution_count": 6,
   "metadata": {
    "collapsed": false
   },
   "outputs": [
    {
     "name": "stdout",
     "output_type": "stream",
     "text": [
      "91.2768119568 40.0380279164\n"
     ]
    }
   ],
   "source": [
    "# meals per student per year\n",
    "df = doe[doe.Enrollment>0]\n",
    "print df.Lunch.sum()/df.Enrollment.sum(),df.Breakfast.sum()/df.Enrollment.sum()"
   ]
  },
  {
   "cell_type": "code",
   "execution_count": 12,
   "metadata": {
    "collapsed": false
   },
   "outputs": [
    {
     "name": "stdout",
     "output_type": "stream",
     "text": [
      "total number of students 726513.966002\n"
     ]
    }
   ],
   "source": [
    "print 'total number of students:', doe.Enrollment.sum()"
   ]
  },
  {
   "cell_type": "markdown",
   "metadata": {},
   "source": [
    "### CEP dataframe"
   ]
  },
  {
   "cell_type": "code",
   "execution_count": 13,
   "metadata": {
    "collapsed": false
   },
   "outputs": [
    {
     "data": {
      "text/plain": [
       "(1453, 5)"
      ]
     },
     "execution_count": 13,
     "metadata": {},
     "output_type": "execute_result"
    }
   ],
   "source": [
    "# assume only schools with >0 enrollment can be part of cep program.\n",
    "cep = doe[doe.Enrollment>0].copy()\n",
    "cep.shape"
   ]
  },
  {
   "cell_type": "code",
   "execution_count": 14,
   "metadata": {
    "collapsed": false
   },
   "outputs": [
    {
     "data": {
      "text/plain": [
       "count    1453.000000\n",
       "mean        0.475177\n",
       "std         0.209910\n",
       "min         0.000000\n",
       "25%         0.320847\n",
       "50%         0.490946\n",
       "75%         0.643182\n",
       "max         0.910165\n",
       "dtype: float64"
      ]
     },
     "execution_count": 14,
     "metadata": {},
     "output_type": "execute_result"
    }
   ],
   "source": [
    "# the number of identified students should always be less then the number of enrolled students,\n",
    "# checking this out to make sure\n",
    "(cep.Identified/cep.Enrollment).describe()"
   ]
  },
  {
   "cell_type": "code",
   "execution_count": 15,
   "metadata": {
    "collapsed": false
   },
   "outputs": [
    {
     "data": {
      "text/html": [
       "<div>\n",
       "<table border=\"1\" class=\"dataframe\">\n",
       "  <thead>\n",
       "    <tr style=\"text-align: right;\">\n",
       "      <th></th>\n",
       "      <th>School</th>\n",
       "      <th>Enrollment</th>\n",
       "      <th>Identified</th>\n",
       "      <th>Breakfast</th>\n",
       "      <th>Lunch</th>\n",
       "      <th>meal</th>\n",
       "      <th>mealPerStudent</th>\n",
       "      <th>baseThreshold</th>\n",
       "      <th>group</th>\n",
       "    </tr>\n",
       "  </thead>\n",
       "  <tbody>\n",
       "    <tr>\n",
       "      <th>0</th>\n",
       "      <td>1019</td>\n",
       "      <td>268.0</td>\n",
       "      <td>114.0</td>\n",
       "      <td>13744.040323</td>\n",
       "      <td>32119.415317</td>\n",
       "      <td>117274.258362</td>\n",
       "      <td>437.590516</td>\n",
       "      <td>0.680597</td>\n",
       "      <td>0</td>\n",
       "    </tr>\n",
       "    <tr>\n",
       "      <th>1</th>\n",
       "      <td>1025</td>\n",
       "      <td>188.0</td>\n",
       "      <td>121.0</td>\n",
       "      <td>2660.633468</td>\n",
       "      <td>8954.467200</td>\n",
       "      <td>30529.287474</td>\n",
       "      <td>162.389827</td>\n",
       "      <td>1.029787</td>\n",
       "      <td>0</td>\n",
       "    </tr>\n",
       "    <tr>\n",
       "      <th>2</th>\n",
       "      <td>1034</td>\n",
       "      <td>348.0</td>\n",
       "      <td>262.0</td>\n",
       "      <td>18359.910484</td>\n",
       "      <td>39773.741129</td>\n",
       "      <td>147700.374114</td>\n",
       "      <td>424.426362</td>\n",
       "      <td>1.204598</td>\n",
       "      <td>0</td>\n",
       "    </tr>\n",
       "    <tr>\n",
       "      <th>3</th>\n",
       "      <td>1060</td>\n",
       "      <td>679.0</td>\n",
       "      <td>293.0</td>\n",
       "      <td>7340.885081</td>\n",
       "      <td>19996.654634</td>\n",
       "      <td>70763.728769</td>\n",
       "      <td>104.217568</td>\n",
       "      <td>0.690427</td>\n",
       "      <td>0</td>\n",
       "    </tr>\n",
       "    <tr>\n",
       "      <th>4</th>\n",
       "      <td>1061</td>\n",
       "      <td>291.0</td>\n",
       "      <td>99.0</td>\n",
       "      <td>4320.555242</td>\n",
       "      <td>25602.863216</td>\n",
       "      <td>81212.895439</td>\n",
       "      <td>279.082115</td>\n",
       "      <td>0.544330</td>\n",
       "      <td>0</td>\n",
       "    </tr>\n",
       "  </tbody>\n",
       "</table>\n",
       "</div>"
      ],
      "text/plain": [
       "   School  Enrollment  Identified     Breakfast         Lunch           meal  \\\n",
       "0    1019       268.0       114.0  13744.040323  32119.415317  117274.258362   \n",
       "1    1025       188.0       121.0   2660.633468   8954.467200   30529.287474   \n",
       "2    1034       348.0       262.0  18359.910484  39773.741129  147700.374114   \n",
       "3    1060       679.0       293.0   7340.885081  19996.654634   70763.728769   \n",
       "4    1061       291.0        99.0   4320.555242  25602.863216   81212.895439   \n",
       "\n",
       "   mealPerStudent  baseThreshold  group  \n",
       "0      437.590516       0.680597      0  \n",
       "1      162.389827       1.029787      0  \n",
       "2      424.426362       1.204598      0  \n",
       "3      104.217568       0.690427      0  \n",
       "4      279.082115       0.544330      0  "
      ]
     },
     "execution_count": 15,
     "metadata": {},
     "output_type": "execute_result"
    }
   ],
   "source": [
    "# define a few more columns that are useful.\n",
    "# 'meal' is the max reimbursement of meals per year for each school.\n",
    "# 'mealPerStudent' is the max per student.\n",
    "# 'baseThreshold' is the threshold of the school if it is not grouped.\n",
    "# 'group' will hold the integer name of the group the school belongs too. initally set a single group.\n",
    "\n",
    "cep['meal'] = deltaLunchRate*cep['Lunch'] + deltaBreakfastRate*cep['Breakfast']\n",
    "cep['mealPerStudent'] = cep['meal']/cep['Enrollment']\n",
    "cep['baseThreshold'] = cep['Identified']/cep['Enrollment']*multiplier\n",
    "cep['group'] = 0\n",
    "\n",
    "cep.head()"
   ]
  },
  {
   "cell_type": "markdown",
   "metadata": {},
   "source": [
    "## To group or Not to group?\n",
    "\n",
    "####Constraints\n",
    "The minimum threshold constraint of 64% has to be met. So any schools less than that, have to be grouped with schools with larger base thresholds. Any schools with base thresholds greater than 100% should be grouped with schools with smaller base thresholds in order to increase their effectiveness (since there is a cut off over 100%. Any group with a threshold over 100% can be viewed as an inefficiency.\n",
    "\n",
    "####Grouping with the threshold limits\n",
    "For schools within these limits (64%-100%), there still may be a benefit to grouping depending on their projected meal count. The overall idea is to get those schools with the largest meal counts to increase their thresholds. \n",
    "\n",
    "Let's look at the difference in reimbursements between grouping two schools together and keeping them separate:\n",
    "\n",
    "$\\begin{align}\n",
    "\\Delta R_{12} \\equiv R_{12} - (R_1 + R_2)\n",
    "\\end{align}$\n",
    "\n",
    "$R_{12}$ is the reimbursement when school 1 and 2 are grouped together. $R_1+R_2$ is the reimbursement when they are separate. Assume the thresholds for 1 and 2 are both between the limits (64%-100%). \n",
    "\n",
    "After some algebra:\n",
    "\n",
    "$\\begin{align}\n",
    "\\Delta R_{12} =  (threshold_2 - threshold_1)(m_1 - m_2)\\frac{N_1 N_2}{N_1 + N_2}\n",
    "\\end{align}$\n",
    "\n",
    "> where $m_i$ is the potential meal cost increase per student (mealPerStudent):\n",
    "\n",
    "> $\\begin{align}\n",
    "\\qquad m_i = \\frac{\\Delta r_{lunch} L_i + \\Delta r_{breakfast} B_i}{N_i} \\textrm{   for   } i=1,2\n",
    "\\end{align}$\n",
    "\n",
    "\n",
    "* If $\\Delta R_{12} = 0$ then the reimbursement is the same whether or not you group the schools. This happens when the thresholds for the two schools are equal or the mealsPerStudent are equal.\n",
    "\n",
    "\n",
    "* If $\\Delta R_{12} > 0$ then the schools should be combined. This happens in 2 cases: \n",
    "\n",
    "$\\begin{align}\n",
    "\\qquad (threshold_1 < threshold_2) &\\textrm{ AND } (m_1 > m_2) \\\\\n",
    "&\\textrm{ OR} \\\\\n",
    "\\qquad (threshold_1 > threshold_2) &\\textrm{ AND } (m_1 < m_2)\n",
    "\\end{align}$\n",
    "\n",
    "## Plotting out what this looks like with the DOE data"
   ]
  },
  {
   "cell_type": "code",
   "execution_count": 16,
   "metadata": {
    "collapsed": false
   },
   "outputs": [
    {
     "data": {
      "text/plain": [
       "[<matplotlib.lines.Line2D at 0x7f52cb12b450>]"
      ]
     },
     "execution_count": 16,
     "metadata": {},
     "output_type": "execute_result"
    },
    {
     "data": {
      "image/png": "[encoded data removed]",
      "text/plain": [
       "<matplotlib.figure.Figure at 0x7f52cb1e8e50>"
      ]
     },
     "metadata": {},
     "output_type": "display_data"
    }
   ],
   "source": [
    "ax=cep.plot.scatter(x='baseThreshold',y='mealPerStudent')\n",
    "\n",
    "ax.annotate('group', xy=(.83, 980), xytext=(.9, 1100),\n",
    "            arrowprops=dict(facecolor='black', shrink=0.02))\n",
    "ax.annotate('', xy=(.94, 780), xytext=(.9, 1100),\n",
    "            arrowprops=dict(facecolor='black', shrink=0.02))\n",
    "\n",
    "ax.annotate('dont group', xy=(.65, 550), xytext=(.6, 690),\n",
    "            arrowprops=dict(facecolor='black', shrink=0.02))\n",
    "ax.annotate('', xy=(.75, 600), xytext=(.68, 670),\n",
    "            arrowprops=dict(facecolor='black', shrink=0.02))\n",
    "plt.plot([t_min,t_min],[0,1000],'r-',lw=2)\n",
    "plt.plot([1,1],[0,1000],'r-',lw=2)"
   ]
  },
  {
   "cell_type": "code",
   "execution_count": 17,
   "metadata": {
    "collapsed": false
   },
   "outputs": [
    {
     "name": "stdout",
     "output_type": "stream",
     "text": [
      "(53, 9)\n"
     ]
    },
    {
     "data": {
      "text/plain": [
       "<matplotlib.axes._subplots.AxesSubplot at 0x7f52cb21ba10>"
      ]
     },
     "execution_count": 17,
     "metadata": {},
     "output_type": "execute_result"
    },
    {
     "data": {
      "image/png": "[encoded data removed]",
      "text/plain": [
       "<matplotlib.figure.Figure at 0x7f52cb21b990>"
      ]
     },
     "metadata": {},
     "output_type": "display_data"
    }
   ],
   "source": [
    "print cep[cep.Enrollment<50].shape\n",
    "cep[cep.Enrollment<50].plot.scatter(x='baseThreshold',y='mealPerStudent',\n",
    "                                    title='schools with less than 50 students')"
   ]
  },
  {
   "cell_type": "markdown",
   "metadata": {},
   "source": [
    "For schools with less students, the meal projections are probably not very accurate."
   ]
  },
  {
   "cell_type": "markdown",
   "metadata": {},
   "source": [
    "## Calculating Reimbursements based on school groupings"
   ]
  },
  {
   "cell_type": "code",
   "execution_count": 18,
   "metadata": {
    "collapsed": false
   },
   "outputs": [],
   "source": [
    "# all meals are reimbursed at a minimum at the paid rate\n",
    "# the base reimbursement is independant of groupings and is equal to \n",
    "# the lowest reimbursements rates (i.e. \"paid\" rates) times the total number of each meal\n",
    "baseReimburse = paidLunch*cep.Lunch.sum() + paidBreakfast*cep.Breakfast.sum()\n",
    "\n",
    "# reimbursements over the base, this is the part that's dependant on groupings\n",
    "def calcReimburse(df,result):\n",
    "    ''' \n",
    "    calculates the reimbursements per school. \n",
    "    Each row in df is a school.\n",
    "    Updates df 'threshold' and 'reimburse' columns.\n",
    "    Results stored in results list\n",
    "    ''' \n",
    "    # calc threshold.(can be >1)\n",
    "    for i in set(df.group):\n",
    "        df.loc[df.group == i,'threshold'] = groupThreshold(df[df.group==i])\n",
    "    \n",
    "    # based on threshold, calculate reimbursement for each row\n",
    "    # if threshold is less than t_min, set reimburse to 0\n",
    "    df['reimburse'] = df['meal']*(df['threshold'].apply(lambda x: (x>=t_min)*min(x,1)))\n",
    "\n",
    "    # store 'results' as a list of lists. \n",
    "    #     The inner lists 0th item saves info about the groupings,\n",
    "    #     the 1st item is the number of groups\n",
    "    #     the 2nd item is the reimbusement (above base reimbursement)\n",
    "    #     the 3rd item is whether or not the threshold has been met for the goups\n",
    "    if df['threshold'].min() >= t_min:\n",
    "        result.append([df[['group','threshold','meal']].copy(),len(set(df.group)),\n",
    "                        df.reimburse.sum(),'threshold met'])\n",
    "    else:\n",
    "        result.append([df[['group','threshold','meal']].copy(),len(set(df.group)),\n",
    "                       df.reimburse.sum(),'threshold not met'])\n",
    "    return result\n",
    "\n",
    "def groupThreshold(df):\n",
    "    '''given a dataframe df, assuming all rows are in the same 'group', this calculates the\n",
    "    'threshold' for the full group'''\n",
    "    return (df['Identified'].sum()) / float(df['Enrollment'].sum())*multiplier\n",
    "\n",
    "def groupReimburse(df):\n",
    "    '''given a dataframe df, assuming all rows are in the same 'group', this calculates the\n",
    "    reimbursements for the full group.\n",
    "    includes a hard limit to meet minimum threshold'''\n",
    "    td = groupThreshold(df)\n",
    "    ml = df['meal'].sum()\n",
    "    if td>=t_min:\n",
    "        return (ml)*min(td,1)\n",
    "    else:\n",
    "        return 0.0\n",
    "\n",
    "def deltaReimburse(df,group1,group2):\n",
    "    '''difference in reimbursement with combining groups vs separate'''\n",
    "    df12 = df[(df['group'] == group1)|(df['group'] == group2)].copy()\n",
    "    r12 = groupReimburse(df12)\n",
    "\n",
    "    df1 = df[df['group'] == group1].copy()\n",
    "    r1 = groupReimburse(df1)\n",
    "     \n",
    "    df2 = df[df['group'] == group2].copy()\n",
    "    r2 = groupReimburse(df2)\n",
    "\n",
    "    return r12 - r1 - r2\n"
   ]
  },
  {
   "cell_type": "code",
   "execution_count": 39,
   "metadata": {
    "collapsed": false
   },
   "outputs": [
    {
     "name": "stdout",
     "output_type": "stream",
     "text": [
      " base reimbursement (all schools reimbursed at paid rate): 3.767395e+07\n",
      "\n",
      " if all schools were reimbursed at 100% threshold (all at free rate)\n",
      "then this is the additional reimbursment: 2.434417e+08\n"
     ]
    }
   ],
   "source": [
    "print ' base reimbursement (all schools reimbursed at paid rate):',\"{:e}\".format(baseReimburse)\n",
    "\n",
    "print '\\n if all schools were reimbursed at 100% threshold (all at free rate)\\n\\\n",
    "then this is the additional reimbursment:','{:e}'.format(cep.meal.sum())"
   ]
  },
  {
   "cell_type": "code",
   "execution_count": null,
   "metadata": {
    "collapsed": true
   },
   "outputs": [],
   "source": []
  },
  {
   "cell_type": "code",
   "execution_count": 40,
   "metadata": {
    "collapsed": false
   },
   "outputs": [
    {
     "data": {
      "text/plain": [
       "(100, 10)"
      ]
     },
     "execution_count": 40,
     "metadata": {},
     "output_type": "execute_result"
    }
   ],
   "source": [
    "# testing with a smaller set of schools\n",
    "cep = cep.sample(100)\n",
    "cep.reset_index(inplace=True)\n",
    "cep.shape"
   ]
  },
  {
   "cell_type": "code",
   "execution_count": 41,
   "metadata": {
    "collapsed": false
   },
   "outputs": [
    {
     "data": {
      "text/plain": [
       "<matplotlib.axes._subplots.AxesSubplot at 0x7f52c6808f50>"
      ]
     },
     "execution_count": 41,
     "metadata": {},
     "output_type": "execute_result"
    },
    {
     "data": {
      "image/png": "[encoded data removed]",
      "text/plain": [
       "<matplotlib.figure.Figure at 0x7f52c6808a50>"
      ]
     },
     "metadata": {},
     "output_type": "display_data"
    }
   ],
   "source": [
    "cep.plot.scatter(x='baseThreshold',y='mealPerStudent',title='sample of 100 schools')"
   ]
  },
  {
   "cell_type": "code",
   "execution_count": 43,
   "metadata": {
    "collapsed": false
   },
   "outputs": [
    {
     "name": "stdout",
     "output_type": "stream",
     "text": [
      "\n",
      " if all schools were reimbursed at 100% threshold (all at free rate)\n",
      "then this is the additional reimbursment: 1.669864e+07\n"
     ]
    }
   ],
   "source": [
    "print '\\n if all schools were reimbursed at 100% threshold (all at free rate)\\n\\\n",
    "then this is the additional reimbursment:','{:e}'.format(cep.meal.sum())"
   ]
  },
  {
   "cell_type": "code",
   "execution_count": 44,
   "metadata": {
    "collapsed": false,
    "scrolled": true
   },
   "outputs": [
    {
     "data": {
      "text/plain": [
       "[100, 8284829.0051301671, 'threshold not met']"
      ]
     },
     "execution_count": 44,
     "metadata": {},
     "output_type": "execute_result"
    }
   ],
   "source": [
    "#initializing results as a list. This is where the groupings and reimbursements will be stored\n",
    "results = []\n",
    "tempResults = [] #throw away results\n",
    "\n",
    "# this implementation of threshold only for each school separately\n",
    "# each school is it's own group to start with\n",
    "cep['group']=cep.index\n",
    "results = calcReimburse(cep, results)\n",
    "#print out latest result: number of groups, reimbursement, and threshold met\n",
    "results[-1][1:]\n"
   ]
  },
  {
   "cell_type": "code",
   "execution_count": 45,
   "metadata": {
    "collapsed": false
   },
   "outputs": [
    {
     "data": {
      "text/html": [
       "<div>\n",
       "<table border=\"1\" class=\"dataframe\">\n",
       "  <thead>\n",
       "    <tr style=\"text-align: right;\">\n",
       "      <th></th>\n",
       "      <th>index</th>\n",
       "      <th>School</th>\n",
       "      <th>Enrollment</th>\n",
       "      <th>Identified</th>\n",
       "      <th>Breakfast</th>\n",
       "      <th>Lunch</th>\n",
       "      <th>meal</th>\n",
       "      <th>mealPerStudent</th>\n",
       "      <th>baseThreshold</th>\n",
       "      <th>group</th>\n",
       "      <th>threshold</th>\n",
       "      <th>reimburse</th>\n",
       "    </tr>\n",
       "  </thead>\n",
       "  <tbody>\n",
       "    <tr>\n",
       "      <th>0</th>\n",
       "      <td>356</td>\n",
       "      <td>7850</td>\n",
       "      <td>273.5</td>\n",
       "      <td>185.0</td>\n",
       "      <td>20115.004839</td>\n",
       "      <td>37475.603226</td>\n",
       "      <td>144372.869173</td>\n",
       "      <td>527.871551</td>\n",
       "      <td>1.082267</td>\n",
       "      <td>0</td>\n",
       "      <td>1.082267</td>\n",
       "      <td>144372.869173</td>\n",
       "    </tr>\n",
       "    <tr>\n",
       "      <th>1</th>\n",
       "      <td>512</td>\n",
       "      <td>10553</td>\n",
       "      <td>533.0</td>\n",
       "      <td>335.0</td>\n",
       "      <td>13643.269355</td>\n",
       "      <td>24474.748790</td>\n",
       "      <td>95224.186577</td>\n",
       "      <td>178.657010</td>\n",
       "      <td>1.005629</td>\n",
       "      <td>1</td>\n",
       "      <td>1.005629</td>\n",
       "      <td>95224.186577</td>\n",
       "    </tr>\n",
       "    <tr>\n",
       "      <th>2</th>\n",
       "      <td>614</td>\n",
       "      <td>12388</td>\n",
       "      <td>461.0</td>\n",
       "      <td>207.0</td>\n",
       "      <td>13970.775000</td>\n",
       "      <td>44971.162579</td>\n",
       "      <td>154449.487950</td>\n",
       "      <td>335.031427</td>\n",
       "      <td>0.718438</td>\n",
       "      <td>2</td>\n",
       "      <td>0.718438</td>\n",
       "      <td>110962.408696</td>\n",
       "    </tr>\n",
       "    <tr>\n",
       "      <th>3</th>\n",
       "      <td>726</td>\n",
       "      <td>14850</td>\n",
       "      <td>401.0</td>\n",
       "      <td>207.0</td>\n",
       "      <td>2032.214516</td>\n",
       "      <td>17265.221214</td>\n",
       "      <td>53136.097313</td>\n",
       "      <td>132.508971</td>\n",
       "      <td>0.825935</td>\n",
       "      <td>3</td>\n",
       "      <td>0.825935</td>\n",
       "      <td>43886.971147</td>\n",
       "    </tr>\n",
       "    <tr>\n",
       "      <th>4</th>\n",
       "      <td>564</td>\n",
       "      <td>11508</td>\n",
       "      <td>431.0</td>\n",
       "      <td>237.0</td>\n",
       "      <td>8312.205242</td>\n",
       "      <td>21906.141853</td>\n",
       "      <td>78020.833192</td>\n",
       "      <td>181.022815</td>\n",
       "      <td>0.879814</td>\n",
       "      <td>4</td>\n",
       "      <td>0.879814</td>\n",
       "      <td>68643.851384</td>\n",
       "    </tr>\n",
       "  </tbody>\n",
       "</table>\n",
       "</div>"
      ],
      "text/plain": [
       "   index  School  Enrollment  Identified     Breakfast         Lunch  \\\n",
       "0    356    7850       273.5       185.0  20115.004839  37475.603226   \n",
       "1    512   10553       533.0       335.0  13643.269355  24474.748790   \n",
       "2    614   12388       461.0       207.0  13970.775000  44971.162579   \n",
       "3    726   14850       401.0       207.0   2032.214516  17265.221214   \n",
       "4    564   11508       431.0       237.0   8312.205242  21906.141853   \n",
       "\n",
       "            meal  mealPerStudent  baseThreshold  group  threshold  \\\n",
       "0  144372.869173      527.871551       1.082267      0   1.082267   \n",
       "1   95224.186577      178.657010       1.005629      1   1.005629   \n",
       "2  154449.487950      335.031427       0.718438      2   0.718438   \n",
       "3   53136.097313      132.508971       0.825935      3   0.825935   \n",
       "4   78020.833192      181.022815       0.879814      4   0.879814   \n",
       "\n",
       "       reimburse  \n",
       "0  144372.869173  \n",
       "1   95224.186577  \n",
       "2  110962.408696  \n",
       "3   43886.971147  \n",
       "4   68643.851384  "
      ]
     },
     "execution_count": 45,
     "metadata": {},
     "output_type": "execute_result"
    }
   ],
   "source": [
    "cep.head()"
   ]
  },
  {
   "cell_type": "code",
   "execution_count": 46,
   "metadata": {
    "collapsed": false,
    "scrolled": true
   },
   "outputs": [
    {
     "data": {
      "text/plain": [
       "'1.15e+07'"
      ]
     },
     "execution_count": 46,
     "metadata": {},
     "output_type": "execute_result"
    }
   ],
   "source": [
    "# put all schools in one group and calculate reimbursements\n",
    "cep['group']=0\n",
    "calcReimburse(cep, results)\n",
    "\"{:.2e}\".format(results[-1][2])"
   ]
  },
  {
   "cell_type": "code",
   "execution_count": 47,
   "metadata": {
    "collapsed": false,
    "scrolled": true
   },
   "outputs": [
    {
     "data": {
      "text/plain": [
       "311.07234598435133"
      ]
     },
     "execution_count": 47,
     "metadata": {},
     "output_type": "execute_result"
    }
   ],
   "source": [
    "# if every meal were reimbursed at the free rate, this is the number of dollars per student\n",
    "# would be spent above the base (paid) rate. \n",
    "m0=cep.meal.sum()/cep.Enrollment.sum()\n",
    "m0"
   ]
  },
  {
   "cell_type": "code",
   "execution_count": 48,
   "metadata": {
    "collapsed": false
   },
   "outputs": [
    {
     "name": "stdout",
     "output_type": "stream",
     "text": [
      "saved 3.26E+06\n",
      "max 1\n",
      "min 0\n"
     ]
    }
   ],
   "source": [
    "possReimb = [x[2] for x in results]\n",
    "print 'saved', \"{:.2E}\".format(max(possReimb)-min(possReimb))\n",
    "print 'max', possReimb.index(max(possReimb))\n",
    "print 'min', possReimb.index(min(possReimb))"
   ]
  },
  {
   "cell_type": "code",
   "execution_count": 21,
   "metadata": {
    "collapsed": false
   },
   "outputs": [],
   "source": [
    "# random\n",
    "#numberOfGroups = 5\n",
    "#school['group'] = school[:numberOfGroups].sample(school.shape[0],replace=True).index\n",
    "#results = calcReimburse(school, results)"
   ]
  },
  {
   "cell_type": "markdown",
   "metadata": {},
   "source": [
    "## Method 1: Grouping by two"
   ]
  },
  {
   "cell_type": "code",
   "execution_count": 49,
   "metadata": {
    "collapsed": false,
    "scrolled": true
   },
   "outputs": [
    {
     "name": "stdout",
     "output_type": "stream",
     "text": [
      "26.2310490608\n"
     ]
    },
    {
     "data": {
      "text/html": [
       "<div>\n",
       "<table border=\"1\" class=\"dataframe\">\n",
       "  <thead>\n",
       "    <tr style=\"text-align: right;\">\n",
       "      <th></th>\n",
       "      <th>0</th>\n",
       "      <th>1</th>\n",
       "      <th>2</th>\n",
       "      <th>5</th>\n",
       "      <th>8</th>\n",
       "      <th>12</th>\n",
       "      <th>87</th>\n",
       "      <th>88</th>\n",
       "    </tr>\n",
       "  </thead>\n",
       "  <tbody>\n",
       "    <tr>\n",
       "      <th>0</th>\n",
       "      <td>0</td>\n",
       "      <td>-36433.740653</td>\n",
       "      <td>-128736.404598</td>\n",
       "      <td>-11709.763077</td>\n",
       "      <td>-17961.734014</td>\n",
       "      <td>-12586.294150</td>\n",
       "      <td>-9820.056451</td>\n",
       "      <td>-64827.512882</td>\n",
       "    </tr>\n",
       "    <tr>\n",
       "      <th>1</th>\n",
       "      <td>0</td>\n",
       "      <td>0.000000</td>\n",
       "      <td>-22170.005830</td>\n",
       "      <td>-81505.141352</td>\n",
       "      <td>-11.242808</td>\n",
       "      <td>-54742.407948</td>\n",
       "      <td>-2732.593635</td>\n",
       "      <td>-28048.892447</td>\n",
       "    </tr>\n",
       "    <tr>\n",
       "      <th>2</th>\n",
       "      <td>0</td>\n",
       "      <td>0.000000</td>\n",
       "      <td>0.000000</td>\n",
       "      <td>-180662.403456</td>\n",
       "      <td>-6316.728172</td>\n",
       "      <td>-97188.262560</td>\n",
       "      <td>-31.866630</td>\n",
       "      <td>-12788.730314</td>\n",
       "    </tr>\n",
       "    <tr>\n",
       "      <th>5</th>\n",
       "      <td>0</td>\n",
       "      <td>0.000000</td>\n",
       "      <td>0.000000</td>\n",
       "      <td>0.000000</td>\n",
       "      <td>-2728.072064</td>\n",
       "      <td>-959.269047</td>\n",
       "      <td>-15892.749388</td>\n",
       "      <td>-95140.913006</td>\n",
       "    </tr>\n",
       "    <tr>\n",
       "      <th>8</th>\n",
       "      <td>0</td>\n",
       "      <td>0.000000</td>\n",
       "      <td>0.000000</td>\n",
       "      <td>0.000000</td>\n",
       "      <td>0.000000</td>\n",
       "      <td>-41854.844588</td>\n",
       "      <td>-2299.298026</td>\n",
       "      <td>-20123.825904</td>\n",
       "    </tr>\n",
       "    <tr>\n",
       "      <th>12</th>\n",
       "      <td>0</td>\n",
       "      <td>0.000000</td>\n",
       "      <td>0.000000</td>\n",
       "      <td>0.000000</td>\n",
       "      <td>0.000000</td>\n",
       "      <td>0.000000</td>\n",
       "      <td>-138.815391</td>\n",
       "      <td>-16317.762321</td>\n",
       "    </tr>\n",
       "    <tr>\n",
       "      <th>87</th>\n",
       "      <td>0</td>\n",
       "      <td>0.000000</td>\n",
       "      <td>0.000000</td>\n",
       "      <td>0.000000</td>\n",
       "      <td>0.000000</td>\n",
       "      <td>0.000000</td>\n",
       "      <td>0.000000</td>\n",
       "      <td>0.000000</td>\n",
       "    </tr>\n",
       "    <tr>\n",
       "      <th>88</th>\n",
       "      <td>0</td>\n",
       "      <td>0.000000</td>\n",
       "      <td>0.000000</td>\n",
       "      <td>0.000000</td>\n",
       "      <td>0.000000</td>\n",
       "      <td>0.000000</td>\n",
       "      <td>0.000000</td>\n",
       "      <td>0.000000</td>\n",
       "    </tr>\n",
       "  </tbody>\n",
       "</table>\n",
       "</div>"
      ],
      "text/plain": [
       "    0             1              2              5             8   \\\n",
       "0    0 -36433.740653 -128736.404598  -11709.763077 -17961.734014   \n",
       "1    0      0.000000  -22170.005830  -81505.141352    -11.242808   \n",
       "2    0      0.000000       0.000000 -180662.403456  -6316.728172   \n",
       "5    0      0.000000       0.000000       0.000000  -2728.072064   \n",
       "8    0      0.000000       0.000000       0.000000      0.000000   \n",
       "12   0      0.000000       0.000000       0.000000      0.000000   \n",
       "87   0      0.000000       0.000000       0.000000      0.000000   \n",
       "88   0      0.000000       0.000000       0.000000      0.000000   \n",
       "\n",
       "              12            87            88  \n",
       "0  -12586.294150  -9820.056451 -64827.512882  \n",
       "1  -54742.407948  -2732.593635 -28048.892447  \n",
       "2  -97188.262560    -31.866630 -12788.730314  \n",
       "5    -959.269047 -15892.749388 -95140.913006  \n",
       "8  -41854.844588  -2299.298026 -20123.825904  \n",
       "12      0.000000   -138.815391 -16317.762321  \n",
       "87      0.000000      0.000000      0.000000  \n",
       "88      0.000000      0.000000      0.000000  "
      ]
     },
     "execution_count": 49,
     "metadata": {},
     "output_type": "execute_result"
    }
   ],
   "source": [
    "#initialize deltaR\n",
    "cep['group']=cep.index\n",
    "tempResults=[]\n",
    "tempResults = calcReimburse(cep,tempResults)\n",
    "index = list(set(cep.group))\n",
    "deltaR = pd.DataFrame(0,columns=index,index=index)\n",
    "\n",
    "startTime = time.time()\n",
    "for i in index:\n",
    "    for j in index:\n",
    "        if i < j: #can probably optimize this\n",
    "            deltaR.loc[i,j] = deltaReimburse(cep,i,j)\n",
    "\n",
    "midTime = time.time()\n",
    "\n",
    "while (deltaR.values.max() > 0):\n",
    "    # the max value of deltaR, if it's >0, determines the groups to be combined\n",
    "    # if max is <=0 then no further combination will increase reimbursements\n",
    "    \n",
    "    # the index and column location of the max value\n",
    "    indLoc = np.where(deltaR == deltaR.values.max())[0][0] \n",
    "    colLoc = np.where(deltaR == deltaR.values.max())[1][0]\n",
    "    \n",
    "    # the index location corresponds to the first group, the column location to the second group\n",
    "    # note the firstGroup number is smaller than the secondGroup.\n",
    "    firstGroup = index[indLoc]\n",
    "    secondGroup = index[colLoc]\n",
    "    \n",
    "    #drop the row/col of the second group in deltaR (it will be combined with the first group)\n",
    "    deltaR.drop(secondGroup,axis=0, inplace=True)\n",
    "    deltaR.drop(secondGroup,axis=1,inplace=True)\n",
    "    \n",
    "    #combining groups in the school df\n",
    "    cep.loc[cep.group==secondGroup,'group']=firstGroup\n",
    "    \n",
    "    #reset index\n",
    "    index = list(set(cep.group))\n",
    "    #loop through the row of deltaR corresponding to the new grouping\n",
    "    for i in index:\n",
    "        if i>firstGroup:\n",
    "            deltaR.loc[firstGroup,i] = deltaReimburse(cep,firstGroup,i)\n",
    "\n",
    "endTime = time.time()\n",
    "print endTime - startTime\n",
    "results = calcReimburse(cep, results)\n",
    "deltaR"
   ]
  },
  {
   "cell_type": "code",
   "execution_count": 50,
   "metadata": {
    "collapsed": false
   },
   "outputs": [
    {
     "name": "stdout",
     "output_type": "stream",
     "text": [
      "saved 3.58E+06\n",
      "max 2\n",
      "min 0\n"
     ]
    }
   ],
   "source": [
    "possReimb = [x[2] for x in results]\n",
    "print 'saved', \"{:.2E}\".format(max(possReimb)-min(possReimb))\n",
    "print 'max', possReimb.index(max(possReimb))\n",
    "print 'min', possReimb.index(min(possReimb))"
   ]
  },
  {
   "cell_type": "code",
   "execution_count": 51,
   "metadata": {
    "collapsed": false
   },
   "outputs": [
    {
     "data": {
      "text/plain": [
       "[[100, 8284829.0051301671, 'threshold not met'],\n",
       " [1, 11545411.635049185, 'threshold met'],\n",
       " [8, 11860301.749057785, 'threshold not met']]"
      ]
     },
     "execution_count": 51,
     "metadata": {},
     "output_type": "execute_result"
    }
   ],
   "source": [
    "[x[1:] for x in results]"
   ]
  },
  {
   "cell_type": "code",
   "execution_count": 52,
   "metadata": {
    "collapsed": false
   },
   "outputs": [
    {
     "data": {
      "image/png": "[encoded data removed]",
      "text/plain": [
       "<matplotlib.figure.Figure at 0x7f52c6707710>"
      ]
     },
     "metadata": {},
     "output_type": "display_data"
    }
   ],
   "source": [
    "#cep['group'] = results[2][0].group\n",
    "#tempResults = calcReimburse(cep,tempResults)\n",
    "\n",
    "groups = cep.groupby('group')\n",
    "for name, group in groups:\n",
    "    plt.plot(group.baseThreshold, group.mealPerStudent,marker='o',linestyle='', label=name)"
   ]
  },
  {
   "cell_type": "code",
   "execution_count": 53,
   "metadata": {
    "collapsed": false
   },
   "outputs": [
    {
     "data": {
      "image/png": "[encoded data removed]",
      "text/plain": [
       "<matplotlib.figure.Figure at 0x7f52c66a4f10>"
      ]
     },
     "metadata": {},
     "output_type": "display_data"
    }
   ],
   "source": [
    "for name, group in groups:\n",
    "    plt.plot(group.baseThreshold, group.threshold,marker='o',linestyle='', label=name)"
   ]
  },
  {
   "cell_type": "code",
   "execution_count": 54,
   "metadata": {
    "collapsed": false
   },
   "outputs": [
    {
     "data": {
      "image/png": "[encoded data removed]",
      "text/plain": [
       "<matplotlib.figure.Figure at 0x7f52c6547790>"
      ]
     },
     "metadata": {},
     "output_type": "display_data"
    }
   ],
   "source": [
    "groups = cep.groupby('group')\n",
    "for name, group in groups:\n",
    "    plt.plot(group.baseThreshold, group.Enrollment,marker='o',linestyle='', label=name)"
   ]
  },
  {
   "cell_type": "code",
   "execution_count": 55,
   "metadata": {
    "collapsed": false
   },
   "outputs": [
    {
     "data": {
      "text/html": [
       "<div>\n",
       "<table border=\"1\" class=\"dataframe\">\n",
       "  <thead>\n",
       "    <tr style=\"text-align: right;\">\n",
       "      <th></th>\n",
       "      <th>index</th>\n",
       "      <th>School</th>\n",
       "      <th>Enrollment</th>\n",
       "      <th>Identified</th>\n",
       "      <th>Breakfast</th>\n",
       "      <th>Lunch</th>\n",
       "      <th>meal</th>\n",
       "      <th>mealPerStudent</th>\n",
       "      <th>baseThreshold</th>\n",
       "      <th>group</th>\n",
       "      <th>reimburse</th>\n",
       "    </tr>\n",
       "    <tr>\n",
       "      <th>threshold</th>\n",
       "      <th></th>\n",
       "      <th></th>\n",
       "      <th></th>\n",
       "      <th></th>\n",
       "      <th></th>\n",
       "      <th></th>\n",
       "      <th></th>\n",
       "      <th></th>\n",
       "      <th></th>\n",
       "      <th></th>\n",
       "      <th></th>\n",
       "    </tr>\n",
       "  </thead>\n",
       "  <tbody>\n",
       "    <tr>\n",
       "      <th>0.379130</th>\n",
       "      <td>1</td>\n",
       "      <td>1</td>\n",
       "      <td>1</td>\n",
       "      <td>1</td>\n",
       "      <td>1</td>\n",
       "      <td>1</td>\n",
       "      <td>1</td>\n",
       "      <td>1</td>\n",
       "      <td>1</td>\n",
       "      <td>1</td>\n",
       "      <td>1</td>\n",
       "    </tr>\n",
       "    <tr>\n",
       "      <th>0.586310</th>\n",
       "      <td>1</td>\n",
       "      <td>1</td>\n",
       "      <td>1</td>\n",
       "      <td>1</td>\n",
       "      <td>1</td>\n",
       "      <td>1</td>\n",
       "      <td>1</td>\n",
       "      <td>1</td>\n",
       "      <td>1</td>\n",
       "      <td>1</td>\n",
       "      <td>1</td>\n",
       "    </tr>\n",
       "    <tr>\n",
       "      <th>0.646583</th>\n",
       "      <td>38</td>\n",
       "      <td>38</td>\n",
       "      <td>38</td>\n",
       "      <td>38</td>\n",
       "      <td>38</td>\n",
       "      <td>38</td>\n",
       "      <td>38</td>\n",
       "      <td>38</td>\n",
       "      <td>38</td>\n",
       "      <td>38</td>\n",
       "      <td>38</td>\n",
       "    </tr>\n",
       "    <tr>\n",
       "      <th>0.649528</th>\n",
       "      <td>28</td>\n",
       "      <td>28</td>\n",
       "      <td>28</td>\n",
       "      <td>28</td>\n",
       "      <td>28</td>\n",
       "      <td>28</td>\n",
       "      <td>28</td>\n",
       "      <td>28</td>\n",
       "      <td>28</td>\n",
       "      <td>28</td>\n",
       "      <td>28</td>\n",
       "    </tr>\n",
       "    <tr>\n",
       "      <th>0.728239</th>\n",
       "      <td>3</td>\n",
       "      <td>3</td>\n",
       "      <td>3</td>\n",
       "      <td>3</td>\n",
       "      <td>3</td>\n",
       "      <td>3</td>\n",
       "      <td>3</td>\n",
       "      <td>3</td>\n",
       "      <td>3</td>\n",
       "      <td>3</td>\n",
       "      <td>3</td>\n",
       "    </tr>\n",
       "    <tr>\n",
       "      <th>0.737887</th>\n",
       "      <td>10</td>\n",
       "      <td>10</td>\n",
       "      <td>10</td>\n",
       "      <td>10</td>\n",
       "      <td>10</td>\n",
       "      <td>10</td>\n",
       "      <td>10</td>\n",
       "      <td>10</td>\n",
       "      <td>10</td>\n",
       "      <td>10</td>\n",
       "      <td>10</td>\n",
       "    </tr>\n",
       "    <tr>\n",
       "      <th>0.907137</th>\n",
       "      <td>11</td>\n",
       "      <td>11</td>\n",
       "      <td>11</td>\n",
       "      <td>11</td>\n",
       "      <td>11</td>\n",
       "      <td>11</td>\n",
       "      <td>11</td>\n",
       "      <td>11</td>\n",
       "      <td>11</td>\n",
       "      <td>11</td>\n",
       "      <td>11</td>\n",
       "    </tr>\n",
       "    <tr>\n",
       "      <th>0.976415</th>\n",
       "      <td>8</td>\n",
       "      <td>8</td>\n",
       "      <td>8</td>\n",
       "      <td>8</td>\n",
       "      <td>8</td>\n",
       "      <td>8</td>\n",
       "      <td>8</td>\n",
       "      <td>8</td>\n",
       "      <td>8</td>\n",
       "      <td>8</td>\n",
       "      <td>8</td>\n",
       "    </tr>\n",
       "  </tbody>\n",
       "</table>\n",
       "</div>"
      ],
      "text/plain": [
       "           index  School  Enrollment  Identified  Breakfast  Lunch  meal  \\\n",
       "threshold                                                                  \n",
       "0.379130       1       1           1           1          1      1     1   \n",
       "0.586310       1       1           1           1          1      1     1   \n",
       "0.646583      38      38          38          38         38     38    38   \n",
       "0.649528      28      28          28          28         28     28    28   \n",
       "0.728239       3       3           3           3          3      3     3   \n",
       "0.737887      10      10          10          10         10     10    10   \n",
       "0.907137      11      11          11          11         11     11    11   \n",
       "0.976415       8       8           8           8          8      8     8   \n",
       "\n",
       "           mealPerStudent  baseThreshold  group  reimburse  \n",
       "threshold                                                   \n",
       "0.379130                1              1      1          1  \n",
       "0.586310                1              1      1          1  \n",
       "0.646583               38             38     38         38  \n",
       "0.649528               28             28     28         28  \n",
       "0.728239                3              3      3          3  \n",
       "0.737887               10             10     10         10  \n",
       "0.907137               11             11     11         11  \n",
       "0.976415                8              8      8          8  "
      ]
     },
     "execution_count": 55,
     "metadata": {},
     "output_type": "execute_result"
    }
   ],
   "source": [
    "cep.groupby('threshold').count()"
   ]
  },
  {
   "cell_type": "code",
   "execution_count": null,
   "metadata": {
    "collapsed": true
   },
   "outputs": [],
   "source": []
  },
  {
   "cell_type": "code",
   "execution_count": null,
   "metadata": {
    "collapsed": true
   },
   "outputs": [],
   "source": []
  },
  {
   "cell_type": "code",
   "execution_count": null,
   "metadata": {
    "collapsed": true
   },
   "outputs": [],
   "source": []
  },
  {
   "cell_type": "markdown",
   "metadata": {},
   "source": [
    "## Method 2: ungrouping one by one"
   ]
  },
  {
   "cell_type": "code",
   "execution_count": 60,
   "metadata": {
    "collapsed": false
   },
   "outputs": [
    {
     "name": "stdout",
     "output_type": "stream",
     "text": [
      "0.691398184737 100\n",
      "0.334223538967 9\n"
     ]
    }
   ],
   "source": [
    "#start out with all schools in one group\n",
    "cep.group = 0\n",
    "tempResults=[]\n",
    "tempResults = calcReimburse(cep,tempResults)\n",
    "\n",
    "# prune down the large group in a way that increases reimbursements and raises the \n",
    "# threshold of the group (t0) until it reaches a max of 1\n",
    "# for all schools that have been pruned out (ungrouped), regroup them into their\n",
    "# own group and redo the pruning process on that group\n",
    "# keep doing this until there are no more schools left to be pruned out.\n",
    "count=1\n",
    "prune = cep.copy()\n",
    "while(prune.shape[0]>1):\n",
    "    ungroup = []\n",
    "\n",
    "    t0 = groupThreshold(prune)\n",
    "    print t0, prune.shape[0]\n",
    "\n",
    "    while(t0<1):\n",
    "        # deltaR is the cost to ungroup a single school (indexed by index) from the rest of the group\n",
    "        index = prune[prune.baseThreshold<t0].index\n",
    "        deltaR = pd.Series(0,index=index)\n",
    "        for i in index:\n",
    "            prune.group = 0\n",
    "            prune.loc[i,'group'] = 1\n",
    "            deltaR.loc[i] = deltaReimburse(prune,1,0)\n",
    "        #take out the school with the least cost (most gain) and redo the whole thing\n",
    "        #unless the cost is positive, in which case end\n",
    "        if (deltaR.min()<0):\n",
    "            ungroup.append(deltaR.idxmin())\n",
    "            prune.drop(deltaR.idxmin(),inplace=True)\n",
    "            t0 = groupThreshold(prune)\n",
    "        else:\n",
    "            break\n",
    "\n",
    "    #set the school group in the cep, for those that were just \"ungrouped\"\n",
    "    cep.loc[cep.index.isin(ungroup),'group']=count\n",
    "    tempResults = calcReimburse(cep,tempResults)\n",
    "    #redo the pruning proces with those schools.\n",
    "    prune = cep[cep.group==count].copy()\n",
    "    count += 1 \n",
    "results = calcReimburse(cep,results)"
   ]
  },
  {
   "cell_type": "code",
   "execution_count": 57,
   "metadata": {
    "collapsed": false
   },
   "outputs": [
    {
     "data": {
      "image/png": "[encoded data removed]",
      "text/plain": [
       "<matplotlib.figure.Figure at 0x7f52c6457850>"
      ]
     },
     "metadata": {},
     "output_type": "display_data"
    }
   ],
   "source": [
    "groups = cep.groupby('group')\n",
    "for name, group in groups:\n",
    "    plt.plot(group.baseThreshold, group.mealPerStudent,marker='o',linestyle='', label=name)"
   ]
  },
  {
   "cell_type": "code",
   "execution_count": 62,
   "metadata": {
    "collapsed": false
   },
   "outputs": [
    {
     "data": {
      "text/plain": [
       "[[100, 8284829.0051301671, 'threshold not met'],\n",
       " [1, 11545411.635049185, 'threshold met'],\n",
       " [8, 11860301.749057785, 'threshold not met'],\n",
       " [2, 11649505.183408486, 'threshold not met']]"
      ]
     },
     "execution_count": 62,
     "metadata": {},
     "output_type": "execute_result"
    }
   ],
   "source": [
    "[x[1:]for x in results]"
   ]
  },
  {
   "cell_type": "code",
   "execution_count": 63,
   "metadata": {
    "collapsed": false
   },
   "outputs": [
    {
     "data": {
      "text/html": [
       "<div>\n",
       "<table border=\"1\" class=\"dataframe\">\n",
       "  <thead>\n",
       "    <tr style=\"text-align: right;\">\n",
       "      <th></th>\n",
       "      <th>index</th>\n",
       "      <th>School</th>\n",
       "      <th>Enrollment</th>\n",
       "      <th>Identified</th>\n",
       "      <th>Breakfast</th>\n",
       "      <th>Lunch</th>\n",
       "      <th>meal</th>\n",
       "      <th>mealPerStudent</th>\n",
       "      <th>baseThreshold</th>\n",
       "      <th>group</th>\n",
       "      <th>reimburse</th>\n",
       "    </tr>\n",
       "    <tr>\n",
       "      <th>threshold</th>\n",
       "      <th></th>\n",
       "      <th></th>\n",
       "      <th></th>\n",
       "      <th></th>\n",
       "      <th></th>\n",
       "      <th></th>\n",
       "      <th></th>\n",
       "      <th></th>\n",
       "      <th></th>\n",
       "      <th></th>\n",
       "      <th></th>\n",
       "    </tr>\n",
       "  </thead>\n",
       "  <tbody>\n",
       "    <tr>\n",
       "      <th>0.334224</th>\n",
       "      <td>9</td>\n",
       "      <td>9</td>\n",
       "      <td>9</td>\n",
       "      <td>9</td>\n",
       "      <td>9</td>\n",
       "      <td>9</td>\n",
       "      <td>9</td>\n",
       "      <td>9</td>\n",
       "      <td>9</td>\n",
       "      <td>9</td>\n",
       "      <td>9</td>\n",
       "    </tr>\n",
       "    <tr>\n",
       "      <th>0.732387</th>\n",
       "      <td>91</td>\n",
       "      <td>91</td>\n",
       "      <td>91</td>\n",
       "      <td>91</td>\n",
       "      <td>91</td>\n",
       "      <td>91</td>\n",
       "      <td>91</td>\n",
       "      <td>91</td>\n",
       "      <td>91</td>\n",
       "      <td>91</td>\n",
       "      <td>91</td>\n",
       "    </tr>\n",
       "  </tbody>\n",
       "</table>\n",
       "</div>"
      ],
      "text/plain": [
       "           index  School  Enrollment  Identified  Breakfast  Lunch  meal  \\\n",
       "threshold                                                                  \n",
       "0.334224       9       9           9           9          9      9     9   \n",
       "0.732387      91      91          91          91         91     91    91   \n",
       "\n",
       "           mealPerStudent  baseThreshold  group  reimburse  \n",
       "threshold                                                   \n",
       "0.334224                9              9      9          9  \n",
       "0.732387               91             91     91         91  "
      ]
     },
     "execution_count": 63,
     "metadata": {},
     "output_type": "execute_result"
    }
   ],
   "source": [
    "cep.groupby('threshold').count()"
   ]
  },
  {
   "cell_type": "code",
   "execution_count": null,
   "metadata": {
    "collapsed": true
   },
   "outputs": [],
   "source": []
  },
  {
   "cell_type": "code",
   "execution_count": 65,
   "metadata": {
    "collapsed": false
   },
   "outputs": [
    {
     "name": "stdout",
     "output_type": "stream",
     "text": [
      "0.691398184737 100\n",
      "0.948440871272 25\n"
     ]
    }
   ],
   "source": [
    "#start out with all schools in one group\n",
    "cep.group = 0\n",
    "tempResults=[]\n",
    "tempResults = calcReimburse(cep,tempResults)\n",
    "\n",
    "# prune down the large group in a way that increases reimbursements and lowers the \n",
    "# threshold of the group (t0), until it reaches the lower limit t_min\n",
    "# for all schools that have been pruned out (ungrouped), regroup them into their\n",
    "# own group and redo the pruning process on that group\n",
    "# keep doing this until there are no more schools left to be pruned out.\n",
    "count=1\n",
    "prune = cep.copy()\n",
    "while(prune.shape[0]>1):\n",
    "    ungroup = []\n",
    "\n",
    "    t0 = groupThreshold(prune)\n",
    "    print t0, prune.shape[0]\n",
    "\n",
    "    while(t0>=t_min):\n",
    "        # deltaR is the cost to ungroup a single school (indexed by index) from the rest of the group\n",
    "        index = prune[prune.baseThreshold>t0].index\n",
    "        deltaR = pd.Series(0,index=index)\n",
    "        for i in index:\n",
    "            prune.group = 0\n",
    "            prune.loc[i,'group'] = 1\n",
    "            deltaR.loc[i] = deltaReimburse(prune,1,0)\n",
    "        #take out the school with the least cost (most gain) and redo the whole thing\n",
    "        #unless the cost is positive, in which case end\n",
    "        if (deltaR.min()<0):\n",
    "            prune.drop(deltaR.idxmin(),inplace=True)\n",
    "            t0 = groupThreshold(prune)\n",
    "            if(t0>=t_min):\n",
    "                ungroup.append(deltaR.idxmin())\n",
    "        else:\n",
    "            break\n",
    "\n",
    "    #set the school group in the cep, for those that were just \"ungrouped\"\n",
    "    cep.loc[cep.index.isin(ungroup),'group']=count\n",
    "    tempResults = calcReimburse(cep,tempResults)\n",
    "    #redo the pruning proces with those schools.\n",
    "    prune = cep[cep.group==count].copy()\n",
    "    count += 1 \n",
    "results = calcReimburse(cep,results)"
   ]
  },
  {
   "cell_type": "code",
   "execution_count": 66,
   "metadata": {
    "collapsed": false
   },
   "outputs": [
    {
     "data": {
      "text/plain": [
       "[[100, 8284829.0051301671, 'threshold not met'],\n",
       " [1, 11545411.635049185, 'threshold met'],\n",
       " [8, 11860301.749057785, 'threshold not met'],\n",
       " [2, 11649505.183408486, 'threshold not met'],\n",
       " [3, 12022591.584309634, 'threshold met']]"
      ]
     },
     "execution_count": 66,
     "metadata": {},
     "output_type": "execute_result"
    }
   ],
   "source": [
    "[x[1:]for x in results]"
   ]
  },
  {
   "cell_type": "code",
   "execution_count": 67,
   "metadata": {
    "collapsed": false
   },
   "outputs": [
    {
     "data": {
      "image/png": "[encoded data removed]",
      "text/plain": [
       "<matplotlib.figure.Figure at 0x7f52c64942d0>"
      ]
     },
     "metadata": {},
     "output_type": "display_data"
    }
   ],
   "source": [
    "groups = cep.groupby('group')\n",
    "for name, group in groups:\n",
    "    plt.plot(group.baseThreshold, group.mealPerStudent,marker='o',linestyle='', label=name)"
   ]
  },
  {
   "cell_type": "code",
   "execution_count": 68,
   "metadata": {
    "collapsed": false
   },
   "outputs": [
    {
     "data": {
      "text/html": [
       "<div>\n",
       "<table border=\"1\" class=\"dataframe\">\n",
       "  <thead>\n",
       "    <tr style=\"text-align: right;\">\n",
       "      <th></th>\n",
       "      <th>School</th>\n",
       "    </tr>\n",
       "    <tr>\n",
       "      <th>threshold</th>\n",
       "      <th></th>\n",
       "    </tr>\n",
       "  </thead>\n",
       "  <tbody>\n",
       "    <tr>\n",
       "      <th>0.640215</th>\n",
       "      <td>75</td>\n",
       "    </tr>\n",
       "    <tr>\n",
       "      <th>0.947146</th>\n",
       "      <td>24</td>\n",
       "    </tr>\n",
       "    <tr>\n",
       "      <th>0.998230</th>\n",
       "      <td>1</td>\n",
       "    </tr>\n",
       "  </tbody>\n",
       "</table>\n",
       "</div>"
      ],
      "text/plain": [
       "           School\n",
       "threshold        \n",
       "0.640215       75\n",
       "0.947146       24\n",
       "0.998230        1"
      ]
     },
     "execution_count": 68,
     "metadata": {},
     "output_type": "execute_result"
    }
   ],
   "source": [
    "cep.groupby('threshold').count()[['School']]"
   ]
  },
  {
   "cell_type": "code",
   "execution_count": 69,
   "metadata": {
    "collapsed": false
   },
   "outputs": [
    {
     "data": {
      "text/html": [
       "<div>\n",
       "<table border=\"1\" class=\"dataframe\">\n",
       "  <thead>\n",
       "    <tr style=\"text-align: right;\">\n",
       "      <th></th>\n",
       "      <th>Enrollment</th>\n",
       "    </tr>\n",
       "    <tr>\n",
       "      <th>threshold</th>\n",
       "      <th></th>\n",
       "    </tr>\n",
       "  </thead>\n",
       "  <tbody>\n",
       "    <tr>\n",
       "      <th>0.640215</th>\n",
       "      <td>44766.732558</td>\n",
       "    </tr>\n",
       "    <tr>\n",
       "      <th>0.947146</th>\n",
       "      <td>8688.166667</td>\n",
       "    </tr>\n",
       "    <tr>\n",
       "      <th>0.998230</th>\n",
       "      <td>226.000000</td>\n",
       "    </tr>\n",
       "  </tbody>\n",
       "</table>\n",
       "</div>"
      ],
      "text/plain": [
       "             Enrollment\n",
       "threshold              \n",
       "0.640215   44766.732558\n",
       "0.947146    8688.166667\n",
       "0.998230     226.000000"
      ]
     },
     "execution_count": 69,
     "metadata": {},
     "output_type": "execute_result"
    }
   ],
   "source": [
    "cep.groupby('threshold').sum()[['Enrollment']]"
   ]
  },
  {
   "cell_type": "code",
   "execution_count": 70,
   "metadata": {
    "collapsed": false
   },
   "outputs": [
    {
     "data": {
      "text/html": [
       "<div>\n",
       "<table border=\"1\" class=\"dataframe\">\n",
       "  <thead>\n",
       "    <tr style=\"text-align: right;\">\n",
       "      <th></th>\n",
       "      <th>mealPerStudent</th>\n",
       "    </tr>\n",
       "    <tr>\n",
       "      <th>threshold</th>\n",
       "      <th></th>\n",
       "    </tr>\n",
       "  </thead>\n",
       "  <tbody>\n",
       "    <tr>\n",
       "      <th>0.640215</th>\n",
       "      <td>297.497499</td>\n",
       "    </tr>\n",
       "    <tr>\n",
       "      <th>0.947146</th>\n",
       "      <td>492.431216</td>\n",
       "    </tr>\n",
       "    <tr>\n",
       "      <th>0.998230</th>\n",
       "      <td>571.990626</td>\n",
       "    </tr>\n",
       "  </tbody>\n",
       "</table>\n",
       "</div>"
      ],
      "text/plain": [
       "           mealPerStudent\n",
       "threshold                \n",
       "0.640215       297.497499\n",
       "0.947146       492.431216\n",
       "0.998230       571.990626"
      ]
     },
     "execution_count": 70,
     "metadata": {},
     "output_type": "execute_result"
    }
   ],
   "source": [
    "cep.groupby('threshold').mean()[['mealPerStudent']]"
   ]
  },
  {
   "cell_type": "code",
   "execution_count": null,
   "metadata": {
    "collapsed": true
   },
   "outputs": [],
   "source": []
  },
  {
   "cell_type": "markdown",
   "metadata": {},
   "source": [
    "clustering method:\n",
    "meals are not precicely known in advance, smaller the enrollment the more uncertainty in the number of meals. Schools of low enrollment (under 100) group with schools that are similar in base threshold and (?) meals per student.\n",
    "\n",
    "use some clustering method (k means) to group similar schools. Once there are a managble number of groups, use brute force. "
   ]
  },
  {
   "cell_type": "code",
   "execution_count": null,
   "metadata": {
    "collapsed": true
   },
   "outputs": [],
   "source": []
  },
  {
   "cell_type": "code",
   "execution_count": null,
   "metadata": {
    "collapsed": true
   },
   "outputs": [],
   "source": []
  },
  {
   "cell_type": "code",
   "execution_count": null,
   "metadata": {
    "collapsed": true
   },
   "outputs": [],
   "source": []
  },
  {
   "cell_type": "code",
   "execution_count": null,
   "metadata": {
    "collapsed": true
   },
   "outputs": [],
   "source": []
  },
  {
   "cell_type": "code",
   "execution_count": null,
   "metadata": {
    "collapsed": true
   },
   "outputs": [],
   "source": []
  },
  {
   "cell_type": "code",
   "execution_count": null,
   "metadata": {
    "collapsed": true
   },
   "outputs": [],
   "source": []
  },
  {
   "cell_type": "code",
   "execution_count": null,
   "metadata": {
    "collapsed": true
   },
   "outputs": [],
   "source": []
  },
  {
   "cell_type": "code",
   "execution_count": null,
   "metadata": {
    "collapsed": true
   },
   "outputs": [],
   "source": []
  },
  {
   "cell_type": "code",
   "execution_count": null,
   "metadata": {
    "collapsed": true
   },
   "outputs": [],
   "source": []
  },
  {
   "cell_type": "markdown",
   "metadata": {},
   "source": [
    "## Method 3: find max/min threshold for all schools\n",
    "set the max threshold at the school that has the greatest difference between min/max possible reimbursements.\n",
    "recalculate min/max thresholds with remaining schools and repeat\n",
    "\n",
    "DROP - this doesn't seem to work."
   ]
  },
  {
   "cell_type": "code",
   "execution_count": 207,
   "metadata": {
    "collapsed": false,
    "scrolled": true
   },
   "outputs": [],
   "source": [
    "def calcBounds(sminmax):\n",
    "    '''calculate upper and lower bounds to reimbursements'''\n",
    "    sminmax['group'] = sminmax.index\n",
    "    tempResults = []\n",
    "    calcReimburse(sminmax,tempResults)     \n",
    "    for i in sminmax.index.values:\n",
    "        sminmax.group = sminmax.index\n",
    "        #define tgroup to hold original threshold values, drop one by one highest to lowest\n",
    "        tgroup = sminmax.threshold.copy()\n",
    "        # initialize the new threshold\n",
    "        newt = sminmax.loc[i].threshold \n",
    "        while (newt < tgroup.max()) and (newt<1):\n",
    "            #combine the group with the maximum threshold with group i\n",
    "            #calculate the new threshold of that combined group\n",
    "            #new indicies to include in threshold calculation\n",
    "            newIndex = tgroup[tgroup==tgroup.max()].index\n",
    "            dftemp = sminmax[(sminmax.group==i)|\\\n",
    "                             (sminmax.index.isin(newIndex))].copy()\n",
    "            #calculate new threshold\n",
    "            newnewt = dftemp['Identified'].sum() / float(dftemp['Enrollment'].sum())*multiplier\n",
    "            if newnewt<1:\n",
    "                #only save this group if the new value of the threshold is<1\n",
    "                sminmax.loc[newIndex,'group']=i\n",
    "                # drop tmax from group and start over\n",
    "                tgroup.drop(newIndex,inplace=True)\n",
    "                newt=newnewt\n",
    "            else:\n",
    "                break\n",
    "        #store the max threshold tmax, and the groupings that made it gmax.\n",
    "        sminmax.loc[i,'tmax'] = newt\n",
    "        sminmax.loc[i,'gmax'] = ','.join(str(x) for x in (sminmax[sminmax.group==i].index.values))\n",
    "    \n",
    "    sminmax['rmax'] = sminmax['meal']*(sminmax['tmax'].apply(lambda x:min(x,1)))\n",
    "    sminmax['rover'] = sminmax['meal']*sminmax['tmax'] - sminmax['rmax']\n",
    "\n",
    "    #calculate lower bound to reimbursement\n",
    "    for i in sminmax.index.values:\n",
    "        # set to individual groups (thesholds already set above)\n",
    "        sminmax.group = sminmax.index\n",
    "    \n",
    "        #define tgroup to hold original threshold values, drop one by one highest to lowest\n",
    "        tgroup = sminmax.threshold.copy()\n",
    "        # initialize the new threshold\n",
    "        newt = sminmax.loc[i].threshold \n",
    "        while (newt > tgroup.min()):\n",
    "            #combine the group with the minimum threshold with group i\n",
    "            sminmax.loc[tgroup[tgroup==tgroup.min()].index,'group']=i\n",
    "            #calculate the new threshold of that combined group\n",
    "            dftemp = sminmax[sminmax.group==i].copy()\n",
    "            newt = dftemp['Identified'].sum() / float(dftemp['Enrollment'].sum())*multiplier\n",
    "            # drop tmin from group and start over\n",
    "            tgroup.drop(tgroup[tgroup==tgroup.min()].index,inplace=True)\n",
    "        #store the min threshold tmin, and the groupings that made it gmin.\n",
    "        sminmax.loc[i,'tmin'] = newt\n",
    "        sminmax.loc[i,'gmin'] = ','.join(str(x) for x in (sminmax[sminmax.group==i].index.values))\n",
    "\n",
    "    sminmax['rmin'] = sminmax['meal']*(sminmax['tmin'].apply(lambda x:min(x,1)))\n",
    "    \n",
    "    sminmax['rmax-rmin'] = sminmax['rmax'] - sminmax['rmin']\n",
    "    sminmax['rmax-rmin-rover'] = sminmax['rmax-rmin'] - sminmax['rover']\n",
    "    sminmax['rmax-r'] = sminmax['rmax'] - sminmax['reimburse']\n"
   ]
  },
  {
   "cell_type": "code",
   "execution_count": 227,
   "metadata": {
    "collapsed": false
   },
   "outputs": [
    {
     "name": "stdout",
     "output_type": "stream",
     "text": [
      "8.405688e+06\n"
     ]
    }
   ],
   "source": [
    "sbounds = school[['Name','Enrollment','Identified','Lunches',\n",
    "               'Breakfasts','group']].copy()\n",
    "calcBounds(sbounds)\n",
    "\n",
    "print \"{:2e}\".format(sbounds.rmax.sum())"
   ]
  },
  {
   "cell_type": "code",
   "execution_count": null,
   "metadata": {
    "collapsed": false,
    "scrolled": true
   },
   "outputs": [],
   "source": [
    "sbounds[['gmax','rmax','reimburse','rmax-rmin']].sort_values('rmax-rmin')"
   ]
  },
  {
   "cell_type": "code",
   "execution_count": null,
   "metadata": {
    "collapsed": false,
    "scrolled": true
   },
   "outputs": [],
   "source": [
    "# set the groups in order of the largest reimbursement difference (rmax-rmin)\n",
    "school.group = school.index\n",
    "sbound = school[['Name','Enrollment','Identified','Lunches',\n",
    "               'Breakfasts','meal','group','threshold']].copy()\n",
    "\n",
    "while(sbound.shape[0]>0):\n",
    "    calcBounds(sbound)\n",
    "    indexMax = sbound['rmax-rmin'].idxmax()\n",
    "    groupList = map(int,sbound.loc[indexMax].gmax.split(','))\n",
    "    school.loc[school.index.isin(groupList),'group'] = min(groupList)\n",
    "    #drop all schools already set\n",
    "    sbound.drop(groupList,inplace=True)    \n",
    "\n",
    "results = calcReimburse(school,results)"
   ]
  },
  {
   "cell_type": "code",
   "execution_count": 229,
   "metadata": {
    "collapsed": false
   },
   "outputs": [
    {
     "data": {
      "text/plain": [
       "10620785.85"
      ]
     },
     "execution_count": 229,
     "metadata": {},
     "output_type": "execute_result"
    }
   ],
   "source": [
    "school.meal.sum()"
   ]
  },
  {
   "cell_type": "code",
   "execution_count": null,
   "metadata": {
    "collapsed": false,
    "scrolled": true
   },
   "outputs": [],
   "source": [
    "# set the groups in order of the largest reimbursement difference (rmax-rmin)\n",
    "school.group = school.index\n",
    "sbound = school[['Name','Enrollment','Identified','Lunches',\n",
    "               'Breakfasts','meal','group','threshold']].copy()\n",
    "\n",
    "while(sbound.shape[0]>0):\n",
    "    calcBounds(sbound)\n",
    "    indexMax = sbound['rmax'].idxmax()\n",
    "    groupList = map(int,sbound.loc[indexMax].gmax.split(','))\n",
    "    school.loc[school.index.isin(groupList),'group'] = min(groupList)\n",
    "    #drop all schools already set\n",
    "    sbound.drop(groupList,inplace=True)    \n",
    "\n",
    "results = calcReimburse(school,results)"
   ]
  },
  {
   "cell_type": "code",
   "execution_count": null,
   "metadata": {
    "collapsed": true
   },
   "outputs": [],
   "source": []
  },
  {
   "cell_type": "code",
   "execution_count": null,
   "metadata": {
    "collapsed": true
   },
   "outputs": [],
   "source": []
  },
  {
   "cell_type": "code",
   "execution_count": null,
   "metadata": {
    "collapsed": true
   },
   "outputs": [],
   "source": []
  },
  {
   "cell_type": "code",
   "execution_count": null,
   "metadata": {
    "collapsed": true
   },
   "outputs": [],
   "source": []
  },
  {
   "cell_type": "code",
   "execution_count": null,
   "metadata": {
    "collapsed": true
   },
   "outputs": [],
   "source": []
  },
  {
   "cell_type": "code",
   "execution_count": null,
   "metadata": {
    "collapsed": true
   },
   "outputs": [],
   "source": []
  },
  {
   "cell_type": "code",
   "execution_count": null,
   "metadata": {
    "collapsed": true
   },
   "outputs": [],
   "source": []
  },
  {
   "cell_type": "code",
   "execution_count": 131,
   "metadata": {
    "collapsed": false,
    "scrolled": true
   },
   "outputs": [
    {
     "data": {
      "text/plain": [
       "<matplotlib.axes._subplots.AxesSubplot at 0x7f57d96b4310>"
      ]
     },
     "execution_count": 131,
     "metadata": {},
     "output_type": "execute_result"
    },
    {
     "data": {
      "image/png": "[encoded data removed]",
      "text/plain": [
       "<matplotlib.figure.Figure at 0x7f57d9eaefd0>"
      ]
     },
     "metadata": {},
     "output_type": "display_data"
    }
   ],
   "source": [
    "pd.Series([x[2] for x in results]).plot()"
   ]
  },
  {
   "cell_type": "code",
   "execution_count": 132,
   "metadata": {
    "collapsed": false
   },
   "outputs": [
    {
     "data": {
      "text/plain": [
       "[9859535.0562031344,\n",
       " 10545816.781614168,\n",
       " 10036904.071577815,\n",
       " 10027063.236628737,\n",
       " 10303768.207755748,\n",
       " 10313260.413609516,\n",
       " 10365591.788532862,\n",
       " 10545816.781614168,\n",
       " 9859535.0562031344,\n",
       " 10545816.781614168,\n",
       " 9859535.0562031344,\n",
       " 10150474.930772413,\n",
       " 10204059.767045012,\n",
       " 9859535.0562031344,\n",
       " 10332152.594735747,\n",
       " 10560964.023968218,\n",
       " 10560964.023968218,\n",
       " 10560964.023968218,\n",
       " 10560964.023968218,\n",
       " 10560964.023968218,\n",
       " 10560964.023968218,\n",
       " 10560964.023968218,\n",
       " 10560964.023968218,\n",
       " 10560964.023968218,\n",
       " 10560964.023968218,\n",
       " 10560964.023968218,\n",
       " 9859535.0562031344,\n",
       " 10332152.594735747,\n",
       " 10332152.594735747]"
      ]
     },
     "execution_count": 132,
     "metadata": {},
     "output_type": "execute_result"
    }
   ],
   "source": [
    "[x[2] for x in results]"
   ]
  },
  {
   "cell_type": "code",
   "execution_count": null,
   "metadata": {
    "collapsed": true
   },
   "outputs": [],
   "source": []
  },
  {
   "cell_type": "code",
   "execution_count": null,
   "metadata": {
    "collapsed": true
   },
   "outputs": [],
   "source": []
  },
  {
   "cell_type": "code",
   "execution_count": null,
   "metadata": {
    "collapsed": true
   },
   "outputs": [],
   "source": []
  },
  {
   "cell_type": "code",
   "execution_count": null,
   "metadata": {
    "collapsed": true
   },
   "outputs": [],
   "source": []
  },
  {
   "cell_type": "code",
   "execution_count": null,
   "metadata": {
    "collapsed": true
   },
   "outputs": [],
   "source": []
  },
  {
   "cell_type": "code",
   "execution_count": null,
   "metadata": {
    "collapsed": true
   },
   "outputs": [],
   "source": []
  },
  {
   "cell_type": "code",
   "execution_count": null,
   "metadata": {
    "collapsed": true
   },
   "outputs": [],
   "source": []
  },
  {
   "cell_type": "code",
   "execution_count": null,
   "metadata": {
    "collapsed": true
   },
   "outputs": [],
   "source": []
  },
  {
   "cell_type": "code",
   "execution_count": null,
   "metadata": {
    "collapsed": true
   },
   "outputs": [],
   "source": []
  },
  {
   "cell_type": "code",
   "execution_count": null,
   "metadata": {
    "collapsed": true
   },
   "outputs": [],
   "source": []
  }
 ],
 "metadata": {
  "kernelspec": {
   "display_name": "Python 2",
   "language": "python",
   "name": "python2"
  },
  "language_info": {
   "codemirror_mode": {
    "name": "ipython",
    "version": 2
   },
   "file_extension": ".py",
   "mimetype": "text/x-python",
   "name": "python",
   "nbconvert_exporter": "python",
   "pygments_lexer": "ipython2",
   "version": "2.7.6"
  }
 },
 "nbformat": 4,
 "nbformat_minor": 0
}
