{
 "cells": [
  {
   "cell_type": "markdown",
   "metadata": {},
   "source": [
    "# Existing and Schools New to the CEP program"
   ]
  },
  {
   "cell_type": "code",
   "execution_count": 1,
   "metadata": {
    "collapsed": false
   },
   "outputs": [
    {
     "name": "stderr",
     "output_type": "stream",
     "text": [
      "/usr/local/lib/python2.7/dist-packages/matplotlib/font_manager.py:273: UserWarning: Matplotlib is building the font cache using fc-list. This may take a moment.\n",
      "  warnings.warn('Matplotlib is building the font cache using fc-list. This may take a moment.')\n",
      ":0: FutureWarning: IPython widgets are experimental and may change in the future.\n"
     ]
    }
   ],
   "source": [
    "import pandas as pd\n",
    "import numpy as np\n",
    "import time\n",
    "import matplotlib.pyplot as plt\n",
    "%matplotlib inline \n",
    "#plt.style.use('seaborn-poster')\n",
    "#plt.style.use('fivethirtyeight')\n",
    "import seaborn as sns\n",
    "sns.set_context('poster',font_scale=1.2)"
   ]
  },
  {
   "cell_type": "code",
   "execution_count": 2,
   "metadata": {
    "collapsed": false
   },
   "outputs": [],
   "source": [
    "#constants\n",
    "\n",
    "multiplier = 1.6\n",
    "\n",
    "# combined Federal and NY State meal reimbursement rates\n",
    "freeLunch = 3.2999\n",
    "paidLunch = 0.4399\n",
    "freeBreakfast = 2.1413\n",
    "paidBreakfast = 0.2923\n",
    "\n",
    "deltaLunchRate = freeLunch - paidLunch\n",
    "deltaBreakfastRate = freeBreakfast - paidBreakfast \n",
    "\n",
    "t_min = 0.40 * multiplier\n",
    "\n",
    "# reading in data\n",
    "doeNew = pd.read_excel('data/Test Data for CEP Grouping.xlsx',sheetname=\"School Data\",header=2)\n",
    "doeNew.rename(columns={'Identified Student Count':'Identified'},inplace=True)\n",
    "\n",
    "doeExist = pd.read_excel('data/Additional Test Data for CEP Grouping, Pre-Existing Groups.xlsx',\n",
    "                           sheetname='School Data',header=4)\n",
    "doeExist.rename(columns={'Count':'Identified'},inplace=True)\n",
    "\n",
    "# pre existing threshold\n",
    "doeExistGroup = pd.read_excel('data/Additional Test Data for CEP Grouping, Pre-Existing Groups.xlsx',\n",
    "                             sheetname='Group Data',header=4)\n",
    "doeExistGroup=doeExistGroup[['Group','Free']]\n",
    "doeExistGroup.rename(columns={'Free':'oldThreshold'},inplace=True)\n",
    "\n",
    "doeExist = doeExist.merge(doeExistGroup,how='left',on='Group')\n",
    "doeExist.rename(columns={'Group':'oldGroup'},inplace=True)\n",
    "\n",
    "# assume only schools with >0 enrollment can be part of cep program.\n",
    "cepNew = doeNew[doeNew.Enrollment>0].copy()\n",
    "cepNew.reset_index(inplace=True)\n",
    "\n",
    "cepExist = doeExist[doeExist.Enrollment>0].copy()\n",
    "cepExist.reset_index(inplace=True)\n",
    "\n",
    "\n",
    "# define a few more columns that are useful.\n",
    "# 'meal' is the max reimbursement of meals per year for each school.\n",
    "# 'mealPerStudent' is the max per student.\n",
    "# 'baseThreshold' is the threshold of the school if it is not grouped.\n",
    "\n",
    "cepNew['meal'] = deltaLunchRate*cepNew['Lunch'] + deltaBreakfastRate*cepNew['Breakfast']\n",
    "cepExist['meal'] = deltaLunchRate*cepExist['Lunch'] + deltaBreakfastRate*cepExist['Breakfast']\n",
    "\n",
    "cepNew['paidMeal'] = paidLunch*cepNew['Lunch'] + paidBreakfast*cepNew['Breakfast']\n",
    "cepExist['paidMeal'] = paidLunch*cepExist['Lunch'] + paidBreakfast*cepExist['Breakfast']\n",
    "\n",
    "cepNew['mealPerStudent'] = cepNew['meal']/cepNew['Enrollment']\n",
    "cepExist['mealPerStudent'] = cepExist['meal']/cepExist['Enrollment']\n",
    "\n",
    "cepNew['baseThreshold'] = cepNew['Identified']/cepNew['Enrollment']*multiplier\n",
    "cepExist['baseThreshold'] = cepExist['Identified']/cepExist['Enrollment']*multiplier"
   ]
  },
  {
   "cell_type": "code",
   "execution_count": 3,
   "metadata": {
    "collapsed": false
   },
   "outputs": [
    {
     "data": {
      "text/html": [
       "<div>\n",
       "<table border=\"1\" class=\"dataframe\">\n",
       "  <thead>\n",
       "    <tr style=\"text-align: right;\">\n",
       "      <th></th>\n",
       "      <th>index</th>\n",
       "      <th>School</th>\n",
       "      <th>Enrollment</th>\n",
       "      <th>Identified</th>\n",
       "      <th>Breakfast</th>\n",
       "      <th>Lunch</th>\n",
       "      <th>meal</th>\n",
       "      <th>paidMeal</th>\n",
       "      <th>mealPerStudent</th>\n",
       "      <th>baseThreshold</th>\n",
       "    </tr>\n",
       "  </thead>\n",
       "  <tbody>\n",
       "    <tr>\n",
       "      <th>0</th>\n",
       "      <td>0</td>\n",
       "      <td>1019</td>\n",
       "      <td>268.0</td>\n",
       "      <td>114.0</td>\n",
       "      <td>13744.040323</td>\n",
       "      <td>32119.415317</td>\n",
       "      <td>117274.258362</td>\n",
       "      <td>18146.713784</td>\n",
       "      <td>437.590516</td>\n",
       "      <td>0.680597</td>\n",
       "    </tr>\n",
       "    <tr>\n",
       "      <th>1</th>\n",
       "      <td>1</td>\n",
       "      <td>1025</td>\n",
       "      <td>188.0</td>\n",
       "      <td>121.0</td>\n",
       "      <td>2660.633468</td>\n",
       "      <td>8954.467200</td>\n",
       "      <td>30529.287474</td>\n",
       "      <td>4716.773284</td>\n",
       "      <td>162.389827</td>\n",
       "      <td>1.029787</td>\n",
       "    </tr>\n",
       "    <tr>\n",
       "      <th>2</th>\n",
       "      <td>2</td>\n",
       "      <td>1034</td>\n",
       "      <td>348.0</td>\n",
       "      <td>262.0</td>\n",
       "      <td>18359.910484</td>\n",
       "      <td>39773.741129</td>\n",
       "      <td>147700.374114</td>\n",
       "      <td>22863.070557</td>\n",
       "      <td>424.426362</td>\n",
       "      <td>1.204598</td>\n",
       "    </tr>\n",
       "    <tr>\n",
       "      <th>3</th>\n",
       "      <td>3</td>\n",
       "      <td>1060</td>\n",
       "      <td>679.0</td>\n",
       "      <td>293.0</td>\n",
       "      <td>7340.885081</td>\n",
       "      <td>19996.654634</td>\n",
       "      <td>70763.728769</td>\n",
       "      <td>10942.269083</td>\n",
       "      <td>104.217568</td>\n",
       "      <td>0.690427</td>\n",
       "    </tr>\n",
       "    <tr>\n",
       "      <th>4</th>\n",
       "      <td>4</td>\n",
       "      <td>1061</td>\n",
       "      <td>291.0</td>\n",
       "      <td>99.0</td>\n",
       "      <td>4320.555242</td>\n",
       "      <td>25602.863216</td>\n",
       "      <td>81212.895439</td>\n",
       "      <td>12525.597826</td>\n",
       "      <td>279.082115</td>\n",
       "      <td>0.544330</td>\n",
       "    </tr>\n",
       "  </tbody>\n",
       "</table>\n",
       "</div>"
      ],
      "text/plain": [
       "   index  School  Enrollment  Identified     Breakfast         Lunch  \\\n",
       "0      0    1019       268.0       114.0  13744.040323  32119.415317   \n",
       "1      1    1025       188.0       121.0   2660.633468   8954.467200   \n",
       "2      2    1034       348.0       262.0  18359.910484  39773.741129   \n",
       "3      3    1060       679.0       293.0   7340.885081  19996.654634   \n",
       "4      4    1061       291.0        99.0   4320.555242  25602.863216   \n",
       "\n",
       "            meal      paidMeal  mealPerStudent  baseThreshold  \n",
       "0  117274.258362  18146.713784      437.590516       0.680597  \n",
       "1   30529.287474   4716.773284      162.389827       1.029787  \n",
       "2  147700.374114  22863.070557      424.426362       1.204598  \n",
       "3   70763.728769  10942.269083      104.217568       0.690427  \n",
       "4   81212.895439  12525.597826      279.082115       0.544330  "
      ]
     },
     "execution_count": 3,
     "metadata": {},
     "output_type": "execute_result"
    }
   ],
   "source": [
    "cepNew.head()"
   ]
  },
  {
   "cell_type": "code",
   "execution_count": 4,
   "metadata": {
    "collapsed": false
   },
   "outputs": [
    {
     "data": {
      "text/html": [
       "<div>\n",
       "<table border=\"1\" class=\"dataframe\">\n",
       "  <thead>\n",
       "    <tr style=\"text-align: right;\">\n",
       "      <th></th>\n",
       "      <th>index</th>\n",
       "      <th>School</th>\n",
       "      <th>Enrollment</th>\n",
       "      <th>Identified</th>\n",
       "      <th>Breakfast</th>\n",
       "      <th>Lunch</th>\n",
       "      <th>oldGroup</th>\n",
       "      <th>oldThreshold</th>\n",
       "      <th>meal</th>\n",
       "      <th>paidMeal</th>\n",
       "      <th>mealPerStudent</th>\n",
       "      <th>baseThreshold</th>\n",
       "    </tr>\n",
       "  </thead>\n",
       "  <tbody>\n",
       "    <tr>\n",
       "      <th>0</th>\n",
       "      <td>0</td>\n",
       "      <td>2169</td>\n",
       "      <td>80.00</td>\n",
       "      <td>60.60</td>\n",
       "      <td>28965</td>\n",
       "      <td>22739</td>\n",
       "      <td>A</td>\n",
       "      <td>0.999717</td>\n",
       "      <td>118589.825</td>\n",
       "      <td>18469.3556</td>\n",
       "      <td>1482.372813</td>\n",
       "      <td>1.212000</td>\n",
       "    </tr>\n",
       "    <tr>\n",
       "      <th>1</th>\n",
       "      <td>1</td>\n",
       "      <td>2809</td>\n",
       "      <td>42.75</td>\n",
       "      <td>26.25</td>\n",
       "      <td>10710</td>\n",
       "      <td>15957</td>\n",
       "      <td>A</td>\n",
       "      <td>0.999717</td>\n",
       "      <td>65439.810</td>\n",
       "      <td>10150.0173</td>\n",
       "      <td>1530.755789</td>\n",
       "      <td>0.982456</td>\n",
       "    </tr>\n",
       "    <tr>\n",
       "      <th>2</th>\n",
       "      <td>2</td>\n",
       "      <td>1895</td>\n",
       "      <td>34.20</td>\n",
       "      <td>19.80</td>\n",
       "      <td>5910</td>\n",
       "      <td>7773</td>\n",
       "      <td>A</td>\n",
       "      <td>0.999717</td>\n",
       "      <td>33158.370</td>\n",
       "      <td>5146.8357</td>\n",
       "      <td>969.542982</td>\n",
       "      <td>0.926316</td>\n",
       "    </tr>\n",
       "    <tr>\n",
       "      <th>3</th>\n",
       "      <td>3</td>\n",
       "      <td>3820</td>\n",
       "      <td>77.40</td>\n",
       "      <td>56.60</td>\n",
       "      <td>28373</td>\n",
       "      <td>28273</td>\n",
       "      <td>A</td>\n",
       "      <td>0.999717</td>\n",
       "      <td>133322.457</td>\n",
       "      <td>20730.7206</td>\n",
       "      <td>1722.512364</td>\n",
       "      <td>1.170026</td>\n",
       "    </tr>\n",
       "    <tr>\n",
       "      <th>4</th>\n",
       "      <td>4</td>\n",
       "      <td>11176</td>\n",
       "      <td>177.00</td>\n",
       "      <td>97.60</td>\n",
       "      <td>24687</td>\n",
       "      <td>26788</td>\n",
       "      <td>A</td>\n",
       "      <td>0.999717</td>\n",
       "      <td>122259.943</td>\n",
       "      <td>19000.0513</td>\n",
       "      <td>690.734141</td>\n",
       "      <td>0.882260</td>\n",
       "    </tr>\n",
       "  </tbody>\n",
       "</table>\n",
       "</div>"
      ],
      "text/plain": [
       "   index  School  Enrollment  Identified  Breakfast  Lunch oldGroup  \\\n",
       "0      0    2169       80.00       60.60      28965  22739        A   \n",
       "1      1    2809       42.75       26.25      10710  15957        A   \n",
       "2      2    1895       34.20       19.80       5910   7773        A   \n",
       "3      3    3820       77.40       56.60      28373  28273        A   \n",
       "4      4   11176      177.00       97.60      24687  26788        A   \n",
       "\n",
       "   oldThreshold        meal    paidMeal  mealPerStudent  baseThreshold  \n",
       "0      0.999717  118589.825  18469.3556     1482.372813       1.212000  \n",
       "1      0.999717   65439.810  10150.0173     1530.755789       0.982456  \n",
       "2      0.999717   33158.370   5146.8357      969.542982       0.926316  \n",
       "3      0.999717  133322.457  20730.7206     1722.512364       1.170026  \n",
       "4      0.999717  122259.943  19000.0513      690.734141       0.882260  "
      ]
     },
     "execution_count": 4,
     "metadata": {},
     "output_type": "execute_result"
    }
   ],
   "source": [
    "cepExist.head()"
   ]
  },
  {
   "cell_type": "markdown",
   "metadata": {},
   "source": [
    "## Existing groups\n",
    "There are 10 pre-existing groups"
   ]
  },
  {
   "cell_type": "code",
   "execution_count": 5,
   "metadata": {
    "collapsed": false
   },
   "outputs": [
    {
     "data": {
      "text/html": [
       "<div>\n",
       "<table border=\"1\" class=\"dataframe\">\n",
       "  <thead>\n",
       "    <tr style=\"text-align: right;\">\n",
       "      <th></th>\n",
       "      <th>School</th>\n",
       "    </tr>\n",
       "    <tr>\n",
       "      <th>oldGroup</th>\n",
       "      <th></th>\n",
       "    </tr>\n",
       "  </thead>\n",
       "  <tbody>\n",
       "    <tr>\n",
       "      <th>A</th>\n",
       "      <td>428</td>\n",
       "    </tr>\n",
       "    <tr>\n",
       "      <th>B</th>\n",
       "      <td>158</td>\n",
       "    </tr>\n",
       "    <tr>\n",
       "      <th>C</th>\n",
       "      <td>8</td>\n",
       "    </tr>\n",
       "    <tr>\n",
       "      <th>D1</th>\n",
       "      <td>27</td>\n",
       "    </tr>\n",
       "    <tr>\n",
       "      <th>D2</th>\n",
       "      <td>6</td>\n",
       "    </tr>\n",
       "    <tr>\n",
       "      <th>D3</th>\n",
       "      <td>6</td>\n",
       "    </tr>\n",
       "    <tr>\n",
       "      <th>D4</th>\n",
       "      <td>17</td>\n",
       "    </tr>\n",
       "    <tr>\n",
       "      <th>D5</th>\n",
       "      <td>29</td>\n",
       "    </tr>\n",
       "    <tr>\n",
       "      <th>D6</th>\n",
       "      <td>4</td>\n",
       "    </tr>\n",
       "    <tr>\n",
       "      <th>F</th>\n",
       "      <td>244</td>\n",
       "    </tr>\n",
       "  </tbody>\n",
       "</table>\n",
       "</div>"
      ],
      "text/plain": [
       "          School\n",
       "oldGroup        \n",
       "A            428\n",
       "B            158\n",
       "C              8\n",
       "D1            27\n",
       "D2             6\n",
       "D3             6\n",
       "D4            17\n",
       "D5            29\n",
       "D6             4\n",
       "F            244"
      ]
     },
     "execution_count": 5,
     "metadata": {},
     "output_type": "execute_result"
    }
   ],
   "source": [
    "cepExist.groupby('oldGroup').count()[['School']]"
   ]
  },
  {
   "cell_type": "code",
   "execution_count": 6,
   "metadata": {
    "collapsed": false
   },
   "outputs": [
    {
     "data": {
      "text/html": [
       "<div>\n",
       "<table border=\"1\" class=\"dataframe\">\n",
       "  <thead>\n",
       "    <tr style=\"text-align: right;\">\n",
       "      <th></th>\n",
       "      <th>oldThreshold</th>\n",
       "    </tr>\n",
       "    <tr>\n",
       "      <th>oldGroup</th>\n",
       "      <th></th>\n",
       "    </tr>\n",
       "  </thead>\n",
       "  <tbody>\n",
       "    <tr>\n",
       "      <th>A</th>\n",
       "      <td>0.999717</td>\n",
       "    </tr>\n",
       "    <tr>\n",
       "      <th>B</th>\n",
       "      <td>0.640014</td>\n",
       "    </tr>\n",
       "    <tr>\n",
       "      <th>C</th>\n",
       "      <td>0.804585</td>\n",
       "    </tr>\n",
       "    <tr>\n",
       "      <th>D1</th>\n",
       "      <td>0.943506</td>\n",
       "    </tr>\n",
       "    <tr>\n",
       "      <th>D2</th>\n",
       "      <td>0.819100</td>\n",
       "    </tr>\n",
       "    <tr>\n",
       "      <th>D3</th>\n",
       "      <td>0.773887</td>\n",
       "    </tr>\n",
       "    <tr>\n",
       "      <th>D4</th>\n",
       "      <td>0.865564</td>\n",
       "    </tr>\n",
       "    <tr>\n",
       "      <th>D5</th>\n",
       "      <td>0.757873</td>\n",
       "    </tr>\n",
       "    <tr>\n",
       "      <th>D6</th>\n",
       "      <td>0.836991</td>\n",
       "    </tr>\n",
       "    <tr>\n",
       "      <th>F</th>\n",
       "      <td>1.000000</td>\n",
       "    </tr>\n",
       "  </tbody>\n",
       "</table>\n",
       "</div>"
      ],
      "text/plain": [
       "          oldThreshold\n",
       "oldGroup              \n",
       "A             0.999717\n",
       "B             0.640014\n",
       "C             0.804585\n",
       "D1            0.943506\n",
       "D2            0.819100\n",
       "D3            0.773887\n",
       "D4            0.865564\n",
       "D5            0.757873\n",
       "D6            0.836991\n",
       "F             1.000000"
      ]
     },
     "execution_count": 6,
     "metadata": {},
     "output_type": "execute_result"
    }
   ],
   "source": [
    "cepExist.groupby('oldGroup').mean()[['oldThreshold']]"
   ]
  },
  {
   "cell_type": "code",
   "execution_count": 7,
   "metadata": {
    "collapsed": false
   },
   "outputs": [
    {
     "name": "stdout",
     "output_type": "stream",
     "text": [
      "number of students in existing CEP 310435.819712\n",
      "number of students in potential CEP 726513.966002\n",
      "total students = 1036949.78571\n"
     ]
    }
   ],
   "source": [
    "print 'number of students in existing CEP',cepExist.Enrollment.sum()\n",
    "print 'number of students in potential CEP',cepNew.Enrollment.sum()\n",
    "print 'total students =',cepExist.Enrollment.sum()+cepNew.Enrollment.sum()"
   ]
  },
  {
   "cell_type": "code",
   "execution_count": 8,
   "metadata": {
    "collapsed": false
   },
   "outputs": [
    {
     "data": {
      "text/plain": [
       "<matplotlib.text.Text at 0x7faf23540590>"
      ]
     },
     "execution_count": 8,
     "metadata": {},
     "output_type": "execute_result"
    },
    {
     "data": {
      "image/png": "[encoded data removed]",
      "text/plain": [
       "<matplotlib.figure.Figure at 0x7faf235cd290>"
      ]
     },
     "metadata": {},
     "output_type": "display_data"
    }
   ],
   "source": [
    "(cepExist.Breakfast/cepExist.Enrollment/180).hist(bins=100,label='existing CEP')\n",
    "(cepNew.Breakfast/cepNew.Enrollment/180).hist(bins=100,label='new to CEP')\n",
    "plt.legend()\n",
    "plt.xlabel('breakfast per student per day')\n",
    "plt.title('histogram: breakfasts by school')"
   ]
  },
  {
   "cell_type": "code",
   "execution_count": 9,
   "metadata": {
    "collapsed": false
   },
   "outputs": [
    {
     "name": "stdout",
     "output_type": "stream",
     "text": [
      "avg breakfasts per student in existing CEP schools 0.426909045971\n",
      "avg breakfasts per student in new to CEP schools 0.258292261185\n"
     ]
    }
   ],
   "source": [
    "print 'avg breakfasts per student in existing CEP schools',(cepExist.Breakfast/cepExist.Enrollment/180).mean()\n",
    "print 'avg breakfasts per student in new to CEP schools',(cepNew.Breakfast/cepNew.Enrollment/180).mean()"
   ]
  },
  {
   "cell_type": "code",
   "execution_count": 10,
   "metadata": {
    "collapsed": false
   },
   "outputs": [
    {
     "data": {
      "text/plain": [
       "<matplotlib.text.Text at 0x7faf23070fd0>"
      ]
     },
     "execution_count": 10,
     "metadata": {},
     "output_type": "execute_result"
    },
    {
     "data": {
      "image/png": "[encoded data removed]",
      "text/plain": [
       "<matplotlib.figure.Figure at 0x7faf230ff0d0>"
      ]
     },
     "metadata": {},
     "output_type": "display_data"
    }
   ],
   "source": [
    "(cepExist.Lunch/cepExist.Enrollment/180).hist(bins=100,label='existing CEP')\n",
    "(cepNew.Lunch/cepNew.Enrollment/180).hist(bins=100,label='new to CEP')\n",
    "plt.legend()\n",
    "plt.xlabel('lunch per student per day')\n",
    "plt.title('histogram: lunches by school')"
   ]
  },
  {
   "cell_type": "code",
   "execution_count": 11,
   "metadata": {
    "collapsed": false
   },
   "outputs": [
    {
     "name": "stdout",
     "output_type": "stream",
     "text": [
      "avg lunches per student in existing CEP schools 0.641687976906\n",
      "avg lunches per student in new to CEP schools 0.526503517235\n"
     ]
    }
   ],
   "source": [
    "print 'avg lunches per student in existing CEP schools',(cepExist.Lunch/cepExist.Enrollment/180).mean()\n",
    "print 'avg lunches per student in new to CEP schools',(cepNew.Lunch/cepNew.Enrollment/180).mean()"
   ]
  },
  {
   "cell_type": "markdown",
   "metadata": {},
   "source": [
    "The projected meals for the existing CEP schools are higher on average than for schools new to CEP. So reimbursements from the new schools will likely be higher than projected."
   ]
  },
  {
   "cell_type": "code",
   "execution_count": null,
   "metadata": {
    "collapsed": true
   },
   "outputs": [],
   "source": []
  },
  {
   "cell_type": "markdown",
   "metadata": {},
   "source": [
    "## Calculating Reimbursements based on school groupings"
   ]
  },
  {
   "cell_type": "code",
   "execution_count": 12,
   "metadata": {
    "collapsed": false
   },
   "outputs": [],
   "source": [
    "# reimbursements over the base, this is the part that's dependant on groupings\n",
    "def calcReimburse(cep,cost=0):\n",
    "    ''' calculates and returns the total reimbursments (above base) for schools in a particlar grouping \n",
    "    Parameters:\n",
    "    cep: dataframe where each row is a school. cep columns include: Identified, Enrollment, meal, group\n",
    "    cost: cost = 0 (default) no cost to dropping schools from the program\n",
    "          cost = 1 sets a high penalty for letting a group go below the min threshold'''\n",
    "    \n",
    "    # df - each row represents a group\n",
    "    group_cep = cep.groupby('group')\n",
    "    df = pd.DataFrame(index= group_cep.indices)\n",
    "\n",
    "    df['threshold'] =  (group_cep['Identified'].sum()  / group_cep['Enrollment'].sum()) * multiplier\n",
    "    df['meal']      =  group_cep['meal'].sum()\n",
    "    \n",
    "    # enforcing threshold rules:\n",
    "    df['applied_threshold'] = df['threshold']\n",
    "    df.loc[df['applied_threshold']  > 1, 'applied_threshold'] = 1\n",
    "    df.loc[df['applied_threshold']  < t_min,'applied_threshold'] = 0 - cost*10**6\n",
    "\n",
    "    df['reimbursed'] = df['applied_threshold'] * df['meal']\n",
    "    \n",
    "    return df.reimbursed.sum()\n",
    "\n",
    "def setThreshold(cep):\n",
    "    ''' calculates the threshold for each school based on its group\n",
    "        cep columns: Enrollment, Identified'''\n",
    "    for i in set(cep.group):\n",
    "        df = cep[cep.group==i]\n",
    "        cep.loc[cep.group == i,'threshold'] = df['Identified'].sum() / float(df['Enrollment'].sum()) * multiplier\n",
    "    return 0"
   ]
  },
  {
   "cell_type": "code",
   "execution_count": 13,
   "metadata": {
    "collapsed": false
   },
   "outputs": [
    {
     "data": {
      "text/plain": [
       "117830076.13078761"
      ]
     },
     "execution_count": 13,
     "metadata": {},
     "output_type": "execute_result"
    }
   ],
   "source": [
    "# reimbursements based on the old groupings\n",
    "cepExist['oldReimburse'] = cepExist['oldThreshold']*cepExist['meal']\n",
    "cepExist['oldReimburse'].sum()"
   ]
  },
  {
   "cell_type": "code",
   "execution_count": 14,
   "metadata": {
    "collapsed": false
   },
   "outputs": [
    {
     "data": {
      "text/plain": [
       "305"
      ]
     },
     "execution_count": 14,
     "metadata": {},
     "output_type": "execute_result"
    }
   ],
   "source": [
    "188+117"
   ]
  },
  {
   "cell_type": "markdown",
   "metadata": {},
   "source": [
    "## Calculate Optimal Solution using Monte Carlo -- Simulated Annealing\n",
    "similar to stochastic hill climbing, but allows downwards steps as well"
   ]
  },
  {
   "cell_type": "code",
   "execution_count": 109,
   "metadata": {
    "collapsed": true
   },
   "outputs": [],
   "source": [
    "def simulated_annealing(cep, randomstart=True, seed=None,\n",
    "                        ngroupstart=1,ngroups=10, Tmax=1, deltaT=0.1):\n",
    "    \n",
    "    startTime = time.time()\n",
    "    rows=cep.shape[0]\n",
    "\n",
    "    # start by grouping schools randomly\n",
    "    if randomstart:\n",
    "        np.random.seed(seed)\n",
    "        cep.loc[:,'group'] = pd.Series(np.random.randint(0,ngroupstart,size=rows),\n",
    "                                       index=cep.index)\n",
    "\n",
    "    # store the results\n",
    "    old = calcReimburse(cep)\n",
    "    results=[old]\n",
    "\n",
    "    # mc loop\n",
    "    for T in np.arange(Tmax,0,-deltaT):\n",
    "        for i in range(1000):\n",
    "            df = cep.copy()\n",
    "            \n",
    "            # choose a random school and move it to a different random group\n",
    "            df.loc[np.random.randint(0,rows),'group'] = np.random.randint(0,ngroups)\n",
    "                                                                                   \n",
    "            # calculate the reimbursement\n",
    "            new = calcReimburse(df,cost=1)\n",
    "            step = new - old                                                                           \n",
    "            \n",
    "            #keep move if reimbursement increases\n",
    "            if (step > 0):\n",
    "                old=new\n",
    "                cep.loc[:,'group'] = df.group\n",
    "                results.append(new)\n",
    "                \n",
    "            #maybe keep move if reimbursement decreases, depending on how much\n",
    "            elif (np.random.uniform() < np.exp(step/T)):\n",
    "                old=new\n",
    "                cep.loc[:,'group'] = df.group\n",
    "                results.append(new)\n",
    "\n",
    "    cep = regroup(cep)\n",
    "    setThreshold(cep)\n",
    "    final = calcReimburse(cep)\n",
    "    results.append(final)\n",
    "    print final\n",
    "    print 'time in h', (time.time()-startTime)/60.0/60.0\n",
    "    return results,cep\n",
    "\n",
    "\n",
    "def regroup(cep):\n",
    "    '''if cep has multiple thresholds within one percent of each other, this \n",
    "    combines them'''\n",
    "    setThreshold(cep)\n",
    "    tlist = cep.groupby(cep.threshold.apply(lambda x: round(x,2))).groups.keys()\n",
    "    for i,t in enumerate(tlist):\n",
    "        cep.loc[cep.threshold.apply(lambda x:round(x,2))==t,'group']=i\n",
    "    setThreshold(cep)\n",
    "    return cep\n"
   ]
  },
  {
   "cell_type": "code",
   "execution_count": 122,
   "metadata": {
    "collapsed": true
   },
   "outputs": [],
   "source": [
    "def sa_ensemble(cep,trials=10,ngroupstart=1,ngroups=10,Tmax=1,deltaT=.1):\n",
    "    cepbunch=[]\n",
    "    final=[]\n",
    "    for i in range(trials):\n",
    "        sa,cep = simulated_annealing(cep,ngroupstart=ngroupstart,\n",
    "                                     ngroups=ngroups,Tmax=Tmax,deltaT=deltaT)\n",
    "        final.append(sa[-1])\n",
    "        cepbunch.append(cep.copy())\n",
    "    max_reimb = max(final)\n",
    "    max_index = final.index(max_reimb)\n",
    "    return cepbunch[max_index]\n"
   ]
  },
  {
   "cell_type": "code",
   "execution_count": null,
   "metadata": {
    "collapsed": true
   },
   "outputs": [],
   "source": []
  },
  {
   "cell_type": "code",
   "execution_count": 19,
   "metadata": {
    "collapsed": false
   },
   "outputs": [
    {
     "data": {
      "text/html": [
       "<div>\n",
       "<table border=\"1\" class=\"dataframe\">\n",
       "  <thead>\n",
       "    <tr style=\"text-align: right;\">\n",
       "      <th></th>\n",
       "      <th>Breakfast</th>\n",
       "      <th>Enrollment</th>\n",
       "      <th>Identified</th>\n",
       "      <th>Lunch</th>\n",
       "      <th>School</th>\n",
       "      <th>baseThreshold</th>\n",
       "      <th>group</th>\n",
       "      <th>index</th>\n",
       "      <th>meal</th>\n",
       "      <th>mealPerStudent</th>\n",
       "      <th>oldGroup</th>\n",
       "      <th>oldReimburse</th>\n",
       "      <th>oldThreshold</th>\n",
       "      <th>paidMeal</th>\n",
       "      <th>threshold</th>\n",
       "    </tr>\n",
       "  </thead>\n",
       "  <tbody>\n",
       "    <tr>\n",
       "      <th>0</th>\n",
       "      <td>28965.0</td>\n",
       "      <td>80.00</td>\n",
       "      <td>60.60</td>\n",
       "      <td>22739.0</td>\n",
       "      <td>2169</td>\n",
       "      <td>1.212000</td>\n",
       "      <td>NaN</td>\n",
       "      <td>0</td>\n",
       "      <td>118589.825</td>\n",
       "      <td>1482.372813</td>\n",
       "      <td>A</td>\n",
       "      <td>118556.296491</td>\n",
       "      <td>0.999717</td>\n",
       "      <td>18469.3556</td>\n",
       "      <td>NaN</td>\n",
       "    </tr>\n",
       "    <tr>\n",
       "      <th>1</th>\n",
       "      <td>10710.0</td>\n",
       "      <td>42.75</td>\n",
       "      <td>26.25</td>\n",
       "      <td>15957.0</td>\n",
       "      <td>2809</td>\n",
       "      <td>0.982456</td>\n",
       "      <td>NaN</td>\n",
       "      <td>1</td>\n",
       "      <td>65439.810</td>\n",
       "      <td>1530.755789</td>\n",
       "      <td>A</td>\n",
       "      <td>65421.308419</td>\n",
       "      <td>0.999717</td>\n",
       "      <td>10150.0173</td>\n",
       "      <td>NaN</td>\n",
       "    </tr>\n",
       "    <tr>\n",
       "      <th>2</th>\n",
       "      <td>5910.0</td>\n",
       "      <td>34.20</td>\n",
       "      <td>19.80</td>\n",
       "      <td>7773.0</td>\n",
       "      <td>1895</td>\n",
       "      <td>0.926316</td>\n",
       "      <td>NaN</td>\n",
       "      <td>2</td>\n",
       "      <td>33158.370</td>\n",
       "      <td>969.542982</td>\n",
       "      <td>A</td>\n",
       "      <td>33148.995244</td>\n",
       "      <td>0.999717</td>\n",
       "      <td>5146.8357</td>\n",
       "      <td>NaN</td>\n",
       "    </tr>\n",
       "    <tr>\n",
       "      <th>3</th>\n",
       "      <td>28373.0</td>\n",
       "      <td>77.40</td>\n",
       "      <td>56.60</td>\n",
       "      <td>28273.0</td>\n",
       "      <td>3820</td>\n",
       "      <td>1.170026</td>\n",
       "      <td>NaN</td>\n",
       "      <td>3</td>\n",
       "      <td>133322.457</td>\n",
       "      <td>1722.512364</td>\n",
       "      <td>A</td>\n",
       "      <td>133284.763182</td>\n",
       "      <td>0.999717</td>\n",
       "      <td>20730.7206</td>\n",
       "      <td>NaN</td>\n",
       "    </tr>\n",
       "    <tr>\n",
       "      <th>4</th>\n",
       "      <td>24687.0</td>\n",
       "      <td>177.00</td>\n",
       "      <td>97.60</td>\n",
       "      <td>26788.0</td>\n",
       "      <td>11176</td>\n",
       "      <td>0.882260</td>\n",
       "      <td>NaN</td>\n",
       "      <td>4</td>\n",
       "      <td>122259.943</td>\n",
       "      <td>690.734141</td>\n",
       "      <td>A</td>\n",
       "      <td>122225.376850</td>\n",
       "      <td>0.999717</td>\n",
       "      <td>19000.0513</td>\n",
       "      <td>NaN</td>\n",
       "    </tr>\n",
       "  </tbody>\n",
       "</table>\n",
       "</div>"
      ],
      "text/plain": [
       "   Breakfast  Enrollment  Identified    Lunch  School  baseThreshold  group  \\\n",
       "0    28965.0       80.00       60.60  22739.0    2169       1.212000    NaN   \n",
       "1    10710.0       42.75       26.25  15957.0    2809       0.982456    NaN   \n",
       "2     5910.0       34.20       19.80   7773.0    1895       0.926316    NaN   \n",
       "3    28373.0       77.40       56.60  28273.0    3820       1.170026    NaN   \n",
       "4    24687.0      177.00       97.60  26788.0   11176       0.882260    NaN   \n",
       "\n",
       "   index        meal  mealPerStudent oldGroup   oldReimburse  oldThreshold  \\\n",
       "0      0  118589.825     1482.372813        A  118556.296491      0.999717   \n",
       "1      1   65439.810     1530.755789        A   65421.308419      0.999717   \n",
       "2      2   33158.370      969.542982        A   33148.995244      0.999717   \n",
       "3      3  133322.457     1722.512364        A  133284.763182      0.999717   \n",
       "4      4  122259.943      690.734141        A  122225.376850      0.999717   \n",
       "\n",
       "     paidMeal  threshold  \n",
       "0  18469.3556        NaN  \n",
       "1  10150.0173        NaN  \n",
       "2   5146.8357        NaN  \n",
       "3  20730.7206        NaN  \n",
       "4  19000.0513        NaN  "
      ]
     },
     "execution_count": 19,
     "metadata": {},
     "output_type": "execute_result"
    }
   ],
   "source": [
    "#combine all schools, exisiting and new\n",
    "cep = pd.concat([cepExist,cepNew],ignore_index=True)\n",
    "cep.head()"
   ]
  },
  {
   "cell_type": "markdown",
   "metadata": {},
   "source": [
    "### Optimize the new schools to CEP (no previous groupings)"
   ]
  },
  {
   "cell_type": "code",
   "execution_count": 20,
   "metadata": {
    "collapsed": false
   },
   "outputs": [
    {
     "name": "stdout",
     "output_type": "stream",
     "text": [
      "187902597.236\n",
      "time in h 0.123831949433\n"
     ]
    }
   ],
   "source": [
    "sa, cepNew = simulated_annealing(cepNew,Tmax=1,deltaT=.01)"
   ]
  },
  {
   "cell_type": "code",
   "execution_count": 21,
   "metadata": {
    "collapsed": false
   },
   "outputs": [
    {
     "data": {
      "text/plain": [
       "<matplotlib.axes._subplots.AxesSubplot at 0x7faf1dfb7390>"
      ]
     },
     "execution_count": 21,
     "metadata": {},
     "output_type": "execute_result"
    },
    {
     "data": {
      "image/png": "[encoded data removed]",
      "text/plain": [
       "<matplotlib.figure.Figure at 0x7faf1e05e350>"
      ]
     },
     "metadata": {},
     "output_type": "display_data"
    }
   ],
   "source": [
    "pd.Series(sa).plot()"
   ]
  },
  {
   "cell_type": "code",
   "execution_count": 24,
   "metadata": {
    "collapsed": false
   },
   "outputs": [
    {
     "data": {
      "text/plain": [
       "<seaborn.axisgrid.PairGrid at 0x7faf1e238710>"
      ]
     },
     "execution_count": 24,
     "metadata": {},
     "output_type": "execute_result"
    },
    {
     "data": {
      "image/png": "[encoded data removed]",
      "text/plain": [
       "<matplotlib.figure.Figure at 0x7faf1e238910>"
      ]
     },
     "metadata": {},
     "output_type": "display_data"
    }
   ],
   "source": [
    "#markers = ['x','o','v','^','<']*2\n",
    "sns.pairplot(x_vars=['baseThreshold'],y_vars=['threshold'],data=cepNew, hue='threshold',\n",
    "             size=10,plot_kws={'s':100})"
   ]
  },
  {
   "cell_type": "markdown",
   "metadata": {},
   "source": [
    "### Optimize schools in already existing groups\n",
    "as if the old groups don't exist"
   ]
  },
  {
   "cell_type": "code",
   "execution_count": 25,
   "metadata": {
    "collapsed": false
   },
   "outputs": [
    {
     "name": "stdout",
     "output_type": "stream",
     "text": [
      "110052642.61\n",
      "time in h 0.126163271136\n"
     ]
    }
   ],
   "source": [
    "sa, cepExist = simulated_annealing(cepExist, Tmax=1,deltaT=.01)"
   ]
  },
  {
   "cell_type": "code",
   "execution_count": 26,
   "metadata": {
    "collapsed": false
   },
   "outputs": [
    {
     "data": {
      "text/plain": [
       "<matplotlib.axes._subplots.AxesSubplot at 0x7faf1e168d90>"
      ]
     },
     "execution_count": 26,
     "metadata": {},
     "output_type": "execute_result"
    },
    {
     "data": {
      "image/png": "[encoded data removed]",
      "text/plain": [
       "<matplotlib.figure.Figure at 0x7faf1e070290>"
      ]
     },
     "metadata": {},
     "output_type": "display_data"
    }
   ],
   "source": [
    "pd.Series(sa).plot()"
   ]
  },
  {
   "cell_type": "code",
   "execution_count": 27,
   "metadata": {
    "collapsed": false
   },
   "outputs": [
    {
     "data": {
      "text/plain": [
       "<seaborn.axisgrid.PairGrid at 0x7faf1e050890>"
      ]
     },
     "execution_count": 27,
     "metadata": {},
     "output_type": "execute_result"
    },
    {
     "data": {
      "image/png": "[encoded data removed]",
      "text/plain": [
       "<matplotlib.figure.Figure at 0x7faf1e050910>"
      ]
     },
     "metadata": {},
     "output_type": "display_data"
    }
   ],
   "source": [
    "sns.pairplot(x_vars=['baseThreshold'],y_vars=['threshold'],data=cepExist, hue='threshold',\n",
    "             size=10,plot_kws={'s':100})"
   ]
  },
  {
   "cell_type": "markdown",
   "metadata": {},
   "source": [
    "### Optimize all schools"
   ]
  },
  {
   "cell_type": "code",
   "execution_count": 28,
   "metadata": {
    "collapsed": false
   },
   "outputs": [
    {
     "name": "stdout",
     "output_type": "stream",
     "text": [
      "300200293.28\n",
      "time in h 0.123934786651\n"
     ]
    }
   ],
   "source": [
    "sa, cep = simulated_annealing(cep, Tmax=1,deltaT=.01)"
   ]
  },
  {
   "cell_type": "code",
   "execution_count": 29,
   "metadata": {
    "collapsed": false
   },
   "outputs": [
    {
     "data": {
      "text/plain": [
       "<matplotlib.axes._subplots.AxesSubplot at 0x7faf1c4f04d0>"
      ]
     },
     "execution_count": 29,
     "metadata": {},
     "output_type": "execute_result"
    },
    {
     "data": {
      "image/png": "[encoded data removed]",
      "text/plain": [
       "<matplotlib.figure.Figure at 0x7faf1c4bd810>"
      ]
     },
     "metadata": {},
     "output_type": "display_data"
    }
   ],
   "source": [
    "pd.Series(sa).plot()"
   ]
  },
  {
   "cell_type": "code",
   "execution_count": 30,
   "metadata": {
    "collapsed": false
   },
   "outputs": [
    {
     "data": {
      "text/plain": [
       "<seaborn.axisgrid.PairGrid at 0x7faf1c4f0890>"
      ]
     },
     "execution_count": 30,
     "metadata": {},
     "output_type": "execute_result"
    },
    {
     "data": {
      "image/png": "[encoded data removed]",
      "text/plain": [
       "<matplotlib.figure.Figure at 0x7faf1c59dd90>"
      ]
     },
     "metadata": {},
     "output_type": "display_data"
    }
   ],
   "source": [
    "sns.pairplot(x_vars=['baseThreshold'],y_vars=['threshold'],data=cep, hue='threshold',\n",
    "             size=10,plot_kws={'s':100})"
   ]
  },
  {
   "cell_type": "code",
   "execution_count": null,
   "metadata": {
    "collapsed": true
   },
   "outputs": [],
   "source": [
    "300-188-118"
   ]
  },
  {
   "cell_type": "code",
   "execution_count": 124,
   "metadata": {
    "collapsed": false
   },
   "outputs": [
    {
     "name": "stdout",
     "output_type": "stream",
     "text": [
      "188201390.853\n",
      "time in h 0.120875239438\n",
      "187880659.415\n",
      "time in h 0.121046219402\n",
      "187958608.021\n",
      "time in h 0.12066471027\n",
      "187951429.923\n",
      "time in h 0.119922322498\n",
      "187876568.538\n",
      "time in h 0.118843799962\n",
      "188096405.744\n",
      "time in h 0.118963785834\n",
      "188389851.192\n",
      "time in h 0.11899295032\n",
      "188288074.065\n",
      "time in h 0.119205963877\n",
      "188176677.443\n",
      "time in h 0.120157959196\n",
      "188330964.405\n",
      "time in h 0.120641188622\n",
      "188389851.192\n",
      "300494738.496\n",
      "time in h 0.123460870253\n",
      "300844655.244\n",
      "time in h 0.122675254411\n",
      "301217901.394\n",
      "time in h 0.122311455276\n",
      "300599771.561\n",
      "time in h 0.122226397528\n",
      "300700889.367\n",
      "time in h 0.122146087819\n",
      "300581457.468\n",
      "time in h 0.122100576427\n",
      "300652248.311\n",
      "time in h 0.122229265836\n",
      "300975356.473\n",
      "time in h 0.122325822247\n",
      "300331088.685\n",
      "time in h 0.121758590341\n",
      "301034296.423\n",
      "time in h 0.121853065292\n",
      "301217901.394\n"
     ]
    }
   ],
   "source": [
    "cepNew=sa_ensemble(cepNew,trials=10,Tmax=1,deltaT=.01)\n",
    "print calcReimburse(cepNew)\n",
    "cep = sa_ensemble(cep,trials=10,Tmax=1,deltaT=.01)\n",
    "print calcReimburse(cep)\n"
   ]
  },
  {
   "cell_type": "markdown",
   "metadata": {},
   "source": [
    "The old grouping reimbursement threhsolds yield higher reimbursements for the schools in most groups (except B), compared to optimizing groups based on todays parameters. \n",
    "\n",
    "This is a little misleading since even if reimbursement for those schools in these groups are lower, the total reimbursement for all schools may be higher.\n"
   ]
  },
  {
   "cell_type": "code",
   "execution_count": 31,
   "metadata": {
    "collapsed": false
   },
   "outputs": [
    {
     "data": {
      "text/html": [
       "<div>\n",
       "<table border=\"1\" class=\"dataframe\">\n",
       "  <thead>\n",
       "    <tr style=\"text-align: right;\">\n",
       "      <th></th>\n",
       "      <th>oldReimburse</th>\n",
       "      <th>reimburse</th>\n",
       "    </tr>\n",
       "    <tr>\n",
       "      <th>oldGroup</th>\n",
       "      <th></th>\n",
       "      <th></th>\n",
       "    </tr>\n",
       "  </thead>\n",
       "  <tbody>\n",
       "    <tr>\n",
       "      <th>A</th>\n",
       "      <td>6.017225e+07</td>\n",
       "      <td>5.337132e+07</td>\n",
       "    </tr>\n",
       "    <tr>\n",
       "      <th>B</th>\n",
       "      <td>4.016719e+06</td>\n",
       "      <td>4.366891e+06</td>\n",
       "    </tr>\n",
       "    <tr>\n",
       "      <th>C</th>\n",
       "      <td>8.053003e+05</td>\n",
       "      <td>7.124918e+05</td>\n",
       "    </tr>\n",
       "    <tr>\n",
       "      <th>D1</th>\n",
       "      <td>5.256260e+06</td>\n",
       "      <td>4.048482e+06</td>\n",
       "    </tr>\n",
       "    <tr>\n",
       "      <th>D2</th>\n",
       "      <td>5.353246e+05</td>\n",
       "      <td>4.626503e+05</td>\n",
       "    </tr>\n",
       "    <tr>\n",
       "      <th>D3</th>\n",
       "      <td>2.137252e+05</td>\n",
       "      <td>2.116858e+05</td>\n",
       "    </tr>\n",
       "    <tr>\n",
       "      <th>D4</th>\n",
       "      <td>1.921443e+06</td>\n",
       "      <td>1.633244e+06</td>\n",
       "    </tr>\n",
       "    <tr>\n",
       "      <th>D5</th>\n",
       "      <td>2.516527e+06</td>\n",
       "      <td>2.186497e+06</td>\n",
       "    </tr>\n",
       "    <tr>\n",
       "      <th>D6</th>\n",
       "      <td>3.049104e+05</td>\n",
       "      <td>3.035359e+05</td>\n",
       "    </tr>\n",
       "    <tr>\n",
       "      <th>F</th>\n",
       "      <td>4.208761e+07</td>\n",
       "      <td>3.718598e+07</td>\n",
       "    </tr>\n",
       "  </tbody>\n",
       "</table>\n",
       "</div>"
      ],
      "text/plain": [
       "          oldReimburse     reimburse\n",
       "oldGroup                            \n",
       "A         6.017225e+07  5.337132e+07\n",
       "B         4.016719e+06  4.366891e+06\n",
       "C         8.053003e+05  7.124918e+05\n",
       "D1        5.256260e+06  4.048482e+06\n",
       "D2        5.353246e+05  4.626503e+05\n",
       "D3        2.137252e+05  2.116858e+05\n",
       "D4        1.921443e+06  1.633244e+06\n",
       "D5        2.516527e+06  2.186497e+06\n",
       "D6        3.049104e+05  3.035359e+05\n",
       "F         4.208761e+07  3.718598e+07"
      ]
     },
     "execution_count": 31,
     "metadata": {},
     "output_type": "execute_result"
    }
   ],
   "source": [
    "cep['reimburse'] = cep['threshold']*cep['meal']\n",
    "cep.groupby('oldGroup').sum()[['oldReimburse','reimburse']]"
   ]
  },
  {
   "cell_type": "code",
   "execution_count": null,
   "metadata": {
    "collapsed": true
   },
   "outputs": [],
   "source": []
  },
  {
   "cell_type": "markdown",
   "metadata": {},
   "source": [
    "Running 10 trials on the new schools to get a range of values. The error is on the order of 10^5. "
   ]
  },
  {
   "cell_type": "code",
   "execution_count": 43,
   "metadata": {
    "collapsed": false
   },
   "outputs": [
    {
     "data": {
      "text/html": [
       "<div>\n",
       "<table border=\"1\" class=\"dataframe\">\n",
       "  <thead>\n",
       "    <tr style=\"text-align: right;\">\n",
       "      <th></th>\n",
       "      <th>final</th>\n",
       "    </tr>\n",
       "  </thead>\n",
       "  <tbody>\n",
       "    <tr>\n",
       "      <th>0</th>\n",
       "      <td>1.87875e+08</td>\n",
       "    </tr>\n",
       "    <tr>\n",
       "      <th>1</th>\n",
       "      <td>1.88242e+08</td>\n",
       "    </tr>\n",
       "    <tr>\n",
       "      <th>2</th>\n",
       "      <td>1.8807e+08</td>\n",
       "    </tr>\n",
       "    <tr>\n",
       "      <th>3</th>\n",
       "      <td>1.8834e+08</td>\n",
       "    </tr>\n",
       "    <tr>\n",
       "      <th>4</th>\n",
       "      <td>1.87849e+08</td>\n",
       "    </tr>\n",
       "    <tr>\n",
       "      <th>5</th>\n",
       "      <td>1.88376e+08</td>\n",
       "    </tr>\n",
       "    <tr>\n",
       "      <th>6</th>\n",
       "      <td>1.87846e+08</td>\n",
       "    </tr>\n",
       "    <tr>\n",
       "      <th>7</th>\n",
       "      <td>1.88376e+08</td>\n",
       "    </tr>\n",
       "    <tr>\n",
       "      <th>8</th>\n",
       "      <td>1.88239e+08</td>\n",
       "    </tr>\n",
       "    <tr>\n",
       "      <th>9</th>\n",
       "      <td>1.88388e+08</td>\n",
       "    </tr>\n",
       "  </tbody>\n",
       "</table>\n",
       "</div>"
      ],
      "text/plain": [
       "         final\n",
       "0  1.87875e+08\n",
       "1  1.88242e+08\n",
       "2   1.8807e+08\n",
       "3   1.8834e+08\n",
       "4  1.87849e+08\n",
       "5  1.88376e+08\n",
       "6  1.87846e+08\n",
       "7  1.88376e+08\n",
       "8  1.88239e+08\n",
       "9  1.88388e+08"
      ]
     },
     "execution_count": 43,
     "metadata": {},
     "output_type": "execute_result"
    }
   ],
   "source": [
    "%%capture\n",
    "trials=pd.DataFrame(columns=['final'])\n",
    "\n",
    "for i in range(10):\n",
    "    sa,cepNew=simulated_annealing(cepNew,Tmax=1,deltaT=.01)\n",
    "    trials.loc[i,'final'] = sa[-1]\n",
    "trials"
   ]
  },
  {
   "cell_type": "code",
   "execution_count": 44,
   "metadata": {
    "collapsed": false
   },
   "outputs": [
    {
     "name": "stdout",
     "output_type": "stream",
     "text": [
      "final    1.883883e+08\n",
      "dtype: float64\n",
      "final    1.878461e+08\n",
      "dtype: float64\n",
      "final    542223.680099\n",
      "dtype: float64\n"
     ]
    }
   ],
   "source": [
    "print trials.max()\n",
    "print trials.min()\n",
    "print trials.max()-trials.min()"
   ]
  },
  {
   "cell_type": "markdown",
   "metadata": {},
   "source": [
    "Running 10 trials on the *all* schools to get a range of values. The error is on the order of 10^5. "
   ]
  },
  {
   "cell_type": "code",
   "execution_count": 49,
   "metadata": {
    "collapsed": false
   },
   "outputs": [
    {
     "data": {
      "text/html": [
       "<div>\n",
       "<table border=\"1\" class=\"dataframe\">\n",
       "  <thead>\n",
       "    <tr style=\"text-align: right;\">\n",
       "      <th></th>\n",
       "      <th>final</th>\n",
       "    </tr>\n",
       "  </thead>\n",
       "  <tbody>\n",
       "    <tr>\n",
       "      <th>0</th>\n",
       "      <td>3.00954e+08</td>\n",
       "    </tr>\n",
       "    <tr>\n",
       "      <th>1</th>\n",
       "      <td>3.00638e+08</td>\n",
       "    </tr>\n",
       "    <tr>\n",
       "      <th>2</th>\n",
       "      <td>3.00775e+08</td>\n",
       "    </tr>\n",
       "    <tr>\n",
       "      <th>3</th>\n",
       "      <td>3.00525e+08</td>\n",
       "    </tr>\n",
       "    <tr>\n",
       "      <th>4</th>\n",
       "      <td>3.00432e+08</td>\n",
       "    </tr>\n",
       "    <tr>\n",
       "      <th>5</th>\n",
       "      <td>3.00592e+08</td>\n",
       "    </tr>\n",
       "    <tr>\n",
       "      <th>6</th>\n",
       "      <td>3.0071e+08</td>\n",
       "    </tr>\n",
       "    <tr>\n",
       "      <th>7</th>\n",
       "      <td>3.00921e+08</td>\n",
       "    </tr>\n",
       "    <tr>\n",
       "      <th>8</th>\n",
       "      <td>3.00982e+08</td>\n",
       "    </tr>\n",
       "    <tr>\n",
       "      <th>9</th>\n",
       "      <td>3.00527e+08</td>\n",
       "    </tr>\n",
       "  </tbody>\n",
       "</table>\n",
       "</div>"
      ],
      "text/plain": [
       "         final\n",
       "0  3.00954e+08\n",
       "1  3.00638e+08\n",
       "2  3.00775e+08\n",
       "3  3.00525e+08\n",
       "4  3.00432e+08\n",
       "5  3.00592e+08\n",
       "6   3.0071e+08\n",
       "7  3.00921e+08\n",
       "8  3.00982e+08\n",
       "9  3.00527e+08"
      ]
     },
     "execution_count": 49,
     "metadata": {},
     "output_type": "execute_result"
    }
   ],
   "source": [
    "%%capture\n",
    "alltrials=pd.DataFrame(columns=['final'])\n",
    "\n",
    "for i in range(10):\n",
    "    sa,cep=simulated_annealing(cep,Tmax=1,deltaT=.01)\n",
    "    alltrials.loc[i,'final'] = sa[-1]\n",
    "alltrials"
   ]
  },
  {
   "cell_type": "code",
   "execution_count": 51,
   "metadata": {
    "collapsed": false
   },
   "outputs": [
    {
     "name": "stdout",
     "output_type": "stream",
     "text": [
      "final    3.009816e+08\n",
      "dtype: float64\n",
      "final    3.004323e+08\n",
      "dtype: float64\n",
      "final    549311.902997\n",
      "dtype: float64\n"
     ]
    }
   ],
   "source": [
    "print alltrials.max()\n",
    "print alltrials.min()\n",
    "print alltrials.max()-alltrials.min()"
   ]
  },
  {
   "cell_type": "code",
   "execution_count": null,
   "metadata": {
    "collapsed": true
   },
   "outputs": [],
   "source": []
  },
  {
   "cell_type": "code",
   "execution_count": null,
   "metadata": {
    "collapsed": true
   },
   "outputs": [],
   "source": []
  },
  {
   "cell_type": "markdown",
   "metadata": {},
   "source": [
    "### optimize within old groupings\n",
    "Optimizing within each of the groups using current parameters always yeilds less reimbursement than using the old group thresholds. \n",
    "\n",
    "This is an inconclusive result, since optimizing with the larger group can still potentially yeild better results than the old thresholds."
   ]
  },
  {
   "cell_type": "code",
   "execution_count": 46,
   "metadata": {
    "collapsed": false
   },
   "outputs": [
    {
     "data": {
      "text/html": [
       "<div>\n",
       "<table border=\"1\" class=\"dataframe\">\n",
       "  <thead>\n",
       "    <tr style=\"text-align: right;\">\n",
       "      <th></th>\n",
       "      <th>sa</th>\n",
       "      <th>oldReimburse</th>\n",
       "      <th>diff</th>\n",
       "    </tr>\n",
       "  </thead>\n",
       "  <tbody>\n",
       "    <tr>\n",
       "      <th>A</th>\n",
       "      <td>5.53133e+07</td>\n",
       "      <td>6.017225e+07</td>\n",
       "      <td>-4.85892e+06</td>\n",
       "    </tr>\n",
       "    <tr>\n",
       "      <th>B</th>\n",
       "      <td>0</td>\n",
       "      <td>4.016719e+06</td>\n",
       "      <td>-4.01672e+06</td>\n",
       "    </tr>\n",
       "    <tr>\n",
       "      <th>C</th>\n",
       "      <td>798214</td>\n",
       "      <td>8.053003e+05</td>\n",
       "      <td>-7085.86</td>\n",
       "    </tr>\n",
       "    <tr>\n",
       "      <th>D1</th>\n",
       "      <td>4.65953e+06</td>\n",
       "      <td>5.256260e+06</td>\n",
       "      <td>-596733</td>\n",
       "    </tr>\n",
       "    <tr>\n",
       "      <th>D2</th>\n",
       "      <td>445772</td>\n",
       "      <td>5.353246e+05</td>\n",
       "      <td>-89552.6</td>\n",
       "    </tr>\n",
       "    <tr>\n",
       "      <th>D3</th>\n",
       "      <td>0</td>\n",
       "      <td>2.137252e+05</td>\n",
       "      <td>-213725</td>\n",
       "    </tr>\n",
       "    <tr>\n",
       "      <th>D4</th>\n",
       "      <td>1.70739e+06</td>\n",
       "      <td>1.921443e+06</td>\n",
       "      <td>-214055</td>\n",
       "    </tr>\n",
       "    <tr>\n",
       "      <th>D5</th>\n",
       "      <td>2.2417e+06</td>\n",
       "      <td>2.516527e+06</td>\n",
       "      <td>-274830</td>\n",
       "    </tr>\n",
       "    <tr>\n",
       "      <th>D6</th>\n",
       "      <td>271923</td>\n",
       "      <td>3.049104e+05</td>\n",
       "      <td>-32987.7</td>\n",
       "    </tr>\n",
       "    <tr>\n",
       "      <th>F</th>\n",
       "      <td>3.91764e+07</td>\n",
       "      <td>4.208761e+07</td>\n",
       "      <td>-2.91123e+06</td>\n",
       "    </tr>\n",
       "  </tbody>\n",
       "</table>\n",
       "</div>"
      ],
      "text/plain": [
       "             sa  oldReimburse         diff\n",
       "A   5.53133e+07  6.017225e+07 -4.85892e+06\n",
       "B             0  4.016719e+06 -4.01672e+06\n",
       "C        798214  8.053003e+05     -7085.86\n",
       "D1  4.65953e+06  5.256260e+06      -596733\n",
       "D2       445772  5.353246e+05     -89552.6\n",
       "D3            0  2.137252e+05      -213725\n",
       "D4  1.70739e+06  1.921443e+06      -214055\n",
       "D5   2.2417e+06  2.516527e+06      -274830\n",
       "D6       271923  3.049104e+05     -32987.7\n",
       "F   3.91764e+07  4.208761e+07 -2.91123e+06"
      ]
     },
     "execution_count": 46,
     "metadata": {},
     "output_type": "execute_result"
    }
   ],
   "source": [
    "%%capture\n",
    "\n",
    "ind=pd.DataFrame(columns=['sa'])\n",
    "grouped = cepExist.groupby('oldGroup')\n",
    "\n",
    "for name,group in grouped:\n",
    "    sa,group = simulated_annealing(group,Tmax=1,deltaT=.01)\n",
    "    ind.loc[name,'sa'] = sa[-1]\n",
    "\n",
    "ind['oldReimburse']=grouped.sum()[['oldReimburse']]\n",
    "ind['diff'] = ind['sa'] - ind['oldReimburse']\n",
    "ind"
   ]
  },
  {
   "cell_type": "markdown",
   "metadata": {},
   "source": [
    "### full comparison\n",
    "comparing each old group combined with the new schools compared to the new schools optimized by themselves plus the old reimbursement thresholds. "
   ]
  },
  {
   "cell_type": "code",
   "execution_count": 47,
   "metadata": {
    "collapsed": false
   },
   "outputs": [
    {
     "data": {
      "text/html": [
       "<div>\n",
       "<table border=\"1\" class=\"dataframe\">\n",
       "  <thead>\n",
       "    <tr style=\"text-align: right;\">\n",
       "      <th></th>\n",
       "      <th>comb</th>\n",
       "      <th>oldReimburse</th>\n",
       "      <th>diff</th>\n",
       "    </tr>\n",
       "  </thead>\n",
       "  <tbody>\n",
       "    <tr>\n",
       "      <th>A</th>\n",
       "      <td>2.44528e+08</td>\n",
       "      <td>6.017225e+07</td>\n",
       "      <td>-3.8047e+06</td>\n",
       "    </tr>\n",
       "    <tr>\n",
       "      <th>B</th>\n",
       "      <td>1.91357e+08</td>\n",
       "      <td>4.016719e+06</td>\n",
       "      <td>-820135</td>\n",
       "    </tr>\n",
       "    <tr>\n",
       "      <th>C</th>\n",
       "      <td>1.89168e+08</td>\n",
       "      <td>8.053003e+05</td>\n",
       "      <td>202248</td>\n",
       "    </tr>\n",
       "    <tr>\n",
       "      <th>D1</th>\n",
       "      <td>1.92892e+08</td>\n",
       "      <td>5.256260e+06</td>\n",
       "      <td>-524210</td>\n",
       "    </tr>\n",
       "    <tr>\n",
       "      <th>D2</th>\n",
       "      <td>1.89013e+08</td>\n",
       "      <td>5.353246e+05</td>\n",
       "      <td>317333</td>\n",
       "    </tr>\n",
       "    <tr>\n",
       "      <th>D3</th>\n",
       "      <td>1.88346e+08</td>\n",
       "      <td>2.137252e+05</td>\n",
       "      <td>-27926.2</td>\n",
       "    </tr>\n",
       "    <tr>\n",
       "      <th>D4</th>\n",
       "      <td>1.89937e+08</td>\n",
       "      <td>1.921443e+06</td>\n",
       "      <td>-144305</td>\n",
       "    </tr>\n",
       "    <tr>\n",
       "      <th>D5</th>\n",
       "      <td>1.9047e+08</td>\n",
       "      <td>2.516527e+06</td>\n",
       "      <td>-206404</td>\n",
       "    </tr>\n",
       "    <tr>\n",
       "      <th>D6</th>\n",
       "      <td>1.88503e+08</td>\n",
       "      <td>3.049104e+05</td>\n",
       "      <td>38440.6</td>\n",
       "    </tr>\n",
       "    <tr>\n",
       "      <th>F</th>\n",
       "      <td>2.30015e+08</td>\n",
       "      <td>4.208761e+07</td>\n",
       "      <td>-232985</td>\n",
       "    </tr>\n",
       "  </tbody>\n",
       "</table>\n",
       "</div>"
      ],
      "text/plain": [
       "           comb  oldReimburse        diff\n",
       "A   2.44528e+08  6.017225e+07 -3.8047e+06\n",
       "B   1.91357e+08  4.016719e+06     -820135\n",
       "C   1.89168e+08  8.053003e+05      202248\n",
       "D1  1.92892e+08  5.256260e+06     -524210\n",
       "D2  1.89013e+08  5.353246e+05      317333\n",
       "D3  1.88346e+08  2.137252e+05    -27926.2\n",
       "D4  1.89937e+08  1.921443e+06     -144305\n",
       "D5   1.9047e+08  2.516527e+06     -206404\n",
       "D6  1.88503e+08  3.049104e+05     38440.6\n",
       "F   2.30015e+08  4.208761e+07     -232985"
      ]
     },
     "execution_count": 47,
     "metadata": {},
     "output_type": "execute_result"
    }
   ],
   "source": [
    "#old\n",
    "%%capture\n",
    "\n",
    "combined = pd.DataFrame(columns=['comb'])\n",
    "grouped = cepExist.groupby('oldGroup')\n",
    "\n",
    "for name,group in grouped:\n",
    "    df = pd.concat([group,cepNew],ignore_index=True)\n",
    "    sa,df = simulated_annealing(df,Tmax=1,deltaT=.01)\n",
    "    combined.loc[name,'comb'] = sa[-1]\n",
    "\n",
    "combined['oldReimburse']=grouped.sum()[['oldReimburse']]\n",
    "combined['diff'] = combined['comb'] - combined['oldReimburse'] - trials.mean()[0]\n",
    "combined"
   ]
  },
  {
   "cell_type": "code",
   "execution_count": 126,
   "metadata": {
    "collapsed": false
   },
   "outputs": [
    {
     "data": {
      "text/html": [
       "<div>\n",
       "<table border=\"1\" class=\"dataframe\">\n",
       "  <thead>\n",
       "    <tr style=\"text-align: right;\">\n",
       "      <th></th>\n",
       "      <th>comb</th>\n",
       "      <th>oldReimburse</th>\n",
       "      <th>diff</th>\n",
       "    </tr>\n",
       "  </thead>\n",
       "  <tbody>\n",
       "    <tr>\n",
       "      <th>A</th>\n",
       "      <td>2.45595e+08</td>\n",
       "      <td>6.017225e+07</td>\n",
       "      <td>-2.96686e+06</td>\n",
       "    </tr>\n",
       "    <tr>\n",
       "      <th>B</th>\n",
       "      <td>1.91508e+08</td>\n",
       "      <td>4.016719e+06</td>\n",
       "      <td>-898121</td>\n",
       "    </tr>\n",
       "    <tr>\n",
       "      <th>C</th>\n",
       "      <td>1.89237e+08</td>\n",
       "      <td>8.053003e+05</td>\n",
       "      <td>42161.3</td>\n",
       "    </tr>\n",
       "    <tr>\n",
       "      <th>D1</th>\n",
       "      <td>1.93429e+08</td>\n",
       "      <td>5.256260e+06</td>\n",
       "      <td>-216641</td>\n",
       "    </tr>\n",
       "    <tr>\n",
       "      <th>D2</th>\n",
       "      <td>1.89039e+08</td>\n",
       "      <td>5.353246e+05</td>\n",
       "      <td>113454</td>\n",
       "    </tr>\n",
       "    <tr>\n",
       "      <th>D3</th>\n",
       "      <td>1.88623e+08</td>\n",
       "      <td>2.137252e+05</td>\n",
       "      <td>19748.2</td>\n",
       "    </tr>\n",
       "    <tr>\n",
       "      <th>D4</th>\n",
       "      <td>1.90625e+08</td>\n",
       "      <td>1.921443e+06</td>\n",
       "      <td>314085</td>\n",
       "    </tr>\n",
       "    <tr>\n",
       "      <th>D5</th>\n",
       "      <td>1.90831e+08</td>\n",
       "      <td>2.516527e+06</td>\n",
       "      <td>-75195.4</td>\n",
       "    </tr>\n",
       "    <tr>\n",
       "      <th>D6</th>\n",
       "      <td>1.88787e+08</td>\n",
       "      <td>3.049104e+05</td>\n",
       "      <td>92320</td>\n",
       "    </tr>\n",
       "    <tr>\n",
       "      <th>F</th>\n",
       "      <td>2.30937e+08</td>\n",
       "      <td>4.208761e+07</td>\n",
       "      <td>459376</td>\n",
       "    </tr>\n",
       "  </tbody>\n",
       "</table>\n",
       "</div>"
      ],
      "text/plain": [
       "           comb  oldReimburse         diff\n",
       "A   2.45595e+08  6.017225e+07 -2.96686e+06\n",
       "B   1.91508e+08  4.016719e+06      -898121\n",
       "C   1.89237e+08  8.053003e+05      42161.3\n",
       "D1  1.93429e+08  5.256260e+06      -216641\n",
       "D2  1.89039e+08  5.353246e+05       113454\n",
       "D3  1.88623e+08  2.137252e+05      19748.2\n",
       "D4  1.90625e+08  1.921443e+06       314085\n",
       "D5  1.90831e+08  2.516527e+06     -75195.4\n",
       "D6  1.88787e+08  3.049104e+05        92320\n",
       "F   2.30937e+08  4.208761e+07       459376"
      ]
     },
     "execution_count": 126,
     "metadata": {},
     "output_type": "execute_result"
    }
   ],
   "source": [
    "#same as above, but using enseble method\n",
    "%%capture\n",
    "\n",
    "combined = pd.DataFrame(columns=['comb'])\n",
    "grouped = cepExist.groupby('oldGroup')\n",
    "\n",
    "for name,group in grouped:\n",
    "    df = pd.concat([group,cepNew],ignore_index=True)\n",
    "    df = sa_ensemble(df,Tmax=1,deltaT=.01)\n",
    "    combined.loc[name,'comb'] = calcReimburse(df)\n",
    "\n",
    "combined['oldReimburse']=grouped.sum()[['oldReimburse']]\n",
    "combined['diff'] = combined['comb'] - combined['oldReimburse'] - calcReimburse(cepNew)\n",
    "combined"
   ]
  },
  {
   "cell_type": "code",
   "execution_count": 146,
   "metadata": {
    "collapsed": false
   },
   "outputs": [
    {
     "data": {
      "text/html": [
       "<div>\n",
       "<table border=\"1\" class=\"dataframe\">\n",
       "  <thead>\n",
       "    <tr style=\"text-align: right;\">\n",
       "      <th></th>\n",
       "      <th>comb</th>\n",
       "      <th>oldReimburse</th>\n",
       "      <th>diff</th>\n",
       "    </tr>\n",
       "  </thead>\n",
       "  <tbody>\n",
       "    <tr>\n",
       "      <th>C</th>\n",
       "      <td>1.89237e+08</td>\n",
       "      <td>8.053003e+05</td>\n",
       "      <td>42161.3</td>\n",
       "    </tr>\n",
       "    <tr>\n",
       "      <th>D1</th>\n",
       "      <td>1.93429e+08</td>\n",
       "      <td>5.256260e+06</td>\n",
       "      <td>-216641</td>\n",
       "    </tr>\n",
       "    <tr>\n",
       "      <th>D2</th>\n",
       "      <td>1.89039e+08</td>\n",
       "      <td>5.353246e+05</td>\n",
       "      <td>113454</td>\n",
       "    </tr>\n",
       "    <tr>\n",
       "      <th>D3</th>\n",
       "      <td>1.88623e+08</td>\n",
       "      <td>2.137252e+05</td>\n",
       "      <td>19748.2</td>\n",
       "    </tr>\n",
       "    <tr>\n",
       "      <th>D4</th>\n",
       "      <td>1.90625e+08</td>\n",
       "      <td>1.921443e+06</td>\n",
       "      <td>314085</td>\n",
       "    </tr>\n",
       "    <tr>\n",
       "      <th>D5</th>\n",
       "      <td>1.90831e+08</td>\n",
       "      <td>2.516527e+06</td>\n",
       "      <td>-75195.4</td>\n",
       "    </tr>\n",
       "    <tr>\n",
       "      <th>D6</th>\n",
       "      <td>1.88787e+08</td>\n",
       "      <td>3.049104e+05</td>\n",
       "      <td>92320</td>\n",
       "    </tr>\n",
       "    <tr>\n",
       "      <th>F</th>\n",
       "      <td>2.30937e+08</td>\n",
       "      <td>4.208761e+07</td>\n",
       "      <td>459376</td>\n",
       "    </tr>\n",
       "  </tbody>\n",
       "</table>\n",
       "</div>"
      ],
      "text/plain": [
       "           comb  oldReimburse     diff\n",
       "C   1.89237e+08  8.053003e+05  42161.3\n",
       "D1  1.93429e+08  5.256260e+06  -216641\n",
       "D2  1.89039e+08  5.353246e+05   113454\n",
       "D3  1.88623e+08  2.137252e+05  19748.2\n",
       "D4  1.90625e+08  1.921443e+06   314085\n",
       "D5  1.90831e+08  2.516527e+06 -75195.4\n",
       "D6  1.88787e+08  3.049104e+05    92320\n",
       "F   2.30937e+08  4.208761e+07   459376"
      ]
     },
     "execution_count": 146,
     "metadata": {},
     "output_type": "execute_result"
    }
   ],
   "source": [
    "combined[abs(combined['diff'])<5*10**5]"
   ]
  },
  {
   "cell_type": "code",
   "execution_count": null,
   "metadata": {
    "collapsed": true
   },
   "outputs": [],
   "source": []
  },
  {
   "cell_type": "markdown",
   "metadata": {},
   "source": []
  },
  {
   "cell_type": "code",
   "execution_count": 55,
   "metadata": {
    "collapsed": false
   },
   "outputs": [
    {
     "data": {
      "text/html": [
       "<div>\n",
       "<table border=\"1\" class=\"dataframe\">\n",
       "  <thead>\n",
       "    <tr style=\"text-align: right;\">\n",
       "      <th></th>\n",
       "      <th>comb</th>\n",
       "      <th>oldReimburse</th>\n",
       "      <th>diff</th>\n",
       "    </tr>\n",
       "  </thead>\n",
       "  <tbody>\n",
       "    <tr>\n",
       "      <th>A</th>\n",
       "      <td>2.4236e+08</td>\n",
       "      <td>6.017225e+07</td>\n",
       "      <td>1.82666e+06</td>\n",
       "    </tr>\n",
       "    <tr>\n",
       "      <th>B</th>\n",
       "      <td>2.96829e+08</td>\n",
       "      <td>4.016719e+06</td>\n",
       "      <td>139877</td>\n",
       "    </tr>\n",
       "    <tr>\n",
       "      <th>C</th>\n",
       "      <td>3.00053e+08</td>\n",
       "      <td>8.053003e+05</td>\n",
       "      <td>152347</td>\n",
       "    </tr>\n",
       "    <tr>\n",
       "      <th>D1</th>\n",
       "      <td>2.95303e+08</td>\n",
       "      <td>5.256260e+06</td>\n",
       "      <td>-146908</td>\n",
       "    </tr>\n",
       "    <tr>\n",
       "      <th>D2</th>\n",
       "      <td>3.00397e+08</td>\n",
       "      <td>5.353246e+05</td>\n",
       "      <td>226752</td>\n",
       "    </tr>\n",
       "    <tr>\n",
       "      <th>D3</th>\n",
       "      <td>3.00474e+08</td>\n",
       "      <td>2.137252e+05</td>\n",
       "      <td>-17799.5</td>\n",
       "    </tr>\n",
       "    <tr>\n",
       "      <th>D4</th>\n",
       "      <td>2.98798e+08</td>\n",
       "      <td>1.921443e+06</td>\n",
       "      <td>13851.7</td>\n",
       "    </tr>\n",
       "    <tr>\n",
       "      <th>D5</th>\n",
       "      <td>2.98408e+08</td>\n",
       "      <td>2.516527e+06</td>\n",
       "      <td>218965</td>\n",
       "    </tr>\n",
       "    <tr>\n",
       "      <th>D6</th>\n",
       "      <td>3.00556e+08</td>\n",
       "      <td>3.049104e+05</td>\n",
       "      <td>154880</td>\n",
       "    </tr>\n",
       "    <tr>\n",
       "      <th>F</th>\n",
       "      <td>2.58273e+08</td>\n",
       "      <td>4.208761e+07</td>\n",
       "      <td>-344955</td>\n",
       "    </tr>\n",
       "  </tbody>\n",
       "</table>\n",
       "</div>"
      ],
      "text/plain": [
       "           comb  oldReimburse         diff\n",
       "A    2.4236e+08  6.017225e+07  1.82666e+06\n",
       "B   2.96829e+08  4.016719e+06       139877\n",
       "C   3.00053e+08  8.053003e+05       152347\n",
       "D1  2.95303e+08  5.256260e+06      -146908\n",
       "D2  3.00397e+08  5.353246e+05       226752\n",
       "D3  3.00474e+08  2.137252e+05     -17799.5\n",
       "D4  2.98798e+08  1.921443e+06      13851.7\n",
       "D5  2.98408e+08  2.516527e+06       218965\n",
       "D6  3.00556e+08  3.049104e+05       154880\n",
       "F   2.58273e+08  4.208761e+07      -344955"
      ]
     },
     "execution_count": 55,
     "metadata": {},
     "output_type": "execute_result"
    }
   ],
   "source": [
    "#old\n",
    "%%capture\n",
    "\n",
    "allbutone = pd.DataFrame(columns=['comb'])\n",
    "grouped = cep.groupby('oldGroup')\n",
    "\n",
    "for name,group in grouped:\n",
    "    df=cep.drop(group.index)\n",
    "    sa,df = simulated_annealing(df,Tmax=1,deltaT=.01)\n",
    "    allbutone.loc[name,'comb'] = sa[-1]\n",
    "\n",
    "allbutone['oldReimburse']=grouped.sum()[['oldReimburse']]\n",
    "allbutone['diff'] = allbutone['comb'] + allbutone['oldReimburse'] - alltrials.mean()[0]\n",
    "allbutone"
   ]
  },
  {
   "cell_type": "code",
   "execution_count": 130,
   "metadata": {
    "collapsed": false
   },
   "outputs": [
    {
     "data": {
      "text/html": [
       "<div>\n",
       "<table border=\"1\" class=\"dataframe\">\n",
       "  <thead>\n",
       "    <tr style=\"text-align: right;\">\n",
       "      <th></th>\n",
       "      <th>comb</th>\n",
       "      <th>oldReimburse</th>\n",
       "      <th>diff</th>\n",
       "    </tr>\n",
       "  </thead>\n",
       "  <tbody>\n",
       "    <tr>\n",
       "      <th>A</th>\n",
       "      <td>2.42596e+08</td>\n",
       "      <td>6.017225e+07</td>\n",
       "      <td>1.55081e+06</td>\n",
       "    </tr>\n",
       "    <tr>\n",
       "      <th>B</th>\n",
       "      <td>2.97436e+08</td>\n",
       "      <td>4.016719e+06</td>\n",
       "      <td>234593</td>\n",
       "    </tr>\n",
       "    <tr>\n",
       "      <th>C</th>\n",
       "      <td>3.00234e+08</td>\n",
       "      <td>8.053003e+05</td>\n",
       "      <td>-178582</td>\n",
       "    </tr>\n",
       "    <tr>\n",
       "      <th>D1</th>\n",
       "      <td>2.9599e+08</td>\n",
       "      <td>5.256260e+06</td>\n",
       "      <td>28256.2</td>\n",
       "    </tr>\n",
       "    <tr>\n",
       "      <th>D2</th>\n",
       "      <td>3.00738e+08</td>\n",
       "      <td>5.353246e+05</td>\n",
       "      <td>55453.6</td>\n",
       "    </tr>\n",
       "    <tr>\n",
       "      <th>D3</th>\n",
       "      <td>3.01164e+08</td>\n",
       "      <td>2.137252e+05</td>\n",
       "      <td>159871</td>\n",
       "    </tr>\n",
       "    <tr>\n",
       "      <th>D4</th>\n",
       "      <td>2.99461e+08</td>\n",
       "      <td>1.921443e+06</td>\n",
       "      <td>164857</td>\n",
       "    </tr>\n",
       "    <tr>\n",
       "      <th>D5</th>\n",
       "      <td>2.98495e+08</td>\n",
       "      <td>2.516527e+06</td>\n",
       "      <td>-206022</td>\n",
       "    </tr>\n",
       "    <tr>\n",
       "      <th>D6</th>\n",
       "      <td>3.00882e+08</td>\n",
       "      <td>3.049104e+05</td>\n",
       "      <td>-31063.5</td>\n",
       "    </tr>\n",
       "    <tr>\n",
       "      <th>F</th>\n",
       "      <td>2.58398e+08</td>\n",
       "      <td>4.208761e+07</td>\n",
       "      <td>-732523</td>\n",
       "    </tr>\n",
       "  </tbody>\n",
       "</table>\n",
       "</div>"
      ],
      "text/plain": [
       "           comb  oldReimburse         diff\n",
       "A   2.42596e+08  6.017225e+07  1.55081e+06\n",
       "B   2.97436e+08  4.016719e+06       234593\n",
       "C   3.00234e+08  8.053003e+05      -178582\n",
       "D1   2.9599e+08  5.256260e+06      28256.2\n",
       "D2  3.00738e+08  5.353246e+05      55453.6\n",
       "D3  3.01164e+08  2.137252e+05       159871\n",
       "D4  2.99461e+08  1.921443e+06       164857\n",
       "D5  2.98495e+08  2.516527e+06      -206022\n",
       "D6  3.00882e+08  3.049104e+05     -31063.5\n",
       "F   2.58398e+08  4.208761e+07      -732523"
      ]
     },
     "execution_count": 130,
     "metadata": {},
     "output_type": "execute_result"
    }
   ],
   "source": [
    "# using ensemble method\n",
    "%%capture\n",
    "\n",
    "allbutone = pd.DataFrame(columns=['comb'])\n",
    "grouped = cep.groupby('oldGroup')\n",
    "\n",
    "for name,group in grouped:\n",
    "    df=cep.drop(group.index).copy()\n",
    "    df = sa_ensemble(df,Tmax=1,deltaT=.01)\n",
    "    allbutone.loc[name,'comb'] = calcReimburse(df)\n",
    "\n",
    "allbutone['oldReimburse']=grouped.sum()[['oldReimburse']]\n",
    "allbutone['diff'] = allbutone['comb'] + allbutone['oldReimburse'] - calcReimburse(cep)\n",
    "allbutone"
   ]
  },
  {
   "cell_type": "code",
   "execution_count": 147,
   "metadata": {
    "collapsed": false
   },
   "outputs": [
    {
     "data": {
      "text/html": [
       "<div>\n",
       "<table border=\"1\" class=\"dataframe\">\n",
       "  <thead>\n",
       "    <tr style=\"text-align: right;\">\n",
       "      <th></th>\n",
       "      <th>comb</th>\n",
       "      <th>oldReimburse</th>\n",
       "      <th>diff</th>\n",
       "    </tr>\n",
       "  </thead>\n",
       "  <tbody>\n",
       "    <tr>\n",
       "      <th>B</th>\n",
       "      <td>2.97436e+08</td>\n",
       "      <td>4.016719e+06</td>\n",
       "      <td>234593</td>\n",
       "    </tr>\n",
       "    <tr>\n",
       "      <th>C</th>\n",
       "      <td>3.00234e+08</td>\n",
       "      <td>8.053003e+05</td>\n",
       "      <td>-178582</td>\n",
       "    </tr>\n",
       "    <tr>\n",
       "      <th>D1</th>\n",
       "      <td>2.9599e+08</td>\n",
       "      <td>5.256260e+06</td>\n",
       "      <td>28256.2</td>\n",
       "    </tr>\n",
       "    <tr>\n",
       "      <th>D2</th>\n",
       "      <td>3.00738e+08</td>\n",
       "      <td>5.353246e+05</td>\n",
       "      <td>55453.6</td>\n",
       "    </tr>\n",
       "    <tr>\n",
       "      <th>D3</th>\n",
       "      <td>3.01164e+08</td>\n",
       "      <td>2.137252e+05</td>\n",
       "      <td>159871</td>\n",
       "    </tr>\n",
       "    <tr>\n",
       "      <th>D4</th>\n",
       "      <td>2.99461e+08</td>\n",
       "      <td>1.921443e+06</td>\n",
       "      <td>164857</td>\n",
       "    </tr>\n",
       "    <tr>\n",
       "      <th>D5</th>\n",
       "      <td>2.98495e+08</td>\n",
       "      <td>2.516527e+06</td>\n",
       "      <td>-206022</td>\n",
       "    </tr>\n",
       "    <tr>\n",
       "      <th>D6</th>\n",
       "      <td>3.00882e+08</td>\n",
       "      <td>3.049104e+05</td>\n",
       "      <td>-31063.5</td>\n",
       "    </tr>\n",
       "  </tbody>\n",
       "</table>\n",
       "</div>"
      ],
      "text/plain": [
       "           comb  oldReimburse     diff\n",
       "B   2.97436e+08  4.016719e+06   234593\n",
       "C   3.00234e+08  8.053003e+05  -178582\n",
       "D1   2.9599e+08  5.256260e+06  28256.2\n",
       "D2  3.00738e+08  5.353246e+05  55453.6\n",
       "D3  3.01164e+08  2.137252e+05   159871\n",
       "D4  2.99461e+08  1.921443e+06   164857\n",
       "D5  2.98495e+08  2.516527e+06  -206022\n",
       "D6  3.00882e+08  3.049104e+05 -31063.5"
      ]
     },
     "execution_count": 147,
     "metadata": {},
     "output_type": "execute_result"
    }
   ],
   "source": [
    "allbutone[abs(allbutone['diff'])<5*10**5]"
   ]
  },
  {
   "cell_type": "code",
   "execution_count": null,
   "metadata": {
    "collapsed": true
   },
   "outputs": [],
   "source": []
  },
  {
   "cell_type": "code",
   "execution_count": null,
   "metadata": {
    "collapsed": true
   },
   "outputs": [],
   "source": []
  },
  {
   "cell_type": "code",
   "execution_count": null,
   "metadata": {
    "collapsed": true
   },
   "outputs": [],
   "source": []
  },
  {
   "cell_type": "code",
   "execution_count": 132,
   "metadata": {
    "collapsed": false
   },
   "outputs": [
    {
     "data": {
      "text/html": [
       "<div>\n",
       "<table border=\"1\" class=\"dataframe\">\n",
       "  <thead>\n",
       "    <tr style=\"text-align: right;\">\n",
       "      <th></th>\n",
       "      <th>comb</th>\n",
       "      <th>oldReimburse</th>\n",
       "      <th>diff</th>\n",
       "    </tr>\n",
       "  </thead>\n",
       "  <tbody>\n",
       "    <tr>\n",
       "      <th>D2</th>\n",
       "      <td>1.89039e+08</td>\n",
       "      <td>5.353246e+05</td>\n",
       "      <td>113454</td>\n",
       "    </tr>\n",
       "    <tr>\n",
       "      <th>D3</th>\n",
       "      <td>1.88623e+08</td>\n",
       "      <td>2.137252e+05</td>\n",
       "      <td>19748.2</td>\n",
       "    </tr>\n",
       "    <tr>\n",
       "      <th>D4</th>\n",
       "      <td>1.90625e+08</td>\n",
       "      <td>1.921443e+06</td>\n",
       "      <td>314085</td>\n",
       "    </tr>\n",
       "    <tr>\n",
       "      <th>D5</th>\n",
       "      <td>1.90831e+08</td>\n",
       "      <td>2.516527e+06</td>\n",
       "      <td>-75195.4</td>\n",
       "    </tr>\n",
       "  </tbody>\n",
       "</table>\n",
       "</div>"
      ],
      "text/plain": [
       "           comb  oldReimburse     diff\n",
       "D2  1.89039e+08  5.353246e+05   113454\n",
       "D3  1.88623e+08  2.137252e+05  19748.2\n",
       "D4  1.90625e+08  1.921443e+06   314085\n",
       "D5  1.90831e+08  2.516527e+06 -75195.4"
      ]
     },
     "execution_count": 132,
     "metadata": {},
     "output_type": "execute_result"
    }
   ],
   "source": [
    "#where the two differ\n",
    "combined[combined['diff']*allbutone['diff']>0]"
   ]
  },
  {
   "cell_type": "code",
   "execution_count": 136,
   "metadata": {
    "collapsed": false
   },
   "outputs": [
    {
     "data": {
      "text/html": [
       "<div>\n",
       "<table border=\"1\" class=\"dataframe\">\n",
       "  <thead>\n",
       "    <tr style=\"text-align: right;\">\n",
       "      <th></th>\n",
       "      <th>School</th>\n",
       "    </tr>\n",
       "    <tr>\n",
       "      <th>oldGroup</th>\n",
       "      <th></th>\n",
       "    </tr>\n",
       "  </thead>\n",
       "  <tbody>\n",
       "    <tr>\n",
       "      <th>A</th>\n",
       "      <td>428</td>\n",
       "    </tr>\n",
       "    <tr>\n",
       "      <th>B</th>\n",
       "      <td>158</td>\n",
       "    </tr>\n",
       "    <tr>\n",
       "      <th>C</th>\n",
       "      <td>8</td>\n",
       "    </tr>\n",
       "    <tr>\n",
       "      <th>D1</th>\n",
       "      <td>27</td>\n",
       "    </tr>\n",
       "    <tr>\n",
       "      <th>D2</th>\n",
       "      <td>6</td>\n",
       "    </tr>\n",
       "    <tr>\n",
       "      <th>D3</th>\n",
       "      <td>6</td>\n",
       "    </tr>\n",
       "    <tr>\n",
       "      <th>D4</th>\n",
       "      <td>17</td>\n",
       "    </tr>\n",
       "    <tr>\n",
       "      <th>D5</th>\n",
       "      <td>29</td>\n",
       "    </tr>\n",
       "    <tr>\n",
       "      <th>D6</th>\n",
       "      <td>4</td>\n",
       "    </tr>\n",
       "    <tr>\n",
       "      <th>F</th>\n",
       "      <td>244</td>\n",
       "    </tr>\n",
       "  </tbody>\n",
       "</table>\n",
       "</div>"
      ],
      "text/plain": [
       "          School\n",
       "oldGroup        \n",
       "A            428\n",
       "B            158\n",
       "C              8\n",
       "D1            27\n",
       "D2             6\n",
       "D3             6\n",
       "D4            17\n",
       "D5            29\n",
       "D6             4\n",
       "F            244"
      ]
     },
     "execution_count": 136,
     "metadata": {},
     "output_type": "execute_result"
    }
   ],
   "source": [
    "cepExist.groupby('oldGroup').count()[['School']]"
   ]
  },
  {
   "cell_type": "code",
   "execution_count": null,
   "metadata": {
    "collapsed": true
   },
   "outputs": [],
   "source": []
  },
  {
   "cell_type": "code",
   "execution_count": null,
   "metadata": {
    "collapsed": true
   },
   "outputs": [],
   "source": []
  },
  {
   "cell_type": "code",
   "execution_count": null,
   "metadata": {
    "collapsed": true
   },
   "outputs": [],
   "source": []
  },
  {
   "cell_type": "code",
   "execution_count": null,
   "metadata": {
    "collapsed": true
   },
   "outputs": [],
   "source": []
  },
  {
   "cell_type": "code",
   "execution_count": null,
   "metadata": {
    "collapsed": true
   },
   "outputs": [],
   "source": []
  },
  {
   "cell_type": "code",
   "execution_count": null,
   "metadata": {
    "collapsed": true
   },
   "outputs": [],
   "source": [
    "drop"
   ]
  },
  {
   "cell_type": "code",
   "execution_count": 20,
   "metadata": {
    "collapsed": true
   },
   "outputs": [],
   "source": [
    "from itertools import product\n",
    "# use itertools to list out all the possibilities 2^10\n",
    "columns = cepExist.groupby('oldGroup').count().index\n",
    "regroupings = pd.DataFrame(list(product(['yes','no'],repeat=10)),columns=columns)"
   ]
  },
  {
   "cell_type": "code",
   "execution_count": 26,
   "metadata": {
    "collapsed": false,
    "scrolled": true
   },
   "outputs": [
    {
     "ename": "KeyboardInterrupt",
     "evalue": "",
     "output_type": "error",
     "traceback": [
      "\u001b[1;31m---------------------------------------------------------------------------\u001b[0m",
      "\u001b[1;31mKeyboardInterrupt\u001b[0m                         Traceback (most recent call last)",
      "\u001b[1;32m<ipython-input-26-9369790cf3f6>\u001b[0m in \u001b[0;36m<module>\u001b[1;34m()\u001b[0m\n\u001b[0;32m      7\u001b[0m     \u001b[0mcepOldgroup\u001b[0m \u001b[1;33m=\u001b[0m \u001b[0mdf\u001b[0m\u001b[1;33m[\u001b[0m\u001b[0mdf\u001b[0m\u001b[1;33m.\u001b[0m\u001b[0mregroup\u001b[0m\u001b[1;33m==\u001b[0m\u001b[1;34m'no'\u001b[0m\u001b[1;33m]\u001b[0m\u001b[1;33m.\u001b[0m\u001b[0mcopy\u001b[0m\u001b[1;33m(\u001b[0m\u001b[1;33m)\u001b[0m\u001b[1;33m\u001b[0m\u001b[0m\n\u001b[0;32m      8\u001b[0m \u001b[1;33m\u001b[0m\u001b[0m\n\u001b[1;32m----> 9\u001b[1;33m     \u001b[0mresults\u001b[0m\u001b[1;33m,\u001b[0m\u001b[0mcepRegroup\u001b[0m \u001b[1;33m=\u001b[0m \u001b[0msimulated_annealing\u001b[0m\u001b[1;33m(\u001b[0m\u001b[0mcepRegroup\u001b[0m\u001b[1;33m,\u001b[0m\u001b[0mTmax\u001b[0m\u001b[1;33m=\u001b[0m\u001b[1;36m1\u001b[0m\u001b[1;33m,\u001b[0m\u001b[0mdeltaT\u001b[0m\u001b[1;33m=\u001b[0m\u001b[1;36m.1\u001b[0m\u001b[1;33m)\u001b[0m\u001b[1;33m\u001b[0m\u001b[0m\n\u001b[0m\u001b[0;32m     10\u001b[0m     \u001b[0mtotalR\u001b[0m \u001b[1;33m=\u001b[0m \u001b[0mresults\u001b[0m\u001b[1;33m[\u001b[0m\u001b[1;33m-\u001b[0m\u001b[1;36m1\u001b[0m\u001b[1;33m]\u001b[0m\u001b[1;33m+\u001b[0m\u001b[0mcepOldgroup\u001b[0m\u001b[1;33m[\u001b[0m\u001b[1;34m'oldReimburse'\u001b[0m\u001b[1;33m]\u001b[0m\u001b[1;33m.\u001b[0m\u001b[0msum\u001b[0m\u001b[1;33m(\u001b[0m\u001b[1;33m)\u001b[0m\u001b[1;33m\u001b[0m\u001b[0m\n\u001b[0;32m     11\u001b[0m     \u001b[0mregroupings\u001b[0m\u001b[1;33m.\u001b[0m\u001b[0mloc\u001b[0m\u001b[1;33m[\u001b[0m\u001b[0mi\u001b[0m\u001b[1;33m,\u001b[0m\u001b[1;34m'reimburse'\u001b[0m\u001b[1;33m]\u001b[0m\u001b[1;33m=\u001b[0m\u001b[0mtotalR\u001b[0m\u001b[1;33m\u001b[0m\u001b[0m\n",
      "\u001b[1;32m<ipython-input-25-c8e3a09ee1b6>\u001b[0m in \u001b[0;36msimulated_annealing\u001b[1;34m(cep, seed, ngroups, Tmax, deltaT)\u001b[0m\n\u001b[0;32m     17\u001b[0m \u001b[1;33m\u001b[0m\u001b[0m\n\u001b[0;32m     18\u001b[0m             \u001b[1;31m# choose a random school and move it to a different random group\u001b[0m\u001b[1;33m\u001b[0m\u001b[1;33m\u001b[0m\u001b[0m\n\u001b[1;32m---> 19\u001b[1;33m             \u001b[0mdf\u001b[0m\u001b[1;33m.\u001b[0m\u001b[0mloc\u001b[0m\u001b[1;33m[\u001b[0m\u001b[0mnp\u001b[0m\u001b[1;33m.\u001b[0m\u001b[0mrandom\u001b[0m\u001b[1;33m.\u001b[0m\u001b[0mrandint\u001b[0m\u001b[1;33m(\u001b[0m\u001b[1;36m0\u001b[0m\u001b[1;33m,\u001b[0m\u001b[0mrows\u001b[0m\u001b[1;33m)\u001b[0m\u001b[1;33m,\u001b[0m\u001b[1;34m'group'\u001b[0m\u001b[1;33m]\u001b[0m \u001b[1;33m=\u001b[0m \u001b[0mnp\u001b[0m\u001b[1;33m.\u001b[0m\u001b[0mrandom\u001b[0m\u001b[1;33m.\u001b[0m\u001b[0mrandint\u001b[0m\u001b[1;33m(\u001b[0m\u001b[1;36m0\u001b[0m\u001b[1;33m,\u001b[0m\u001b[0mngroups\u001b[0m\u001b[1;33m)\u001b[0m\u001b[1;33m\u001b[0m\u001b[0m\n\u001b[0m\u001b[0;32m     20\u001b[0m \u001b[1;33m\u001b[0m\u001b[0m\n\u001b[0;32m     21\u001b[0m             \u001b[1;31m# calculate the reimbursement\u001b[0m\u001b[1;33m\u001b[0m\u001b[1;33m\u001b[0m\u001b[0m\n",
      "\u001b[1;32m/usr/local/lib/python2.7/dist-packages/pandas/core/indexing.pyc\u001b[0m in \u001b[0;36m__setitem__\u001b[1;34m(self, key, value)\u001b[0m\n\u001b[0;32m    139\u001b[0m             \u001b[0mkey\u001b[0m \u001b[1;33m=\u001b[0m \u001b[0mcom\u001b[0m\u001b[1;33m.\u001b[0m\u001b[0m_apply_if_callable\u001b[0m\u001b[1;33m(\u001b[0m\u001b[0mkey\u001b[0m\u001b[1;33m,\u001b[0m \u001b[0mself\u001b[0m\u001b[1;33m.\u001b[0m\u001b[0mobj\u001b[0m\u001b[1;33m)\u001b[0m\u001b[1;33m\u001b[0m\u001b[0m\n\u001b[0;32m    140\u001b[0m         \u001b[0mindexer\u001b[0m \u001b[1;33m=\u001b[0m \u001b[0mself\u001b[0m\u001b[1;33m.\u001b[0m\u001b[0m_get_setitem_indexer\u001b[0m\u001b[1;33m(\u001b[0m\u001b[0mkey\u001b[0m\u001b[1;33m)\u001b[0m\u001b[1;33m\u001b[0m\u001b[0m\n\u001b[1;32m--> 141\u001b[1;33m         \u001b[0mself\u001b[0m\u001b[1;33m.\u001b[0m\u001b[0m_setitem_with_indexer\u001b[0m\u001b[1;33m(\u001b[0m\u001b[0mindexer\u001b[0m\u001b[1;33m,\u001b[0m \u001b[0mvalue\u001b[0m\u001b[1;33m)\u001b[0m\u001b[1;33m\u001b[0m\u001b[0m\n\u001b[0m\u001b[0;32m    142\u001b[0m \u001b[1;33m\u001b[0m\u001b[0m\n\u001b[0;32m    143\u001b[0m     \u001b[1;32mdef\u001b[0m \u001b[0m_has_valid_type\u001b[0m\u001b[1;33m(\u001b[0m\u001b[0mself\u001b[0m\u001b[1;33m,\u001b[0m \u001b[0mk\u001b[0m\u001b[1;33m,\u001b[0m \u001b[0maxis\u001b[0m\u001b[1;33m)\u001b[0m\u001b[1;33m:\u001b[0m\u001b[1;33m\u001b[0m\u001b[0m\n",
      "\u001b[1;32m/usr/local/lib/python2.7/dist-packages/pandas/core/indexing.pyc\u001b[0m in \u001b[0;36m_setitem_with_indexer\u001b[1;34m(self, indexer, value)\u001b[0m\n\u001b[0;32m    546\u001b[0m                 \u001b[1;31m# scalar\u001b[0m\u001b[1;33m\u001b[0m\u001b[1;33m\u001b[0m\u001b[0m\n\u001b[0;32m    547\u001b[0m                 \u001b[1;32mfor\u001b[0m \u001b[0mitem\u001b[0m \u001b[1;32min\u001b[0m \u001b[0mlabels\u001b[0m\u001b[1;33m:\u001b[0m\u001b[1;33m\u001b[0m\u001b[0m\n\u001b[1;32m--> 548\u001b[1;33m                     \u001b[0msetter\u001b[0m\u001b[1;33m(\u001b[0m\u001b[0mitem\u001b[0m\u001b[1;33m,\u001b[0m \u001b[0mvalue\u001b[0m\u001b[1;33m)\u001b[0m\u001b[1;33m\u001b[0m\u001b[0m\n\u001b[0m\u001b[0;32m    549\u001b[0m \u001b[1;33m\u001b[0m\u001b[0m\n\u001b[0;32m    550\u001b[0m         \u001b[1;32melse\u001b[0m\u001b[1;33m:\u001b[0m\u001b[1;33m\u001b[0m\u001b[0m\n",
      "\u001b[1;32m/usr/local/lib/python2.7/dist-packages/pandas/core/indexing.pyc\u001b[0m in \u001b[0;36msetter\u001b[1;34m(item, v)\u001b[0m\n\u001b[0;32m    470\u001b[0m                     \u001b[1;31m# set the item, possibly having a dtype change\u001b[0m\u001b[1;33m\u001b[0m\u001b[1;33m\u001b[0m\u001b[0m\n\u001b[0;32m    471\u001b[0m                     \u001b[0ms\u001b[0m\u001b[1;33m.\u001b[0m\u001b[0m_consolidate_inplace\u001b[0m\u001b[1;33m(\u001b[0m\u001b[1;33m)\u001b[0m\u001b[1;33m\u001b[0m\u001b[0m\n\u001b[1;32m--> 472\u001b[1;33m                     \u001b[0ms\u001b[0m \u001b[1;33m=\u001b[0m \u001b[0ms\u001b[0m\u001b[1;33m.\u001b[0m\u001b[0mcopy\u001b[0m\u001b[1;33m(\u001b[0m\u001b[1;33m)\u001b[0m\u001b[1;33m\u001b[0m\u001b[0m\n\u001b[0m\u001b[0;32m    473\u001b[0m                     \u001b[0ms\u001b[0m\u001b[1;33m.\u001b[0m\u001b[0m_data\u001b[0m \u001b[1;33m=\u001b[0m \u001b[0ms\u001b[0m\u001b[1;33m.\u001b[0m\u001b[0m_data\u001b[0m\u001b[1;33m.\u001b[0m\u001b[0msetitem\u001b[0m\u001b[1;33m(\u001b[0m\u001b[0mindexer\u001b[0m\u001b[1;33m=\u001b[0m\u001b[0mpi\u001b[0m\u001b[1;33m,\u001b[0m \u001b[0mvalue\u001b[0m\u001b[1;33m=\u001b[0m\u001b[0mv\u001b[0m\u001b[1;33m)\u001b[0m\u001b[1;33m\u001b[0m\u001b[0m\n\u001b[0;32m    474\u001b[0m                     \u001b[0ms\u001b[0m\u001b[1;33m.\u001b[0m\u001b[0m_maybe_update_cacher\u001b[0m\u001b[1;33m(\u001b[0m\u001b[0mclear\u001b[0m\u001b[1;33m=\u001b[0m\u001b[0mTrue\u001b[0m\u001b[1;33m)\u001b[0m\u001b[1;33m\u001b[0m\u001b[0m\n",
      "\u001b[1;32m/usr/local/lib/python2.7/dist-packages/pandas/core/generic.pyc\u001b[0m in \u001b[0;36mcopy\u001b[1;34m(self, deep)\u001b[0m\n\u001b[0;32m   3074\u001b[0m         \u001b[0mcopy\u001b[0m \u001b[1;33m:\u001b[0m \u001b[0mtype\u001b[0m \u001b[0mof\u001b[0m \u001b[0mcaller\u001b[0m\u001b[1;33m\u001b[0m\u001b[0m\n\u001b[0;32m   3075\u001b[0m         \"\"\"\n\u001b[1;32m-> 3076\u001b[1;33m         \u001b[0mdata\u001b[0m \u001b[1;33m=\u001b[0m \u001b[0mself\u001b[0m\u001b[1;33m.\u001b[0m\u001b[0m_data\u001b[0m\u001b[1;33m.\u001b[0m\u001b[0mcopy\u001b[0m\u001b[1;33m(\u001b[0m\u001b[0mdeep\u001b[0m\u001b[1;33m=\u001b[0m\u001b[0mdeep\u001b[0m\u001b[1;33m)\u001b[0m\u001b[1;33m\u001b[0m\u001b[0m\n\u001b[0m\u001b[0;32m   3077\u001b[0m         \u001b[1;32mreturn\u001b[0m \u001b[0mself\u001b[0m\u001b[1;33m.\u001b[0m\u001b[0m_constructor\u001b[0m\u001b[1;33m(\u001b[0m\u001b[0mdata\u001b[0m\u001b[1;33m)\u001b[0m\u001b[1;33m.\u001b[0m\u001b[0m__finalize__\u001b[0m\u001b[1;33m(\u001b[0m\u001b[0mself\u001b[0m\u001b[1;33m)\u001b[0m\u001b[1;33m\u001b[0m\u001b[0m\n\u001b[0;32m   3078\u001b[0m \u001b[1;33m\u001b[0m\u001b[0m\n",
      "\u001b[1;32m/usr/local/lib/python2.7/dist-packages/pandas/core/internals.pyc\u001b[0m in \u001b[0;36mcopy\u001b[1;34m(self, deep, mgr)\u001b[0m\n\u001b[0;32m   3387\u001b[0m             \u001b[0mnew_axes\u001b[0m \u001b[1;33m=\u001b[0m \u001b[0mlist\u001b[0m\u001b[1;33m(\u001b[0m\u001b[0mself\u001b[0m\u001b[1;33m.\u001b[0m\u001b[0maxes\u001b[0m\u001b[1;33m)\u001b[0m\u001b[1;33m\u001b[0m\u001b[0m\n\u001b[0;32m   3388\u001b[0m         return self.apply('copy', axes=new_axes, deep=deep,\n\u001b[1;32m-> 3389\u001b[1;33m                           do_integrity_check=False)\n\u001b[0m\u001b[0;32m   3390\u001b[0m \u001b[1;33m\u001b[0m\u001b[0m\n\u001b[0;32m   3391\u001b[0m     \u001b[1;32mdef\u001b[0m \u001b[0mas_matrix\u001b[0m\u001b[1;33m(\u001b[0m\u001b[0mself\u001b[0m\u001b[1;33m,\u001b[0m \u001b[0mitems\u001b[0m\u001b[1;33m=\u001b[0m\u001b[0mNone\u001b[0m\u001b[1;33m)\u001b[0m\u001b[1;33m:\u001b[0m\u001b[1;33m\u001b[0m\u001b[0m\n",
      "\u001b[1;32m/usr/local/lib/python2.7/dist-packages/pandas/core/internals.pyc\u001b[0m in \u001b[0;36mapply\u001b[1;34m(self, f, axes, filter, do_integrity_check, consolidate, **kwargs)\u001b[0m\n\u001b[0;32m   3060\u001b[0m             \u001b[1;32mreturn\u001b[0m \u001b[0mself\u001b[0m\u001b[1;33m.\u001b[0m\u001b[0mmake_empty\u001b[0m\u001b[1;33m(\u001b[0m\u001b[0maxes\u001b[0m \u001b[1;32mor\u001b[0m \u001b[0mself\u001b[0m\u001b[1;33m.\u001b[0m\u001b[0maxes\u001b[0m\u001b[1;33m)\u001b[0m\u001b[1;33m\u001b[0m\u001b[0m\n\u001b[0;32m   3061\u001b[0m         bm = self.__class__(result_blocks, axes or self.axes,\n\u001b[1;32m-> 3062\u001b[1;33m                             do_integrity_check=do_integrity_check)\n\u001b[0m\u001b[0;32m   3063\u001b[0m         \u001b[0mbm\u001b[0m\u001b[1;33m.\u001b[0m\u001b[0m_consolidate_inplace\u001b[0m\u001b[1;33m(\u001b[0m\u001b[1;33m)\u001b[0m\u001b[1;33m\u001b[0m\u001b[0m\n\u001b[0;32m   3064\u001b[0m         \u001b[1;32mreturn\u001b[0m \u001b[0mbm\u001b[0m\u001b[1;33m\u001b[0m\u001b[0m\n",
      "\u001b[1;32m/usr/local/lib/python2.7/dist-packages/pandas/core/internals.pyc\u001b[0m in \u001b[0;36m__init__\u001b[1;34m(self, block, axis, do_integrity_check, fastpath)\u001b[0m\n\u001b[0;32m   4050\u001b[0m                 \u001b[0mblock\u001b[0m \u001b[1;33m=\u001b[0m \u001b[0mblock\u001b[0m\u001b[1;33m[\u001b[0m\u001b[1;36m0\u001b[0m\u001b[1;33m]\u001b[0m\u001b[1;33m\u001b[0m\u001b[0m\n\u001b[0;32m   4051\u001b[0m         \u001b[1;32melse\u001b[0m\u001b[1;33m:\u001b[0m\u001b[1;33m\u001b[0m\u001b[0m\n\u001b[1;32m-> 4052\u001b[1;33m             \u001b[0mself\u001b[0m\u001b[1;33m.\u001b[0m\u001b[0maxes\u001b[0m \u001b[1;33m=\u001b[0m \u001b[1;33m[\u001b[0m\u001b[0m_ensure_index\u001b[0m\u001b[1;33m(\u001b[0m\u001b[0maxis\u001b[0m\u001b[1;33m)\u001b[0m\u001b[1;33m]\u001b[0m\u001b[1;33m\u001b[0m\u001b[0m\n\u001b[0m\u001b[0;32m   4053\u001b[0m \u001b[1;33m\u001b[0m\u001b[0m\n\u001b[0;32m   4054\u001b[0m             \u001b[1;31m# create the block here\u001b[0m\u001b[1;33m\u001b[0m\u001b[1;33m\u001b[0m\u001b[0m\n",
      "\u001b[1;31mKeyboardInterrupt\u001b[0m: "
     ]
    }
   ],
   "source": [
    "for i in range(regroupings.shape[0]):\n",
    "    df = cep.merge(regroupings.loc[i].to_frame('regroup'),how='left',\n",
    "                   left_on='oldGroup',right_index=True)\n",
    "\n",
    "    #calculate based on groups\n",
    "    cepRegroup = df[df.regroup!='no'].copy()\n",
    "    cepOldgroup = df[df.regroup=='no'].copy()\n",
    "\n",
    "    results,cepRegroup = simulated_annealing(cepRegroup,Tmax=1,deltaT=.1)\n",
    "    totalR = results[-1]+cepOldgroup['oldReimburse'].sum()\n",
    "    regroupings.loc[i,'reimburse']=totalR"
   ]
  },
  {
   "cell_type": "code",
   "execution_count": 29,
   "metadata": {
    "collapsed": false
   },
   "outputs": [
    {
     "data": {
      "text/plain": [
       "111"
      ]
     },
     "execution_count": 29,
     "metadata": {},
     "output_type": "execute_result"
    }
   ],
   "source": [
    "regroupings.reimburse.count()"
   ]
  },
  {
   "cell_type": "code",
   "execution_count": 45,
   "metadata": {
    "collapsed": false
   },
   "outputs": [
    {
     "data": {
      "text/html": [
       "<div>\n",
       "<table border=\"1\" class=\"dataframe\">\n",
       "  <thead>\n",
       "    <tr style=\"text-align: right;\">\n",
       "      <th>oldGroup</th>\n",
       "      <th>A</th>\n",
       "      <th>B</th>\n",
       "      <th>C</th>\n",
       "      <th>D1</th>\n",
       "      <th>D2</th>\n",
       "      <th>D3</th>\n",
       "      <th>D4</th>\n",
       "      <th>D5</th>\n",
       "      <th>D6</th>\n",
       "      <th>F</th>\n",
       "      <th>reimburse</th>\n",
       "    </tr>\n",
       "  </thead>\n",
       "  <tbody>\n",
       "    <tr>\n",
       "      <th>0</th>\n",
       "      <td>yes</td>\n",
       "      <td>yes</td>\n",
       "      <td>yes</td>\n",
       "      <td>yes</td>\n",
       "      <td>yes</td>\n",
       "      <td>yes</td>\n",
       "      <td>yes</td>\n",
       "      <td>yes</td>\n",
       "      <td>yes</td>\n",
       "      <td>yes</td>\n",
       "      <td>2.951615e+08</td>\n",
       "    </tr>\n",
       "    <tr>\n",
       "      <th>1</th>\n",
       "      <td>yes</td>\n",
       "      <td>yes</td>\n",
       "      <td>yes</td>\n",
       "      <td>yes</td>\n",
       "      <td>yes</td>\n",
       "      <td>yes</td>\n",
       "      <td>yes</td>\n",
       "      <td>yes</td>\n",
       "      <td>yes</td>\n",
       "      <td>no</td>\n",
       "      <td>2.948609e+08</td>\n",
       "    </tr>\n",
       "    <tr>\n",
       "      <th>2</th>\n",
       "      <td>yes</td>\n",
       "      <td>yes</td>\n",
       "      <td>yes</td>\n",
       "      <td>yes</td>\n",
       "      <td>yes</td>\n",
       "      <td>yes</td>\n",
       "      <td>yes</td>\n",
       "      <td>yes</td>\n",
       "      <td>no</td>\n",
       "      <td>yes</td>\n",
       "      <td>2.951668e+08</td>\n",
       "    </tr>\n",
       "    <tr>\n",
       "      <th>3</th>\n",
       "      <td>yes</td>\n",
       "      <td>yes</td>\n",
       "      <td>yes</td>\n",
       "      <td>yes</td>\n",
       "      <td>yes</td>\n",
       "      <td>yes</td>\n",
       "      <td>yes</td>\n",
       "      <td>yes</td>\n",
       "      <td>no</td>\n",
       "      <td>no</td>\n",
       "      <td>2.958426e+08</td>\n",
       "    </tr>\n",
       "    <tr>\n",
       "      <th>4</th>\n",
       "      <td>yes</td>\n",
       "      <td>yes</td>\n",
       "      <td>yes</td>\n",
       "      <td>yes</td>\n",
       "      <td>yes</td>\n",
       "      <td>yes</td>\n",
       "      <td>yes</td>\n",
       "      <td>no</td>\n",
       "      <td>yes</td>\n",
       "      <td>yes</td>\n",
       "      <td>2.953677e+08</td>\n",
       "    </tr>\n",
       "    <tr>\n",
       "      <th>5</th>\n",
       "      <td>yes</td>\n",
       "      <td>yes</td>\n",
       "      <td>yes</td>\n",
       "      <td>yes</td>\n",
       "      <td>yes</td>\n",
       "      <td>yes</td>\n",
       "      <td>yes</td>\n",
       "      <td>no</td>\n",
       "      <td>yes</td>\n",
       "      <td>no</td>\n",
       "      <td>2.949626e+08</td>\n",
       "    </tr>\n",
       "    <tr>\n",
       "      <th>6</th>\n",
       "      <td>yes</td>\n",
       "      <td>yes</td>\n",
       "      <td>yes</td>\n",
       "      <td>yes</td>\n",
       "      <td>yes</td>\n",
       "      <td>yes</td>\n",
       "      <td>yes</td>\n",
       "      <td>no</td>\n",
       "      <td>no</td>\n",
       "      <td>yes</td>\n",
       "      <td>2.962628e+08</td>\n",
       "    </tr>\n",
       "    <tr>\n",
       "      <th>7</th>\n",
       "      <td>yes</td>\n",
       "      <td>yes</td>\n",
       "      <td>yes</td>\n",
       "      <td>yes</td>\n",
       "      <td>yes</td>\n",
       "      <td>yes</td>\n",
       "      <td>yes</td>\n",
       "      <td>no</td>\n",
       "      <td>no</td>\n",
       "      <td>no</td>\n",
       "      <td>2.944353e+08</td>\n",
       "    </tr>\n",
       "    <tr>\n",
       "      <th>8</th>\n",
       "      <td>yes</td>\n",
       "      <td>yes</td>\n",
       "      <td>yes</td>\n",
       "      <td>yes</td>\n",
       "      <td>yes</td>\n",
       "      <td>yes</td>\n",
       "      <td>no</td>\n",
       "      <td>yes</td>\n",
       "      <td>yes</td>\n",
       "      <td>yes</td>\n",
       "      <td>2.944328e+08</td>\n",
       "    </tr>\n",
       "    <tr>\n",
       "      <th>9</th>\n",
       "      <td>yes</td>\n",
       "      <td>yes</td>\n",
       "      <td>yes</td>\n",
       "      <td>yes</td>\n",
       "      <td>yes</td>\n",
       "      <td>yes</td>\n",
       "      <td>no</td>\n",
       "      <td>yes</td>\n",
       "      <td>yes</td>\n",
       "      <td>no</td>\n",
       "      <td>2.945084e+08</td>\n",
       "    </tr>\n",
       "    <tr>\n",
       "      <th>10</th>\n",
       "      <td>yes</td>\n",
       "      <td>yes</td>\n",
       "      <td>yes</td>\n",
       "      <td>yes</td>\n",
       "      <td>yes</td>\n",
       "      <td>yes</td>\n",
       "      <td>no</td>\n",
       "      <td>yes</td>\n",
       "      <td>no</td>\n",
       "      <td>yes</td>\n",
       "      <td>2.952517e+08</td>\n",
       "    </tr>\n",
       "    <tr>\n",
       "      <th>11</th>\n",
       "      <td>yes</td>\n",
       "      <td>yes</td>\n",
       "      <td>yes</td>\n",
       "      <td>yes</td>\n",
       "      <td>yes</td>\n",
       "      <td>yes</td>\n",
       "      <td>no</td>\n",
       "      <td>yes</td>\n",
       "      <td>no</td>\n",
       "      <td>no</td>\n",
       "      <td>2.947485e+08</td>\n",
       "    </tr>\n",
       "    <tr>\n",
       "      <th>12</th>\n",
       "      <td>yes</td>\n",
       "      <td>yes</td>\n",
       "      <td>yes</td>\n",
       "      <td>yes</td>\n",
       "      <td>yes</td>\n",
       "      <td>yes</td>\n",
       "      <td>no</td>\n",
       "      <td>no</td>\n",
       "      <td>yes</td>\n",
       "      <td>yes</td>\n",
       "      <td>2.954289e+08</td>\n",
       "    </tr>\n",
       "    <tr>\n",
       "      <th>13</th>\n",
       "      <td>yes</td>\n",
       "      <td>yes</td>\n",
       "      <td>yes</td>\n",
       "      <td>yes</td>\n",
       "      <td>yes</td>\n",
       "      <td>yes</td>\n",
       "      <td>no</td>\n",
       "      <td>no</td>\n",
       "      <td>yes</td>\n",
       "      <td>no</td>\n",
       "      <td>2.954810e+08</td>\n",
       "    </tr>\n",
       "    <tr>\n",
       "      <th>14</th>\n",
       "      <td>yes</td>\n",
       "      <td>yes</td>\n",
       "      <td>yes</td>\n",
       "      <td>yes</td>\n",
       "      <td>yes</td>\n",
       "      <td>yes</td>\n",
       "      <td>no</td>\n",
       "      <td>no</td>\n",
       "      <td>no</td>\n",
       "      <td>yes</td>\n",
       "      <td>2.960713e+08</td>\n",
       "    </tr>\n",
       "    <tr>\n",
       "      <th>15</th>\n",
       "      <td>yes</td>\n",
       "      <td>yes</td>\n",
       "      <td>yes</td>\n",
       "      <td>yes</td>\n",
       "      <td>yes</td>\n",
       "      <td>yes</td>\n",
       "      <td>no</td>\n",
       "      <td>no</td>\n",
       "      <td>no</td>\n",
       "      <td>no</td>\n",
       "      <td>2.951536e+08</td>\n",
       "    </tr>\n",
       "    <tr>\n",
       "      <th>16</th>\n",
       "      <td>yes</td>\n",
       "      <td>yes</td>\n",
       "      <td>yes</td>\n",
       "      <td>yes</td>\n",
       "      <td>yes</td>\n",
       "      <td>no</td>\n",
       "      <td>yes</td>\n",
       "      <td>yes</td>\n",
       "      <td>yes</td>\n",
       "      <td>yes</td>\n",
       "      <td>2.954552e+08</td>\n",
       "    </tr>\n",
       "    <tr>\n",
       "      <th>17</th>\n",
       "      <td>yes</td>\n",
       "      <td>yes</td>\n",
       "      <td>yes</td>\n",
       "      <td>yes</td>\n",
       "      <td>yes</td>\n",
       "      <td>no</td>\n",
       "      <td>yes</td>\n",
       "      <td>yes</td>\n",
       "      <td>yes</td>\n",
       "      <td>no</td>\n",
       "      <td>2.946550e+08</td>\n",
       "    </tr>\n",
       "    <tr>\n",
       "      <th>18</th>\n",
       "      <td>yes</td>\n",
       "      <td>yes</td>\n",
       "      <td>yes</td>\n",
       "      <td>yes</td>\n",
       "      <td>yes</td>\n",
       "      <td>no</td>\n",
       "      <td>yes</td>\n",
       "      <td>yes</td>\n",
       "      <td>no</td>\n",
       "      <td>yes</td>\n",
       "      <td>2.953613e+08</td>\n",
       "    </tr>\n",
       "    <tr>\n",
       "      <th>19</th>\n",
       "      <td>yes</td>\n",
       "      <td>yes</td>\n",
       "      <td>yes</td>\n",
       "      <td>yes</td>\n",
       "      <td>yes</td>\n",
       "      <td>no</td>\n",
       "      <td>yes</td>\n",
       "      <td>yes</td>\n",
       "      <td>no</td>\n",
       "      <td>no</td>\n",
       "      <td>2.953541e+08</td>\n",
       "    </tr>\n",
       "    <tr>\n",
       "      <th>20</th>\n",
       "      <td>yes</td>\n",
       "      <td>yes</td>\n",
       "      <td>yes</td>\n",
       "      <td>yes</td>\n",
       "      <td>yes</td>\n",
       "      <td>no</td>\n",
       "      <td>yes</td>\n",
       "      <td>no</td>\n",
       "      <td>yes</td>\n",
       "      <td>yes</td>\n",
       "      <td>2.950864e+08</td>\n",
       "    </tr>\n",
       "    <tr>\n",
       "      <th>21</th>\n",
       "      <td>yes</td>\n",
       "      <td>yes</td>\n",
       "      <td>yes</td>\n",
       "      <td>yes</td>\n",
       "      <td>yes</td>\n",
       "      <td>no</td>\n",
       "      <td>yes</td>\n",
       "      <td>no</td>\n",
       "      <td>yes</td>\n",
       "      <td>no</td>\n",
       "      <td>2.955777e+08</td>\n",
       "    </tr>\n",
       "    <tr>\n",
       "      <th>22</th>\n",
       "      <td>yes</td>\n",
       "      <td>yes</td>\n",
       "      <td>yes</td>\n",
       "      <td>yes</td>\n",
       "      <td>yes</td>\n",
       "      <td>no</td>\n",
       "      <td>yes</td>\n",
       "      <td>no</td>\n",
       "      <td>no</td>\n",
       "      <td>yes</td>\n",
       "      <td>2.953605e+08</td>\n",
       "    </tr>\n",
       "    <tr>\n",
       "      <th>23</th>\n",
       "      <td>yes</td>\n",
       "      <td>yes</td>\n",
       "      <td>yes</td>\n",
       "      <td>yes</td>\n",
       "      <td>yes</td>\n",
       "      <td>no</td>\n",
       "      <td>yes</td>\n",
       "      <td>no</td>\n",
       "      <td>no</td>\n",
       "      <td>no</td>\n",
       "      <td>2.951253e+08</td>\n",
       "    </tr>\n",
       "    <tr>\n",
       "      <th>24</th>\n",
       "      <td>yes</td>\n",
       "      <td>yes</td>\n",
       "      <td>yes</td>\n",
       "      <td>yes</td>\n",
       "      <td>yes</td>\n",
       "      <td>no</td>\n",
       "      <td>no</td>\n",
       "      <td>yes</td>\n",
       "      <td>yes</td>\n",
       "      <td>yes</td>\n",
       "      <td>2.953392e+08</td>\n",
       "    </tr>\n",
       "    <tr>\n",
       "      <th>25</th>\n",
       "      <td>yes</td>\n",
       "      <td>yes</td>\n",
       "      <td>yes</td>\n",
       "      <td>yes</td>\n",
       "      <td>yes</td>\n",
       "      <td>no</td>\n",
       "      <td>no</td>\n",
       "      <td>yes</td>\n",
       "      <td>yes</td>\n",
       "      <td>no</td>\n",
       "      <td>2.952305e+08</td>\n",
       "    </tr>\n",
       "    <tr>\n",
       "      <th>26</th>\n",
       "      <td>yes</td>\n",
       "      <td>yes</td>\n",
       "      <td>yes</td>\n",
       "      <td>yes</td>\n",
       "      <td>yes</td>\n",
       "      <td>no</td>\n",
       "      <td>no</td>\n",
       "      <td>yes</td>\n",
       "      <td>no</td>\n",
       "      <td>yes</td>\n",
       "      <td>2.957121e+08</td>\n",
       "    </tr>\n",
       "    <tr>\n",
       "      <th>27</th>\n",
       "      <td>yes</td>\n",
       "      <td>yes</td>\n",
       "      <td>yes</td>\n",
       "      <td>yes</td>\n",
       "      <td>yes</td>\n",
       "      <td>no</td>\n",
       "      <td>no</td>\n",
       "      <td>yes</td>\n",
       "      <td>no</td>\n",
       "      <td>no</td>\n",
       "      <td>2.955429e+08</td>\n",
       "    </tr>\n",
       "    <tr>\n",
       "      <th>28</th>\n",
       "      <td>yes</td>\n",
       "      <td>yes</td>\n",
       "      <td>yes</td>\n",
       "      <td>yes</td>\n",
       "      <td>yes</td>\n",
       "      <td>no</td>\n",
       "      <td>no</td>\n",
       "      <td>no</td>\n",
       "      <td>yes</td>\n",
       "      <td>yes</td>\n",
       "      <td>2.956869e+08</td>\n",
       "    </tr>\n",
       "    <tr>\n",
       "      <th>29</th>\n",
       "      <td>yes</td>\n",
       "      <td>yes</td>\n",
       "      <td>yes</td>\n",
       "      <td>yes</td>\n",
       "      <td>yes</td>\n",
       "      <td>no</td>\n",
       "      <td>no</td>\n",
       "      <td>no</td>\n",
       "      <td>yes</td>\n",
       "      <td>no</td>\n",
       "      <td>2.947875e+08</td>\n",
       "    </tr>\n",
       "    <tr>\n",
       "      <th>...</th>\n",
       "      <td>...</td>\n",
       "      <td>...</td>\n",
       "      <td>...</td>\n",
       "      <td>...</td>\n",
       "      <td>...</td>\n",
       "      <td>...</td>\n",
       "      <td>...</td>\n",
       "      <td>...</td>\n",
       "      <td>...</td>\n",
       "      <td>...</td>\n",
       "      <td>...</td>\n",
       "    </tr>\n",
       "    <tr>\n",
       "      <th>994</th>\n",
       "      <td>no</td>\n",
       "      <td>no</td>\n",
       "      <td>no</td>\n",
       "      <td>no</td>\n",
       "      <td>no</td>\n",
       "      <td>yes</td>\n",
       "      <td>yes</td>\n",
       "      <td>yes</td>\n",
       "      <td>no</td>\n",
       "      <td>yes</td>\n",
       "      <td>NaN</td>\n",
       "    </tr>\n",
       "    <tr>\n",
       "      <th>995</th>\n",
       "      <td>no</td>\n",
       "      <td>no</td>\n",
       "      <td>no</td>\n",
       "      <td>no</td>\n",
       "      <td>no</td>\n",
       "      <td>yes</td>\n",
       "      <td>yes</td>\n",
       "      <td>yes</td>\n",
       "      <td>no</td>\n",
       "      <td>no</td>\n",
       "      <td>NaN</td>\n",
       "    </tr>\n",
       "    <tr>\n",
       "      <th>996</th>\n",
       "      <td>no</td>\n",
       "      <td>no</td>\n",
       "      <td>no</td>\n",
       "      <td>no</td>\n",
       "      <td>no</td>\n",
       "      <td>yes</td>\n",
       "      <td>yes</td>\n",
       "      <td>no</td>\n",
       "      <td>yes</td>\n",
       "      <td>yes</td>\n",
       "      <td>NaN</td>\n",
       "    </tr>\n",
       "    <tr>\n",
       "      <th>997</th>\n",
       "      <td>no</td>\n",
       "      <td>no</td>\n",
       "      <td>no</td>\n",
       "      <td>no</td>\n",
       "      <td>no</td>\n",
       "      <td>yes</td>\n",
       "      <td>yes</td>\n",
       "      <td>no</td>\n",
       "      <td>yes</td>\n",
       "      <td>no</td>\n",
       "      <td>NaN</td>\n",
       "    </tr>\n",
       "    <tr>\n",
       "      <th>998</th>\n",
       "      <td>no</td>\n",
       "      <td>no</td>\n",
       "      <td>no</td>\n",
       "      <td>no</td>\n",
       "      <td>no</td>\n",
       "      <td>yes</td>\n",
       "      <td>yes</td>\n",
       "      <td>no</td>\n",
       "      <td>no</td>\n",
       "      <td>yes</td>\n",
       "      <td>NaN</td>\n",
       "    </tr>\n",
       "    <tr>\n",
       "      <th>999</th>\n",
       "      <td>no</td>\n",
       "      <td>no</td>\n",
       "      <td>no</td>\n",
       "      <td>no</td>\n",
       "      <td>no</td>\n",
       "      <td>yes</td>\n",
       "      <td>yes</td>\n",
       "      <td>no</td>\n",
       "      <td>no</td>\n",
       "      <td>no</td>\n",
       "      <td>NaN</td>\n",
       "    </tr>\n",
       "    <tr>\n",
       "      <th>1000</th>\n",
       "      <td>no</td>\n",
       "      <td>no</td>\n",
       "      <td>no</td>\n",
       "      <td>no</td>\n",
       "      <td>no</td>\n",
       "      <td>yes</td>\n",
       "      <td>no</td>\n",
       "      <td>yes</td>\n",
       "      <td>yes</td>\n",
       "      <td>yes</td>\n",
       "      <td>NaN</td>\n",
       "    </tr>\n",
       "    <tr>\n",
       "      <th>1001</th>\n",
       "      <td>no</td>\n",
       "      <td>no</td>\n",
       "      <td>no</td>\n",
       "      <td>no</td>\n",
       "      <td>no</td>\n",
       "      <td>yes</td>\n",
       "      <td>no</td>\n",
       "      <td>yes</td>\n",
       "      <td>yes</td>\n",
       "      <td>no</td>\n",
       "      <td>NaN</td>\n",
       "    </tr>\n",
       "    <tr>\n",
       "      <th>1002</th>\n",
       "      <td>no</td>\n",
       "      <td>no</td>\n",
       "      <td>no</td>\n",
       "      <td>no</td>\n",
       "      <td>no</td>\n",
       "      <td>yes</td>\n",
       "      <td>no</td>\n",
       "      <td>yes</td>\n",
       "      <td>no</td>\n",
       "      <td>yes</td>\n",
       "      <td>NaN</td>\n",
       "    </tr>\n",
       "    <tr>\n",
       "      <th>1003</th>\n",
       "      <td>no</td>\n",
       "      <td>no</td>\n",
       "      <td>no</td>\n",
       "      <td>no</td>\n",
       "      <td>no</td>\n",
       "      <td>yes</td>\n",
       "      <td>no</td>\n",
       "      <td>yes</td>\n",
       "      <td>no</td>\n",
       "      <td>no</td>\n",
       "      <td>NaN</td>\n",
       "    </tr>\n",
       "    <tr>\n",
       "      <th>1004</th>\n",
       "      <td>no</td>\n",
       "      <td>no</td>\n",
       "      <td>no</td>\n",
       "      <td>no</td>\n",
       "      <td>no</td>\n",
       "      <td>yes</td>\n",
       "      <td>no</td>\n",
       "      <td>no</td>\n",
       "      <td>yes</td>\n",
       "      <td>yes</td>\n",
       "      <td>NaN</td>\n",
       "    </tr>\n",
       "    <tr>\n",
       "      <th>1005</th>\n",
       "      <td>no</td>\n",
       "      <td>no</td>\n",
       "      <td>no</td>\n",
       "      <td>no</td>\n",
       "      <td>no</td>\n",
       "      <td>yes</td>\n",
       "      <td>no</td>\n",
       "      <td>no</td>\n",
       "      <td>yes</td>\n",
       "      <td>no</td>\n",
       "      <td>NaN</td>\n",
       "    </tr>\n",
       "    <tr>\n",
       "      <th>1006</th>\n",
       "      <td>no</td>\n",
       "      <td>no</td>\n",
       "      <td>no</td>\n",
       "      <td>no</td>\n",
       "      <td>no</td>\n",
       "      <td>yes</td>\n",
       "      <td>no</td>\n",
       "      <td>no</td>\n",
       "      <td>no</td>\n",
       "      <td>yes</td>\n",
       "      <td>NaN</td>\n",
       "    </tr>\n",
       "    <tr>\n",
       "      <th>1007</th>\n",
       "      <td>no</td>\n",
       "      <td>no</td>\n",
       "      <td>no</td>\n",
       "      <td>no</td>\n",
       "      <td>no</td>\n",
       "      <td>yes</td>\n",
       "      <td>no</td>\n",
       "      <td>no</td>\n",
       "      <td>no</td>\n",
       "      <td>no</td>\n",
       "      <td>NaN</td>\n",
       "    </tr>\n",
       "    <tr>\n",
       "      <th>1008</th>\n",
       "      <td>no</td>\n",
       "      <td>no</td>\n",
       "      <td>no</td>\n",
       "      <td>no</td>\n",
       "      <td>no</td>\n",
       "      <td>no</td>\n",
       "      <td>yes</td>\n",
       "      <td>yes</td>\n",
       "      <td>yes</td>\n",
       "      <td>yes</td>\n",
       "      <td>NaN</td>\n",
       "    </tr>\n",
       "    <tr>\n",
       "      <th>1009</th>\n",
       "      <td>no</td>\n",
       "      <td>no</td>\n",
       "      <td>no</td>\n",
       "      <td>no</td>\n",
       "      <td>no</td>\n",
       "      <td>no</td>\n",
       "      <td>yes</td>\n",
       "      <td>yes</td>\n",
       "      <td>yes</td>\n",
       "      <td>no</td>\n",
       "      <td>NaN</td>\n",
       "    </tr>\n",
       "    <tr>\n",
       "      <th>1010</th>\n",
       "      <td>no</td>\n",
       "      <td>no</td>\n",
       "      <td>no</td>\n",
       "      <td>no</td>\n",
       "      <td>no</td>\n",
       "      <td>no</td>\n",
       "      <td>yes</td>\n",
       "      <td>yes</td>\n",
       "      <td>no</td>\n",
       "      <td>yes</td>\n",
       "      <td>NaN</td>\n",
       "    </tr>\n",
       "    <tr>\n",
       "      <th>1011</th>\n",
       "      <td>no</td>\n",
       "      <td>no</td>\n",
       "      <td>no</td>\n",
       "      <td>no</td>\n",
       "      <td>no</td>\n",
       "      <td>no</td>\n",
       "      <td>yes</td>\n",
       "      <td>yes</td>\n",
       "      <td>no</td>\n",
       "      <td>no</td>\n",
       "      <td>NaN</td>\n",
       "    </tr>\n",
       "    <tr>\n",
       "      <th>1012</th>\n",
       "      <td>no</td>\n",
       "      <td>no</td>\n",
       "      <td>no</td>\n",
       "      <td>no</td>\n",
       "      <td>no</td>\n",
       "      <td>no</td>\n",
       "      <td>yes</td>\n",
       "      <td>no</td>\n",
       "      <td>yes</td>\n",
       "      <td>yes</td>\n",
       "      <td>NaN</td>\n",
       "    </tr>\n",
       "    <tr>\n",
       "      <th>1013</th>\n",
       "      <td>no</td>\n",
       "      <td>no</td>\n",
       "      <td>no</td>\n",
       "      <td>no</td>\n",
       "      <td>no</td>\n",
       "      <td>no</td>\n",
       "      <td>yes</td>\n",
       "      <td>no</td>\n",
       "      <td>yes</td>\n",
       "      <td>no</td>\n",
       "      <td>NaN</td>\n",
       "    </tr>\n",
       "    <tr>\n",
       "      <th>1014</th>\n",
       "      <td>no</td>\n",
       "      <td>no</td>\n",
       "      <td>no</td>\n",
       "      <td>no</td>\n",
       "      <td>no</td>\n",
       "      <td>no</td>\n",
       "      <td>yes</td>\n",
       "      <td>no</td>\n",
       "      <td>no</td>\n",
       "      <td>yes</td>\n",
       "      <td>NaN</td>\n",
       "    </tr>\n",
       "    <tr>\n",
       "      <th>1015</th>\n",
       "      <td>no</td>\n",
       "      <td>no</td>\n",
       "      <td>no</td>\n",
       "      <td>no</td>\n",
       "      <td>no</td>\n",
       "      <td>no</td>\n",
       "      <td>yes</td>\n",
       "      <td>no</td>\n",
       "      <td>no</td>\n",
       "      <td>no</td>\n",
       "      <td>NaN</td>\n",
       "    </tr>\n",
       "    <tr>\n",
       "      <th>1016</th>\n",
       "      <td>no</td>\n",
       "      <td>no</td>\n",
       "      <td>no</td>\n",
       "      <td>no</td>\n",
       "      <td>no</td>\n",
       "      <td>no</td>\n",
       "      <td>no</td>\n",
       "      <td>yes</td>\n",
       "      <td>yes</td>\n",
       "      <td>yes</td>\n",
       "      <td>NaN</td>\n",
       "    </tr>\n",
       "    <tr>\n",
       "      <th>1017</th>\n",
       "      <td>no</td>\n",
       "      <td>no</td>\n",
       "      <td>no</td>\n",
       "      <td>no</td>\n",
       "      <td>no</td>\n",
       "      <td>no</td>\n",
       "      <td>no</td>\n",
       "      <td>yes</td>\n",
       "      <td>yes</td>\n",
       "      <td>no</td>\n",
       "      <td>NaN</td>\n",
       "    </tr>\n",
       "    <tr>\n",
       "      <th>1018</th>\n",
       "      <td>no</td>\n",
       "      <td>no</td>\n",
       "      <td>no</td>\n",
       "      <td>no</td>\n",
       "      <td>no</td>\n",
       "      <td>no</td>\n",
       "      <td>no</td>\n",
       "      <td>yes</td>\n",
       "      <td>no</td>\n",
       "      <td>yes</td>\n",
       "      <td>NaN</td>\n",
       "    </tr>\n",
       "    <tr>\n",
       "      <th>1019</th>\n",
       "      <td>no</td>\n",
       "      <td>no</td>\n",
       "      <td>no</td>\n",
       "      <td>no</td>\n",
       "      <td>no</td>\n",
       "      <td>no</td>\n",
       "      <td>no</td>\n",
       "      <td>yes</td>\n",
       "      <td>no</td>\n",
       "      <td>no</td>\n",
       "      <td>NaN</td>\n",
       "    </tr>\n",
       "    <tr>\n",
       "      <th>1020</th>\n",
       "      <td>no</td>\n",
       "      <td>no</td>\n",
       "      <td>no</td>\n",
       "      <td>no</td>\n",
       "      <td>no</td>\n",
       "      <td>no</td>\n",
       "      <td>no</td>\n",
       "      <td>no</td>\n",
       "      <td>yes</td>\n",
       "      <td>yes</td>\n",
       "      <td>NaN</td>\n",
       "    </tr>\n",
       "    <tr>\n",
       "      <th>1021</th>\n",
       "      <td>no</td>\n",
       "      <td>no</td>\n",
       "      <td>no</td>\n",
       "      <td>no</td>\n",
       "      <td>no</td>\n",
       "      <td>no</td>\n",
       "      <td>no</td>\n",
       "      <td>no</td>\n",
       "      <td>yes</td>\n",
       "      <td>no</td>\n",
       "      <td>NaN</td>\n",
       "    </tr>\n",
       "    <tr>\n",
       "      <th>1022</th>\n",
       "      <td>no</td>\n",
       "      <td>no</td>\n",
       "      <td>no</td>\n",
       "      <td>no</td>\n",
       "      <td>no</td>\n",
       "      <td>no</td>\n",
       "      <td>no</td>\n",
       "      <td>no</td>\n",
       "      <td>no</td>\n",
       "      <td>yes</td>\n",
       "      <td>NaN</td>\n",
       "    </tr>\n",
       "    <tr>\n",
       "      <th>1023</th>\n",
       "      <td>no</td>\n",
       "      <td>no</td>\n",
       "      <td>no</td>\n",
       "      <td>no</td>\n",
       "      <td>no</td>\n",
       "      <td>no</td>\n",
       "      <td>no</td>\n",
       "      <td>no</td>\n",
       "      <td>no</td>\n",
       "      <td>no</td>\n",
       "      <td>NaN</td>\n",
       "    </tr>\n",
       "  </tbody>\n",
       "</table>\n",
       "<p>1024 rows × 11 columns</p>\n",
       "</div>"
      ],
      "text/plain": [
       "oldGroup    A    B    C   D1   D2   D3   D4   D5   D6    F     reimburse\n",
       "0         yes  yes  yes  yes  yes  yes  yes  yes  yes  yes  2.951615e+08\n",
       "1         yes  yes  yes  yes  yes  yes  yes  yes  yes   no  2.948609e+08\n",
       "2         yes  yes  yes  yes  yes  yes  yes  yes   no  yes  2.951668e+08\n",
       "3         yes  yes  yes  yes  yes  yes  yes  yes   no   no  2.958426e+08\n",
       "4         yes  yes  yes  yes  yes  yes  yes   no  yes  yes  2.953677e+08\n",
       "5         yes  yes  yes  yes  yes  yes  yes   no  yes   no  2.949626e+08\n",
       "6         yes  yes  yes  yes  yes  yes  yes   no   no  yes  2.962628e+08\n",
       "7         yes  yes  yes  yes  yes  yes  yes   no   no   no  2.944353e+08\n",
       "8         yes  yes  yes  yes  yes  yes   no  yes  yes  yes  2.944328e+08\n",
       "9         yes  yes  yes  yes  yes  yes   no  yes  yes   no  2.945084e+08\n",
       "10        yes  yes  yes  yes  yes  yes   no  yes   no  yes  2.952517e+08\n",
       "11        yes  yes  yes  yes  yes  yes   no  yes   no   no  2.947485e+08\n",
       "12        yes  yes  yes  yes  yes  yes   no   no  yes  yes  2.954289e+08\n",
       "13        yes  yes  yes  yes  yes  yes   no   no  yes   no  2.954810e+08\n",
       "14        yes  yes  yes  yes  yes  yes   no   no   no  yes  2.960713e+08\n",
       "15        yes  yes  yes  yes  yes  yes   no   no   no   no  2.951536e+08\n",
       "16        yes  yes  yes  yes  yes   no  yes  yes  yes  yes  2.954552e+08\n",
       "17        yes  yes  yes  yes  yes   no  yes  yes  yes   no  2.946550e+08\n",
       "18        yes  yes  yes  yes  yes   no  yes  yes   no  yes  2.953613e+08\n",
       "19        yes  yes  yes  yes  yes   no  yes  yes   no   no  2.953541e+08\n",
       "20        yes  yes  yes  yes  yes   no  yes   no  yes  yes  2.950864e+08\n",
       "21        yes  yes  yes  yes  yes   no  yes   no  yes   no  2.955777e+08\n",
       "22        yes  yes  yes  yes  yes   no  yes   no   no  yes  2.953605e+08\n",
       "23        yes  yes  yes  yes  yes   no  yes   no   no   no  2.951253e+08\n",
       "24        yes  yes  yes  yes  yes   no   no  yes  yes  yes  2.953392e+08\n",
       "25        yes  yes  yes  yes  yes   no   no  yes  yes   no  2.952305e+08\n",
       "26        yes  yes  yes  yes  yes   no   no  yes   no  yes  2.957121e+08\n",
       "27        yes  yes  yes  yes  yes   no   no  yes   no   no  2.955429e+08\n",
       "28        yes  yes  yes  yes  yes   no   no   no  yes  yes  2.956869e+08\n",
       "29        yes  yes  yes  yes  yes   no   no   no  yes   no  2.947875e+08\n",
       "...       ...  ...  ...  ...  ...  ...  ...  ...  ...  ...           ...\n",
       "994        no   no   no   no   no  yes  yes  yes   no  yes           NaN\n",
       "995        no   no   no   no   no  yes  yes  yes   no   no           NaN\n",
       "996        no   no   no   no   no  yes  yes   no  yes  yes           NaN\n",
       "997        no   no   no   no   no  yes  yes   no  yes   no           NaN\n",
       "998        no   no   no   no   no  yes  yes   no   no  yes           NaN\n",
       "999        no   no   no   no   no  yes  yes   no   no   no           NaN\n",
       "1000       no   no   no   no   no  yes   no  yes  yes  yes           NaN\n",
       "1001       no   no   no   no   no  yes   no  yes  yes   no           NaN\n",
       "1002       no   no   no   no   no  yes   no  yes   no  yes           NaN\n",
       "1003       no   no   no   no   no  yes   no  yes   no   no           NaN\n",
       "1004       no   no   no   no   no  yes   no   no  yes  yes           NaN\n",
       "1005       no   no   no   no   no  yes   no   no  yes   no           NaN\n",
       "1006       no   no   no   no   no  yes   no   no   no  yes           NaN\n",
       "1007       no   no   no   no   no  yes   no   no   no   no           NaN\n",
       "1008       no   no   no   no   no   no  yes  yes  yes  yes           NaN\n",
       "1009       no   no   no   no   no   no  yes  yes  yes   no           NaN\n",
       "1010       no   no   no   no   no   no  yes  yes   no  yes           NaN\n",
       "1011       no   no   no   no   no   no  yes  yes   no   no           NaN\n",
       "1012       no   no   no   no   no   no  yes   no  yes  yes           NaN\n",
       "1013       no   no   no   no   no   no  yes   no  yes   no           NaN\n",
       "1014       no   no   no   no   no   no  yes   no   no  yes           NaN\n",
       "1015       no   no   no   no   no   no  yes   no   no   no           NaN\n",
       "1016       no   no   no   no   no   no   no  yes  yes  yes           NaN\n",
       "1017       no   no   no   no   no   no   no  yes  yes   no           NaN\n",
       "1018       no   no   no   no   no   no   no  yes   no  yes           NaN\n",
       "1019       no   no   no   no   no   no   no  yes   no   no           NaN\n",
       "1020       no   no   no   no   no   no   no   no  yes  yes           NaN\n",
       "1021       no   no   no   no   no   no   no   no  yes   no           NaN\n",
       "1022       no   no   no   no   no   no   no   no   no  yes           NaN\n",
       "1023       no   no   no   no   no   no   no   no   no   no           NaN\n",
       "\n",
       "[1024 rows x 11 columns]"
      ]
     },
     "execution_count": 45,
     "metadata": {},
     "output_type": "execute_result"
    }
   ],
   "source": [
    "regroupings"
   ]
  },
  {
   "cell_type": "code",
   "execution_count": null,
   "metadata": {
    "collapsed": true
   },
   "outputs": [],
   "source": []
  },
  {
   "cell_type": "code",
   "execution_count": null,
   "metadata": {
    "collapsed": true
   },
   "outputs": [],
   "source": []
  },
  {
   "cell_type": "code",
   "execution_count": null,
   "metadata": {
    "collapsed": true
   },
   "outputs": [],
   "source": []
  },
  {
   "cell_type": "code",
   "execution_count": null,
   "metadata": {
    "collapsed": true
   },
   "outputs": [],
   "source": []
  },
  {
   "cell_type": "code",
   "execution_count": null,
   "metadata": {
    "collapsed": true
   },
   "outputs": [],
   "source": []
  },
  {
   "cell_type": "code",
   "execution_count": null,
   "metadata": {
    "collapsed": true
   },
   "outputs": [],
   "source": []
  },
  {
   "cell_type": "code",
   "execution_count": null,
   "metadata": {
    "collapsed": true
   },
   "outputs": [],
   "source": []
  },
  {
   "cell_type": "code",
   "execution_count": null,
   "metadata": {
    "collapsed": true
   },
   "outputs": [],
   "source": []
  },
  {
   "cell_type": "code",
   "execution_count": null,
   "metadata": {
    "collapsed": true
   },
   "outputs": [],
   "source": []
  },
  {
   "cell_type": "code",
   "execution_count": null,
   "metadata": {
    "collapsed": true
   },
   "outputs": [],
   "source": []
  },
  {
   "cell_type": "code",
   "execution_count": null,
   "metadata": {
    "collapsed": true
   },
   "outputs": [],
   "source": []
  },
  {
   "cell_type": "code",
   "execution_count": null,
   "metadata": {
    "collapsed": true
   },
   "outputs": [],
   "source": []
  },
  {
   "cell_type": "code",
   "execution_count": null,
   "metadata": {
    "collapsed": true
   },
   "outputs": [],
   "source": []
  },
  {
   "cell_type": "code",
   "execution_count": null,
   "metadata": {
    "collapsed": true
   },
   "outputs": [],
   "source": []
  }
 ],
 "metadata": {
  "kernelspec": {
   "display_name": "Python 2",
   "language": "python",
   "name": "python2"
  },
  "language_info": {
   "codemirror_mode": {
    "name": "ipython",
    "version": 2
   },
   "file_extension": ".py",
   "mimetype": "text/x-python",
   "name": "python",
   "nbconvert_exporter": "python",
   "pygments_lexer": "ipython2",
   "version": "2.7.6"
  }
 },
 "nbformat": 4,
 "nbformat_minor": 0
}
