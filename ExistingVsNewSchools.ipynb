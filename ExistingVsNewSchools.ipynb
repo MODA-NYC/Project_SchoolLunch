{
 "cells": [
  {
   "cell_type": "markdown",
   "metadata": {},
   "source": [
    "# Existing and Schools New to the CEP program"
   ]
  },
  {
   "cell_type": "code",
   "execution_count": 1,
   "metadata": {
    "collapsed": false
   },
   "outputs": [
    {
     "name": "stderr",
     "output_type": "stream",
     "text": [
      "/usr/local/lib/python2.7/dist-packages/matplotlib/font_manager.py:273: UserWarning: Matplotlib is building the font cache using fc-list. This may take a moment.\n",
      "  warnings.warn('Matplotlib is building the font cache using fc-list. This may take a moment.')\n",
      ":0: FutureWarning: IPython widgets are experimental and may change in the future.\n"
     ]
    }
   ],
   "source": [
    "import pandas as pd\n",
    "import numpy as np\n",
    "import time\n",
    "import multiprocessing as mp\n",
    "import matplotlib.pyplot as plt\n",
    "%matplotlib inline \n",
    "#plt.style.use('seaborn-poster')\n",
    "#plt.style.use('fivethirtyeight')\n",
    "import seaborn as sns\n",
    "sns.set_context('poster',font_scale=1.2)"
   ]
  },
  {
   "cell_type": "code",
   "execution_count": 2,
   "metadata": {
    "collapsed": false
   },
   "outputs": [],
   "source": [
    "#constants\n",
    "\n",
    "multiplier = 1.6\n",
    "\n",
    "# combined Federal and NY State meal reimbursement rates\n",
    "freeLunch = 3.2999\n",
    "paidLunch = 0.4399\n",
    "freeBreakfast = 2.1413\n",
    "paidBreakfast = 0.2923\n",
    "\n",
    "deltaLunchRate = freeLunch - paidLunch\n",
    "deltaBreakfastRate = freeBreakfast - paidBreakfast \n",
    "\n",
    "t_min = 0.40 * multiplier\n",
    "\n",
    "# reading in data\n",
    "doeNew = pd.read_excel('data/Test Data for CEP Grouping.xlsx',sheetname=\"School Data\",header=2)\n",
    "doeNew.rename(columns={'Identified Student Count':'Identified'},inplace=True)\n",
    "\n",
    "doeExist = pd.read_excel('data/Additional Test Data for CEP Grouping, Pre-Existing Groups.xlsx',\n",
    "                           sheetname='School Data',header=4)\n",
    "doeExist.rename(columns={'Count':'Identified'},inplace=True)\n",
    "\n",
    "# pre existing threshold\n",
    "doeExistGroup = pd.read_excel('data/Additional Test Data for CEP Grouping, Pre-Existing Groups.xlsx',\n",
    "                             sheetname='Group Data',header=4)\n",
    "doeExistGroup=doeExistGroup[['Group','Free']]\n",
    "doeExistGroup.rename(columns={'Free':'oldThreshold'},inplace=True)\n",
    "\n",
    "doeExist = doeExist.merge(doeExistGroup,how='left',on='Group')\n",
    "doeExist.rename(columns={'Group':'oldGroup'},inplace=True)\n",
    "\n",
    "# assume only schools with >0 enrollment can be part of cep program.\n",
    "cepNew = doeNew[doeNew.Enrollment>0].copy()\n",
    "cepNew.reset_index(inplace=True)\n",
    "\n",
    "cepExist = doeExist[doeExist.Enrollment>0].copy()\n",
    "cepExist.reset_index(inplace=True)\n",
    "\n",
    "\n",
    "# define a few more columns that are useful.\n",
    "# 'meal' is the max reimbursement of meals per year for each school.\n",
    "# 'mealPerStudent' is the max per student.\n",
    "# 'baseThreshold' is the threshold of the school if it is not grouped.\n",
    "\n",
    "cepNew['meal'] = deltaLunchRate*cepNew['Lunch'] + deltaBreakfastRate*cepNew['Breakfast']\n",
    "cepExist['meal'] = deltaLunchRate*cepExist['Lunch'] + deltaBreakfastRate*cepExist['Breakfast']\n",
    "\n",
    "cepNew['paidMeal'] = paidLunch*cepNew['Lunch'] + paidBreakfast*cepNew['Breakfast']\n",
    "cepExist['paidMeal'] = paidLunch*cepExist['Lunch'] + paidBreakfast*cepExist['Breakfast']\n",
    "\n",
    "cepNew['mealPerStudent'] = cepNew['meal']/cepNew['Enrollment']\n",
    "cepExist['mealPerStudent'] = cepExist['meal']/cepExist['Enrollment']\n",
    "\n",
    "cepNew['baseThreshold'] = cepNew['Identified']/cepNew['Enrollment']*multiplier\n",
    "cepExist['baseThreshold'] = cepExist['Identified']/cepExist['Enrollment']*multiplier"
   ]
  },
  {
   "cell_type": "code",
   "execution_count": 3,
   "metadata": {
    "collapsed": false
   },
   "outputs": [
    {
     "data": {
      "text/html": [
       "<div>\n",
       "<table border=\"1\" class=\"dataframe\">\n",
       "  <thead>\n",
       "    <tr style=\"text-align: right;\">\n",
       "      <th></th>\n",
       "      <th>index</th>\n",
       "      <th>School</th>\n",
       "      <th>Enrollment</th>\n",
       "      <th>Identified</th>\n",
       "      <th>Breakfast</th>\n",
       "      <th>Lunch</th>\n",
       "      <th>meal</th>\n",
       "      <th>paidMeal</th>\n",
       "      <th>mealPerStudent</th>\n",
       "      <th>baseThreshold</th>\n",
       "    </tr>\n",
       "  </thead>\n",
       "  <tbody>\n",
       "    <tr>\n",
       "      <th>0</th>\n",
       "      <td>0</td>\n",
       "      <td>1019</td>\n",
       "      <td>268.0</td>\n",
       "      <td>114.0</td>\n",
       "      <td>13744.040323</td>\n",
       "      <td>32119.415317</td>\n",
       "      <td>117274.258362</td>\n",
       "      <td>18146.713784</td>\n",
       "      <td>437.590516</td>\n",
       "      <td>0.680597</td>\n",
       "    </tr>\n",
       "    <tr>\n",
       "      <th>1</th>\n",
       "      <td>1</td>\n",
       "      <td>1025</td>\n",
       "      <td>188.0</td>\n",
       "      <td>121.0</td>\n",
       "      <td>2660.633468</td>\n",
       "      <td>8954.467200</td>\n",
       "      <td>30529.287474</td>\n",
       "      <td>4716.773284</td>\n",
       "      <td>162.389827</td>\n",
       "      <td>1.029787</td>\n",
       "    </tr>\n",
       "    <tr>\n",
       "      <th>2</th>\n",
       "      <td>2</td>\n",
       "      <td>1034</td>\n",
       "      <td>348.0</td>\n",
       "      <td>262.0</td>\n",
       "      <td>18359.910484</td>\n",
       "      <td>39773.741129</td>\n",
       "      <td>147700.374114</td>\n",
       "      <td>22863.070557</td>\n",
       "      <td>424.426362</td>\n",
       "      <td>1.204598</td>\n",
       "    </tr>\n",
       "    <tr>\n",
       "      <th>3</th>\n",
       "      <td>3</td>\n",
       "      <td>1060</td>\n",
       "      <td>679.0</td>\n",
       "      <td>293.0</td>\n",
       "      <td>7340.885081</td>\n",
       "      <td>19996.654634</td>\n",
       "      <td>70763.728769</td>\n",
       "      <td>10942.269083</td>\n",
       "      <td>104.217568</td>\n",
       "      <td>0.690427</td>\n",
       "    </tr>\n",
       "    <tr>\n",
       "      <th>4</th>\n",
       "      <td>4</td>\n",
       "      <td>1061</td>\n",
       "      <td>291.0</td>\n",
       "      <td>99.0</td>\n",
       "      <td>4320.555242</td>\n",
       "      <td>25602.863216</td>\n",
       "      <td>81212.895439</td>\n",
       "      <td>12525.597826</td>\n",
       "      <td>279.082115</td>\n",
       "      <td>0.544330</td>\n",
       "    </tr>\n",
       "  </tbody>\n",
       "</table>\n",
       "</div>"
      ],
      "text/plain": [
       "   index  School  Enrollment  Identified     Breakfast         Lunch  \\\n",
       "0      0    1019       268.0       114.0  13744.040323  32119.415317   \n",
       "1      1    1025       188.0       121.0   2660.633468   8954.467200   \n",
       "2      2    1034       348.0       262.0  18359.910484  39773.741129   \n",
       "3      3    1060       679.0       293.0   7340.885081  19996.654634   \n",
       "4      4    1061       291.0        99.0   4320.555242  25602.863216   \n",
       "\n",
       "            meal      paidMeal  mealPerStudent  baseThreshold  \n",
       "0  117274.258362  18146.713784      437.590516       0.680597  \n",
       "1   30529.287474   4716.773284      162.389827       1.029787  \n",
       "2  147700.374114  22863.070557      424.426362       1.204598  \n",
       "3   70763.728769  10942.269083      104.217568       0.690427  \n",
       "4   81212.895439  12525.597826      279.082115       0.544330  "
      ]
     },
     "execution_count": 3,
     "metadata": {},
     "output_type": "execute_result"
    }
   ],
   "source": [
    "cepNew.head()"
   ]
  },
  {
   "cell_type": "code",
   "execution_count": 4,
   "metadata": {
    "collapsed": false
   },
   "outputs": [
    {
     "data": {
      "text/html": [
       "<div>\n",
       "<table border=\"1\" class=\"dataframe\">\n",
       "  <thead>\n",
       "    <tr style=\"text-align: right;\">\n",
       "      <th></th>\n",
       "      <th>index</th>\n",
       "      <th>School</th>\n",
       "      <th>Enrollment</th>\n",
       "      <th>Identified</th>\n",
       "      <th>Breakfast</th>\n",
       "      <th>Lunch</th>\n",
       "      <th>oldGroup</th>\n",
       "      <th>oldThreshold</th>\n",
       "      <th>meal</th>\n",
       "      <th>paidMeal</th>\n",
       "      <th>mealPerStudent</th>\n",
       "      <th>baseThreshold</th>\n",
       "    </tr>\n",
       "  </thead>\n",
       "  <tbody>\n",
       "    <tr>\n",
       "      <th>0</th>\n",
       "      <td>0</td>\n",
       "      <td>2169</td>\n",
       "      <td>80.00</td>\n",
       "      <td>60.60</td>\n",
       "      <td>28965</td>\n",
       "      <td>22739</td>\n",
       "      <td>A</td>\n",
       "      <td>0.999717</td>\n",
       "      <td>118589.825</td>\n",
       "      <td>18469.3556</td>\n",
       "      <td>1482.372813</td>\n",
       "      <td>1.212000</td>\n",
       "    </tr>\n",
       "    <tr>\n",
       "      <th>1</th>\n",
       "      <td>1</td>\n",
       "      <td>2809</td>\n",
       "      <td>42.75</td>\n",
       "      <td>26.25</td>\n",
       "      <td>10710</td>\n",
       "      <td>15957</td>\n",
       "      <td>A</td>\n",
       "      <td>0.999717</td>\n",
       "      <td>65439.810</td>\n",
       "      <td>10150.0173</td>\n",
       "      <td>1530.755789</td>\n",
       "      <td>0.982456</td>\n",
       "    </tr>\n",
       "    <tr>\n",
       "      <th>2</th>\n",
       "      <td>2</td>\n",
       "      <td>1895</td>\n",
       "      <td>34.20</td>\n",
       "      <td>19.80</td>\n",
       "      <td>5910</td>\n",
       "      <td>7773</td>\n",
       "      <td>A</td>\n",
       "      <td>0.999717</td>\n",
       "      <td>33158.370</td>\n",
       "      <td>5146.8357</td>\n",
       "      <td>969.542982</td>\n",
       "      <td>0.926316</td>\n",
       "    </tr>\n",
       "    <tr>\n",
       "      <th>3</th>\n",
       "      <td>3</td>\n",
       "      <td>3820</td>\n",
       "      <td>77.40</td>\n",
       "      <td>56.60</td>\n",
       "      <td>28373</td>\n",
       "      <td>28273</td>\n",
       "      <td>A</td>\n",
       "      <td>0.999717</td>\n",
       "      <td>133322.457</td>\n",
       "      <td>20730.7206</td>\n",
       "      <td>1722.512364</td>\n",
       "      <td>1.170026</td>\n",
       "    </tr>\n",
       "    <tr>\n",
       "      <th>4</th>\n",
       "      <td>4</td>\n",
       "      <td>11176</td>\n",
       "      <td>177.00</td>\n",
       "      <td>97.60</td>\n",
       "      <td>24687</td>\n",
       "      <td>26788</td>\n",
       "      <td>A</td>\n",
       "      <td>0.999717</td>\n",
       "      <td>122259.943</td>\n",
       "      <td>19000.0513</td>\n",
       "      <td>690.734141</td>\n",
       "      <td>0.882260</td>\n",
       "    </tr>\n",
       "  </tbody>\n",
       "</table>\n",
       "</div>"
      ],
      "text/plain": [
       "   index  School  Enrollment  Identified  Breakfast  Lunch oldGroup  \\\n",
       "0      0    2169       80.00       60.60      28965  22739        A   \n",
       "1      1    2809       42.75       26.25      10710  15957        A   \n",
       "2      2    1895       34.20       19.80       5910   7773        A   \n",
       "3      3    3820       77.40       56.60      28373  28273        A   \n",
       "4      4   11176      177.00       97.60      24687  26788        A   \n",
       "\n",
       "   oldThreshold        meal    paidMeal  mealPerStudent  baseThreshold  \n",
       "0      0.999717  118589.825  18469.3556     1482.372813       1.212000  \n",
       "1      0.999717   65439.810  10150.0173     1530.755789       0.982456  \n",
       "2      0.999717   33158.370   5146.8357      969.542982       0.926316  \n",
       "3      0.999717  133322.457  20730.7206     1722.512364       1.170026  \n",
       "4      0.999717  122259.943  19000.0513      690.734141       0.882260  "
      ]
     },
     "execution_count": 4,
     "metadata": {},
     "output_type": "execute_result"
    }
   ],
   "source": [
    "cepExist.head()"
   ]
  },
  {
   "cell_type": "markdown",
   "metadata": {},
   "source": [
    "## Existing groups\n",
    "There are 10 pre-existing groups"
   ]
  },
  {
   "cell_type": "code",
   "execution_count": 5,
   "metadata": {
    "collapsed": false
   },
   "outputs": [
    {
     "data": {
      "text/html": [
       "<div>\n",
       "<table border=\"1\" class=\"dataframe\">\n",
       "  <thead>\n",
       "    <tr style=\"text-align: right;\">\n",
       "      <th></th>\n",
       "      <th>School</th>\n",
       "    </tr>\n",
       "    <tr>\n",
       "      <th>oldGroup</th>\n",
       "      <th></th>\n",
       "    </tr>\n",
       "  </thead>\n",
       "  <tbody>\n",
       "    <tr>\n",
       "      <th>A</th>\n",
       "      <td>428</td>\n",
       "    </tr>\n",
       "    <tr>\n",
       "      <th>B</th>\n",
       "      <td>158</td>\n",
       "    </tr>\n",
       "    <tr>\n",
       "      <th>C</th>\n",
       "      <td>8</td>\n",
       "    </tr>\n",
       "    <tr>\n",
       "      <th>D1</th>\n",
       "      <td>27</td>\n",
       "    </tr>\n",
       "    <tr>\n",
       "      <th>D2</th>\n",
       "      <td>6</td>\n",
       "    </tr>\n",
       "    <tr>\n",
       "      <th>D3</th>\n",
       "      <td>6</td>\n",
       "    </tr>\n",
       "    <tr>\n",
       "      <th>D4</th>\n",
       "      <td>17</td>\n",
       "    </tr>\n",
       "    <tr>\n",
       "      <th>D5</th>\n",
       "      <td>29</td>\n",
       "    </tr>\n",
       "    <tr>\n",
       "      <th>D6</th>\n",
       "      <td>4</td>\n",
       "    </tr>\n",
       "    <tr>\n",
       "      <th>F</th>\n",
       "      <td>244</td>\n",
       "    </tr>\n",
       "  </tbody>\n",
       "</table>\n",
       "</div>"
      ],
      "text/plain": [
       "          School\n",
       "oldGroup        \n",
       "A            428\n",
       "B            158\n",
       "C              8\n",
       "D1            27\n",
       "D2             6\n",
       "D3             6\n",
       "D4            17\n",
       "D5            29\n",
       "D6             4\n",
       "F            244"
      ]
     },
     "execution_count": 5,
     "metadata": {},
     "output_type": "execute_result"
    }
   ],
   "source": [
    "cepExist.groupby('oldGroup').count()[['School']]"
   ]
  },
  {
   "cell_type": "code",
   "execution_count": 6,
   "metadata": {
    "collapsed": false
   },
   "outputs": [
    {
     "data": {
      "text/html": [
       "<div>\n",
       "<table border=\"1\" class=\"dataframe\">\n",
       "  <thead>\n",
       "    <tr style=\"text-align: right;\">\n",
       "      <th></th>\n",
       "      <th>Enrollment</th>\n",
       "    </tr>\n",
       "    <tr>\n",
       "      <th>oldGroup</th>\n",
       "      <th></th>\n",
       "    </tr>\n",
       "  </thead>\n",
       "  <tbody>\n",
       "    <tr>\n",
       "      <th>D3</th>\n",
       "      <td>1000.0</td>\n",
       "    </tr>\n",
       "    <tr>\n",
       "      <th>D6</th>\n",
       "      <td>1000.0</td>\n",
       "    </tr>\n",
       "    <tr>\n",
       "      <th>D2</th>\n",
       "      <td>2000.0</td>\n",
       "    </tr>\n",
       "    <tr>\n",
       "      <th>C</th>\n",
       "      <td>4000.0</td>\n",
       "    </tr>\n",
       "    <tr>\n",
       "      <th>D4</th>\n",
       "      <td>7000.0</td>\n",
       "    </tr>\n",
       "    <tr>\n",
       "      <th>D5</th>\n",
       "      <td>13000.0</td>\n",
       "    </tr>\n",
       "    <tr>\n",
       "      <th>D1</th>\n",
       "      <td>15000.0</td>\n",
       "    </tr>\n",
       "    <tr>\n",
       "      <th>B</th>\n",
       "      <td>28000.0</td>\n",
       "    </tr>\n",
       "    <tr>\n",
       "      <th>F</th>\n",
       "      <td>103000.0</td>\n",
       "    </tr>\n",
       "    <tr>\n",
       "      <th>A</th>\n",
       "      <td>138000.0</td>\n",
       "    </tr>\n",
       "  </tbody>\n",
       "</table>\n",
       "</div>"
      ],
      "text/plain": [
       "          Enrollment\n",
       "oldGroup            \n",
       "D3            1000.0\n",
       "D6            1000.0\n",
       "D2            2000.0\n",
       "C             4000.0\n",
       "D4            7000.0\n",
       "D5           13000.0\n",
       "D1           15000.0\n",
       "B            28000.0\n",
       "F           103000.0\n",
       "A           138000.0"
      ]
     },
     "execution_count": 6,
     "metadata": {},
     "output_type": "execute_result"
    }
   ],
   "source": [
    "cepExist.groupby('oldGroup').sum()[['Enrollment']].apply(lambda x: np.round(x,-3)).sort_values('Enrollment')"
   ]
  },
  {
   "cell_type": "code",
   "execution_count": 7,
   "metadata": {
    "collapsed": false
   },
   "outputs": [
    {
     "data": {
      "text/html": [
       "<div>\n",
       "<table border=\"1\" class=\"dataframe\">\n",
       "  <thead>\n",
       "    <tr style=\"text-align: right;\">\n",
       "      <th></th>\n",
       "      <th>oldThreshold</th>\n",
       "    </tr>\n",
       "    <tr>\n",
       "      <th>oldGroup</th>\n",
       "      <th></th>\n",
       "    </tr>\n",
       "  </thead>\n",
       "  <tbody>\n",
       "    <tr>\n",
       "      <th>A</th>\n",
       "      <td>0.999717</td>\n",
       "    </tr>\n",
       "    <tr>\n",
       "      <th>B</th>\n",
       "      <td>0.640014</td>\n",
       "    </tr>\n",
       "    <tr>\n",
       "      <th>C</th>\n",
       "      <td>0.804585</td>\n",
       "    </tr>\n",
       "    <tr>\n",
       "      <th>D1</th>\n",
       "      <td>0.943506</td>\n",
       "    </tr>\n",
       "    <tr>\n",
       "      <th>D2</th>\n",
       "      <td>0.819100</td>\n",
       "    </tr>\n",
       "    <tr>\n",
       "      <th>D3</th>\n",
       "      <td>0.773887</td>\n",
       "    </tr>\n",
       "    <tr>\n",
       "      <th>D4</th>\n",
       "      <td>0.865564</td>\n",
       "    </tr>\n",
       "    <tr>\n",
       "      <th>D5</th>\n",
       "      <td>0.757873</td>\n",
       "    </tr>\n",
       "    <tr>\n",
       "      <th>D6</th>\n",
       "      <td>0.836991</td>\n",
       "    </tr>\n",
       "    <tr>\n",
       "      <th>F</th>\n",
       "      <td>1.000000</td>\n",
       "    </tr>\n",
       "  </tbody>\n",
       "</table>\n",
       "</div>"
      ],
      "text/plain": [
       "          oldThreshold\n",
       "oldGroup              \n",
       "A             0.999717\n",
       "B             0.640014\n",
       "C             0.804585\n",
       "D1            0.943506\n",
       "D2            0.819100\n",
       "D3            0.773887\n",
       "D4            0.865564\n",
       "D5            0.757873\n",
       "D6            0.836991\n",
       "F             1.000000"
      ]
     },
     "execution_count": 7,
     "metadata": {},
     "output_type": "execute_result"
    }
   ],
   "source": [
    "cepExist.groupby('oldGroup').mean()[['oldThreshold']]"
   ]
  },
  {
   "cell_type": "code",
   "execution_count": 8,
   "metadata": {
    "collapsed": false
   },
   "outputs": [
    {
     "name": "stdout",
     "output_type": "stream",
     "text": [
      "number of students in existing CEP 310435.819712\n",
      "number of students in potential CEP 726513.966002\n",
      "total students = 1036949.78571\n"
     ]
    }
   ],
   "source": [
    "print 'number of students in existing CEP',cepExist.Enrollment.sum()\n",
    "print 'number of students in potential CEP',cepNew.Enrollment.sum()\n",
    "print 'total students =',cepExist.Enrollment.sum()+cepNew.Enrollment.sum()"
   ]
  },
  {
   "cell_type": "code",
   "execution_count": 9,
   "metadata": {
    "collapsed": false
   },
   "outputs": [
    {
     "name": "stdout",
     "output_type": "stream",
     "text": [
      "(927, 12)\n",
      "(1453, 10)\n"
     ]
    }
   ],
   "source": [
    "print cepExist.shape\n",
    "print cepNew.shape"
   ]
  },
  {
   "cell_type": "code",
   "execution_count": 10,
   "metadata": {
    "collapsed": false
   },
   "outputs": [
    {
     "data": {
      "text/plain": [
       "<matplotlib.text.Text at 0x7f773fb32f90>"
      ]
     },
     "execution_count": 10,
     "metadata": {},
     "output_type": "execute_result"
    },
    {
     "data": {
      "image/png": "[encoded data removed]",
      "text/plain": [
       "<matplotlib.figure.Figure at 0x7f773fd72a90>"
      ]
     },
     "metadata": {},
     "output_type": "display_data"
    }
   ],
   "source": [
    "(cepExist.Breakfast/cepExist.Enrollment/180).hist(bins=100,label='existing CEP')\n",
    "(cepNew.Breakfast/cepNew.Enrollment/180).hist(bins=100,label='new to CEP')\n",
    "plt.legend()\n",
    "plt.xlabel('breakfast per student per day')\n",
    "plt.title('histogram: breakfasts by school')"
   ]
  },
  {
   "cell_type": "code",
   "execution_count": 11,
   "metadata": {
    "collapsed": false
   },
   "outputs": [
    {
     "name": "stdout",
     "output_type": "stream",
     "text": [
      "avg breakfasts per student in existing CEP schools 0.426909045971\n",
      "avg breakfasts per student in new to CEP schools 0.258292261185\n"
     ]
    }
   ],
   "source": [
    "print 'avg breakfasts per student in existing CEP schools',(cepExist.Breakfast/cepExist.Enrollment/180).mean()\n",
    "print 'avg breakfasts per student in new to CEP schools',(cepNew.Breakfast/cepNew.Enrollment/180).mean()"
   ]
  },
  {
   "cell_type": "code",
   "execution_count": 12,
   "metadata": {
    "collapsed": false
   },
   "outputs": [
    {
     "data": {
      "text/plain": [
       "<matplotlib.text.Text at 0x7f773f5ea310>"
      ]
     },
     "execution_count": 12,
     "metadata": {},
     "output_type": "execute_result"
    },
    {
     "data": {
      "image/png": "[encoded data removed]",
      "text/plain": [
       "<matplotlib.figure.Figure at 0x7f773f66f190>"
      ]
     },
     "metadata": {},
     "output_type": "display_data"
    }
   ],
   "source": [
    "(cepExist.Lunch/cepExist.Enrollment/180).hist(bins=100,label='existing CEP')\n",
    "(cepNew.Lunch/cepNew.Enrollment/180).hist(bins=100,label='new to CEP')\n",
    "plt.legend()\n",
    "plt.xlabel('lunch per student per day')\n",
    "plt.title('histogram: lunches by school')"
   ]
  },
  {
   "cell_type": "code",
   "execution_count": 13,
   "metadata": {
    "collapsed": false
   },
   "outputs": [
    {
     "name": "stdout",
     "output_type": "stream",
     "text": [
      "avg lunches per student in existing CEP schools 0.641687976906\n",
      "avg lunches per student in new to CEP schools 0.526503517235\n"
     ]
    }
   ],
   "source": [
    "print 'avg lunches per student in existing CEP schools',(cepExist.Lunch/cepExist.Enrollment/180).mean()\n",
    "print 'avg lunches per student in new to CEP schools',(cepNew.Lunch/cepNew.Enrollment/180).mean()"
   ]
  },
  {
   "cell_type": "markdown",
   "metadata": {},
   "source": [
    "The projected meals for the existing CEP schools are higher on average than for schools new to CEP. So reimbursements from the new schools will likely be higher than projected."
   ]
  },
  {
   "cell_type": "code",
   "execution_count": null,
   "metadata": {
    "collapsed": true
   },
   "outputs": [],
   "source": []
  },
  {
   "cell_type": "markdown",
   "metadata": {},
   "source": [
    "## Calculating Reimbursements based on school groupings"
   ]
  },
  {
   "cell_type": "code",
   "execution_count": 14,
   "metadata": {
    "collapsed": false
   },
   "outputs": [],
   "source": [
    "# reimbursements over the base, this is the part that's dependant on groupings\n",
    "def calcReimburse(cep,cost=0):\n",
    "    ''' calculates and returns the total reimbursments (above base) for schools in a particlar grouping \n",
    "    Parameters:\n",
    "    cep: dataframe where each row is a school. cep columns include: Identified, Enrollment, meal, group\n",
    "    cost: cost = 0 (default) no cost to dropping schools from the program\n",
    "          cost = 1 sets a high penalty for letting a group go below the min threshold'''\n",
    "    \n",
    "    # df - each row represents a group\n",
    "    group_cep = cep.groupby('group')\n",
    "    df = pd.DataFrame(index= group_cep.indices)\n",
    "\n",
    "    df['threshold'] =  (group_cep['Identified'].sum()  / group_cep['Enrollment'].sum()) * multiplier\n",
    "    df['meal']      =  group_cep['meal'].sum()\n",
    "    \n",
    "    # enforcing threshold rules:\n",
    "    df['applied_threshold'] = df['threshold']\n",
    "    df.loc[df['applied_threshold']  > 1, 'applied_threshold'] = 1\n",
    "    df.loc[df['applied_threshold']  < t_min,'applied_threshold'] = 0 - cost*10**6\n",
    "\n",
    "    df['reimbursed'] = df['applied_threshold'] * df['meal']\n",
    "    \n",
    "    return df.reimbursed.sum()\n",
    "\n",
    "def setThreshold(cep):\n",
    "    ''' calculates the threshold for each school based on its group\n",
    "        cep columns: Enrollment, Identified'''\n",
    "    for i in set(cep.group):\n",
    "        df = cep[cep.group==i]\n",
    "        cep.loc[cep.group == i,'threshold'] = df['Identified'].sum() / float(df['Enrollment'].sum()) * multiplier\n",
    "    return 0"
   ]
  },
  {
   "cell_type": "code",
   "execution_count": 15,
   "metadata": {
    "collapsed": false
   },
   "outputs": [
    {
     "data": {
      "text/plain": [
       "117830076.13078761"
      ]
     },
     "execution_count": 15,
     "metadata": {},
     "output_type": "execute_result"
    }
   ],
   "source": [
    "# reimbursements based on the old groupings\n",
    "cepExist['oldReimburse'] = cepExist['oldThreshold']*cepExist['meal']\n",
    "cepExist['oldReimburse'].sum()"
   ]
  },
  {
   "cell_type": "code",
   "execution_count": 16,
   "metadata": {
    "collapsed": false
   },
   "outputs": [
    {
     "data": {
      "text/html": [
       "<div>\n",
       "<table border=\"1\" class=\"dataframe\">\n",
       "  <thead>\n",
       "    <tr style=\"text-align: right;\">\n",
       "      <th></th>\n",
       "      <th>Breakfast</th>\n",
       "      <th>Enrollment</th>\n",
       "      <th>Identified</th>\n",
       "      <th>Lunch</th>\n",
       "      <th>School</th>\n",
       "      <th>baseThreshold</th>\n",
       "      <th>index</th>\n",
       "      <th>meal</th>\n",
       "      <th>mealPerStudent</th>\n",
       "      <th>oldGroup</th>\n",
       "      <th>oldReimburse</th>\n",
       "      <th>oldThreshold</th>\n",
       "      <th>paidMeal</th>\n",
       "    </tr>\n",
       "  </thead>\n",
       "  <tbody>\n",
       "    <tr>\n",
       "      <th>0</th>\n",
       "      <td>28965.0</td>\n",
       "      <td>80.00</td>\n",
       "      <td>60.60</td>\n",
       "      <td>22739.0</td>\n",
       "      <td>2169</td>\n",
       "      <td>1.212000</td>\n",
       "      <td>0</td>\n",
       "      <td>118589.825</td>\n",
       "      <td>1482.372813</td>\n",
       "      <td>A</td>\n",
       "      <td>118556.296491</td>\n",
       "      <td>0.999717</td>\n",
       "      <td>18469.3556</td>\n",
       "    </tr>\n",
       "    <tr>\n",
       "      <th>1</th>\n",
       "      <td>10710.0</td>\n",
       "      <td>42.75</td>\n",
       "      <td>26.25</td>\n",
       "      <td>15957.0</td>\n",
       "      <td>2809</td>\n",
       "      <td>0.982456</td>\n",
       "      <td>1</td>\n",
       "      <td>65439.810</td>\n",
       "      <td>1530.755789</td>\n",
       "      <td>A</td>\n",
       "      <td>65421.308419</td>\n",
       "      <td>0.999717</td>\n",
       "      <td>10150.0173</td>\n",
       "    </tr>\n",
       "    <tr>\n",
       "      <th>2</th>\n",
       "      <td>5910.0</td>\n",
       "      <td>34.20</td>\n",
       "      <td>19.80</td>\n",
       "      <td>7773.0</td>\n",
       "      <td>1895</td>\n",
       "      <td>0.926316</td>\n",
       "      <td>2</td>\n",
       "      <td>33158.370</td>\n",
       "      <td>969.542982</td>\n",
       "      <td>A</td>\n",
       "      <td>33148.995244</td>\n",
       "      <td>0.999717</td>\n",
       "      <td>5146.8357</td>\n",
       "    </tr>\n",
       "    <tr>\n",
       "      <th>3</th>\n",
       "      <td>28373.0</td>\n",
       "      <td>77.40</td>\n",
       "      <td>56.60</td>\n",
       "      <td>28273.0</td>\n",
       "      <td>3820</td>\n",
       "      <td>1.170026</td>\n",
       "      <td>3</td>\n",
       "      <td>133322.457</td>\n",
       "      <td>1722.512364</td>\n",
       "      <td>A</td>\n",
       "      <td>133284.763182</td>\n",
       "      <td>0.999717</td>\n",
       "      <td>20730.7206</td>\n",
       "    </tr>\n",
       "    <tr>\n",
       "      <th>4</th>\n",
       "      <td>24687.0</td>\n",
       "      <td>177.00</td>\n",
       "      <td>97.60</td>\n",
       "      <td>26788.0</td>\n",
       "      <td>11176</td>\n",
       "      <td>0.882260</td>\n",
       "      <td>4</td>\n",
       "      <td>122259.943</td>\n",
       "      <td>690.734141</td>\n",
       "      <td>A</td>\n",
       "      <td>122225.376850</td>\n",
       "      <td>0.999717</td>\n",
       "      <td>19000.0513</td>\n",
       "    </tr>\n",
       "  </tbody>\n",
       "</table>\n",
       "</div>"
      ],
      "text/plain": [
       "   Breakfast  Enrollment  Identified    Lunch  School  baseThreshold  index  \\\n",
       "0    28965.0       80.00       60.60  22739.0    2169       1.212000      0   \n",
       "1    10710.0       42.75       26.25  15957.0    2809       0.982456      1   \n",
       "2     5910.0       34.20       19.80   7773.0    1895       0.926316      2   \n",
       "3    28373.0       77.40       56.60  28273.0    3820       1.170026      3   \n",
       "4    24687.0      177.00       97.60  26788.0   11176       0.882260      4   \n",
       "\n",
       "         meal  mealPerStudent oldGroup   oldReimburse  oldThreshold  \\\n",
       "0  118589.825     1482.372813        A  118556.296491      0.999717   \n",
       "1   65439.810     1530.755789        A   65421.308419      0.999717   \n",
       "2   33158.370      969.542982        A   33148.995244      0.999717   \n",
       "3  133322.457     1722.512364        A  133284.763182      0.999717   \n",
       "4  122259.943      690.734141        A  122225.376850      0.999717   \n",
       "\n",
       "     paidMeal  \n",
       "0  18469.3556  \n",
       "1  10150.0173  \n",
       "2   5146.8357  \n",
       "3  20730.7206  \n",
       "4  19000.0513  "
      ]
     },
     "execution_count": 16,
     "metadata": {},
     "output_type": "execute_result"
    }
   ],
   "source": [
    "#combine all schools, exisiting and new\n",
    "cep = pd.concat([cepExist,cepNew],ignore_index=True)\n",
    "cep.head()"
   ]
  },
  {
   "cell_type": "markdown",
   "metadata": {},
   "source": [
    "## Calculate Optimal Solution using Monte Carlo -- Simulated Annealing\n",
    "similar to stochastic hill climbing, but allows downwards steps as well"
   ]
  },
  {
   "cell_type": "code",
   "execution_count": 24,
   "metadata": {
    "collapsed": false
   },
   "outputs": [],
   "source": [
    "\n",
    "def simulated_annealing(cep, randomstart=True, seed=None,\n",
    "                        ngroupstart=1,ngroups=10, Tmax=1, deltaT=0.1):\n",
    "    '''run simulated annealing procedure on datafram cep'''\n",
    "    \n",
    "    startTime = time.time()\n",
    "    cep.reset_index(drop=True,inplace=True) \n",
    "    rows=cep.shape[0]\n",
    "\n",
    "    # start by grouping schools randomly\n",
    "    if randomstart:\n",
    "        np.random.seed(seed)\n",
    "        cep.loc[:,'group'] = pd.Series(np.random.randint(0,ngroupstart,size=rows),\n",
    "                                       index=cep.index)\n",
    "\n",
    "    # store the results\n",
    "    old = calcReimburse(cep)\n",
    "    results=[old]\n",
    "\n",
    "    # mc loop\n",
    "    for T in np.arange(Tmax,0,-deltaT):\n",
    "        for i in range(1000):\n",
    "            df = cep.copy()\n",
    "            \n",
    "            # choose a random school and move it to a different random group\n",
    "            df.loc[np.random.randint(0,rows),'group'] = np.random.randint(0,ngroups)\n",
    "                                                                                   \n",
    "            # calculate the reimbursement\n",
    "            new = calcReimburse(df,cost=1)\n",
    "            step = new - old                                                                           \n",
    "            \n",
    "            #keep move if reimbursement increases\n",
    "            if (step > 0):\n",
    "                old=new\n",
    "                cep.loc[:,'group'] = df.group\n",
    "                results.append(new)\n",
    "                \n",
    "            #maybe keep move if reimbursement decreases, depending on how much\n",
    "            elif (np.random.uniform() < np.exp(step/T)):\n",
    "                old=new\n",
    "                cep.loc[:,'group'] = df.group\n",
    "                results.append(new)\n",
    "\n",
    "    cep = regroup(cep) #combining groups close by\n",
    "    final = calcReimburse(cep)\n",
    "    results.append(final)\n",
    "    print final\n",
    "    print 'time in h', (time.time()-startTime)/60.0/60.0\n",
    "    return results,cep\n",
    "\n",
    "\n",
    "def regroup(cep):\n",
    "    '''if cep has multiple thresholds within one percent of each other, this \n",
    "    combines them'''\n",
    "    setThreshold(cep)\n",
    "    tlist = cep.groupby(cep.threshold.apply(lambda x: round(x,2))).groups.keys()\n",
    "    for i,t in enumerate(tlist):\n",
    "        cep.loc[cep.threshold.apply(lambda x:round(x,2))==t,'group']=i\n",
    "    setThreshold(cep)\n",
    "    return cep\n",
    "\n",
    "def sa_ensemble(cep,trials=10,randomstart=True,ngroupstart=1,ngroups=10,Tmax=1,deltaT=.1):\n",
    "    '''run simulated annealing a number of times (trials) and choose the best \n",
    "    (highest reimbursement) as the final'''\n",
    "    pool = mp.Pool(processes=4) # parrallel over 4 cores\n",
    "    results = [pool.apply_async(simulated_annealing,\n",
    "                                args=(cep,)) for x in range(trials)]\n",
    "    results = [p.get() for p in results]\n",
    "    \n",
    "    reimb_ensemble = [results[i][0][-1] for i in range(trials)]\n",
    "    cep_ensemble = [results[i][1] for i in range(trials)]\n",
    "    \n",
    "    max_reimb = max(reimb_ensemble)\n",
    "    max_index = reimb_ensemble.index(max_reimb)\n",
    "\n",
    "    return cep_ensemble[max_index]\n",
    "\n"
   ]
  },
  {
   "cell_type": "code",
   "execution_count": null,
   "metadata": {
    "collapsed": true
   },
   "outputs": [],
   "source": []
  },
  {
   "cell_type": "markdown",
   "metadata": {},
   "source": [
    "### Optimize schools in already existing groups\n",
    "as if the old groups don't exist"
   ]
  },
  {
   "cell_type": "code",
   "execution_count": 22,
   "metadata": {
    "collapsed": false
   },
   "outputs": [
    {
     "name": "stdout",
     "output_type": "stream",
     "text": [
      "111314216.474\n",
      "time in h 0.119299156931\n"
     ]
    }
   ],
   "source": [
    "sa, cepExist = simulated_annealing(cepExist, Tmax=1,deltaT=.01)"
   ]
  },
  {
   "cell_type": "code",
   "execution_count": 59,
   "metadata": {
    "collapsed": false
   },
   "outputs": [
    {
     "data": {
      "text/plain": [
       "117830076.13078761"
      ]
     },
     "execution_count": 59,
     "metadata": {},
     "output_type": "execute_result"
    }
   ],
   "source": [
    "# than old groupings parameters give a larger result\n",
    "cepExist['oldReimburse'].sum()"
   ]
  },
  {
   "cell_type": "markdown",
   "metadata": {},
   "source": [
    "###Range of outcomes on grouping all schools new to cep\n",
    "Running 10 trials on the new schools to get a range of values. The uncertainty is on the order of 10^5. "
   ]
  },
  {
   "cell_type": "code",
   "execution_count": 29,
   "metadata": {
    "collapsed": false
   },
   "outputs": [
    {
     "data": {
      "text/html": [
       "<div>\n",
       "<table border=\"1\" class=\"dataframe\">\n",
       "  <thead>\n",
       "    <tr style=\"text-align: right;\">\n",
       "      <th></th>\n",
       "      <th>final</th>\n",
       "    </tr>\n",
       "  </thead>\n",
       "  <tbody>\n",
       "    <tr>\n",
       "      <th>0</th>\n",
       "      <td>1.87946e+08</td>\n",
       "    </tr>\n",
       "    <tr>\n",
       "      <th>1</th>\n",
       "      <td>1.88167e+08</td>\n",
       "    </tr>\n",
       "    <tr>\n",
       "      <th>2</th>\n",
       "      <td>1.88456e+08</td>\n",
       "    </tr>\n",
       "    <tr>\n",
       "      <th>3</th>\n",
       "      <td>1.88166e+08</td>\n",
       "    </tr>\n",
       "    <tr>\n",
       "      <th>4</th>\n",
       "      <td>1.88312e+08</td>\n",
       "    </tr>\n",
       "    <tr>\n",
       "      <th>5</th>\n",
       "      <td>1.88278e+08</td>\n",
       "    </tr>\n",
       "    <tr>\n",
       "      <th>6</th>\n",
       "      <td>1.88072e+08</td>\n",
       "    </tr>\n",
       "    <tr>\n",
       "      <th>7</th>\n",
       "      <td>1.87879e+08</td>\n",
       "    </tr>\n",
       "    <tr>\n",
       "      <th>8</th>\n",
       "      <td>1.88025e+08</td>\n",
       "    </tr>\n",
       "    <tr>\n",
       "      <th>9</th>\n",
       "      <td>1.88392e+08</td>\n",
       "    </tr>\n",
       "  </tbody>\n",
       "</table>\n",
       "</div>"
      ],
      "text/plain": [
       "         final\n",
       "0  1.87946e+08\n",
       "1  1.88167e+08\n",
       "2  1.88456e+08\n",
       "3  1.88166e+08\n",
       "4  1.88312e+08\n",
       "5  1.88278e+08\n",
       "6  1.88072e+08\n",
       "7  1.87879e+08\n",
       "8  1.88025e+08\n",
       "9  1.88392e+08"
      ]
     },
     "execution_count": 29,
     "metadata": {},
     "output_type": "execute_result"
    }
   ],
   "source": [
    "%%capture\n",
    "trials=pd.DataFrame(columns=['final'])\n",
    "\n",
    "for i in range(10):\n",
    "    sa,cepNew=simulated_annealing(cepNew,Tmax=1,deltaT=.01)\n",
    "    trials.loc[i,'final'] = sa[-1]\n",
    "trials"
   ]
  },
  {
   "cell_type": "code",
   "execution_count": 30,
   "metadata": {
    "collapsed": false
   },
   "outputs": [
    {
     "name": "stdout",
     "output_type": "stream",
     "text": [
      "final    1.884561e+08\n",
      "dtype: float64\n",
      "final    1.878786e+08\n",
      "dtype: float64\n",
      "final    577438.637687\n",
      "dtype: float64\n"
     ]
    }
   ],
   "source": [
    "print trials.max()\n",
    "print trials.min()\n",
    "print trials.max()-trials.min()"
   ]
  },
  {
   "cell_type": "code",
   "execution_count": null,
   "metadata": {
    "collapsed": true
   },
   "outputs": [],
   "source": []
  },
  {
   "cell_type": "markdown",
   "metadata": {},
   "source": [
    "### optimize within old groupings\n",
    "Optimizing within each of the groups using current parameters always yeilds less reimbursement than using the old group thresholds. \n",
    "\n",
    "This is an inconclusive result, since optimizing with the larger group can still potentially yeild better results than the old thresholds."
   ]
  },
  {
   "cell_type": "code",
   "execution_count": 31,
   "metadata": {
    "collapsed": false
   },
   "outputs": [
    {
     "data": {
      "text/html": [
       "<div>\n",
       "<table border=\"1\" class=\"dataframe\">\n",
       "  <thead>\n",
       "    <tr style=\"text-align: right;\">\n",
       "      <th></th>\n",
       "      <th>sa</th>\n",
       "      <th>oldReimburse</th>\n",
       "      <th>diff</th>\n",
       "    </tr>\n",
       "  </thead>\n",
       "  <tbody>\n",
       "    <tr>\n",
       "      <th>A</th>\n",
       "      <td>5.58522e+07</td>\n",
       "      <td>6.017225e+07</td>\n",
       "      <td>-4.32006e+06</td>\n",
       "    </tr>\n",
       "    <tr>\n",
       "      <th>B</th>\n",
       "      <td>0</td>\n",
       "      <td>4.016719e+06</td>\n",
       "      <td>-4.01672e+06</td>\n",
       "    </tr>\n",
       "    <tr>\n",
       "      <th>C</th>\n",
       "      <td>799406</td>\n",
       "      <td>8.053003e+05</td>\n",
       "      <td>-5894.04</td>\n",
       "    </tr>\n",
       "    <tr>\n",
       "      <th>D1</th>\n",
       "      <td>4.76193e+06</td>\n",
       "      <td>5.256260e+06</td>\n",
       "      <td>-494329</td>\n",
       "    </tr>\n",
       "    <tr>\n",
       "      <th>D2</th>\n",
       "      <td>449538</td>\n",
       "      <td>5.353246e+05</td>\n",
       "      <td>-85786.7</td>\n",
       "    </tr>\n",
       "    <tr>\n",
       "      <th>D3</th>\n",
       "      <td>0</td>\n",
       "      <td>2.137252e+05</td>\n",
       "      <td>-213725</td>\n",
       "    </tr>\n",
       "    <tr>\n",
       "      <th>D4</th>\n",
       "      <td>1.7379e+06</td>\n",
       "      <td>1.921443e+06</td>\n",
       "      <td>-183542</td>\n",
       "    </tr>\n",
       "    <tr>\n",
       "      <th>D5</th>\n",
       "      <td>2.26777e+06</td>\n",
       "      <td>2.516527e+06</td>\n",
       "      <td>-248760</td>\n",
       "    </tr>\n",
       "    <tr>\n",
       "      <th>D6</th>\n",
       "      <td>282383</td>\n",
       "      <td>3.049104e+05</td>\n",
       "      <td>-22527.5</td>\n",
       "    </tr>\n",
       "    <tr>\n",
       "      <th>F</th>\n",
       "      <td>4.09679e+07</td>\n",
       "      <td>4.208761e+07</td>\n",
       "      <td>-1.11972e+06</td>\n",
       "    </tr>\n",
       "  </tbody>\n",
       "</table>\n",
       "</div>"
      ],
      "text/plain": [
       "             sa  oldReimburse         diff\n",
       "A   5.58522e+07  6.017225e+07 -4.32006e+06\n",
       "B             0  4.016719e+06 -4.01672e+06\n",
       "C        799406  8.053003e+05     -5894.04\n",
       "D1  4.76193e+06  5.256260e+06      -494329\n",
       "D2       449538  5.353246e+05     -85786.7\n",
       "D3            0  2.137252e+05      -213725\n",
       "D4   1.7379e+06  1.921443e+06      -183542\n",
       "D5  2.26777e+06  2.516527e+06      -248760\n",
       "D6       282383  3.049104e+05     -22527.5\n",
       "F   4.09679e+07  4.208761e+07 -1.11972e+06"
      ]
     },
     "execution_count": 31,
     "metadata": {},
     "output_type": "execute_result"
    }
   ],
   "source": [
    "%%capture\n",
    "\n",
    "ind=pd.DataFrame(columns=['sa'])\n",
    "grouped = cepExist.groupby('oldGroup')\n",
    "\n",
    "for name,group in grouped:\n",
    "    sa,group = simulated_annealing(group,Tmax=1,deltaT=.01)\n",
    "    ind.loc[name,'sa'] = sa[-1]\n",
    "\n",
    "ind['oldReimburse']=grouped.sum()[['oldReimburse']]\n",
    "ind['diff'] = ind['sa'] - ind['oldReimburse']\n",
    "ind"
   ]
  },
  {
   "cell_type": "markdown",
   "metadata": {},
   "source": [
    "### Try all combinations of groupings"
   ]
  },
  {
   "cell_type": "markdown",
   "metadata": {},
   "source": [
    "Groups C and D1-D6 are relativly small, less than 100 schools total (and less than 5% of the student population). \n",
    "\n",
    "In order to make this problem tractable, let's combine and treat them the same -- either they all keep the old groupings or they all get regrouped. This reduces the number of possibilites from 2^10=1024 to 2^4=16.\n",
    "\n",
    "Try all possibilites and see which returns the highest reimbursement."
   ]
  },
  {
   "cell_type": "code",
   "execution_count": 48,
   "metadata": {
    "collapsed": false
   },
   "outputs": [
    {
     "data": {
      "text/html": [
       "<div>\n",
       "<table border=\"1\" class=\"dataframe\">\n",
       "  <thead>\n",
       "    <tr style=\"text-align: right;\">\n",
       "      <th></th>\n",
       "      <th>School</th>\n",
       "    </tr>\n",
       "    <tr>\n",
       "      <th>oldGroup</th>\n",
       "      <th></th>\n",
       "    </tr>\n",
       "  </thead>\n",
       "  <tbody>\n",
       "    <tr>\n",
       "      <th>A</th>\n",
       "      <td>428</td>\n",
       "    </tr>\n",
       "    <tr>\n",
       "      <th>B</th>\n",
       "      <td>158</td>\n",
       "    </tr>\n",
       "    <tr>\n",
       "      <th>C</th>\n",
       "      <td>8</td>\n",
       "    </tr>\n",
       "    <tr>\n",
       "      <th>D1</th>\n",
       "      <td>27</td>\n",
       "    </tr>\n",
       "    <tr>\n",
       "      <th>D2</th>\n",
       "      <td>6</td>\n",
       "    </tr>\n",
       "    <tr>\n",
       "      <th>D3</th>\n",
       "      <td>6</td>\n",
       "    </tr>\n",
       "    <tr>\n",
       "      <th>D4</th>\n",
       "      <td>17</td>\n",
       "    </tr>\n",
       "    <tr>\n",
       "      <th>D5</th>\n",
       "      <td>29</td>\n",
       "    </tr>\n",
       "    <tr>\n",
       "      <th>D6</th>\n",
       "      <td>4</td>\n",
       "    </tr>\n",
       "    <tr>\n",
       "      <th>F</th>\n",
       "      <td>244</td>\n",
       "    </tr>\n",
       "  </tbody>\n",
       "</table>\n",
       "</div>"
      ],
      "text/plain": [
       "          School\n",
       "oldGroup        \n",
       "A            428\n",
       "B            158\n",
       "C              8\n",
       "D1            27\n",
       "D2             6\n",
       "D3             6\n",
       "D4            17\n",
       "D5            29\n",
       "D6             4\n",
       "F            244"
      ]
     },
     "execution_count": 48,
     "metadata": {},
     "output_type": "execute_result"
    }
   ],
   "source": [
    "cepExist.groupby('oldGroup').count()[['School']]"
   ]
  },
  {
   "cell_type": "code",
   "execution_count": 56,
   "metadata": {
    "collapsed": false
   },
   "outputs": [
    {
     "data": {
      "text/plain": [
       "0.040457481580007094"
      ]
     },
     "execution_count": 56,
     "metadata": {},
     "output_type": "execute_result"
    }
   ],
   "source": [
    "cepExist[cepExist.oldGroup.str.contains('C|D')].Enrollment.sum()/\\\n",
    "(cepExist.Enrollment.sum()+cepNew.Enrollment.sum())"
   ]
  },
  {
   "cell_type": "code",
   "execution_count": null,
   "metadata": {
    "collapsed": true
   },
   "outputs": [],
   "source": []
  },
  {
   "cell_type": "code",
   "execution_count": 20,
   "metadata": {
    "collapsed": false
   },
   "outputs": [
    {
     "data": {
      "text/html": [
       "<div>\n",
       "<table border=\"1\" class=\"dataframe\">\n",
       "  <thead>\n",
       "    <tr style=\"text-align: right;\">\n",
       "      <th></th>\n",
       "      <th></th>\n",
       "      <th>Breakfast</th>\n",
       "      <th>Enrollment</th>\n",
       "      <th>Identified</th>\n",
       "      <th>Lunch</th>\n",
       "      <th>School</th>\n",
       "      <th>baseThreshold</th>\n",
       "      <th>index</th>\n",
       "      <th>meal</th>\n",
       "      <th>mealPerStudent</th>\n",
       "      <th>oldReimburse</th>\n",
       "      <th>oldThreshold</th>\n",
       "      <th>paidMeal</th>\n",
       "    </tr>\n",
       "    <tr>\n",
       "      <th>oldGroup</th>\n",
       "      <th>OGname</th>\n",
       "      <th></th>\n",
       "      <th></th>\n",
       "      <th></th>\n",
       "      <th></th>\n",
       "      <th></th>\n",
       "      <th></th>\n",
       "      <th></th>\n",
       "      <th></th>\n",
       "      <th></th>\n",
       "      <th></th>\n",
       "      <th></th>\n",
       "      <th></th>\n",
       "    </tr>\n",
       "  </thead>\n",
       "  <tbody>\n",
       "    <tr>\n",
       "      <th>A</th>\n",
       "      <th>A</th>\n",
       "      <td>428</td>\n",
       "      <td>428</td>\n",
       "      <td>428</td>\n",
       "      <td>428</td>\n",
       "      <td>428</td>\n",
       "      <td>428</td>\n",
       "      <td>428</td>\n",
       "      <td>428</td>\n",
       "      <td>428</td>\n",
       "      <td>428</td>\n",
       "      <td>428</td>\n",
       "      <td>428</td>\n",
       "    </tr>\n",
       "    <tr>\n",
       "      <th>B</th>\n",
       "      <th>B</th>\n",
       "      <td>158</td>\n",
       "      <td>158</td>\n",
       "      <td>158</td>\n",
       "      <td>158</td>\n",
       "      <td>158</td>\n",
       "      <td>158</td>\n",
       "      <td>158</td>\n",
       "      <td>158</td>\n",
       "      <td>158</td>\n",
       "      <td>158</td>\n",
       "      <td>158</td>\n",
       "      <td>158</td>\n",
       "    </tr>\n",
       "    <tr>\n",
       "      <th>C</th>\n",
       "      <th>CD</th>\n",
       "      <td>8</td>\n",
       "      <td>8</td>\n",
       "      <td>8</td>\n",
       "      <td>8</td>\n",
       "      <td>8</td>\n",
       "      <td>8</td>\n",
       "      <td>8</td>\n",
       "      <td>8</td>\n",
       "      <td>8</td>\n",
       "      <td>8</td>\n",
       "      <td>8</td>\n",
       "      <td>8</td>\n",
       "    </tr>\n",
       "    <tr>\n",
       "      <th>D1</th>\n",
       "      <th>CD</th>\n",
       "      <td>27</td>\n",
       "      <td>27</td>\n",
       "      <td>27</td>\n",
       "      <td>27</td>\n",
       "      <td>27</td>\n",
       "      <td>27</td>\n",
       "      <td>27</td>\n",
       "      <td>27</td>\n",
       "      <td>27</td>\n",
       "      <td>27</td>\n",
       "      <td>27</td>\n",
       "      <td>27</td>\n",
       "    </tr>\n",
       "    <tr>\n",
       "      <th>D2</th>\n",
       "      <th>CD</th>\n",
       "      <td>6</td>\n",
       "      <td>6</td>\n",
       "      <td>6</td>\n",
       "      <td>6</td>\n",
       "      <td>6</td>\n",
       "      <td>6</td>\n",
       "      <td>6</td>\n",
       "      <td>6</td>\n",
       "      <td>6</td>\n",
       "      <td>6</td>\n",
       "      <td>6</td>\n",
       "      <td>6</td>\n",
       "    </tr>\n",
       "    <tr>\n",
       "      <th>D3</th>\n",
       "      <th>CD</th>\n",
       "      <td>6</td>\n",
       "      <td>6</td>\n",
       "      <td>6</td>\n",
       "      <td>6</td>\n",
       "      <td>6</td>\n",
       "      <td>6</td>\n",
       "      <td>6</td>\n",
       "      <td>6</td>\n",
       "      <td>6</td>\n",
       "      <td>6</td>\n",
       "      <td>6</td>\n",
       "      <td>6</td>\n",
       "    </tr>\n",
       "    <tr>\n",
       "      <th>D4</th>\n",
       "      <th>CD</th>\n",
       "      <td>17</td>\n",
       "      <td>17</td>\n",
       "      <td>17</td>\n",
       "      <td>17</td>\n",
       "      <td>17</td>\n",
       "      <td>17</td>\n",
       "      <td>17</td>\n",
       "      <td>17</td>\n",
       "      <td>17</td>\n",
       "      <td>17</td>\n",
       "      <td>17</td>\n",
       "      <td>17</td>\n",
       "    </tr>\n",
       "    <tr>\n",
       "      <th>D5</th>\n",
       "      <th>CD</th>\n",
       "      <td>29</td>\n",
       "      <td>29</td>\n",
       "      <td>29</td>\n",
       "      <td>29</td>\n",
       "      <td>29</td>\n",
       "      <td>29</td>\n",
       "      <td>29</td>\n",
       "      <td>29</td>\n",
       "      <td>29</td>\n",
       "      <td>29</td>\n",
       "      <td>29</td>\n",
       "      <td>29</td>\n",
       "    </tr>\n",
       "    <tr>\n",
       "      <th>D6</th>\n",
       "      <th>CD</th>\n",
       "      <td>4</td>\n",
       "      <td>4</td>\n",
       "      <td>4</td>\n",
       "      <td>4</td>\n",
       "      <td>4</td>\n",
       "      <td>4</td>\n",
       "      <td>4</td>\n",
       "      <td>4</td>\n",
       "      <td>4</td>\n",
       "      <td>4</td>\n",
       "      <td>4</td>\n",
       "      <td>4</td>\n",
       "    </tr>\n",
       "    <tr>\n",
       "      <th>F</th>\n",
       "      <th>F</th>\n",
       "      <td>244</td>\n",
       "      <td>244</td>\n",
       "      <td>244</td>\n",
       "      <td>244</td>\n",
       "      <td>244</td>\n",
       "      <td>244</td>\n",
       "      <td>244</td>\n",
       "      <td>244</td>\n",
       "      <td>244</td>\n",
       "      <td>244</td>\n",
       "      <td>244</td>\n",
       "      <td>244</td>\n",
       "    </tr>\n",
       "  </tbody>\n",
       "</table>\n",
       "</div>"
      ],
      "text/plain": [
       "                 Breakfast  Enrollment  Identified  Lunch  School  \\\n",
       "oldGroup OGname                                                     \n",
       "A        A             428         428         428    428     428   \n",
       "B        B             158         158         158    158     158   \n",
       "C        CD              8           8           8      8       8   \n",
       "D1       CD             27          27          27     27      27   \n",
       "D2       CD              6           6           6      6       6   \n",
       "D3       CD              6           6           6      6       6   \n",
       "D4       CD             17          17          17     17      17   \n",
       "D5       CD             29          29          29     29      29   \n",
       "D6       CD              4           4           4      4       4   \n",
       "F        F             244         244         244    244     244   \n",
       "\n",
       "                 baseThreshold  index  meal  mealPerStudent  oldReimburse  \\\n",
       "oldGroup OGname                                                             \n",
       "A        A                 428    428   428             428           428   \n",
       "B        B                 158    158   158             158           158   \n",
       "C        CD                  8      8     8               8             8   \n",
       "D1       CD                 27     27    27              27            27   \n",
       "D2       CD                  6      6     6               6             6   \n",
       "D3       CD                  6      6     6               6             6   \n",
       "D4       CD                 17     17    17              17            17   \n",
       "D5       CD                 29     29    29              29            29   \n",
       "D6       CD                  4      4     4               4             4   \n",
       "F        F                 244    244   244             244           244   \n",
       "\n",
       "                 oldThreshold  paidMeal  \n",
       "oldGroup OGname                          \n",
       "A        A                428       428  \n",
       "B        B                158       158  \n",
       "C        CD                 8         8  \n",
       "D1       CD                27        27  \n",
       "D2       CD                 6         6  \n",
       "D3       CD                 6         6  \n",
       "D4       CD                17        17  \n",
       "D5       CD                29        29  \n",
       "D6       CD                 4         4  \n",
       "F        F                244       244  "
      ]
     },
     "execution_count": 20,
     "metadata": {},
     "output_type": "execute_result"
    }
   ],
   "source": [
    "from itertools import product\n",
    "\n",
    "columns = ['A','B','CD','F']\n",
    "regroupings = pd.DataFrame(list(product(['yes','no'],repeat=4)),columns=columns)\n",
    "# yes means to regroup. no means hold on to old group\n",
    "\n",
    "cep['OGname']=cep['oldGroup']\n",
    "cep.loc[cep['oldGroup'].fillna('-').str.contains('D|C'),'OGname'] = 'CD'\n",
    "\n",
    "cep.groupby(['oldGroup','OGname']).count()"
   ]
  },
  {
   "cell_type": "code",
   "execution_count": 21,
   "metadata": {
    "collapsed": false
   },
   "outputs": [],
   "source": [
    "%%capture\n",
    "for i in range(regroupings.shape[0]):\n",
    "    df = cep.merge(regroupings.loc[i].to_frame('regroup'),how='left',\n",
    "                   left_on='OGname',right_index=True)\n",
    "\n",
    "    #calculate based on groups\n",
    "    cepRegroup = df[df.regroup!='no'].copy()\n",
    "    cepOldgroup = df[df.regroup=='no'].copy()\n",
    "\n",
    "    cepRegroup = sa_ensemble(cepRegroup,trials=100,Tmax=1,deltaT=.01)\n",
    "    \n",
    "    totalR = calcReimburse(cepRegroup)+cepOldgroup['oldReimburse'].sum()\n",
    "    regroupings.loc[i,'reimburse']=totalR"
   ]
  },
  {
   "cell_type": "code",
   "execution_count": 22,
   "metadata": {
    "collapsed": false
   },
   "outputs": [
    {
     "data": {
      "text/html": [
       "<div>\n",
       "<table border=\"1\" class=\"dataframe\">\n",
       "  <thead>\n",
       "    <tr style=\"text-align: right;\">\n",
       "      <th></th>\n",
       "      <th>A</th>\n",
       "      <th>B</th>\n",
       "      <th>CD</th>\n",
       "      <th>F</th>\n",
       "      <th>reimburse</th>\n",
       "    </tr>\n",
       "  </thead>\n",
       "  <tbody>\n",
       "    <tr>\n",
       "      <th>0</th>\n",
       "      <td>yes</td>\n",
       "      <td>yes</td>\n",
       "      <td>yes</td>\n",
       "      <td>yes</td>\n",
       "      <td>3.000956e+08</td>\n",
       "    </tr>\n",
       "    <tr>\n",
       "      <th>1</th>\n",
       "      <td>yes</td>\n",
       "      <td>yes</td>\n",
       "      <td>yes</td>\n",
       "      <td>no</td>\n",
       "      <td>3.006581e+08</td>\n",
       "    </tr>\n",
       "    <tr>\n",
       "      <th>2</th>\n",
       "      <td>yes</td>\n",
       "      <td>yes</td>\n",
       "      <td>no</td>\n",
       "      <td>yes</td>\n",
       "      <td>3.008823e+08</td>\n",
       "    </tr>\n",
       "    <tr>\n",
       "      <th>3</th>\n",
       "      <td>yes</td>\n",
       "      <td>yes</td>\n",
       "      <td>no</td>\n",
       "      <td>no</td>\n",
       "      <td>3.010711e+08</td>\n",
       "    </tr>\n",
       "    <tr>\n",
       "      <th>4</th>\n",
       "      <td>yes</td>\n",
       "      <td>no</td>\n",
       "      <td>yes</td>\n",
       "      <td>yes</td>\n",
       "      <td>3.011767e+08</td>\n",
       "    </tr>\n",
       "    <tr>\n",
       "      <th>5</th>\n",
       "      <td>yes</td>\n",
       "      <td>no</td>\n",
       "      <td>yes</td>\n",
       "      <td>no</td>\n",
       "      <td>3.015508e+08</td>\n",
       "    </tr>\n",
       "    <tr>\n",
       "      <th>6</th>\n",
       "      <td>yes</td>\n",
       "      <td>no</td>\n",
       "      <td>no</td>\n",
       "      <td>yes</td>\n",
       "      <td>3.018676e+08</td>\n",
       "    </tr>\n",
       "    <tr>\n",
       "      <th>7</th>\n",
       "      <td>yes</td>\n",
       "      <td>no</td>\n",
       "      <td>no</td>\n",
       "      <td>no</td>\n",
       "      <td>3.021707e+08</td>\n",
       "    </tr>\n",
       "    <tr>\n",
       "      <th>8</th>\n",
       "      <td>no</td>\n",
       "      <td>yes</td>\n",
       "      <td>yes</td>\n",
       "      <td>yes</td>\n",
       "      <td>3.042381e+08</td>\n",
       "    </tr>\n",
       "    <tr>\n",
       "      <th>9</th>\n",
       "      <td>no</td>\n",
       "      <td>yes</td>\n",
       "      <td>yes</td>\n",
       "      <td>no</td>\n",
       "      <td>3.043722e+08</td>\n",
       "    </tr>\n",
       "    <tr>\n",
       "      <th>10</th>\n",
       "      <td>no</td>\n",
       "      <td>yes</td>\n",
       "      <td>no</td>\n",
       "      <td>yes</td>\n",
       "      <td>3.050985e+08</td>\n",
       "    </tr>\n",
       "    <tr>\n",
       "      <th>11</th>\n",
       "      <td>no</td>\n",
       "      <td>yes</td>\n",
       "      <td>no</td>\n",
       "      <td>no</td>\n",
       "      <td>3.051011e+08</td>\n",
       "    </tr>\n",
       "    <tr>\n",
       "      <th>12</th>\n",
       "      <td>no</td>\n",
       "      <td>no</td>\n",
       "      <td>yes</td>\n",
       "      <td>yes</td>\n",
       "      <td>3.053075e+08</td>\n",
       "    </tr>\n",
       "    <tr>\n",
       "      <th>13</th>\n",
       "      <td>no</td>\n",
       "      <td>no</td>\n",
       "      <td>yes</td>\n",
       "      <td>no</td>\n",
       "      <td>3.054119e+08</td>\n",
       "    </tr>\n",
       "    <tr>\n",
       "      <th>14</th>\n",
       "      <td>no</td>\n",
       "      <td>no</td>\n",
       "      <td>no</td>\n",
       "      <td>yes</td>\n",
       "      <td>3.059009e+08</td>\n",
       "    </tr>\n",
       "    <tr>\n",
       "      <th>15</th>\n",
       "      <td>no</td>\n",
       "      <td>no</td>\n",
       "      <td>no</td>\n",
       "      <td>no</td>\n",
       "      <td>3.062746e+08</td>\n",
       "    </tr>\n",
       "  </tbody>\n",
       "</table>\n",
       "</div>"
      ],
      "text/plain": [
       "      A    B   CD    F     reimburse\n",
       "0   yes  yes  yes  yes  3.000956e+08\n",
       "1   yes  yes  yes   no  3.006581e+08\n",
       "2   yes  yes   no  yes  3.008823e+08\n",
       "3   yes  yes   no   no  3.010711e+08\n",
       "4   yes   no  yes  yes  3.011767e+08\n",
       "5   yes   no  yes   no  3.015508e+08\n",
       "6   yes   no   no  yes  3.018676e+08\n",
       "7   yes   no   no   no  3.021707e+08\n",
       "8    no  yes  yes  yes  3.042381e+08\n",
       "9    no  yes  yes   no  3.043722e+08\n",
       "10   no  yes   no  yes  3.050985e+08\n",
       "11   no  yes   no   no  3.051011e+08\n",
       "12   no   no  yes  yes  3.053075e+08\n",
       "13   no   no  yes   no  3.054119e+08\n",
       "14   no   no   no  yes  3.059009e+08\n",
       "15   no   no   no   no  3.062746e+08"
      ]
     },
     "execution_count": 22,
     "metadata": {},
     "output_type": "execute_result"
    }
   ],
   "source": [
    "regroupings"
   ]
  },
  {
   "cell_type": "markdown",
   "metadata": {
    "collapsed": true
   },
   "source": [
    "### Result\n",
    "the best outcome (highest reimbursement) is to keep the existing groups as they are.\n",
    "\n",
    "\n",
    "### Output\n",
    "For the schools new to CEP, take the best of 5000 simmulated annealing runs. Save the results to csv file"
   ]
  },
  {
   "cell_type": "code",
   "execution_count": 18,
   "metadata": {
    "collapsed": false
   },
   "outputs": [
    {
     "data": {
      "text/plain": [
       "188445169.87128472"
      ]
     },
     "execution_count": 18,
     "metadata": {},
     "output_type": "execute_result"
    }
   ],
   "source": [
    "%%capture\n",
    "cepNew = sa_ensemble(cepNew,trials=5000,Tmax=1,deltaT=.01)\n",
    "calcReimburse(cepNew)"
   ]
  },
  {
   "cell_type": "code",
   "execution_count": 20,
   "metadata": {
    "collapsed": false
   },
   "outputs": [
    {
     "data": {
      "text/plain": [
       "<seaborn.axisgrid.PairGrid at 0x7f773a8f4590>"
      ]
     },
     "execution_count": 20,
     "metadata": {},
     "output_type": "execute_result"
    },
    {
     "data": {
      "image/png": "[encoded data removed]",
      "text/plain": [
       "<matplotlib.figure.Figure at 0x7f773a8f4e50>"
      ]
     },
     "metadata": {},
     "output_type": "display_data"
    }
   ],
   "source": [
    "sns.pairplot(x_vars=['baseThreshold'],y_vars=['threshold'],data=cepNew, hue='threshold',\n",
    "             size=10,plot_kws={'s':100})"
   ]
  },
  {
   "cell_type": "code",
   "execution_count": 56,
   "metadata": {
    "collapsed": false
   },
   "outputs": [
    {
     "data": {
      "text/html": [
       "<div>\n",
       "<table border=\"1\" class=\"dataframe\">\n",
       "  <thead>\n",
       "    <tr style=\"text-align: right;\">\n",
       "      <th></th>\n",
       "      <th></th>\n",
       "      <th>School</th>\n",
       "    </tr>\n",
       "    <tr>\n",
       "      <th>threshold</th>\n",
       "      <th>group</th>\n",
       "      <th></th>\n",
       "    </tr>\n",
       "  </thead>\n",
       "  <tbody>\n",
       "    <tr>\n",
       "      <th>0.640055</th>\n",
       "      <th>2</th>\n",
       "      <td>961</td>\n",
       "    </tr>\n",
       "    <tr>\n",
       "      <th>0.823338</th>\n",
       "      <th>3</th>\n",
       "      <td>91</td>\n",
       "    </tr>\n",
       "    <tr>\n",
       "      <th>0.965516</th>\n",
       "      <th>1</th>\n",
       "      <td>64</td>\n",
       "    </tr>\n",
       "    <tr>\n",
       "      <th>0.999045</th>\n",
       "      <th>0</th>\n",
       "      <td>337</td>\n",
       "    </tr>\n",
       "  </tbody>\n",
       "</table>\n",
       "</div>"
      ],
      "text/plain": [
       "                 School\n",
       "threshold group        \n",
       "0.640055  2         961\n",
       "0.823338  3          91\n",
       "0.965516  1          64\n",
       "0.999045  0         337"
      ]
     },
     "execution_count": 56,
     "metadata": {},
     "output_type": "execute_result"
    }
   ],
   "source": [
    "cepNew.groupby(['threshold','group']).count()[['School']]"
   ]
  },
  {
   "cell_type": "code",
   "execution_count": 69,
   "metadata": {
    "collapsed": false
   },
   "outputs": [
    {
     "data": {
      "text/html": [
       "<div>\n",
       "<table border=\"1\" class=\"dataframe\">\n",
       "  <thead>\n",
       "    <tr style=\"text-align: right;\">\n",
       "      <th></th>\n",
       "      <th>School</th>\n",
       "      <th>Enrollment</th>\n",
       "      <th>Identified</th>\n",
       "      <th>Breakfast</th>\n",
       "      <th>Lunch</th>\n",
       "      <th>group</th>\n",
       "      <th>threshold</th>\n",
       "    </tr>\n",
       "  </thead>\n",
       "  <tbody>\n",
       "    <tr>\n",
       "      <th>0</th>\n",
       "      <td>1019</td>\n",
       "      <td>268.0</td>\n",
       "      <td>114.0</td>\n",
       "      <td>13744.040323</td>\n",
       "      <td>32119.415317</td>\n",
       "      <td>2.0</td>\n",
       "      <td>0.640055</td>\n",
       "    </tr>\n",
       "    <tr>\n",
       "      <th>1</th>\n",
       "      <td>1025</td>\n",
       "      <td>188.0</td>\n",
       "      <td>121.0</td>\n",
       "      <td>2660.633468</td>\n",
       "      <td>8954.467200</td>\n",
       "      <td>2.0</td>\n",
       "      <td>0.640055</td>\n",
       "    </tr>\n",
       "    <tr>\n",
       "      <th>2</th>\n",
       "      <td>1034</td>\n",
       "      <td>348.0</td>\n",
       "      <td>262.0</td>\n",
       "      <td>18359.910484</td>\n",
       "      <td>39773.741129</td>\n",
       "      <td>0.0</td>\n",
       "      <td>0.999045</td>\n",
       "    </tr>\n",
       "    <tr>\n",
       "      <th>3</th>\n",
       "      <td>1060</td>\n",
       "      <td>679.0</td>\n",
       "      <td>293.0</td>\n",
       "      <td>7340.885081</td>\n",
       "      <td>19996.654634</td>\n",
       "      <td>2.0</td>\n",
       "      <td>0.640055</td>\n",
       "    </tr>\n",
       "    <tr>\n",
       "      <th>4</th>\n",
       "      <td>1061</td>\n",
       "      <td>291.0</td>\n",
       "      <td>99.0</td>\n",
       "      <td>4320.555242</td>\n",
       "      <td>25602.863216</td>\n",
       "      <td>2.0</td>\n",
       "      <td>0.640055</td>\n",
       "    </tr>\n",
       "  </tbody>\n",
       "</table>\n",
       "</div>"
      ],
      "text/plain": [
       "   School  Enrollment  Identified     Breakfast         Lunch  group  \\\n",
       "0    1019       268.0       114.0  13744.040323  32119.415317    2.0   \n",
       "1    1025       188.0       121.0   2660.633468   8954.467200    2.0   \n",
       "2    1034       348.0       262.0  18359.910484  39773.741129    0.0   \n",
       "3    1060       679.0       293.0   7340.885081  19996.654634    2.0   \n",
       "4    1061       291.0        99.0   4320.555242  25602.863216    2.0   \n",
       "\n",
       "   threshold  \n",
       "0   0.640055  \n",
       "1   0.640055  \n",
       "2   0.999045  \n",
       "3   0.640055  \n",
       "4   0.640055  "
      ]
     },
     "execution_count": 69,
     "metadata": {},
     "output_type": "execute_result"
    }
   ],
   "source": [
    "doeFinal = doeNew.merge(cepNew[['School','group','threshold']],how='left',on='School')\n",
    "doeFinal.head()"
   ]
  },
  {
   "cell_type": "code",
   "execution_count": 75,
   "metadata": {
    "collapsed": false
   },
   "outputs": [
    {
     "name": "stdout",
     "output_type": "stream",
     "text": [
      "1453\n",
      "(1487, 5)\n",
      "(1453, 12)\n",
      "(34, 5)\n",
      "(34, 7)\n"
     ]
    }
   ],
   "source": [
    "print doeFinal.group.count()\n",
    "print doeNew.shape\n",
    "print cepNew.shape\n",
    "print doeNew[~doeNew.School.isin(cepNew.School)].shape\n",
    "print doeFinal[~(doeFinal.group>=0)].shape"
   ]
  },
  {
   "cell_type": "code",
   "execution_count": 76,
   "metadata": {
    "collapsed": false
   },
   "outputs": [
    {
     "data": {
      "text/plain": [
       "(34, 7)"
      ]
     },
     "execution_count": 76,
     "metadata": {},
     "output_type": "execute_result"
    }
   ],
   "source": [
    "# the 34 zero enrollment schools need to be added into the highest threshold group\n",
    "doeFinal[doeFinal.Enrollment==0].shape"
   ]
  },
  {
   "cell_type": "code",
   "execution_count": 85,
   "metadata": {
    "collapsed": false
   },
   "outputs": [
    {
     "data": {
      "text/plain": [
       "0.99904470828879455"
      ]
     },
     "execution_count": 85,
     "metadata": {},
     "output_type": "execute_result"
    }
   ],
   "source": [
    "#highest threshold\n",
    "highTh = cepNew[cepNew.threshold>.99].threshold[2]\n",
    "highTh"
   ]
  },
  {
   "cell_type": "code",
   "execution_count": 86,
   "metadata": {
    "collapsed": true
   },
   "outputs": [],
   "source": [
    "#fill in zero enrollment schools\n",
    "doeFinal.loc[doeFinal.Enrollment==0,'group']=0\n",
    "doeFinal.loc[doeFinal.Enrollment==0,'threshold']=highTh"
   ]
  },
  {
   "cell_type": "code",
   "execution_count": 100,
   "metadata": {
    "collapsed": false
   },
   "outputs": [
    {
     "data": {
      "text/plain": [
       "226457782.34617627"
      ]
     },
     "execution_count": 100,
     "metadata": {},
     "output_type": "execute_result"
    }
   ],
   "source": [
    "baseReimburse = paidLunch*doeFinal.Lunch.sum() + paidBreakfast*doeFinal.Breakfast.sum()\n",
    "\n",
    "doeFinal['meal'] = deltaLunchRate*doeFinal['Lunch'] + deltaBreakfastRate*doeFinal['Breakfast']\n",
    "finalR = calcReimburse(doeFinal)\n",
    "doeFinal.drop('meal',axis=1,inplace=True)\n",
    "\n",
    "baseReimburse+finalR"
   ]
  },
  {
   "cell_type": "code",
   "execution_count": 93,
   "metadata": {
    "collapsed": false
   },
   "outputs": [
    {
     "data": {
      "text/html": [
       "<div>\n",
       "<table border=\"1\" class=\"dataframe\">\n",
       "  <thead>\n",
       "    <tr style=\"text-align: right;\">\n",
       "      <th></th>\n",
       "      <th>School</th>\n",
       "      <th>Enrollment</th>\n",
       "      <th>Identified</th>\n",
       "      <th>Breakfast</th>\n",
       "      <th>Lunch</th>\n",
       "      <th>group</th>\n",
       "      <th>threshold</th>\n",
       "    </tr>\n",
       "  </thead>\n",
       "  <tbody>\n",
       "    <tr>\n",
       "      <th>0</th>\n",
       "      <td>1019</td>\n",
       "      <td>268.0</td>\n",
       "      <td>114.0</td>\n",
       "      <td>13744.040323</td>\n",
       "      <td>32119.415317</td>\n",
       "      <td>2.0</td>\n",
       "      <td>0.640055</td>\n",
       "    </tr>\n",
       "    <tr>\n",
       "      <th>1</th>\n",
       "      <td>1025</td>\n",
       "      <td>188.0</td>\n",
       "      <td>121.0</td>\n",
       "      <td>2660.633468</td>\n",
       "      <td>8954.467200</td>\n",
       "      <td>2.0</td>\n",
       "      <td>0.640055</td>\n",
       "    </tr>\n",
       "    <tr>\n",
       "      <th>2</th>\n",
       "      <td>1034</td>\n",
       "      <td>348.0</td>\n",
       "      <td>262.0</td>\n",
       "      <td>18359.910484</td>\n",
       "      <td>39773.741129</td>\n",
       "      <td>0.0</td>\n",
       "      <td>0.999045</td>\n",
       "    </tr>\n",
       "    <tr>\n",
       "      <th>3</th>\n",
       "      <td>1060</td>\n",
       "      <td>679.0</td>\n",
       "      <td>293.0</td>\n",
       "      <td>7340.885081</td>\n",
       "      <td>19996.654634</td>\n",
       "      <td>2.0</td>\n",
       "      <td>0.640055</td>\n",
       "    </tr>\n",
       "    <tr>\n",
       "      <th>4</th>\n",
       "      <td>1061</td>\n",
       "      <td>291.0</td>\n",
       "      <td>99.0</td>\n",
       "      <td>4320.555242</td>\n",
       "      <td>25602.863216</td>\n",
       "      <td>2.0</td>\n",
       "      <td>0.640055</td>\n",
       "    </tr>\n",
       "  </tbody>\n",
       "</table>\n",
       "</div>"
      ],
      "text/plain": [
       "   School  Enrollment  Identified     Breakfast         Lunch  group  \\\n",
       "0    1019       268.0       114.0  13744.040323  32119.415317    2.0   \n",
       "1    1025       188.0       121.0   2660.633468   8954.467200    2.0   \n",
       "2    1034       348.0       262.0  18359.910484  39773.741129    0.0   \n",
       "3    1060       679.0       293.0   7340.885081  19996.654634    2.0   \n",
       "4    1061       291.0        99.0   4320.555242  25602.863216    2.0   \n",
       "\n",
       "   threshold  \n",
       "0   0.640055  \n",
       "1   0.640055  \n",
       "2   0.999045  \n",
       "3   0.640055  \n",
       "4   0.640055  "
      ]
     },
     "execution_count": 93,
     "metadata": {},
     "output_type": "execute_result"
    }
   ],
   "source": [
    "doeFinal.head()"
   ]
  },
  {
   "cell_type": "code",
   "execution_count": 95,
   "metadata": {
    "collapsed": false
   },
   "outputs": [],
   "source": [
    "#print to file\n",
    "doeFinal.to_csv('SchoolGroups.csv',index=False)"
   ]
  },
  {
   "cell_type": "code",
   "execution_count": 99,
   "metadata": {
    "collapsed": false
   },
   "outputs": [
    {
     "data": {
      "text/plain": [
       "214803554.45200169"
      ]
     },
     "execution_count": 99,
     "metadata": {},
     "output_type": "execute_result"
    }
   ],
   "source": [
    "oneGroup = doeFinal.copy()\n",
    "oneGroup.group=0\n",
    "oneGroup['meal'] = deltaLunchRate*oneGroup['Lunch'] + deltaBreakfastRate*oneGroup['Breakfast']\n",
    "ogr = calcReimburse(oneGroup)\n",
    "ogr+baseReimburse"
   ]
  },
  {
   "cell_type": "code",
   "execution_count": null,
   "metadata": {
    "collapsed": true
   },
   "outputs": [],
   "source": []
  },
  {
   "cell_type": "code",
   "execution_count": null,
   "metadata": {
    "collapsed": true
   },
   "outputs": [],
   "source": []
  },
  {
   "cell_type": "code",
   "execution_count": null,
   "metadata": {
    "collapsed": true
   },
   "outputs": [],
   "source": []
  },
  {
   "cell_type": "code",
   "execution_count": null,
   "metadata": {
    "collapsed": true
   },
   "outputs": [],
   "source": []
  },
  {
   "cell_type": "code",
   "execution_count": null,
   "metadata": {
    "collapsed": true
   },
   "outputs": [],
   "source": []
  }
 ],
 "metadata": {
  "kernelspec": {
   "display_name": "Python 2",
   "language": "python",
   "name": "python2"
  },
  "language_info": {
   "codemirror_mode": {
    "name": "ipython",
    "version": 2
   },
   "file_extension": ".py",
   "mimetype": "text/x-python",
   "name": "python",
   "nbconvert_exporter": "python",
   "pygments_lexer": "ipython2",
   "version": "2.7.6"
  }
 },
 "nbformat": 4,
 "nbformat_minor": 0
}
