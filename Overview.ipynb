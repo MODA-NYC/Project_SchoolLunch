{
 "cells": [
  {
   "cell_type": "markdown",
   "metadata": {},
   "source": [
    "# School Meal Reimbursments Project\n",
    "Agency Partner: Department of Education\n",
    "\n",
    "## Background and Scope\n",
    "\n",
    "#### Providing free universal lunch to all NYC students\n",
    "The NYC Department of Education (DOE) manages the largest school system in the US with over a million students. DOE is responsible for providing breakfast and lunch to NYC school students. NYC participates in the National School Lunch Program, run by the USDA. Traditionally this worked by giving a subsidy based on the income level of the individual student's family. Because this lead to stigmatization of students from low income families there has been a move towards more inclusive programs providing universal lunch to all students regardless of their family's income level. The Community Eligibility Provision (CEP) was created by the federal government in 2010. Under this program schools receive subsidies based on the overall makeup of the school (or group of schools). Participating schools are required to provide breakfast and lunch at no charge to all students. NYC participated in an initial phase of the program in 2014 with stand alone middle school. In 2017 NYC DOE made the bold decision to include all NYC schools in this program.\n",
    "\n",
    "More information on NYC's initial involvement in CEP is available in a [Fiscal Brief](http://www.ibo.nyc.ny.us/iboreports/if-no-student-pays-cost-to-provide-free-lunch-for-all-of-new-york-citys-elementary-school-students.html) by the NYC Independent Budget Office.\n",
    "\n",
    "#### Issue\n",
    "The amount of federal reimbursement for CEP depends on the percentage of identified students or students categorically eligible for free meals. This percentage is based on the students' participation in other program such as SNAP and TANF. Schools can be enrolled as groups and there are no geographic or other constraints on how to group the schools. The subsidy parameters, and hence the reimbursement amount, change based on how the schools are grouped. The challenge is to find the optimal school groupings to maximize the reimbursement.\n",
    "\n",
    "\n",
    "## Data\n",
    "We worked with DOE to fully understand the problem outlined in the previous section along with all the rules and the process for obtaining reimbursements. Based on this information it was straightforward to identify the necessary data.\n",
    "\n",
    "For each school the following data is needed:\n",
    "* the number of identified students,\n",
    "* the total number of students, \n",
    "* the projected number of breakfasts and lunches for the coming year.\n",
    "\n",
    "The projected number of meals is based on meals served in previous years. Because most of these schools were not part of a universal lunch program prior to this, the meal projections will likely be different from the actual meals served. However because the school groupings need to be submitted before the meals are calculated, an exact number is not possible.\n",
    "\n",
    "\n",
    "## Analysis\n",
    "This problem falls in the category of combinatorial optimization. This is the same category as famous problems that are easy to state but hard to solve such as the traveling salesman problem and the knapsack problem. It is straightforward to solve for a handful of schools, but as the number of schools grows a direct or brute force approach quickly because impossible. With 1500 schools an exact result is out of reach, but we were able to try a few approximations. \n",
    "\n",
    "We tried a number of approaches and found Monte Carlo approaches were the most elegant to implement and also gave the best results. Monte Carlo techniques have traditionally been used as a clever way to simulate a complicated probability distribution. In this case, we were only interested in the maximum value (highest reimbursement), so we used two well known derivations: stochastic hill climbing and simulated annealing.\n",
    "\n",
    "We implemented these apporaches in Python, using Pandas vectorized methods to reduce runtime. In addition we used the mulitprocessing package to do runs in parrellel and choose the best of the lot.\n",
    "\n",
    "There may be other methods giving as good or better results. Genetic algorithm implementations may also be a good candiate for this type of problem.\n",
    "\n",
    "## Pilot\n",
    "After much testing we ran the algorythm on schools new to the CEP program and provided DOE with the groupings. The groupings will be used in the 2017-2018 school year. \n",
    "\n",
    "## Handoff\n",
    "DOE will be able to use this algorithm in subsequent years to calculate the school groups. After the first year, schools have the option to stay in their current group or be regrouped. The algorithm can be adapted to fit \n",
    "\n"
   ]
  }
 ],
 "metadata": {
  "kernelspec": {
   "display_name": "Python 2",
   "language": "python",
   "name": "python2"
  },
  "language_info": {
   "codemirror_mode": {
    "name": "ipython",
    "version": 2
   },
   "file_extension": ".py",
   "mimetype": "text/x-python",
   "name": "python",
   "nbconvert_exporter": "python",
   "pygments_lexer": "ipython2",
   "version": "2.7.6"
  }
 },
 "nbformat": 4,
 "nbformat_minor": 0
}
