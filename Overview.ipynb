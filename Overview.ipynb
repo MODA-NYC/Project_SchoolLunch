{
 "cells": [
  {
   "cell_type": "markdown",
   "metadata": {},
   "source": [
    "# DOE Meal Reimbursments Project\n",
    "\n",
    "\n",
    "## Background and Scope\n",
    "\n",
    "#### Providing free universal lunch to all NYC students\n",
    "The NYC Department of Education (DOE) manages the largest school system in the US with over a million students. They are responsible for providing breakfast and lunch to NYC school students. NYC participates in the National School Lunch Program, which has traditionally offered a subsidy based on the income level of the individual student's family. Because this lead to the stigmatization of students from low income families there has been a move towards more inclusive programs providing universal lunch to all students regardless of their family's income level. The Community Eligibility Provision (CEP) was created by the federal government in 2010. Under this program schools receive subsidies based on the overall makeup of the school (or group of schools). Participating schools are required to provide breakfast and lunch at no charge to all students. NYC participated in an initial phase of the program in 2014 with stand alone middle schools and in 2017 decided to include all NYC schools in this program.\n",
    "\n",
    "More information on NYC's initial involvement in CEP is available in a [Fiscal Brief](http://www.ibo.nyc.ny.us/iboreports/if-no-student-pays-cost-to-provide-free-lunch-for-all-of-new-york-citys-elementary-school-students.html) by the NYC Independent Budget Office.\n",
    "\n",
    "#### Issue\n",
    "The amount of federal reimbursement for CEP depends on the percentage of identified students or students categorically eligible for free meals based on their participation in other program such as SNAP and TANF. Schools can be enrolled as groups and there are no geographic or other constraints on how to group the schools. The subsidy parameters change based on how the schools are grouped. The challenge is to find the optimal school groupings to maximize the reimbursement.\n",
    "\n",
    "\n",
    "## Data\n",
    "We worked with DOE to fully understand the problem outlined in the previous section along with all the rules and the process for obtaining the reimbursements. Based on this information it was straightforward to identify the necessary data.\n",
    "\n",
    "For each school:\n",
    "* the number of identified students,\n",
    "* the total number of students, \n",
    "* the projected number of breakfasts and lunches for the coming year.\n",
    "\n",
    "The projected number of meals was based on meals served in previous years. Because most of these schools were not part of a universal lunch program prior to this, the meal projections will likely be different from the actual meals served. However because the school groupings need to be submitted before the meals are calculated, an exact number is not possible.\n",
    "\n",
    "\n",
    "## Analysis\n",
    "Type of problem: Combinatorial Optimization\n",
    "exact solution not possible in a finite time\n",
    "need an approximate approach.\n",
    "\n",
    "We tried a number of approaches and found stochastic Monte Carlo approaches were the most elegant to implement and also gave the best results. \n",
    "\n",
    "Stochastic hill climbing\n",
    "\n",
    "Simulated annealing\n",
    "\n",
    "Other possibilities - genetic algorithm\n",
    "\n",
    "\n",
    "## Pilot\n",
    "After much testing we ran the algorythm on schools new to the CEP program and provided DOE with the groupings. The groupings will be used in the 2017-2018 school year. \n",
    "\n",
    "## Handoff\n",
    "DOE will use this algorithm in subsequent years to calculate the school groups.\n",
    "\n"
   ]
  }
 ],
 "metadata": {
  "kernelspec": {
   "display_name": "Python 2",
   "language": "python",
   "name": "python2"
  },
  "language_info": {
   "codemirror_mode": {
    "name": "ipython",
    "version": 2
   },
   "file_extension": ".py",
   "mimetype": "text/x-python",
   "name": "python",
   "nbconvert_exporter": "python",
   "pygments_lexer": "ipython2",
   "version": "2.7.6"
  }
 },
 "nbformat": 4,
 "nbformat_minor": 0
}
